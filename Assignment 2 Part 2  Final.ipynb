{
 "cells":[
  {
   "cell_type":"markdown",
   "source":[
    "# **Assignment 2 Karim Aboudaoud 900212779** "
   ],
   "attachments":{
    
   },
   "metadata":{
    "datalore":{
     "type":"MD",
     "hide_input_from_viewers":false,
     "hide_output_from_viewers":false
    }
   }
  },
  {
   "cell_type":"markdown",
   "source":[
    "# **Part 2: Covid-19 Cases**"
   ],
   "attachments":{
    
   },
   "metadata":{
    "datalore":{
     "type":"MD",
     "hide_input_from_viewers":false,
     "hide_output_from_viewers":false
    }
   }
  },
  {
   "cell_type":"markdown",
   "source":[
    "**Abstract**\n",
    "\n",
    "For this part of the assignment, I chose one country from the data set which is France to analyze its daily reported number of confirmed cases and deaths, and I compared the ratio between confirmed cases and deaths in 2020 and 2021. I plotted the necessary graphs for France such as the confidence interval graphs, line graphs and line graphs with error bars. \n",
    "\n",
    "Then, I made a comparison between the data in terms of several factors like regions, income, and continents. \n",
    "\n",
    "The chosen regions to compare between each other were East Asia and Pacific, and Europe and Central Asia. \n",
    "\n",
    "The chosen income levels to compare between each other were low income and high income. \n",
    "\n",
    "The chosen continents to compare between each other were Oceania and North America. \n",
    "\n",
    "The analysis for each factor made it easier to understand which countries, regions, continents and which socio economic level were really affected by COVID.  \n",
    "\n",
    "For each of the above factors I plotted a line graph with error bars to show the comparison between 2020 and 2021 in terms of either confirmed cases or confirmed deaths.  \n",
    "\n",
    "The description of each graph can be found under the graph.\n",
    "\n",
    "The conclusion can be found at the end of the notebook. "
   ],
   "attachments":{
    
   },
   "metadata":{
    "datalore":{
     "type":"MD",
     "hide_input_from_viewers":false,
     "hide_output_from_viewers":false
    }
   }
  },
  {
   "cell_type":"markdown",
   "source":[
    "**Preparing Data for Manipulation**"
   ],
   "attachments":{
    
   },
   "metadata":{
    "datalore":{
     "type":"MD",
     "hide_input_from_viewers":false,
     "hide_output_from_viewers":false
    }
   }
  },
  {
   "cell_type":"code",
   "source":[
    "import scipy"
   ],
   "execution_count":1,
   "outputs":[
    
   ],
   "metadata":{
    "datalore":{
     "type":"CODE",
     "hide_input_from_viewers":false,
     "hide_output_from_viewers":false
    }
   }
  },
  {
   "cell_type":"code",
   "source":[
    "import numpy as np"
   ],
   "execution_count":2,
   "outputs":[
    
   ],
   "metadata":{
    "datalore":{
     "type":"CODE",
     "hide_input_from_viewers":false,
     "hide_output_from_viewers":false
    }
   }
  },
  {
   "cell_type":"code",
   "source":[
    "!pip install matplotlib"
   ],
   "execution_count":64,
   "outputs":[
    {
     "name":"stdout",
     "text":[
      "Requirement already satisfied: matplotlib in \/opt\/python\/envs\/default\/lib\/python3.8\/site-packages (3.5.1)\r\n",
      "Requirement already satisfied: numpy>=1.17 in \/opt\/python\/envs\/default\/lib\/python3.8\/site-packages (from matplotlib) (1.21.5)\r\n",
      "Requirement already satisfied: packaging>=20.0 in \/opt\/python\/envs\/default\/lib\/python3.8\/site-packages (from matplotlib) (21.3)\r\n",
      "Requirement already satisfied: pyparsing>=2.2.1 in \/opt\/python\/envs\/default\/lib\/python3.8\/site-packages (from matplotlib) (3.0.7)\r\n",
      "Requirement already satisfied: fonttools>=4.22.0 in \/opt\/python\/envs\/default\/lib\/python3.8\/site-packages (from matplotlib) (4.31.2)\r\n",
      "Requirement already satisfied: kiwisolver>=1.0.1 in \/opt\/python\/envs\/default\/lib\/python3.8\/site-packages (from matplotlib) (1.4.2)\r\n",
      "Requirement already satisfied: python-dateutil>=2.7 in \/opt\/python\/envs\/default\/lib\/python3.8\/site-packages (from matplotlib) (2.8.2)\r\n",
      "Requirement already satisfied: pillow>=6.2.0 in \/opt\/python\/envs\/default\/lib\/python3.8\/site-packages (from matplotlib) (9.1.0)\r\n",
      "Requirement already satisfied: cycler>=0.10 in \/opt\/python\/envs\/default\/lib\/python3.8\/site-packages (from matplotlib) (0.11.0)\r\n",
      "Requirement already satisfied: six>=1.5 in \/opt\/python\/envs\/default\/lib\/python3.8\/site-packages (from python-dateutil>=2.7->matplotlib) (1.16.0)\r\n",
      "\u001b[33mWARNING: You are using pip version 21.3.1; however, version 22.0.4 is available.\r\n",
      "You should consider upgrading via the '\/opt\/python\/envs\/default\/bin\/python -m pip install --upgrade pip' command.\u001b[0m\r\n"
     ],
     "output_type":"stream"
    }
   ],
   "metadata":{
    "datalore":{
     "type":"CODE",
     "hide_input_from_viewers":false,
     "hide_output_from_viewers":false
    }
   }
  },
  {
   "cell_type":"code",
   "source":[
    "import matplotlib.pyplot as plt"
   ],
   "execution_count":3,
   "outputs":[
    
   ],
   "metadata":{
    "datalore":{
     "type":"CODE",
     "hide_input_from_viewers":false,
     "hide_output_from_viewers":false
    }
   }
  },
  {
   "cell_type":"code",
   "source":[
    "import pandas as pd"
   ],
   "execution_count":4,
   "outputs":[
    
   ],
   "metadata":{
    "datalore":{
     "type":"CODE",
     "hide_input_from_viewers":false,
     "hide_output_from_viewers":false
    }
   }
  },
  {
   "cell_type":"code",
   "source":[
    "import statsmodels.api as sm\n",
    "from statsmodels.stats.proportion import proportion_confint"
   ],
   "execution_count":11,
   "outputs":[
    
   ],
   "metadata":{
    "datalore":{
     "type":"CODE",
     "hide_input_from_viewers":false,
     "hide_output_from_viewers":false
    }
   }
  },
  {
   "cell_type":"code",
   "source":[
    "import scipy.stats "
   ],
   "execution_count":5,
   "outputs":[
    
   ],
   "metadata":{
    "datalore":{
     "type":"CODE",
     "hide_input_from_viewers":false,
     "hide_output_from_viewers":false
    }
   }
  },
  {
   "cell_type":"code",
   "source":[
    "from scipy.stats import norm,t"
   ],
   "execution_count":6,
   "outputs":[
    
   ],
   "metadata":{
    "datalore":{
     "type":"CODE",
     "hide_input_from_viewers":false,
     "hide_output_from_viewers":false
    }
   }
  },
  {
   "cell_type":"code",
   "source":[
    "!pip3 install livewires"
   ],
   "execution_count":70,
   "outputs":[
    {
     "name":"stdout",
     "text":[
      "Requirement already satisfied: livewires in \/opt\/python\/envs\/default\/lib\/python3.8\/site-packages (2.1)\r\n",
      "Requirement already satisfied: pygame in \/opt\/python\/envs\/default\/lib\/python3.8\/site-packages (from livewires) (2.1.2)\r\n",
      "\u001b[33mWARNING: You are using pip version 21.3.1; however, version 22.0.4 is available.\r\n",
      "You should consider upgrading via the '\/opt\/python\/envs\/default\/bin\/python -m pip install --upgrade pip' command.\u001b[0m\r\n"
     ],
     "output_type":"stream"
    }
   ],
   "metadata":{
    "datalore":{
     "type":"CODE",
     "hide_input_from_viewers":false,
     "hide_output_from_viewers":false
    }
   }
  },
  {
   "cell_type":"code",
   "source":[
    "df=pd.read_csv('covid_data.csv',encoding='latin-1')"
   ],
   "execution_count":7,
   "outputs":[
    
   ],
   "metadata":{
    "datalore":{
     "type":"CODE",
     "hide_input_from_viewers":false,
     "hide_output_from_viewers":false
    }
   }
  },
  {
   "cell_type":"code",
   "source":[
    "df.head()"
   ],
   "execution_count":72,
   "outputs":[
    {
     "data":{
      "text\/html":[
       "<div>\n",
       "<style scoped>\n",
       "    .dataframe tbody tr th:only-of-type {\n",
       "        vertical-align: middle;\n",
       "    }\n",
       "\n",
       "    .dataframe tbody tr th {\n",
       "        vertical-align: top;\n",
       "    }\n",
       "\n",
       "    .dataframe thead th {\n",
       "        text-align: right;\n",
       "    }\n",
       "<\/style>\n",
       "<table border=\"1\" class=\"dataframe\">\n",
       "  <thead>\n",
       "    <tr style=\"text-align: right;\">\n",
       "      <th><\/th>\n",
       "      <th>date<\/th>\n",
       "      <th>iso3c<\/th>\n",
       "      <th>country<\/th>\n",
       "      <th>income<\/th>\n",
       "      <th>region<\/th>\n",
       "      <th>continent<\/th>\n",
       "      <th>dcases<\/th>\n",
       "      <th>ddeaths<\/th>\n",
       "      <th>population<\/th>\n",
       "      <th>weekdays<\/th>\n",
       "      <th>month<\/th>\n",
       "    <\/tr>\n",
       "  <\/thead>\n",
       "  <tbody>\n",
       "    <tr>\n",
       "      <th>0<\/th>\n",
       "      <td>2020-02-24<\/td>\n",
       "      <td>AFG<\/td>\n",
       "      <td>Afghanistan<\/td>\n",
       "      <td>Low income<\/td>\n",
       "      <td>South Asia<\/td>\n",
       "      <td>Asia<\/td>\n",
       "      <td>5<\/td>\n",
       "      <td>0<\/td>\n",
       "      <td>38041754<\/td>\n",
       "      <td>Mon<\/td>\n",
       "      <td>Feb<\/td>\n",
       "    <\/tr>\n",
       "    <tr>\n",
       "      <th>1<\/th>\n",
       "      <td>2020-02-25<\/td>\n",
       "      <td>AFG<\/td>\n",
       "      <td>Afghanistan<\/td>\n",
       "      <td>Low income<\/td>\n",
       "      <td>South Asia<\/td>\n",
       "      <td>Asia<\/td>\n",
       "      <td>0<\/td>\n",
       "      <td>0<\/td>\n",
       "      <td>38041754<\/td>\n",
       "      <td>Tue<\/td>\n",
       "      <td>Feb<\/td>\n",
       "    <\/tr>\n",
       "    <tr>\n",
       "      <th>2<\/th>\n",
       "      <td>2020-02-26<\/td>\n",
       "      <td>AFG<\/td>\n",
       "      <td>Afghanistan<\/td>\n",
       "      <td>Low income<\/td>\n",
       "      <td>South Asia<\/td>\n",
       "      <td>Asia<\/td>\n",
       "      <td>0<\/td>\n",
       "      <td>0<\/td>\n",
       "      <td>38041754<\/td>\n",
       "      <td>Wed<\/td>\n",
       "      <td>Feb<\/td>\n",
       "    <\/tr>\n",
       "    <tr>\n",
       "      <th>3<\/th>\n",
       "      <td>2020-02-27<\/td>\n",
       "      <td>AFG<\/td>\n",
       "      <td>Afghanistan<\/td>\n",
       "      <td>Low income<\/td>\n",
       "      <td>South Asia<\/td>\n",
       "      <td>Asia<\/td>\n",
       "      <td>0<\/td>\n",
       "      <td>0<\/td>\n",
       "      <td>38041754<\/td>\n",
       "      <td>Thu<\/td>\n",
       "      <td>Feb<\/td>\n",
       "    <\/tr>\n",
       "    <tr>\n",
       "      <th>4<\/th>\n",
       "      <td>2020-02-28<\/td>\n",
       "      <td>AFG<\/td>\n",
       "      <td>Afghanistan<\/td>\n",
       "      <td>Low income<\/td>\n",
       "      <td>South Asia<\/td>\n",
       "      <td>Asia<\/td>\n",
       "      <td>0<\/td>\n",
       "      <td>0<\/td>\n",
       "      <td>38041754<\/td>\n",
       "      <td>Fri<\/td>\n",
       "      <td>Feb<\/td>\n",
       "    <\/tr>\n",
       "  <\/tbody>\n",
       "<\/table>\n",
       "<\/div>"
      ]
     },
     "metadata":{
      
     },
     "output_type":"display_data"
    }
   ],
   "metadata":{
    "datalore":{
     "type":"CODE",
     "hide_input_from_viewers":false,
     "hide_output_from_viewers":false
    }
   }
  },
  {
   "cell_type":"code",
   "source":[
    "df['country'].unique()"
   ],
   "execution_count":73,
   "outputs":[
    {
     "data":{
      "text\/html":[
       
      ]
     },
     "metadata":{
      
     },
     "output_type":"display_data"
    }
   ],
   "metadata":{
    "datalore":{
     "type":"CODE",
     "hide_input_from_viewers":false,
     "hide_output_from_viewers":false
    }
   }
  },
  {
   "cell_type":"code",
   "source":[
    "from pandas.api.types import CategoricalDtype\n",
    "cats=['Fri', 'Sat', 'Sun','Mon','Tue','Wed','Thu']\n",
    "cat_type = CategoricalDtype(categories=cats, ordered=True)\n",
    "df['weekdays'] = df['weekdays'].astype(cat_type)"
   ],
   "execution_count":74,
   "outputs":[
    
   ],
   "metadata":{
    "datalore":{
     "type":"CODE",
     "hide_input_from_viewers":false,
     "hide_output_from_viewers":false
    }
   }
  },
  {
   "cell_type":"code",
   "source":[
    "from pandas.api.types import CategoricalDtype\n",
    "cats=['Jan', 'Feb', 'Mar','Apr','May','Jun','Jul','Aug','Sep','Oct','Nov','Dec']\n",
    "cat_type = CategoricalDtype(categories=cats, ordered=True)\n",
    "df['month'] = df['month'].astype(cat_type)"
   ],
   "execution_count":75,
   "outputs":[
    
   ],
   "metadata":{
    "datalore":{
     "type":"CODE",
     "hide_input_from_viewers":false,
     "hide_output_from_viewers":false
    }
   }
  },
  {
   "cell_type":"markdown",
   "source":[
    "**Chosen country to analyze: France**"
   ],
   "attachments":{
    
   },
   "metadata":{
    "datalore":{
     "type":"MD",
     "hide_input_from_viewers":false,
     "hide_output_from_viewers":false
    }
   }
  },
  {
   "cell_type":"code",
   "source":[
    "dffr=df[df['country']=='France']"
   ],
   "execution_count":12,
   "outputs":[
    
   ],
   "metadata":{
    "datalore":{
     "type":"CODE",
     "hide_input_from_viewers":false,
     "hide_output_from_viewers":false
    }
   }
  },
  {
   "cell_type":"markdown",
   "source":[
    "Analyzing the daily reported number of cases "
   ],
   "attachments":{
    
   },
   "metadata":{
    "datalore":{
     "type":"MD",
     "hide_input_from_viewers":false,
     "hide_output_from_viewers":false
    }
   }
  },
  {
   "cell_type":"code",
   "source":[
    "statsfr=dffr.groupby(\"weekdays\").agg({\"dcases\": [np.mean, np.std, np.size]})"
   ],
   "execution_count":13,
   "outputs":[
    
   ],
   "metadata":{
    "datalore":{
     "type":"CODE",
     "hide_input_from_viewers":false,
     "hide_output_from_viewers":false
    }
   }
  },
  {
   "cell_type":"code",
   "source":[
    "statsfr"
   ],
   "execution_count":123,
   "outputs":[
    {
     "data":{
      "text\/html":[
       "<div>\n",
       "<style scoped>\n",
       "    .dataframe tbody tr th:only-of-type {\n",
       "        vertical-align: middle;\n",
       "    }\n",
       "\n",
       "    .dataframe tbody tr th {\n",
       "        vertical-align: top;\n",
       "    }\n",
       "\n",
       "    .dataframe thead tr th {\n",
       "        text-align: left;\n",
       "    }\n",
       "\n",
       "    .dataframe thead tr:last-of-type th {\n",
       "        text-align: right;\n",
       "    }\n",
       "<\/style>\n",
       "<table border=\"1\" class=\"dataframe\">\n",
       "  <thead>\n",
       "    <tr>\n",
       "      <th><\/th>\n",
       "      <th colspan=\"3\" halign=\"left\">dcases<\/th>\n",
       "    <\/tr>\n",
       "    <tr>\n",
       "      <th><\/th>\n",
       "      <th>mean<\/th>\n",
       "      <th>std<\/th>\n",
       "      <th>size<\/th>\n",
       "    <\/tr>\n",
       "    <tr>\n",
       "      <th>weekdays<\/th>\n",
       "      <th><\/th>\n",
       "      <th><\/th>\n",
       "      <th><\/th>\n",
       "    <\/tr>\n",
       "  <\/thead>\n",
       "  <tbody>\n",
       "    <tr>\n",
       "      <th>Fri<\/th>\n",
       "      <td>17148.127451<\/td>\n",
       "      <td>27347.227106<\/td>\n",
       "      <td>102<\/td>\n",
       "    <\/tr>\n",
       "    <tr>\n",
       "      <th>Sat<\/th>\n",
       "      <td>14975.475248<\/td>\n",
       "      <td>18070.217337<\/td>\n",
       "      <td>101<\/td>\n",
       "    <\/tr>\n",
       "    <tr>\n",
       "      <th>Sun<\/th>\n",
       "      <td>13456.702970<\/td>\n",
       "      <td>17602.649041<\/td>\n",
       "      <td>101<\/td>\n",
       "    <\/tr>\n",
       "    <tr>\n",
       "      <th>Mon<\/th>\n",
       "      <td>6090.405941<\/td>\n",
       "      <td>13046.142380<\/td>\n",
       "      <td>101<\/td>\n",
       "    <\/tr>\n",
       "    <tr>\n",
       "      <th>Tue<\/th>\n",
       "      <td>15780.643564<\/td>\n",
       "      <td>22840.055655<\/td>\n",
       "      <td>101<\/td>\n",
       "    <\/tr>\n",
       "    <tr>\n",
       "      <th>Wed<\/th>\n",
       "      <td>17793.029703<\/td>\n",
       "      <td>25894.416151<\/td>\n",
       "      <td>101<\/td>\n",
       "    <\/tr>\n",
       "    <tr>\n",
       "      <th>Thu<\/th>\n",
       "      <td>18558.029703<\/td>\n",
       "      <td>26434.156239<\/td>\n",
       "      <td>101<\/td>\n",
       "    <\/tr>\n",
       "  <\/tbody>\n",
       "<\/table>\n",
       "<\/div>"
      ]
     },
     "metadata":{
      
     },
     "output_type":"display_data"
    }
   ],
   "metadata":{
    "datalore":{
     "type":"CODE",
     "hide_input_from_viewers":false,
     "hide_output_from_viewers":false
    }
   }
  },
  {
   "cell_type":"code",
   "source":[
    "statsfr.index"
   ],
   "execution_count":124,
   "outputs":[
    {
     "data":{
      "text\/plain":[
       "CategoricalIndex(['Fri', 'Sat', 'Sun', 'Mon', 'Tue', 'Wed', 'Thu'], categories=['Fri', 'Sat', 'Sun', 'Mon', 'Tue', 'Wed', 'Thu'], ordered=True, dtype='category', name='weekdays')"
      ]
     },
     "metadata":{
      
     },
     "output_type":"display_data"
    }
   ],
   "metadata":{
    "datalore":{
     "type":"CODE",
     "hide_input_from_viewers":false,
     "hide_output_from_viewers":false
    }
   }
  },
  {
   "cell_type":"code",
   "source":[
    "statsfr.columns"
   ],
   "execution_count":126,
   "outputs":[
    {
     "data":{
      "text\/plain":[
       "MultiIndex([('dcases', 'mean'),\n",
       "            ('dcases',  'std'),\n",
       "            ('dcases', 'size')],\n",
       "           )"
      ]
     },
     "metadata":{
      
     },
     "output_type":"display_data"
    }
   ],
   "metadata":{
    "datalore":{
     "type":"CODE",
     "hide_input_from_viewers":false,
     "hide_output_from_viewers":false
    }
   }
  },
  {
   "cell_type":"code",
   "source":[
    "statsfr.index"
   ],
   "execution_count":127,
   "outputs":[
    {
     "data":{
      "text\/plain":[
       "CategoricalIndex(['Fri', 'Sat', 'Sun', 'Mon', 'Tue', 'Wed', 'Thu'], categories=['Fri', 'Sat', 'Sun', 'Mon', 'Tue', 'Wed', 'Thu'], ordered=True, dtype='category', name='weekdays')"
      ]
     },
     "metadata":{
      
     },
     "output_type":"display_data"
    }
   ],
   "metadata":{
    "datalore":{
     "type":"CODE",
     "hide_input_from_viewers":false,
     "hide_output_from_viewers":false
    }
   }
  },
  {
   "cell_type":"code",
   "source":[
    "ci95_hi = []\n",
    "ci95_lo = []"
   ],
   "execution_count":128,
   "outputs":[
    
   ],
   "metadata":{
    "datalore":{
     "type":"CODE",
     "hide_input_from_viewers":false,
     "hide_output_from_viewers":false
    }
   }
  },
  {
   "cell_type":"code",
   "source":[
    "for i in statsfr.index:\n",
    "    m, s, n = statsfr.loc[i]\n",
    "    x=scipy.stats.t.interval(.95, n-1, m,s\/np.sqrt(n-1))\n",
    "    ci95_hi.append(x[1])\n",
    "    ci95_lo.append(x[0])"
   ],
   "execution_count":129,
   "outputs":[
    
   ],
   "metadata":{
    "datalore":{
     "type":"CODE",
     "hide_input_from_viewers":false,
     "hide_output_from_viewers":false
    }
   }
  },
  {
   "cell_type":"code",
   "source":[
    "ci95_hi"
   ],
   "execution_count":130,
   "outputs":[
    {
     "data":{
      "text\/plain":[
       "[22546.158660289526,\n",
       " 18560.554900435036,\n",
       " 16949.0184050158,\n",
       " 8678.723431382872,\n",
       " 20312.04555423757,\n",
       " 22930.40811604733,\n",
       " 23802.49101221734]"
      ]
     },
     "metadata":{
      
     },
     "output_type":"display_data"
    }
   ],
   "metadata":{
    "datalore":{
     "type":"CODE",
     "hide_input_from_viewers":false,
     "hide_output_from_viewers":false
    }
   }
  },
  {
   "cell_type":"code",
   "source":[
    "ci95_lo"
   ],
   "execution_count":132,
   "outputs":[
    {
     "data":{
      "text\/plain":[
       "[11750.096241671257,\n",
       " 11390.39559461447,\n",
       " 9964.387535578264,\n",
       " 3502.0884498052474,\n",
       " 11249.2415744753,\n",
       " 12655.651289893263,\n",
       " 13313.568393723253]"
      ]
     },
     "metadata":{
      
     },
     "output_type":"display_data"
    }
   ],
   "metadata":{
    "datalore":{
     "type":"CODE",
     "hide_input_from_viewers":false,
     "hide_output_from_viewers":false
    }
   }
  },
  {
   "cell_type":"code",
   "source":[
    "statsfr['ci95_hi'] = ci95_hi\n",
    "statsfr['ci95_lo'] = ci95_lo\n",
    "print(statsfr)"
   ],
   "execution_count":133,
   "outputs":[
    {
     "name":"stdout",
     "text":[
      "                dcases                          ci95_hi       ci95_lo\n",
      "                  mean           std size                            \n",
      "weekdays                                                             \n",
      "Fri       17148.127451  27347.227106  102  22546.158660  11750.096242\n",
      "Sat       14975.475248  18070.217337  101  18560.554900  11390.395595\n",
      "Sun       13456.702970  17602.649041  101  16949.018405   9964.387536\n",
      "Mon        6090.405941  13046.142380  101   8678.723431   3502.088450\n",
      "Tue       15780.643564  22840.055655  101  20312.045554  11249.241574\n",
      "Wed       17793.029703  25894.416151  101  22930.408116  12655.651290\n",
      "Thu       18558.029703  26434.156239  101  23802.491012  13313.568394\n"
     ],
     "output_type":"stream"
    }
   ],
   "metadata":{
    "datalore":{
     "type":"CODE",
     "hide_input_from_viewers":false,
     "hide_output_from_viewers":false
    }
   }
  },
  {
   "cell_type":"code",
   "source":[
    "df_ci= pd.DataFrame(statsfr)"
   ],
   "execution_count":134,
   "outputs":[
    
   ],
   "metadata":{
    "datalore":{
     "type":"CODE",
     "hide_input_from_viewers":false,
     "hide_output_from_viewers":false
    }
   }
  },
  {
   "cell_type":"code",
   "source":[
    "df_ci"
   ],
   "execution_count":135,
   "outputs":[
    {
     "data":{
      "text\/html":[
       "<div>\n",
       "<style scoped>\n",
       "    .dataframe tbody tr th:only-of-type {\n",
       "        vertical-align: middle;\n",
       "    }\n",
       "\n",
       "    .dataframe tbody tr th {\n",
       "        vertical-align: top;\n",
       "    }\n",
       "\n",
       "    .dataframe thead tr th {\n",
       "        text-align: left;\n",
       "    }\n",
       "\n",
       "    .dataframe thead tr:last-of-type th {\n",
       "        text-align: right;\n",
       "    }\n",
       "<\/style>\n",
       "<table border=\"1\" class=\"dataframe\">\n",
       "  <thead>\n",
       "    <tr>\n",
       "      <th><\/th>\n",
       "      <th colspan=\"3\" halign=\"left\">dcases<\/th>\n",
       "      <th>ci95_hi<\/th>\n",
       "      <th>ci95_lo<\/th>\n",
       "    <\/tr>\n",
       "    <tr>\n",
       "      <th><\/th>\n",
       "      <th>mean<\/th>\n",
       "      <th>std<\/th>\n",
       "      <th>size<\/th>\n",
       "      <th><\/th>\n",
       "      <th><\/th>\n",
       "    <\/tr>\n",
       "    <tr>\n",
       "      <th>weekdays<\/th>\n",
       "      <th><\/th>\n",
       "      <th><\/th>\n",
       "      <th><\/th>\n",
       "      <th><\/th>\n",
       "      <th><\/th>\n",
       "    <\/tr>\n",
       "  <\/thead>\n",
       "  <tbody>\n",
       "    <tr>\n",
       "      <th>Fri<\/th>\n",
       "      <td>17148.127451<\/td>\n",
       "      <td>27347.227106<\/td>\n",
       "      <td>102<\/td>\n",
       "      <td>22546.158660<\/td>\n",
       "      <td>11750.096242<\/td>\n",
       "    <\/tr>\n",
       "    <tr>\n",
       "      <th>Sat<\/th>\n",
       "      <td>14975.475248<\/td>\n",
       "      <td>18070.217337<\/td>\n",
       "      <td>101<\/td>\n",
       "      <td>18560.554900<\/td>\n",
       "      <td>11390.395595<\/td>\n",
       "    <\/tr>\n",
       "    <tr>\n",
       "      <th>Sun<\/th>\n",
       "      <td>13456.702970<\/td>\n",
       "      <td>17602.649041<\/td>\n",
       "      <td>101<\/td>\n",
       "      <td>16949.018405<\/td>\n",
       "      <td>9964.387536<\/td>\n",
       "    <\/tr>\n",
       "    <tr>\n",
       "      <th>Mon<\/th>\n",
       "      <td>6090.405941<\/td>\n",
       "      <td>13046.142380<\/td>\n",
       "      <td>101<\/td>\n",
       "      <td>8678.723431<\/td>\n",
       "      <td>3502.088450<\/td>\n",
       "    <\/tr>\n",
       "    <tr>\n",
       "      <th>Tue<\/th>\n",
       "      <td>15780.643564<\/td>\n",
       "      <td>22840.055655<\/td>\n",
       "      <td>101<\/td>\n",
       "      <td>20312.045554<\/td>\n",
       "      <td>11249.241574<\/td>\n",
       "    <\/tr>\n",
       "    <tr>\n",
       "      <th>Wed<\/th>\n",
       "      <td>17793.029703<\/td>\n",
       "      <td>25894.416151<\/td>\n",
       "      <td>101<\/td>\n",
       "      <td>22930.408116<\/td>\n",
       "      <td>12655.651290<\/td>\n",
       "    <\/tr>\n",
       "    <tr>\n",
       "      <th>Thu<\/th>\n",
       "      <td>18558.029703<\/td>\n",
       "      <td>26434.156239<\/td>\n",
       "      <td>101<\/td>\n",
       "      <td>23802.491012<\/td>\n",
       "      <td>13313.568394<\/td>\n",
       "    <\/tr>\n",
       "  <\/tbody>\n",
       "<\/table>\n",
       "<\/div>"
      ]
     },
     "metadata":{
      
     },
     "output_type":"display_data"
    }
   ],
   "metadata":{
    "datalore":{
     "type":"CODE",
     "hide_input_from_viewers":false,
     "hide_output_from_viewers":false
    }
   }
  },
  {
   "cell_type":"code",
   "source":[
    "df_ci.index"
   ],
   "execution_count":136,
   "outputs":[
    {
     "data":{
      "text\/plain":[
       "CategoricalIndex(['Fri', 'Sat', 'Sun', 'Mon', 'Tue', 'Wed', 'Thu'], categories=['Fri', 'Sat', 'Sun', 'Mon', 'Tue', 'Wed', 'Thu'], ordered=True, dtype='category', name='weekdays')"
      ]
     },
     "metadata":{
      
     },
     "output_type":"display_data"
    }
   ],
   "metadata":{
    "datalore":{
     "type":"CODE",
     "hide_input_from_viewers":false,
     "hide_output_from_viewers":false
    }
   }
  },
  {
   "cell_type":"code",
   "source":[
    "df_ci['weekdays']=df_ci.index"
   ],
   "execution_count":137,
   "outputs":[
    
   ],
   "metadata":{
    "datalore":{
     "type":"CODE",
     "hide_input_from_viewers":false,
     "hide_output_from_viewers":false
    }
   }
  },
  {
   "cell_type":"code",
   "source":[
    "df_ci"
   ],
   "execution_count":138,
   "outputs":[
    {
     "data":{
      "text\/html":[
       "<div>\n",
       "<style scoped>\n",
       "    .dataframe tbody tr th:only-of-type {\n",
       "        vertical-align: middle;\n",
       "    }\n",
       "\n",
       "    .dataframe tbody tr th {\n",
       "        vertical-align: top;\n",
       "    }\n",
       "\n",
       "    .dataframe thead tr th {\n",
       "        text-align: left;\n",
       "    }\n",
       "\n",
       "    .dataframe thead tr:last-of-type th {\n",
       "        text-align: right;\n",
       "    }\n",
       "<\/style>\n",
       "<table border=\"1\" class=\"dataframe\">\n",
       "  <thead>\n",
       "    <tr>\n",
       "      <th><\/th>\n",
       "      <th colspan=\"3\" halign=\"left\">dcases<\/th>\n",
       "      <th>ci95_hi<\/th>\n",
       "      <th>ci95_lo<\/th>\n",
       "      <th>weekdays<\/th>\n",
       "    <\/tr>\n",
       "    <tr>\n",
       "      <th><\/th>\n",
       "      <th>mean<\/th>\n",
       "      <th>std<\/th>\n",
       "      <th>size<\/th>\n",
       "      <th><\/th>\n",
       "      <th><\/th>\n",
       "      <th><\/th>\n",
       "    <\/tr>\n",
       "    <tr>\n",
       "      <th>weekdays<\/th>\n",
       "      <th><\/th>\n",
       "      <th><\/th>\n",
       "      <th><\/th>\n",
       "      <th><\/th>\n",
       "      <th><\/th>\n",
       "      <th><\/th>\n",
       "    <\/tr>\n",
       "  <\/thead>\n",
       "  <tbody>\n",
       "    <tr>\n",
       "      <th>Fri<\/th>\n",
       "      <td>17148.127451<\/td>\n",
       "      <td>27347.227106<\/td>\n",
       "      <td>102<\/td>\n",
       "      <td>22546.158660<\/td>\n",
       "      <td>11750.096242<\/td>\n",
       "      <td>Fri<\/td>\n",
       "    <\/tr>\n",
       "    <tr>\n",
       "      <th>Sat<\/th>\n",
       "      <td>14975.475248<\/td>\n",
       "      <td>18070.217337<\/td>\n",
       "      <td>101<\/td>\n",
       "      <td>18560.554900<\/td>\n",
       "      <td>11390.395595<\/td>\n",
       "      <td>Sat<\/td>\n",
       "    <\/tr>\n",
       "    <tr>\n",
       "      <th>Sun<\/th>\n",
       "      <td>13456.702970<\/td>\n",
       "      <td>17602.649041<\/td>\n",
       "      <td>101<\/td>\n",
       "      <td>16949.018405<\/td>\n",
       "      <td>9964.387536<\/td>\n",
       "      <td>Sun<\/td>\n",
       "    <\/tr>\n",
       "    <tr>\n",
       "      <th>Mon<\/th>\n",
       "      <td>6090.405941<\/td>\n",
       "      <td>13046.142380<\/td>\n",
       "      <td>101<\/td>\n",
       "      <td>8678.723431<\/td>\n",
       "      <td>3502.088450<\/td>\n",
       "      <td>Mon<\/td>\n",
       "    <\/tr>\n",
       "    <tr>\n",
       "      <th>Tue<\/th>\n",
       "      <td>15780.643564<\/td>\n",
       "      <td>22840.055655<\/td>\n",
       "      <td>101<\/td>\n",
       "      <td>20312.045554<\/td>\n",
       "      <td>11249.241574<\/td>\n",
       "      <td>Tue<\/td>\n",
       "    <\/tr>\n",
       "    <tr>\n",
       "      <th>Wed<\/th>\n",
       "      <td>17793.029703<\/td>\n",
       "      <td>25894.416151<\/td>\n",
       "      <td>101<\/td>\n",
       "      <td>22930.408116<\/td>\n",
       "      <td>12655.651290<\/td>\n",
       "      <td>Wed<\/td>\n",
       "    <\/tr>\n",
       "    <tr>\n",
       "      <th>Thu<\/th>\n",
       "      <td>18558.029703<\/td>\n",
       "      <td>26434.156239<\/td>\n",
       "      <td>101<\/td>\n",
       "      <td>23802.491012<\/td>\n",
       "      <td>13313.568394<\/td>\n",
       "      <td>Thu<\/td>\n",
       "    <\/tr>\n",
       "  <\/tbody>\n",
       "<\/table>\n",
       "<\/div>"
      ]
     },
     "metadata":{
      
     },
     "output_type":"display_data"
    }
   ],
   "metadata":{
    "datalore":{
     "type":"CODE",
     "hide_input_from_viewers":false,
     "hide_output_from_viewers":false
    }
   }
  },
  {
   "cell_type":"code",
   "source":[
    "df_ci.columns"
   ],
   "execution_count":139,
   "outputs":[
    {
     "data":{
      "text\/plain":[
       "MultiIndex([(  'dcases', 'mean'),\n",
       "            (  'dcases',  'std'),\n",
       "            (  'dcases', 'size'),\n",
       "            ( 'ci95_hi',     ''),\n",
       "            ( 'ci95_lo',     ''),\n",
       "            ('weekdays',     '')],\n",
       "           )"
      ]
     },
     "metadata":{
      
     },
     "output_type":"display_data"
    }
   ],
   "metadata":{
    "datalore":{
     "type":"CODE",
     "hide_input_from_viewers":false,
     "hide_output_from_viewers":false
    }
   }
  },
  {
   "cell_type":"code",
   "source":[
    "for lb,ub,y in zip(df_ci['ci95_lo'],df_ci['ci95_hi'],range(len(df_ci))):\n",
    "    plt.plot((lb,ub),(y,y),'ro-')\n",
    "plt.yticks(range(len(df_ci)),list(df_ci['weekdays']))"
   ],
   "execution_count":140,
   "outputs":[
    {
     "data":{
      "text\/plain":[
       "([<matplotlib.axis.YTick at 0x7f9642720370>,\n",
       "  <matplotlib.axis.YTick at 0x7f964270c1f0>,\n",
       "  <matplotlib.axis.YTick at 0x7f9642705670>,\n",
       "  <matplotlib.axis.YTick at 0x7f96435449d0>,\n",
       "  <matplotlib.axis.YTick at 0x7f9643544ca0>,\n",
       "  <matplotlib.axis.YTick at 0x7f96435384c0>,\n",
       "  <matplotlib.axis.YTick at 0x7f9643538c10>],\n",
       " [Text(0, 0, 'Fri'),\n",
       "  Text(0, 1, 'Sat'),\n",
       "  Text(0, 2, 'Sun'),\n",
       "  Text(0, 3, 'Mon'),\n",
       "  Text(0, 4, 'Tue'),\n",
       "  Text(0, 5, 'Wed'),\n",
       "  Text(0, 6, 'Thu')])"
      ]
     },
     "metadata":{
      
     },
     "output_type":"display_data"
    }
   ],
   "metadata":{
    "datalore":{
     "type":"CODE",
     "hide_input_from_viewers":false,
     "hide_output_from_viewers":false
    }
   }
  },
  {
   "cell_type":"markdown",
   "source":[
    "The confidence interval for the daily COVID cases in France shows that there is no certain day that has the most COVID confirmed cases because there are many days that overlap each other. There are some confidence intervals for days that are wider than others, but at the end all days have nearly the same numbers with the difference of the size of the interval. The big size shows that there is a varied probability of getting this certain amount such as for Friday, which is the biggest interval, the interval goes from 12500 to 22500 which is a really high which shows that it is not accurate. Then, if we look at the confidence interval od Monday, it is narrower compared to the rest and this makes it more accurate because the difference between the interval is less which makes it more reliable. "
   ],
   "attachments":{
    
   },
   "metadata":{
    "datalore":{
     "type":"MD",
     "hide_input_from_viewers":false,
     "hide_output_from_viewers":false
    }
   }
  },
  {
   "cell_type":"code",
   "source":[
    "statsfr"
   ],
   "execution_count":141,
   "outputs":[
    {
     "data":{
      "text\/html":[
       "<div>\n",
       "<style scoped>\n",
       "    .dataframe tbody tr th:only-of-type {\n",
       "        vertical-align: middle;\n",
       "    }\n",
       "\n",
       "    .dataframe tbody tr th {\n",
       "        vertical-align: top;\n",
       "    }\n",
       "\n",
       "    .dataframe thead tr th {\n",
       "        text-align: left;\n",
       "    }\n",
       "\n",
       "    .dataframe thead tr:last-of-type th {\n",
       "        text-align: right;\n",
       "    }\n",
       "<\/style>\n",
       "<table border=\"1\" class=\"dataframe\">\n",
       "  <thead>\n",
       "    <tr>\n",
       "      <th><\/th>\n",
       "      <th colspan=\"3\" halign=\"left\">dcases<\/th>\n",
       "      <th>ci95_hi<\/th>\n",
       "      <th>ci95_lo<\/th>\n",
       "      <th>weekdays<\/th>\n",
       "    <\/tr>\n",
       "    <tr>\n",
       "      <th><\/th>\n",
       "      <th>mean<\/th>\n",
       "      <th>std<\/th>\n",
       "      <th>size<\/th>\n",
       "      <th><\/th>\n",
       "      <th><\/th>\n",
       "      <th><\/th>\n",
       "    <\/tr>\n",
       "    <tr>\n",
       "      <th>weekdays<\/th>\n",
       "      <th><\/th>\n",
       "      <th><\/th>\n",
       "      <th><\/th>\n",
       "      <th><\/th>\n",
       "      <th><\/th>\n",
       "      <th><\/th>\n",
       "    <\/tr>\n",
       "  <\/thead>\n",
       "  <tbody>\n",
       "    <tr>\n",
       "      <th>Fri<\/th>\n",
       "      <td>17148.127451<\/td>\n",
       "      <td>27347.227106<\/td>\n",
       "      <td>102<\/td>\n",
       "      <td>22546.158660<\/td>\n",
       "      <td>11750.096242<\/td>\n",
       "      <td>Fri<\/td>\n",
       "    <\/tr>\n",
       "    <tr>\n",
       "      <th>Sat<\/th>\n",
       "      <td>14975.475248<\/td>\n",
       "      <td>18070.217337<\/td>\n",
       "      <td>101<\/td>\n",
       "      <td>18560.554900<\/td>\n",
       "      <td>11390.395595<\/td>\n",
       "      <td>Sat<\/td>\n",
       "    <\/tr>\n",
       "    <tr>\n",
       "      <th>Sun<\/th>\n",
       "      <td>13456.702970<\/td>\n",
       "      <td>17602.649041<\/td>\n",
       "      <td>101<\/td>\n",
       "      <td>16949.018405<\/td>\n",
       "      <td>9964.387536<\/td>\n",
       "      <td>Sun<\/td>\n",
       "    <\/tr>\n",
       "    <tr>\n",
       "      <th>Mon<\/th>\n",
       "      <td>6090.405941<\/td>\n",
       "      <td>13046.142380<\/td>\n",
       "      <td>101<\/td>\n",
       "      <td>8678.723431<\/td>\n",
       "      <td>3502.088450<\/td>\n",
       "      <td>Mon<\/td>\n",
       "    <\/tr>\n",
       "    <tr>\n",
       "      <th>Tue<\/th>\n",
       "      <td>15780.643564<\/td>\n",
       "      <td>22840.055655<\/td>\n",
       "      <td>101<\/td>\n",
       "      <td>20312.045554<\/td>\n",
       "      <td>11249.241574<\/td>\n",
       "      <td>Tue<\/td>\n",
       "    <\/tr>\n",
       "    <tr>\n",
       "      <th>Wed<\/th>\n",
       "      <td>17793.029703<\/td>\n",
       "      <td>25894.416151<\/td>\n",
       "      <td>101<\/td>\n",
       "      <td>22930.408116<\/td>\n",
       "      <td>12655.651290<\/td>\n",
       "      <td>Wed<\/td>\n",
       "    <\/tr>\n",
       "    <tr>\n",
       "      <th>Thu<\/th>\n",
       "      <td>18558.029703<\/td>\n",
       "      <td>26434.156239<\/td>\n",
       "      <td>101<\/td>\n",
       "      <td>23802.491012<\/td>\n",
       "      <td>13313.568394<\/td>\n",
       "      <td>Thu<\/td>\n",
       "    <\/tr>\n",
       "  <\/tbody>\n",
       "<\/table>\n",
       "<\/div>"
      ]
     },
     "metadata":{
      
     },
     "output_type":"display_data"
    }
   ],
   "metadata":{
    "datalore":{
     "type":"CODE",
     "hide_input_from_viewers":false,
     "hide_output_from_viewers":false
    }
   }
  },
  {
   "cell_type":"code",
   "source":[
    "statsfr.columns"
   ],
   "execution_count":142,
   "outputs":[
    {
     "data":{
      "text\/plain":[
       "MultiIndex([(  'dcases', 'mean'),\n",
       "            (  'dcases',  'std'),\n",
       "            (  'dcases', 'size'),\n",
       "            ( 'ci95_hi',     ''),\n",
       "            ( 'ci95_lo',     ''),\n",
       "            ('weekdays',     '')],\n",
       "           )"
      ]
     },
     "metadata":{
      
     },
     "output_type":"display_data"
    }
   ],
   "metadata":{
    "datalore":{
     "type":"CODE",
     "hide_input_from_viewers":false,
     "hide_output_from_viewers":false
    }
   }
  },
  {
   "cell_type":"code",
   "source":[
    "statsfr.index"
   ],
   "execution_count":143,
   "outputs":[
    {
     "data":{
      "text\/plain":[
       "CategoricalIndex(['Fri', 'Sat', 'Sun', 'Mon', 'Tue', 'Wed', 'Thu'], categories=['Fri', 'Sat', 'Sun', 'Mon', 'Tue', 'Wed', 'Thu'], ordered=True, dtype='category', name='weekdays')"
      ]
     },
     "metadata":{
      
     },
     "output_type":"display_data"
    }
   ],
   "metadata":{
    "datalore":{
     "type":"CODE",
     "hide_input_from_viewers":false,
     "hide_output_from_viewers":false
    }
   }
  },
  {
   "cell_type":"code",
   "source":[
    "statsfr['weekdays']=statsfr.index"
   ],
   "execution_count":144,
   "outputs":[
    
   ],
   "metadata":{
    "datalore":{
     "type":"CODE",
     "hide_input_from_viewers":false,
     "hide_output_from_viewers":false
    }
   }
  },
  {
   "cell_type":"code",
   "source":[
    "statsfr.columns=['mean','std','size','ci95_hi','ci95_lo','weekdays']"
   ],
   "execution_count":149,
   "outputs":[
    
   ],
   "metadata":{
    "datalore":{
     "type":"CODE",
     "hide_input_from_viewers":false,
     "hide_output_from_viewers":false
    }
   }
  },
  {
   "cell_type":"code",
   "source":[
    "statsfr.columns"
   ],
   "execution_count":152,
   "outputs":[
    {
     "data":{
      "text\/plain":[
       "Index(['mean', 'std', 'size', 'ci95_hi', 'ci95_lo', 'weekdays'], dtype='object')"
      ]
     },
     "metadata":{
      
     },
     "output_type":"display_data"
    }
   ],
   "metadata":{
    "datalore":{
     "type":"CODE",
     "hide_input_from_viewers":false,
     "hide_output_from_viewers":false
    }
   }
  },
  {
   "cell_type":"code",
   "source":[
    "statsfr"
   ],
   "execution_count":150,
   "outputs":[
    {
     "data":{
      "text\/html":[
       "<div>\n",
       "<style scoped>\n",
       "    .dataframe tbody tr th:only-of-type {\n",
       "        vertical-align: middle;\n",
       "    }\n",
       "\n",
       "    .dataframe tbody tr th {\n",
       "        vertical-align: top;\n",
       "    }\n",
       "\n",
       "    .dataframe thead th {\n",
       "        text-align: right;\n",
       "    }\n",
       "<\/style>\n",
       "<table border=\"1\" class=\"dataframe\">\n",
       "  <thead>\n",
       "    <tr style=\"text-align: right;\">\n",
       "      <th><\/th>\n",
       "      <th>mean<\/th>\n",
       "      <th>std<\/th>\n",
       "      <th>size<\/th>\n",
       "      <th>ci95_hi<\/th>\n",
       "      <th>ci95_lo<\/th>\n",
       "      <th>weekdays<\/th>\n",
       "    <\/tr>\n",
       "    <tr>\n",
       "      <th>weekdays<\/th>\n",
       "      <th><\/th>\n",
       "      <th><\/th>\n",
       "      <th><\/th>\n",
       "      <th><\/th>\n",
       "      <th><\/th>\n",
       "      <th><\/th>\n",
       "    <\/tr>\n",
       "  <\/thead>\n",
       "  <tbody>\n",
       "    <tr>\n",
       "      <th>Fri<\/th>\n",
       "      <td>17148.127451<\/td>\n",
       "      <td>27347.227106<\/td>\n",
       "      <td>102<\/td>\n",
       "      <td>22546.158660<\/td>\n",
       "      <td>11750.096242<\/td>\n",
       "      <td>Fri<\/td>\n",
       "    <\/tr>\n",
       "    <tr>\n",
       "      <th>Sat<\/th>\n",
       "      <td>14975.475248<\/td>\n",
       "      <td>18070.217337<\/td>\n",
       "      <td>101<\/td>\n",
       "      <td>18560.554900<\/td>\n",
       "      <td>11390.395595<\/td>\n",
       "      <td>Sat<\/td>\n",
       "    <\/tr>\n",
       "    <tr>\n",
       "      <th>Sun<\/th>\n",
       "      <td>13456.702970<\/td>\n",
       "      <td>17602.649041<\/td>\n",
       "      <td>101<\/td>\n",
       "      <td>16949.018405<\/td>\n",
       "      <td>9964.387536<\/td>\n",
       "      <td>Sun<\/td>\n",
       "    <\/tr>\n",
       "    <tr>\n",
       "      <th>Mon<\/th>\n",
       "      <td>6090.405941<\/td>\n",
       "      <td>13046.142380<\/td>\n",
       "      <td>101<\/td>\n",
       "      <td>8678.723431<\/td>\n",
       "      <td>3502.088450<\/td>\n",
       "      <td>Mon<\/td>\n",
       "    <\/tr>\n",
       "    <tr>\n",
       "      <th>Tue<\/th>\n",
       "      <td>15780.643564<\/td>\n",
       "      <td>22840.055655<\/td>\n",
       "      <td>101<\/td>\n",
       "      <td>20312.045554<\/td>\n",
       "      <td>11249.241574<\/td>\n",
       "      <td>Tue<\/td>\n",
       "    <\/tr>\n",
       "    <tr>\n",
       "      <th>Wed<\/th>\n",
       "      <td>17793.029703<\/td>\n",
       "      <td>25894.416151<\/td>\n",
       "      <td>101<\/td>\n",
       "      <td>22930.408116<\/td>\n",
       "      <td>12655.651290<\/td>\n",
       "      <td>Wed<\/td>\n",
       "    <\/tr>\n",
       "    <tr>\n",
       "      <th>Thu<\/th>\n",
       "      <td>18558.029703<\/td>\n",
       "      <td>26434.156239<\/td>\n",
       "      <td>101<\/td>\n",
       "      <td>23802.491012<\/td>\n",
       "      <td>13313.568394<\/td>\n",
       "      <td>Thu<\/td>\n",
       "    <\/tr>\n",
       "  <\/tbody>\n",
       "<\/table>\n",
       "<\/div>"
      ]
     },
     "metadata":{
      
     },
     "output_type":"display_data"
    }
   ],
   "metadata":{
    "datalore":{
     "type":"CODE",
     "hide_input_from_viewers":false,
     "hide_output_from_viewers":false
    }
   }
  },
  {
   "cell_type":"code",
   "source":[
    "plt.plot( 'weekdays', 'mean', data=statsfr, marker='s', color='black', markersize=4,     linewidth=1, linestyle='--')\n",
    "plt.plot( 'weekdays', 'mean', data=statsfr, marker='o', color='black',  markersize=4, linewidth=1,linestyle='-')\n",
    "plt.xlabel(\"Month\")\n",
    "plt.ylabel(\"Average Daily COVID CASES\")\n",
    "plt.show()"
   ],
   "execution_count":153,
   "outputs":[
    {
     "data":{
      "image\/png":"[encoded data removed]"
     },
     "metadata":{
      "image\/png":{
       
      }
     },
     "output_type":"display_data"
    }
   ],
   "metadata":{
    "datalore":{
     "type":"CODE",
     "hide_input_from_viewers":false,
     "hide_output_from_viewers":false
    }
   }
  },
  {
   "cell_type":"markdown",
   "source":[
    "The above line graph of the daily COVID cases shows that the numbers are all near each other for all weekdays except for Monday where it shows a massive drop in the number of cases and it then shows a massive increase in the number of cases. This is really something strange because how can a day cause a massive decrease in COVID cases then cause a massive increase in COVID cases. The only interpretation for this is that the data for Monday is not reliable because compared to the other data, it does not make sense.  "
   ],
   "attachments":{
    
   },
   "metadata":{
    "datalore":{
     "type":"MD",
     "hide_input_from_viewers":false,
     "hide_output_from_viewers":false
    }
   }
  },
  {
   "cell_type":"markdown",
   "source":[
    "Now analyzing the daily number of confirmed death cases"
   ],
   "attachments":{
    
   },
   "metadata":{
    "datalore":{
     "type":"MD",
     "hide_input_from_viewers":false,
     "hide_output_from_viewers":false
    }
   }
  },
  {
   "cell_type":"code",
   "source":[
    "statsfr2=dffr.groupby(\"weekdays\").agg({\"ddeaths\": [np.mean, np.std, np.size]})"
   ],
   "execution_count":14,
   "outputs":[
    
   ],
   "metadata":{
    "datalore":{
     "type":"CODE",
     "hide_input_from_viewers":false,
     "hide_output_from_viewers":false
    }
   }
  },
  {
   "cell_type":"code",
   "source":[
    "statsfr2"
   ],
   "execution_count":15,
   "outputs":[
    {
     "data":{
      "text\/html":[
       "<div>\n",
       "<style scoped>\n",
       "    .dataframe tbody tr th:only-of-type {\n",
       "        vertical-align: middle;\n",
       "    }\n",
       "\n",
       "    .dataframe tbody tr th {\n",
       "        vertical-align: top;\n",
       "    }\n",
       "\n",
       "    .dataframe thead tr th {\n",
       "        text-align: left;\n",
       "    }\n",
       "\n",
       "    .dataframe thead tr:last-of-type th {\n",
       "        text-align: right;\n",
       "    }\n",
       "<\/style>\n",
       "<table border=\"1\" class=\"dataframe\">\n",
       "  <thead>\n",
       "    <tr>\n",
       "      <th><\/th>\n",
       "      <th colspan=\"3\" halign=\"left\">ddeaths<\/th>\n",
       "    <\/tr>\n",
       "    <tr>\n",
       "      <th><\/th>\n",
       "      <th>mean<\/th>\n",
       "      <th>std<\/th>\n",
       "      <th>size<\/th>\n",
       "    <\/tr>\n",
       "    <tr>\n",
       "      <th>weekdays<\/th>\n",
       "      <th><\/th>\n",
       "      <th><\/th>\n",
       "      <th><\/th>\n",
       "    <\/tr>\n",
       "  <\/thead>\n",
       "  <tbody>\n",
       "    <tr>\n",
       "      <th>Fri<\/th>\n",
       "      <td>240.294118<\/td>\n",
       "      <td>294.708333<\/td>\n",
       "      <td>102<\/td>\n",
       "    <\/tr>\n",
       "    <tr>\n",
       "      <th>Mon<\/th>\n",
       "      <td>190.603960<\/td>\n",
       "      <td>181.585907<\/td>\n",
       "      <td>101<\/td>\n",
       "    <\/tr>\n",
       "    <tr>\n",
       "      <th>Sat<\/th>\n",
       "      <td>111.643564<\/td>\n",
       "      <td>151.810908<\/td>\n",
       "      <td>101<\/td>\n",
       "    <\/tr>\n",
       "    <tr>\n",
       "      <th>Sun<\/th>\n",
       "      <td>87.277228<\/td>\n",
       "      <td>113.236842<\/td>\n",
       "      <td>101<\/td>\n",
       "    <\/tr>\n",
       "    <tr>\n",
       "      <th>Thu<\/th>\n",
       "      <td>160.712871<\/td>\n",
       "      <td>191.063358<\/td>\n",
       "      <td>101<\/td>\n",
       "    <\/tr>\n",
       "    <tr>\n",
       "      <th>Tue<\/th>\n",
       "      <td>277.980198<\/td>\n",
       "      <td>331.414845<\/td>\n",
       "      <td>101<\/td>\n",
       "    <\/tr>\n",
       "    <tr>\n",
       "      <th>Wed<\/th>\n",
       "      <td>167.871287<\/td>\n",
       "      <td>217.813620<\/td>\n",
       "      <td>101<\/td>\n",
       "    <\/tr>\n",
       "  <\/tbody>\n",
       "<\/table>\n",
       "<\/div>"
      ]
     },
     "metadata":{
      
     },
     "output_type":"display_data"
    }
   ],
   "metadata":{
    "datalore":{
     "type":"CODE",
     "hide_input_from_viewers":false,
     "hide_output_from_viewers":false
    }
   }
  },
  {
   "cell_type":"code",
   "source":[
    "statsfr2.index"
   ],
   "execution_count":16,
   "outputs":[
    {
     "data":{
      "text\/plain":[
       "Index(['Fri', 'Mon', 'Sat', 'Sun', 'Thu', 'Tue', 'Wed'], dtype='object', name='weekdays')"
      ]
     },
     "metadata":{
      
     },
     "output_type":"display_data"
    }
   ],
   "metadata":{
    "datalore":{
     "type":"CODE",
     "hide_input_from_viewers":false,
     "hide_output_from_viewers":false
    }
   }
  },
  {
   "cell_type":"code",
   "source":[
    "ci95_hi2 = []\n",
    "ci95_lo2 = []"
   ],
   "execution_count":17,
   "outputs":[
    
   ],
   "metadata":{
    "datalore":{
     "type":"CODE",
     "hide_input_from_viewers":false,
     "hide_output_from_viewers":false
    }
   }
  },
  {
   "cell_type":"code",
   "source":[
    "for i in statsfr2.index:\n",
    "    m, s, n = statsfr2.loc[i]\n",
    "    x=scipy.stats.t.interval(.95, n-1, m,s\/np.sqrt(n-1))\n",
    "    ci95_hi2.append(x[1])\n",
    "    ci95_lo2.append(x[0])"
   ],
   "execution_count":18,
   "outputs":[
    
   ],
   "metadata":{
    "datalore":{
     "type":"CODE",
     "hide_input_from_viewers":false,
     "hide_output_from_viewers":false
    }
   }
  },
  {
   "cell_type":"code",
   "source":[
    "ci95_hi2"
   ],
   "execution_count":19,
   "outputs":[
    {
     "data":{
      "text\/plain":[
       "[298.4661866078697,\n",
       " 226.63008713989092,\n",
       " 141.76241605427353,\n",
       " 109.7430946508218,\n",
       " 198.61929731676094,\n",
       " 343.73195938213775,\n",
       " 211.08488906531312]"
      ]
     },
     "metadata":{
      
     },
     "output_type":"display_data"
    }
   ],
   "metadata":{
    "datalore":{
     "type":"CODE",
     "hide_input_from_viewers":false,
     "hide_output_from_viewers":false
    }
   }
  },
  {
   "cell_type":"code",
   "source":[
    "ci95_lo2"
   ],
   "execution_count":20,
   "outputs":[
    {
     "data":{
      "text\/plain":[
       "[182.12204868624792,\n",
       " 154.5778336521883,\n",
       " 81.52471265859776,\n",
       " 64.81136079472276,\n",
       " 122.80644525749648,\n",
       " 212.22843665746626,\n",
       " 124.65768519211262]"
      ]
     },
     "metadata":{
      
     },
     "output_type":"display_data"
    }
   ],
   "metadata":{
    "datalore":{
     "type":"CODE",
     "hide_input_from_viewers":false,
     "hide_output_from_viewers":false
    }
   }
  },
  {
   "cell_type":"code",
   "source":[
    "statsfr2['ci95_hi2'] = ci95_hi2\n",
    "statsfr2['ci95_lo2'] = ci95_lo2\n",
    "print(statsfr2)"
   ],
   "execution_count":22,
   "outputs":[
    {
     "name":"stdout",
     "text":[
      "             ddeaths                     ci95_hi2    ci95_lo2\n",
      "                mean         std size                        \n",
      "weekdays                                                     \n",
      "Fri       240.294118  294.708333  102  298.466187  182.122049\n",
      "Mon       190.603960  181.585907  101  226.630087  154.577834\n",
      "Sat       111.643564  151.810908  101  141.762416   81.524713\n",
      "Sun        87.277228  113.236842  101  109.743095   64.811361\n",
      "Thu       160.712871  191.063358  101  198.619297  122.806445\n",
      "Tue       277.980198  331.414845  101  343.731959  212.228437\n",
      "Wed       167.871287  217.813620  101  211.084889  124.657685\n"
     ],
     "output_type":"stream"
    }
   ],
   "metadata":{
    "datalore":{
     "type":"CODE",
     "hide_input_from_viewers":false,
     "hide_output_from_viewers":false
    }
   }
  },
  {
   "cell_type":"code",
   "source":[
    "df_ci2= pd.DataFrame(statsfr2)"
   ],
   "execution_count":24,
   "outputs":[
    
   ],
   "metadata":{
    "datalore":{
     "type":"CODE",
     "hide_input_from_viewers":false,
     "hide_output_from_viewers":false
    }
   }
  },
  {
   "cell_type":"code",
   "source":[
    "df_ci2"
   ],
   "execution_count":25,
   "outputs":[
    {
     "data":{
      "text\/html":[
       "<div>\n",
       "<style scoped>\n",
       "    .dataframe tbody tr th:only-of-type {\n",
       "        vertical-align: middle;\n",
       "    }\n",
       "\n",
       "    .dataframe tbody tr th {\n",
       "        vertical-align: top;\n",
       "    }\n",
       "\n",
       "    .dataframe thead tr th {\n",
       "        text-align: left;\n",
       "    }\n",
       "\n",
       "    .dataframe thead tr:last-of-type th {\n",
       "        text-align: right;\n",
       "    }\n",
       "<\/style>\n",
       "<table border=\"1\" class=\"dataframe\">\n",
       "  <thead>\n",
       "    <tr>\n",
       "      <th><\/th>\n",
       "      <th colspan=\"3\" halign=\"left\">ddeaths<\/th>\n",
       "      <th>ci95_hi2<\/th>\n",
       "      <th>ci95_lo2<\/th>\n",
       "    <\/tr>\n",
       "    <tr>\n",
       "      <th><\/th>\n",
       "      <th>mean<\/th>\n",
       "      <th>std<\/th>\n",
       "      <th>size<\/th>\n",
       "      <th><\/th>\n",
       "      <th><\/th>\n",
       "    <\/tr>\n",
       "    <tr>\n",
       "      <th>weekdays<\/th>\n",
       "      <th><\/th>\n",
       "      <th><\/th>\n",
       "      <th><\/th>\n",
       "      <th><\/th>\n",
       "      <th><\/th>\n",
       "    <\/tr>\n",
       "  <\/thead>\n",
       "  <tbody>\n",
       "    <tr>\n",
       "      <th>Fri<\/th>\n",
       "      <td>240.294118<\/td>\n",
       "      <td>294.708333<\/td>\n",
       "      <td>102<\/td>\n",
       "      <td>298.466187<\/td>\n",
       "      <td>182.122049<\/td>\n",
       "    <\/tr>\n",
       "    <tr>\n",
       "      <th>Mon<\/th>\n",
       "      <td>190.603960<\/td>\n",
       "      <td>181.585907<\/td>\n",
       "      <td>101<\/td>\n",
       "      <td>226.630087<\/td>\n",
       "      <td>154.577834<\/td>\n",
       "    <\/tr>\n",
       "    <tr>\n",
       "      <th>Sat<\/th>\n",
       "      <td>111.643564<\/td>\n",
       "      <td>151.810908<\/td>\n",
       "      <td>101<\/td>\n",
       "      <td>141.762416<\/td>\n",
       "      <td>81.524713<\/td>\n",
       "    <\/tr>\n",
       "    <tr>\n",
       "      <th>Sun<\/th>\n",
       "      <td>87.277228<\/td>\n",
       "      <td>113.236842<\/td>\n",
       "      <td>101<\/td>\n",
       "      <td>109.743095<\/td>\n",
       "      <td>64.811361<\/td>\n",
       "    <\/tr>\n",
       "    <tr>\n",
       "      <th>Thu<\/th>\n",
       "      <td>160.712871<\/td>\n",
       "      <td>191.063358<\/td>\n",
       "      <td>101<\/td>\n",
       "      <td>198.619297<\/td>\n",
       "      <td>122.806445<\/td>\n",
       "    <\/tr>\n",
       "    <tr>\n",
       "      <th>Tue<\/th>\n",
       "      <td>277.980198<\/td>\n",
       "      <td>331.414845<\/td>\n",
       "      <td>101<\/td>\n",
       "      <td>343.731959<\/td>\n",
       "      <td>212.228437<\/td>\n",
       "    <\/tr>\n",
       "    <tr>\n",
       "      <th>Wed<\/th>\n",
       "      <td>167.871287<\/td>\n",
       "      <td>217.813620<\/td>\n",
       "      <td>101<\/td>\n",
       "      <td>211.084889<\/td>\n",
       "      <td>124.657685<\/td>\n",
       "    <\/tr>\n",
       "  <\/tbody>\n",
       "<\/table>\n",
       "<\/div>"
      ]
     },
     "metadata":{
      
     },
     "output_type":"display_data"
    }
   ],
   "metadata":{
    "datalore":{
     "type":"CODE",
     "hide_input_from_viewers":false,
     "hide_output_from_viewers":false
    }
   }
  },
  {
   "cell_type":"code",
   "source":[
    "df_ci2= pd.DataFrame(statsfr2)"
   ],
   "execution_count":26,
   "outputs":[
    
   ],
   "metadata":{
    "datalore":{
     "type":"CODE",
     "hide_input_from_viewers":false,
     "hide_output_from_viewers":false
    }
   }
  },
  {
   "cell_type":"code",
   "source":[
    "df_ci2['weekdays']=df_ci2.index"
   ],
   "execution_count":27,
   "outputs":[
    
   ],
   "metadata":{
    "datalore":{
     "type":"CODE",
     "hide_input_from_viewers":false,
     "hide_output_from_viewers":false
    }
   }
  },
  {
   "cell_type":"code",
   "source":[
    "df_ci2"
   ],
   "execution_count":28,
   "outputs":[
    {
     "data":{
      "text\/html":[
       "<div>\n",
       "<style scoped>\n",
       "    .dataframe tbody tr th:only-of-type {\n",
       "        vertical-align: middle;\n",
       "    }\n",
       "\n",
       "    .dataframe tbody tr th {\n",
       "        vertical-align: top;\n",
       "    }\n",
       "\n",
       "    .dataframe thead tr th {\n",
       "        text-align: left;\n",
       "    }\n",
       "\n",
       "    .dataframe thead tr:last-of-type th {\n",
       "        text-align: right;\n",
       "    }\n",
       "<\/style>\n",
       "<table border=\"1\" class=\"dataframe\">\n",
       "  <thead>\n",
       "    <tr>\n",
       "      <th><\/th>\n",
       "      <th colspan=\"3\" halign=\"left\">ddeaths<\/th>\n",
       "      <th>ci95_hi2<\/th>\n",
       "      <th>ci95_lo2<\/th>\n",
       "      <th>weekdays<\/th>\n",
       "    <\/tr>\n",
       "    <tr>\n",
       "      <th><\/th>\n",
       "      <th>mean<\/th>\n",
       "      <th>std<\/th>\n",
       "      <th>size<\/th>\n",
       "      <th><\/th>\n",
       "      <th><\/th>\n",
       "      <th><\/th>\n",
       "    <\/tr>\n",
       "    <tr>\n",
       "      <th>weekdays<\/th>\n",
       "      <th><\/th>\n",
       "      <th><\/th>\n",
       "      <th><\/th>\n",
       "      <th><\/th>\n",
       "      <th><\/th>\n",
       "      <th><\/th>\n",
       "    <\/tr>\n",
       "  <\/thead>\n",
       "  <tbody>\n",
       "    <tr>\n",
       "      <th>Fri<\/th>\n",
       "      <td>240.294118<\/td>\n",
       "      <td>294.708333<\/td>\n",
       "      <td>102<\/td>\n",
       "      <td>298.466187<\/td>\n",
       "      <td>182.122049<\/td>\n",
       "      <td>Fri<\/td>\n",
       "    <\/tr>\n",
       "    <tr>\n",
       "      <th>Mon<\/th>\n",
       "      <td>190.603960<\/td>\n",
       "      <td>181.585907<\/td>\n",
       "      <td>101<\/td>\n",
       "      <td>226.630087<\/td>\n",
       "      <td>154.577834<\/td>\n",
       "      <td>Mon<\/td>\n",
       "    <\/tr>\n",
       "    <tr>\n",
       "      <th>Sat<\/th>\n",
       "      <td>111.643564<\/td>\n",
       "      <td>151.810908<\/td>\n",
       "      <td>101<\/td>\n",
       "      <td>141.762416<\/td>\n",
       "      <td>81.524713<\/td>\n",
       "      <td>Sat<\/td>\n",
       "    <\/tr>\n",
       "    <tr>\n",
       "      <th>Sun<\/th>\n",
       "      <td>87.277228<\/td>\n",
       "      <td>113.236842<\/td>\n",
       "      <td>101<\/td>\n",
       "      <td>109.743095<\/td>\n",
       "      <td>64.811361<\/td>\n",
       "      <td>Sun<\/td>\n",
       "    <\/tr>\n",
       "    <tr>\n",
       "      <th>Thu<\/th>\n",
       "      <td>160.712871<\/td>\n",
       "      <td>191.063358<\/td>\n",
       "      <td>101<\/td>\n",
       "      <td>198.619297<\/td>\n",
       "      <td>122.806445<\/td>\n",
       "      <td>Thu<\/td>\n",
       "    <\/tr>\n",
       "    <tr>\n",
       "      <th>Tue<\/th>\n",
       "      <td>277.980198<\/td>\n",
       "      <td>331.414845<\/td>\n",
       "      <td>101<\/td>\n",
       "      <td>343.731959<\/td>\n",
       "      <td>212.228437<\/td>\n",
       "      <td>Tue<\/td>\n",
       "    <\/tr>\n",
       "    <tr>\n",
       "      <th>Wed<\/th>\n",
       "      <td>167.871287<\/td>\n",
       "      <td>217.813620<\/td>\n",
       "      <td>101<\/td>\n",
       "      <td>211.084889<\/td>\n",
       "      <td>124.657685<\/td>\n",
       "      <td>Wed<\/td>\n",
       "    <\/tr>\n",
       "  <\/tbody>\n",
       "<\/table>\n",
       "<\/div>"
      ]
     },
     "metadata":{
      
     },
     "output_type":"display_data"
    }
   ],
   "metadata":{
    "datalore":{
     "type":"CODE",
     "hide_input_from_viewers":false,
     "hide_output_from_viewers":false
    }
   }
  },
  {
   "cell_type":"code",
   "source":[
    "df_ci2.columns"
   ],
   "execution_count":30,
   "outputs":[
    {
     "data":{
      "text\/plain":[
       "MultiIndex([( 'ddeaths', 'mean'),\n",
       "            ( 'ddeaths',  'std'),\n",
       "            ( 'ddeaths', 'size'),\n",
       "            ('ci95_hi2',     ''),\n",
       "            ('ci95_lo2',     ''),\n",
       "            ('weekdays',     '')],\n",
       "           )"
      ]
     },
     "metadata":{
      
     },
     "output_type":"display_data"
    }
   ],
   "metadata":{
    "datalore":{
     "type":"CODE",
     "hide_input_from_viewers":false,
     "hide_output_from_viewers":false
    }
   }
  },
  {
   "cell_type":"code",
   "source":[
    "for lb,ub,y in zip(df_ci2['ci95_lo2'],df_ci2['ci95_hi2'],range(len(df_ci2))):\n",
    "    plt.plot((lb,ub),(y,y),'ro-')\n",
    "plt.yticks(range(len(df_ci2)),list(df_ci2['weekdays']))"
   ],
   "execution_count":31,
   "outputs":[
    {
     "data":{
      "text\/plain":[
       "([<matplotlib.axis.YTick at 0x7f8dc2490430>,\n",
       "  <matplotlib.axis.YTick at 0x7f8dc2e64f10>,\n",
       "  <matplotlib.axis.YTick at 0x7f8dc2498a00>,\n",
       "  <matplotlib.axis.YTick at 0x7f8dc28b1880>,\n",
       "  <matplotlib.axis.YTick at 0x7f8dc28bb760>,\n",
       "  <matplotlib.axis.YTick at 0x7f8dc28a2670>,\n",
       "  <matplotlib.axis.YTick at 0x7f8dc2e7bf70>],\n",
       " [Text(0, 0, 'Fri'),\n",
       "  Text(0, 1, 'Mon'),\n",
       "  Text(0, 2, 'Sat'),\n",
       "  Text(0, 3, 'Sun'),\n",
       "  Text(0, 4, 'Thu'),\n",
       "  Text(0, 5, 'Tue'),\n",
       "  Text(0, 6, 'Wed')])"
      ],
      "image\/png":"[encoded data removed]"
     },
     "metadata":{
      "image\/png":{
       
      }
     },
     "output_type":"display_data"
    }
   ],
   "metadata":{
    "datalore":{
     "type":"CODE",
     "hide_input_from_viewers":false,
     "hide_output_from_viewers":false
    }
   }
  },
  {
   "cell_type":"markdown",
   "source":[
    "The confidence interval for the daily COVID deaths in France shows that the most occurring day of confirmed deaths is Tuesday, but its interval is big which shows that it is varied. There are some confidence intervals for days that are wider than others. Some days such as Saturday and Sunday have narrow confidence intervals which show that it is more accurate because the differences between the intervals are small;therefore they are more reliable. Then, other weekdays such as Tuesday and Friday have wide confidence intervals which show that they are less reliable because the values are more varied which means that a it can happpen but at a wide scale.  "
   ],
   "attachments":{
    
   },
   "metadata":{
    "datalore":{
     "type":"MD",
     "hide_input_from_viewers":false,
     "hide_output_from_viewers":false
    }
   }
  },
  {
   "cell_type":"code",
   "source":[
    "statsfr2"
   ],
   "execution_count":52,
   "outputs":[
    {
     "data":{
      "text\/html":[
       "<div>\n",
       "<style scoped>\n",
       "    .dataframe tbody tr th:only-of-type {\n",
       "        vertical-align: middle;\n",
       "    }\n",
       "\n",
       "    .dataframe tbody tr th {\n",
       "        vertical-align: top;\n",
       "    }\n",
       "\n",
       "    .dataframe thead tr th {\n",
       "        text-align: left;\n",
       "    }\n",
       "\n",
       "    .dataframe thead tr:last-of-type th {\n",
       "        text-align: right;\n",
       "    }\n",
       "<\/style>\n",
       "<table border=\"1\" class=\"dataframe\">\n",
       "  <thead>\n",
       "    <tr>\n",
       "      <th><\/th>\n",
       "      <th colspan=\"3\" halign=\"left\">ddeaths<\/th>\n",
       "      <th>ci95_hi2<\/th>\n",
       "      <th>ci95_lo2<\/th>\n",
       "      <th>weekdays<\/th>\n",
       "    <\/tr>\n",
       "    <tr>\n",
       "      <th><\/th>\n",
       "      <th>mean<\/th>\n",
       "      <th>std<\/th>\n",
       "      <th>size<\/th>\n",
       "      <th><\/th>\n",
       "      <th><\/th>\n",
       "      <th><\/th>\n",
       "    <\/tr>\n",
       "    <tr>\n",
       "      <th>weekdays<\/th>\n",
       "      <th><\/th>\n",
       "      <th><\/th>\n",
       "      <th><\/th>\n",
       "      <th><\/th>\n",
       "      <th><\/th>\n",
       "      <th><\/th>\n",
       "    <\/tr>\n",
       "  <\/thead>\n",
       "  <tbody>\n",
       "    <tr>\n",
       "      <th>Fri<\/th>\n",
       "      <td>240.294118<\/td>\n",
       "      <td>294.708333<\/td>\n",
       "      <td>102<\/td>\n",
       "      <td>22546.158660<\/td>\n",
       "      <td>11750.096242<\/td>\n",
       "      <td>Fri<\/td>\n",
       "    <\/tr>\n",
       "    <tr>\n",
       "      <th>Sat<\/th>\n",
       "      <td>111.643564<\/td>\n",
       "      <td>151.810908<\/td>\n",
       "      <td>101<\/td>\n",
       "      <td>18560.554900<\/td>\n",
       "      <td>11390.395595<\/td>\n",
       "      <td>Sat<\/td>\n",
       "    <\/tr>\n",
       "    <tr>\n",
       "      <th>Sun<\/th>\n",
       "      <td>87.277228<\/td>\n",
       "      <td>113.236842<\/td>\n",
       "      <td>101<\/td>\n",
       "      <td>16949.018405<\/td>\n",
       "      <td>9964.387536<\/td>\n",
       "      <td>Sun<\/td>\n",
       "    <\/tr>\n",
       "    <tr>\n",
       "      <th>Mon<\/th>\n",
       "      <td>190.603960<\/td>\n",
       "      <td>181.585907<\/td>\n",
       "      <td>101<\/td>\n",
       "      <td>8678.723431<\/td>\n",
       "      <td>3502.088450<\/td>\n",
       "      <td>Mon<\/td>\n",
       "    <\/tr>\n",
       "    <tr>\n",
       "      <th>Tue<\/th>\n",
       "      <td>277.980198<\/td>\n",
       "      <td>331.414845<\/td>\n",
       "      <td>101<\/td>\n",
       "      <td>20312.045554<\/td>\n",
       "      <td>11249.241574<\/td>\n",
       "      <td>Tue<\/td>\n",
       "    <\/tr>\n",
       "    <tr>\n",
       "      <th>Wed<\/th>\n",
       "      <td>167.871287<\/td>\n",
       "      <td>217.813620<\/td>\n",
       "      <td>101<\/td>\n",
       "      <td>22930.408116<\/td>\n",
       "      <td>12655.651290<\/td>\n",
       "      <td>Wed<\/td>\n",
       "    <\/tr>\n",
       "    <tr>\n",
       "      <th>Thu<\/th>\n",
       "      <td>160.712871<\/td>\n",
       "      <td>191.063358<\/td>\n",
       "      <td>101<\/td>\n",
       "      <td>23802.491012<\/td>\n",
       "      <td>13313.568394<\/td>\n",
       "      <td>Thu<\/td>\n",
       "    <\/tr>\n",
       "  <\/tbody>\n",
       "<\/table>\n",
       "<\/div>"
      ]
     },
     "metadata":{
      
     },
     "output_type":"display_data"
    }
   ],
   "metadata":{
    "datalore":{
     "type":"CODE",
     "hide_input_from_viewers":false,
     "hide_output_from_viewers":false
    }
   }
  },
  {
   "cell_type":"code",
   "source":[
    "statsfr2.columns"
   ],
   "execution_count":53,
   "outputs":[
    {
     "data":{
      "text\/plain":[
       "MultiIndex([( 'ddeaths', 'mean'),\n",
       "            ( 'ddeaths',  'std'),\n",
       "            ( 'ddeaths', 'size'),\n",
       "            ('ci95_hi2',     ''),\n",
       "            ('ci95_lo2',     ''),\n",
       "            ('weekdays',     '')],\n",
       "           )"
      ]
     },
     "metadata":{
      
     },
     "output_type":"display_data"
    }
   ],
   "metadata":{
    "datalore":{
     "type":"CODE",
     "hide_input_from_viewers":false,
     "hide_output_from_viewers":false
    }
   }
  },
  {
   "cell_type":"code",
   "source":[
    "statsfr2.index"
   ],
   "execution_count":54,
   "outputs":[
    {
     "data":{
      "text\/plain":[
       "CategoricalIndex(['Fri', 'Sat', 'Sun', 'Mon', 'Tue', 'Wed', 'Thu'], categories=['Fri', 'Sat', 'Sun', 'Mon', 'Tue', 'Wed', 'Thu'], ordered=True, dtype='category', name='weekdays')"
      ]
     },
     "metadata":{
      
     },
     "output_type":"display_data"
    }
   ],
   "metadata":{
    "datalore":{
     "type":"CODE",
     "hide_input_from_viewers":false,
     "hide_output_from_viewers":false
    }
   }
  },
  {
   "cell_type":"code",
   "source":[
    "statsfr2.columns=['mean','std','size','ci95_hi2','ci95_lo2','weekdays']"
   ],
   "execution_count":55,
   "outputs":[
    
   ],
   "metadata":{
    "datalore":{
     "type":"CODE",
     "hide_input_from_viewers":false,
     "hide_output_from_viewers":false
    }
   }
  },
  {
   "cell_type":"code",
   "source":[
    "statsfr2['weekdays']=statsfr2.index"
   ],
   "execution_count":56,
   "outputs":[
    
   ],
   "metadata":{
    "datalore":{
     "type":"CODE",
     "hide_input_from_viewers":false,
     "hide_output_from_viewers":false
    }
   }
  },
  {
   "cell_type":"code",
   "source":[
    "statsfr2"
   ],
   "execution_count":57,
   "outputs":[
    {
     "data":{
      "text\/html":[
       "<div>\n",
       "<style scoped>\n",
       "    .dataframe tbody tr th:only-of-type {\n",
       "        vertical-align: middle;\n",
       "    }\n",
       "\n",
       "    .dataframe tbody tr th {\n",
       "        vertical-align: top;\n",
       "    }\n",
       "\n",
       "    .dataframe thead th {\n",
       "        text-align: right;\n",
       "    }\n",
       "<\/style>\n",
       "<table border=\"1\" class=\"dataframe\">\n",
       "  <thead>\n",
       "    <tr style=\"text-align: right;\">\n",
       "      <th><\/th>\n",
       "      <th>mean<\/th>\n",
       "      <th>std<\/th>\n",
       "      <th>size<\/th>\n",
       "      <th>ci95_hi2<\/th>\n",
       "      <th>ci95_lo2<\/th>\n",
       "      <th>weekdays<\/th>\n",
       "    <\/tr>\n",
       "    <tr>\n",
       "      <th>weekdays<\/th>\n",
       "      <th><\/th>\n",
       "      <th><\/th>\n",
       "      <th><\/th>\n",
       "      <th><\/th>\n",
       "      <th><\/th>\n",
       "      <th><\/th>\n",
       "    <\/tr>\n",
       "  <\/thead>\n",
       "  <tbody>\n",
       "    <tr>\n",
       "      <th>Fri<\/th>\n",
       "      <td>240.294118<\/td>\n",
       "      <td>294.708333<\/td>\n",
       "      <td>102<\/td>\n",
       "      <td>22546.158660<\/td>\n",
       "      <td>11750.096242<\/td>\n",
       "      <td>Fri<\/td>\n",
       "    <\/tr>\n",
       "    <tr>\n",
       "      <th>Sat<\/th>\n",
       "      <td>111.643564<\/td>\n",
       "      <td>151.810908<\/td>\n",
       "      <td>101<\/td>\n",
       "      <td>18560.554900<\/td>\n",
       "      <td>11390.395595<\/td>\n",
       "      <td>Sat<\/td>\n",
       "    <\/tr>\n",
       "    <tr>\n",
       "      <th>Sun<\/th>\n",
       "      <td>87.277228<\/td>\n",
       "      <td>113.236842<\/td>\n",
       "      <td>101<\/td>\n",
       "      <td>16949.018405<\/td>\n",
       "      <td>9964.387536<\/td>\n",
       "      <td>Sun<\/td>\n",
       "    <\/tr>\n",
       "    <tr>\n",
       "      <th>Mon<\/th>\n",
       "      <td>190.603960<\/td>\n",
       "      <td>181.585907<\/td>\n",
       "      <td>101<\/td>\n",
       "      <td>8678.723431<\/td>\n",
       "      <td>3502.088450<\/td>\n",
       "      <td>Mon<\/td>\n",
       "    <\/tr>\n",
       "    <tr>\n",
       "      <th>Tue<\/th>\n",
       "      <td>277.980198<\/td>\n",
       "      <td>331.414845<\/td>\n",
       "      <td>101<\/td>\n",
       "      <td>20312.045554<\/td>\n",
       "      <td>11249.241574<\/td>\n",
       "      <td>Tue<\/td>\n",
       "    <\/tr>\n",
       "    <tr>\n",
       "      <th>Wed<\/th>\n",
       "      <td>167.871287<\/td>\n",
       "      <td>217.813620<\/td>\n",
       "      <td>101<\/td>\n",
       "      <td>22930.408116<\/td>\n",
       "      <td>12655.651290<\/td>\n",
       "      <td>Wed<\/td>\n",
       "    <\/tr>\n",
       "    <tr>\n",
       "      <th>Thu<\/th>\n",
       "      <td>160.712871<\/td>\n",
       "      <td>191.063358<\/td>\n",
       "      <td>101<\/td>\n",
       "      <td>23802.491012<\/td>\n",
       "      <td>13313.568394<\/td>\n",
       "      <td>Thu<\/td>\n",
       "    <\/tr>\n",
       "  <\/tbody>\n",
       "<\/table>\n",
       "<\/div>"
      ]
     },
     "metadata":{
      
     },
     "output_type":"display_data"
    }
   ],
   "metadata":{
    "datalore":{
     "type":"CODE",
     "hide_input_from_viewers":false,
     "hide_output_from_viewers":false
    }
   }
  },
  {
   "cell_type":"code",
   "source":[
    "plt.plot( 'weekdays', 'mean', data=statsfr2, marker='s', color='black', markersize=4,     linewidth=1, linestyle='--')\n",
    "plt.plot( 'weekdays', 'mean', data=statsfr2, marker='o', color='black',  markersize=4, linewidth=1,linestyle='-')\n",
    "plt.xlabel(\"Weekdays\")\n",
    "plt.ylabel(\"Average Daily COVID DEATH CASES\")\n",
    "plt.show()"
   ],
   "execution_count":142,
   "outputs":[
    {
     "data":{
      "image\/png":"[encoded data removed]"
     },
     "metadata":{
      "image\/png":{
       
      }
     },
     "output_type":"display_data"
    }
   ],
   "metadata":{
    "datalore":{
     "type":"CODE",
     "hide_input_from_viewers":false,
     "hide_output_from_viewers":false
    }
   }
  },
  {
   "cell_type":"markdown",
   "source":[
    "The above line graph of the daily COVID death shows that the numbers are fluctuating between all days. There are some days with very low death cases such as Sunday and Saturday, then there are days with very high death cases such as Tuesday and Friday. The other days have nearly the same amount of death cases. "
   ],
   "attachments":{
    
   },
   "metadata":{
    "datalore":{
     "type":"MD",
     "hide_input_from_viewers":false,
     "hide_output_from_viewers":false
    }
   }
  },
  {
   "cell_type":"markdown",
   "source":[
    " **Now comparing between 2020 and 2021 in terms of cases and death cases in France**"
   ],
   "attachments":{
    
   },
   "metadata":{
    "datalore":{
     "type":"MD",
     "hide_input_from_viewers":false,
     "hide_output_from_viewers":false
    }
   }
  },
  {
   "cell_type":"markdown",
   "source":[
    "**1. In terms of cases**"
   ],
   "attachments":{
    
   },
   "metadata":{
    "datalore":{
     "type":"MD",
     "hide_input_from_viewers":false,
     "hide_output_from_viewers":false
    }
   }
  },
  {
   "cell_type":"code",
   "source":[
    "df['date'][0]"
   ],
   "execution_count":40,
   "outputs":[
    {
     "data":{
      "text\/plain":[
       "'2020-02-24'"
      ]
     },
     "metadata":{
      
     },
     "output_type":"display_data"
    }
   ],
   "metadata":{
    "datalore":{
     "type":"CODE",
     "hide_input_from_viewers":false,
     "hide_output_from_viewers":false
    }
   }
  },
  {
   "cell_type":"code",
   "source":[
    "df['date'] = pd.to_datetime(df['date'],format='%Y-%m-%d')\n",
    "df['date'][0]"
   ],
   "execution_count":41,
   "outputs":[
    {
     "data":{
      "text\/plain":[
       "Timestamp('2020-02-24 00:00:00')"
      ]
     },
     "metadata":{
      
     },
     "output_type":"display_data"
    }
   ],
   "metadata":{
    "datalore":{
     "type":"CODE",
     "hide_input_from_viewers":false,
     "hide_output_from_viewers":false
    }
   }
  },
  {
   "cell_type":"code",
   "source":[
    "df['year'] = pd. DatetimeIndex(df['date']). year"
   ],
   "execution_count":42,
   "outputs":[
    
   ],
   "metadata":{
    "datalore":{
     "type":"CODE",
     "hide_input_from_viewers":false,
     "hide_output_from_viewers":false
    }
   }
  },
  {
   "cell_type":"code",
   "source":[
    "df['year'][0]"
   ],
   "execution_count":43,
   "outputs":[
    {
     "data":{
      "text\/plain":[
       "2020"
      ]
     },
     "metadata":{
      
     },
     "output_type":"display_data"
    }
   ],
   "metadata":{
    "datalore":{
     "type":"CODE",
     "hide_input_from_viewers":false,
     "hide_output_from_viewers":false
    }
   }
  },
  {
   "cell_type":"code",
   "source":[
    "def ci_lb2(x, alpha=0.05):\n",
    "    sample_s=np.std(x)\n",
    "    sample_mean=np.mean(x)\n",
    "    sample_size=len(x)\n",
    "    margin_of_error = t.ppf(1 - alpha\/2,sample_size-1)*sample_s\/np.sqrt(sample_size-1)\n",
    "    return sample_mean - margin_of_error"
   ],
   "execution_count":182,
   "outputs":[
    
   ],
   "metadata":{
    "datalore":{
     "type":"CODE",
     "hide_input_from_viewers":false,
     "hide_output_from_viewers":false
    }
   }
  },
  {
   "cell_type":"code",
   "source":[
    "x=df['dcases']"
   ],
   "execution_count":183,
   "outputs":[
    
   ],
   "metadata":{
    "datalore":{
     "type":"CODE",
     "hide_input_from_viewers":false,
     "hide_output_from_viewers":false
    }
   }
  },
  {
   "cell_type":"code",
   "source":[
    "ci_lb2(x)"
   ],
   "execution_count":185,
   "outputs":[
    {
     "data":{
      "text\/plain":[
       "2285.1835480837276"
      ]
     },
     "metadata":{
      
     },
     "output_type":"display_data"
    }
   ],
   "metadata":{
    "datalore":{
     "type":"CODE",
     "hide_input_from_viewers":false,
     "hide_output_from_viewers":false
    }
   }
  },
  {
   "cell_type":"code",
   "source":[
    "def ci_ub2(x, alpha=0.05):\n",
    "    sample_s=np.std(x)\n",
    "    sample_mean=np.mean(x)\n",
    "    sample_size=len(x)\n",
    "    margin_of_error = t.ppf(1 - alpha\/2,sample_size-1)*sample_s\/np.sqrt(sample_size-1)\n",
    "    return sample_mean + margin_of_error"
   ],
   "execution_count":186,
   "outputs":[
    
   ],
   "metadata":{
    "datalore":{
     "type":"CODE",
     "hide_input_from_viewers":false,
     "hide_output_from_viewers":false
    }
   }
  },
  {
   "cell_type":"code",
   "source":[
    "ci_ub2(x)"
   ],
   "execution_count":187,
   "outputs":[
    {
     "data":{
      "text\/plain":[
       "2422.2624439548904"
      ]
     },
     "metadata":{
      
     },
     "output_type":"display_data"
    }
   ],
   "metadata":{
    "datalore":{
     "type":"CODE",
     "hide_input_from_viewers":false,
     "hide_output_from_viewers":false
    }
   }
  },
  {
   "cell_type":"code",
   "source":[
    "statsdcases=df.groupby(['country','year','month']).agg({\"dcases\": [np.mean, np.std, np.size,ci_ub2,ci_lb2]})"
   ],
   "execution_count":191,
   "outputs":[
    
   ],
   "metadata":{
    "datalore":{
     "type":"CODE",
     "hide_input_from_viewers":false,
     "hide_output_from_viewers":false
    }
   }
  },
  {
   "cell_type":"code",
   "source":[
    "statsdcases"
   ],
   "execution_count":192,
   "outputs":[
    {
     "data":{
      "text\/html":[
       "<div>\n",
       "<style scoped>\n",
       "    .dataframe tbody tr th:only-of-type {\n",
       "        vertical-align: middle;\n",
       "    }\n",
       "\n",
       "    .dataframe tbody tr th {\n",
       "        vertical-align: top;\n",
       "    }\n",
       "\n",
       "    .dataframe thead tr th {\n",
       "        text-align: left;\n",
       "    }\n",
       "\n",
       "    .dataframe thead tr:last-of-type th {\n",
       "        text-align: right;\n",
       "    }\n",
       "<\/style>\n",
       "<table border=\"1\" class=\"dataframe\">\n",
       "  <thead>\n",
       "    <tr>\n",
       "      <th><\/th>\n",
       "      <th><\/th>\n",
       "      <th><\/th>\n",
       "      <th colspan=\"5\" halign=\"left\">dcases<\/th>\n",
       "    <\/tr>\n",
       "    <tr>\n",
       "      <th><\/th>\n",
       "      <th><\/th>\n",
       "      <th><\/th>\n",
       "      <th>mean<\/th>\n",
       "      <th>std<\/th>\n",
       "      <th>size<\/th>\n",
       "      <th>ci_ub2<\/th>\n",
       "      <th>ci_lb2<\/th>\n",
       "    <\/tr>\n",
       "    <tr>\n",
       "      <th>country<\/th>\n",
       "      <th>year<\/th>\n",
       "      <th>month<\/th>\n",
       "      <th><\/th>\n",
       "      <th><\/th>\n",
       "      <th><\/th>\n",
       "      <th><\/th>\n",
       "      <th><\/th>\n",
       "    <\/tr>\n",
       "  <\/thead>\n",
       "  <tbody>\n",
       "    <tr>\n",
       "      <th rowspan=\"5\" valign=\"top\">Afghanistan<\/th>\n",
       "      <th rowspan=\"5\" valign=\"top\">2020<\/th>\n",
       "      <th>Jan<\/th>\n",
       "      <td>NaN<\/td>\n",
       "      <td>NaN<\/td>\n",
       "      <td>NaN<\/td>\n",
       "      <td>NaN<\/td>\n",
       "      <td>NaN<\/td>\n",
       "    <\/tr>\n",
       "    <tr>\n",
       "      <th>Feb<\/th>\n",
       "      <td>0.833333<\/td>\n",
       "      <td>2.041241<\/td>\n",
       "      <td>6.0<\/td>\n",
       "      <td>2.975485<\/td>\n",
       "      <td>-1.308818<\/td>\n",
       "    <\/tr>\n",
       "    <tr>\n",
       "      <th>Mar<\/th>\n",
       "      <td>5.258065<\/td>\n",
       "      <td>10.871883<\/td>\n",
       "      <td>31.0<\/td>\n",
       "      <td>9.245904<\/td>\n",
       "      <td>1.270225<\/td>\n",
       "    <\/tr>\n",
       "    <tr>\n",
       "      <th>Apr<\/th>\n",
       "      <td>55.366667<\/td>\n",
       "      <td>40.385627<\/td>\n",
       "      <td>30.0<\/td>\n",
       "      <td>70.446908<\/td>\n",
       "      <td>40.286426<\/td>\n",
       "    <\/tr>\n",
       "    <tr>\n",
       "      <th>May<\/th>\n",
       "      <td>430.741935<\/td>\n",
       "      <td>266.692078<\/td>\n",
       "      <td>31.0<\/td>\n",
       "      <td>528.565379<\/td>\n",
       "      <td>332.918491<\/td>\n",
       "    <\/tr>\n",
       "    <tr>\n",
       "      <th>...<\/th>\n",
       "      <th>...<\/th>\n",
       "      <th>...<\/th>\n",
       "      <td>...<\/td>\n",
       "      <td>...<\/td>\n",
       "      <td>...<\/td>\n",
       "      <td>...<\/td>\n",
       "      <td>...<\/td>\n",
       "    <\/tr>\n",
       "    <tr>\n",
       "      <th rowspan=\"5\" valign=\"top\">Zimbabwe<\/th>\n",
       "      <th rowspan=\"5\" valign=\"top\">2021<\/th>\n",
       "      <th>Aug<\/th>\n",
       "      <td>513.322581<\/td>\n",
       "      <td>386.841948<\/td>\n",
       "      <td>31.0<\/td>\n",
       "      <td>655.217353<\/td>\n",
       "      <td>371.427809<\/td>\n",
       "    <\/tr>\n",
       "    <tr>\n",
       "      <th>Sep<\/th>\n",
       "      <td>201.566667<\/td>\n",
       "      <td>135.119789<\/td>\n",
       "      <td>30.0<\/td>\n",
       "      <td>252.021225<\/td>\n",
       "      <td>151.112108<\/td>\n",
       "    <\/tr>\n",
       "    <tr>\n",
       "      <th>Oct<\/th>\n",
       "      <td>69.580645<\/td>\n",
       "      <td>58.035492<\/td>\n",
       "      <td>31.0<\/td>\n",
       "      <td>90.868235<\/td>\n",
       "      <td>48.293055<\/td>\n",
       "    <\/tr>\n",
       "    <tr>\n",
       "      <th>Nov<\/th>\n",
       "      <td>54.933333<\/td>\n",
       "      <td>82.622087<\/td>\n",
       "      <td>30.0<\/td>\n",
       "      <td>85.784928<\/td>\n",
       "      <td>24.081739<\/td>\n",
       "    <\/tr>\n",
       "    <tr>\n",
       "      <th>Dec<\/th>\n",
       "      <td>2536.548387<\/td>\n",
       "      <td>2572.199964<\/td>\n",
       "      <td>31.0<\/td>\n",
       "      <td>3480.038951<\/td>\n",
       "      <td>1593.057823<\/td>\n",
       "    <\/tr>\n",
       "  <\/tbody>\n",
       "<\/table>\n",
       "<p>4488 rows × 5 columns<\/p>\n",
       "<\/div>"
      ]
     },
     "metadata":{
      
     },
     "output_type":"display_data"
    }
   ],
   "metadata":{
    "datalore":{
     "type":"CODE",
     "hide_input_from_viewers":false,
     "hide_output_from_viewers":false
    }
   }
  },
  {
   "cell_type":"code",
   "source":[
    "statsdcases=statsdcases.reset_index()"
   ],
   "execution_count":195,
   "outputs":[
    
   ],
   "metadata":{
    "datalore":{
     "type":"CODE",
     "hide_input_from_viewers":false,
     "hide_output_from_viewers":false
    }
   }
  },
  {
   "cell_type":"code",
   "source":[
    "statsdcases"
   ],
   "execution_count":196,
   "outputs":[
    {
     "data":{
      "text\/html":[
       "<div>\n",
       "<style scoped>\n",
       "    .dataframe tbody tr th:only-of-type {\n",
       "        vertical-align: middle;\n",
       "    }\n",
       "\n",
       "    .dataframe tbody tr th {\n",
       "        vertical-align: top;\n",
       "    }\n",
       "\n",
       "    .dataframe thead tr th {\n",
       "        text-align: left;\n",
       "    }\n",
       "<\/style>\n",
       "<table border=\"1\" class=\"dataframe\">\n",
       "  <thead>\n",
       "    <tr>\n",
       "      <th><\/th>\n",
       "      <th>index<\/th>\n",
       "      <th>country<\/th>\n",
       "      <th>year<\/th>\n",
       "      <th>month<\/th>\n",
       "      <th colspan=\"5\" halign=\"left\">dcases<\/th>\n",
       "    <\/tr>\n",
       "    <tr>\n",
       "      <th><\/th>\n",
       "      <th><\/th>\n",
       "      <th><\/th>\n",
       "      <th><\/th>\n",
       "      <th><\/th>\n",
       "      <th>mean<\/th>\n",
       "      <th>std<\/th>\n",
       "      <th>size<\/th>\n",
       "      <th>ci_ub2<\/th>\n",
       "      <th>ci_lb2<\/th>\n",
       "    <\/tr>\n",
       "  <\/thead>\n",
       "  <tbody>\n",
       "    <tr>\n",
       "      <th>0<\/th>\n",
       "      <td>0<\/td>\n",
       "      <td>Afghanistan<\/td>\n",
       "      <td>2020<\/td>\n",
       "      <td>Jan<\/td>\n",
       "      <td>NaN<\/td>\n",
       "      <td>NaN<\/td>\n",
       "      <td>NaN<\/td>\n",
       "      <td>NaN<\/td>\n",
       "      <td>NaN<\/td>\n",
       "    <\/tr>\n",
       "    <tr>\n",
       "      <th>1<\/th>\n",
       "      <td>1<\/td>\n",
       "      <td>Afghanistan<\/td>\n",
       "      <td>2020<\/td>\n",
       "      <td>Feb<\/td>\n",
       "      <td>0.833333<\/td>\n",
       "      <td>2.041241<\/td>\n",
       "      <td>6.0<\/td>\n",
       "      <td>2.975485<\/td>\n",
       "      <td>-1.308818<\/td>\n",
       "    <\/tr>\n",
       "    <tr>\n",
       "      <th>2<\/th>\n",
       "      <td>2<\/td>\n",
       "      <td>Afghanistan<\/td>\n",
       "      <td>2020<\/td>\n",
       "      <td>Mar<\/td>\n",
       "      <td>5.258065<\/td>\n",
       "      <td>10.871883<\/td>\n",
       "      <td>31.0<\/td>\n",
       "      <td>9.245904<\/td>\n",
       "      <td>1.270225<\/td>\n",
       "    <\/tr>\n",
       "    <tr>\n",
       "      <th>3<\/th>\n",
       "      <td>3<\/td>\n",
       "      <td>Afghanistan<\/td>\n",
       "      <td>2020<\/td>\n",
       "      <td>Apr<\/td>\n",
       "      <td>55.366667<\/td>\n",
       "      <td>40.385627<\/td>\n",
       "      <td>30.0<\/td>\n",
       "      <td>70.446908<\/td>\n",
       "      <td>40.286426<\/td>\n",
       "    <\/tr>\n",
       "    <tr>\n",
       "      <th>4<\/th>\n",
       "      <td>4<\/td>\n",
       "      <td>Afghanistan<\/td>\n",
       "      <td>2020<\/td>\n",
       "      <td>May<\/td>\n",
       "      <td>430.741935<\/td>\n",
       "      <td>266.692078<\/td>\n",
       "      <td>31.0<\/td>\n",
       "      <td>528.565379<\/td>\n",
       "      <td>332.918491<\/td>\n",
       "    <\/tr>\n",
       "    <tr>\n",
       "      <th>...<\/th>\n",
       "      <td>...<\/td>\n",
       "      <td>...<\/td>\n",
       "      <td>...<\/td>\n",
       "      <td>...<\/td>\n",
       "      <td>...<\/td>\n",
       "      <td>...<\/td>\n",
       "      <td>...<\/td>\n",
       "      <td>...<\/td>\n",
       "      <td>...<\/td>\n",
       "    <\/tr>\n",
       "    <tr>\n",
       "      <th>4483<\/th>\n",
       "      <td>4483<\/td>\n",
       "      <td>Zimbabwe<\/td>\n",
       "      <td>2021<\/td>\n",
       "      <td>Aug<\/td>\n",
       "      <td>513.322581<\/td>\n",
       "      <td>386.841948<\/td>\n",
       "      <td>31.0<\/td>\n",
       "      <td>655.217353<\/td>\n",
       "      <td>371.427809<\/td>\n",
       "    <\/tr>\n",
       "    <tr>\n",
       "      <th>4484<\/th>\n",
       "      <td>4484<\/td>\n",
       "      <td>Zimbabwe<\/td>\n",
       "      <td>2021<\/td>\n",
       "      <td>Sep<\/td>\n",
       "      <td>201.566667<\/td>\n",
       "      <td>135.119789<\/td>\n",
       "      <td>30.0<\/td>\n",
       "      <td>252.021225<\/td>\n",
       "      <td>151.112108<\/td>\n",
       "    <\/tr>\n",
       "    <tr>\n",
       "      <th>4485<\/th>\n",
       "      <td>4485<\/td>\n",
       "      <td>Zimbabwe<\/td>\n",
       "      <td>2021<\/td>\n",
       "      <td>Oct<\/td>\n",
       "      <td>69.580645<\/td>\n",
       "      <td>58.035492<\/td>\n",
       "      <td>31.0<\/td>\n",
       "      <td>90.868235<\/td>\n",
       "      <td>48.293055<\/td>\n",
       "    <\/tr>\n",
       "    <tr>\n",
       "      <th>4486<\/th>\n",
       "      <td>4486<\/td>\n",
       "      <td>Zimbabwe<\/td>\n",
       "      <td>2021<\/td>\n",
       "      <td>Nov<\/td>\n",
       "      <td>54.933333<\/td>\n",
       "      <td>82.622087<\/td>\n",
       "      <td>30.0<\/td>\n",
       "      <td>85.784928<\/td>\n",
       "      <td>24.081739<\/td>\n",
       "    <\/tr>\n",
       "    <tr>\n",
       "      <th>4487<\/th>\n",
       "      <td>4487<\/td>\n",
       "      <td>Zimbabwe<\/td>\n",
       "      <td>2021<\/td>\n",
       "      <td>Dec<\/td>\n",
       "      <td>2536.548387<\/td>\n",
       "      <td>2572.199964<\/td>\n",
       "      <td>31.0<\/td>\n",
       "      <td>3480.038951<\/td>\n",
       "      <td>1593.057823<\/td>\n",
       "    <\/tr>\n",
       "  <\/tbody>\n",
       "<\/table>\n",
       "<p>4488 rows × 9 columns<\/p>\n",
       "<\/div>"
      ]
     },
     "metadata":{
      
     },
     "output_type":"display_data"
    }
   ],
   "metadata":{
    "datalore":{
     "type":"CODE",
     "hide_input_from_viewers":false,
     "hide_output_from_viewers":false
    }
   }
  },
  {
   "cell_type":"code",
   "source":[
    "statsFR=statsdcases[(statsdcases['country']=='France') & (statsdcases['year']==2021)]"
   ],
   "execution_count":197,
   "outputs":[
    
   ],
   "metadata":{
    "datalore":{
     "type":"CODE",
     "hide_input_from_viewers":false,
     "hide_output_from_viewers":false
    }
   }
  },
  {
   "cell_type":"code",
   "source":[
    "statsFR"
   ],
   "execution_count":198,
   "outputs":[
    {
     "data":{
      "text\/html":[
       "<div>\n",
       "<style scoped>\n",
       "    .dataframe tbody tr th:only-of-type {\n",
       "        vertical-align: middle;\n",
       "    }\n",
       "\n",
       "    .dataframe tbody tr th {\n",
       "        vertical-align: top;\n",
       "    }\n",
       "\n",
       "    .dataframe thead tr th {\n",
       "        text-align: left;\n",
       "    }\n",
       "<\/style>\n",
       "<table border=\"1\" class=\"dataframe\">\n",
       "  <thead>\n",
       "    <tr>\n",
       "      <th><\/th>\n",
       "      <th>index<\/th>\n",
       "      <th>country<\/th>\n",
       "      <th>year<\/th>\n",
       "      <th>month<\/th>\n",
       "      <th colspan=\"5\" halign=\"left\">dcases<\/th>\n",
       "    <\/tr>\n",
       "    <tr>\n",
       "      <th><\/th>\n",
       "      <th><\/th>\n",
       "      <th><\/th>\n",
       "      <th><\/th>\n",
       "      <th><\/th>\n",
       "      <th>mean<\/th>\n",
       "      <th>std<\/th>\n",
       "      <th>size<\/th>\n",
       "      <th>ci_ub2<\/th>\n",
       "      <th>ci_lb2<\/th>\n",
       "    <\/tr>\n",
       "  <\/thead>\n",
       "  <tbody>\n",
       "    <tr>\n",
       "      <th>1428<\/th>\n",
       "      <td>1428<\/td>\n",
       "      <td>France<\/td>\n",
       "      <td>2021<\/td>\n",
       "      <td>Jan<\/td>\n",
       "      <td>18655.935484<\/td>\n",
       "      <td>7238.793836<\/td>\n",
       "      <td>31.0<\/td>\n",
       "      <td>21311.146499<\/td>\n",
       "      <td>16000.724468<\/td>\n",
       "    <\/tr>\n",
       "    <tr>\n",
       "      <th>1429<\/th>\n",
       "      <td>1429<\/td>\n",
       "      <td>France<\/td>\n",
       "      <td>2021<\/td>\n",
       "      <td>Feb<\/td>\n",
       "      <td>19989.071429<\/td>\n",
       "      <td>9397.752308<\/td>\n",
       "      <td>28.0<\/td>\n",
       "      <td>23633.139352<\/td>\n",
       "      <td>16345.003505<\/td>\n",
       "    <\/tr>\n",
       "    <tr>\n",
       "      <th>1430<\/th>\n",
       "      <td>1430<\/td>\n",
       "      <td>France<\/td>\n",
       "      <td>2021<\/td>\n",
       "      <td>Mar<\/td>\n",
       "      <td>28693.483871<\/td>\n",
       "      <td>13879.207174<\/td>\n",
       "      <td>31.0<\/td>\n",
       "      <td>33784.418164<\/td>\n",
       "      <td>23602.549578<\/td>\n",
       "    <\/tr>\n",
       "    <tr>\n",
       "      <th>1431<\/th>\n",
       "      <td>1431<\/td>\n",
       "      <td>France<\/td>\n",
       "      <td>2021<\/td>\n",
       "      <td>Apr<\/td>\n",
       "      <td>32421.433333<\/td>\n",
       "      <td>27492.203564<\/td>\n",
       "      <td>30.0<\/td>\n",
       "      <td>42687.190857<\/td>\n",
       "      <td>22155.675810<\/td>\n",
       "    <\/tr>\n",
       "    <tr>\n",
       "      <th>1432<\/th>\n",
       "      <td>1432<\/td>\n",
       "      <td>France<\/td>\n",
       "      <td>2021<\/td>\n",
       "      <td>May<\/td>\n",
       "      <td>12900.645161<\/td>\n",
       "      <td>7670.719026<\/td>\n",
       "      <td>31.0<\/td>\n",
       "      <td>15714.287615<\/td>\n",
       "      <td>10087.002707<\/td>\n",
       "    <\/tr>\n",
       "    <tr>\n",
       "      <th>1433<\/th>\n",
       "      <td>1433<\/td>\n",
       "      <td>France<\/td>\n",
       "      <td>2021<\/td>\n",
       "      <td>Jun<\/td>\n",
       "      <td>3616.466667<\/td>\n",
       "      <td>3114.443823<\/td>\n",
       "      <td>30.0<\/td>\n",
       "      <td>4779.419103<\/td>\n",
       "      <td>2453.514231<\/td>\n",
       "    <\/tr>\n",
       "    <tr>\n",
       "      <th>1434<\/th>\n",
       "      <td>1434<\/td>\n",
       "      <td>France<\/td>\n",
       "      <td>2021<\/td>\n",
       "      <td>Jul<\/td>\n",
       "      <td>11394.129032<\/td>\n",
       "      <td>9338.220451<\/td>\n",
       "      <td>31.0<\/td>\n",
       "      <td>14819.415947<\/td>\n",
       "      <td>7968.842117<\/td>\n",
       "    <\/tr>\n",
       "    <tr>\n",
       "      <th>1435<\/th>\n",
       "      <td>1435<\/td>\n",
       "      <td>France<\/td>\n",
       "      <td>2021<\/td>\n",
       "      <td>Aug<\/td>\n",
       "      <td>20787.129032<\/td>\n",
       "      <td>9213.403131<\/td>\n",
       "      <td>31.0<\/td>\n",
       "      <td>24166.632585<\/td>\n",
       "      <td>17407.625480<\/td>\n",
       "    <\/tr>\n",
       "    <tr>\n",
       "      <th>1436<\/th>\n",
       "      <td>1436<\/td>\n",
       "      <td>France<\/td>\n",
       "      <td>2021<\/td>\n",
       "      <td>Sep<\/td>\n",
       "      <td>9033.533333<\/td>\n",
       "      <td>6421.571141<\/td>\n",
       "      <td>30.0<\/td>\n",
       "      <td>11431.387405<\/td>\n",
       "      <td>6635.679262<\/td>\n",
       "    <\/tr>\n",
       "    <tr>\n",
       "      <th>1437<\/th>\n",
       "      <td>1437<\/td>\n",
       "      <td>France<\/td>\n",
       "      <td>2021<\/td>\n",
       "      <td>Oct<\/td>\n",
       "      <td>5241.903226<\/td>\n",
       "      <td>2192.836996<\/td>\n",
       "      <td>31.0<\/td>\n",
       "      <td>6046.242330<\/td>\n",
       "      <td>4437.564122<\/td>\n",
       "    <\/tr>\n",
       "    <tr>\n",
       "      <th>1438<\/th>\n",
       "      <td>1438<\/td>\n",
       "      <td>France<\/td>\n",
       "      <td>2021<\/td>\n",
       "      <td>Nov<\/td>\n",
       "      <td>17001.600000<\/td>\n",
       "      <td>12090.447958<\/td>\n",
       "      <td>30.0<\/td>\n",
       "      <td>21516.247464<\/td>\n",
       "      <td>12486.952536<\/td>\n",
       "    <\/tr>\n",
       "    <tr>\n",
       "      <th>1439<\/th>\n",
       "      <td>1439<\/td>\n",
       "      <td>France<\/td>\n",
       "      <td>2021<\/td>\n",
       "      <td>Dec<\/td>\n",
       "      <td>74168.000000<\/td>\n",
       "      <td>56549.481173<\/td>\n",
       "      <td>31.0<\/td>\n",
       "      <td>94910.517156<\/td>\n",
       "      <td>53425.482844<\/td>\n",
       "    <\/tr>\n",
       "  <\/tbody>\n",
       "<\/table>\n",
       "<\/div>"
      ]
     },
     "metadata":{
      
     },
     "output_type":"display_data"
    }
   ],
   "metadata":{
    "datalore":{
     "type":"CODE",
     "hide_input_from_viewers":false,
     "hide_output_from_viewers":false
    }
   }
  },
  {
   "cell_type":"code",
   "source":[
    "statsFR.columns"
   ],
   "execution_count":199,
   "outputs":[
    {
     "data":{
      "text\/plain":[
       "MultiIndex([(  'index',       ''),\n",
       "            ('country',       ''),\n",
       "            (   'year',       ''),\n",
       "            (  'month',       ''),\n",
       "            ( 'dcases',   'mean'),\n",
       "            ( 'dcases',    'std'),\n",
       "            ( 'dcases',   'size'),\n",
       "            ( 'dcases', 'ci_ub2'),\n",
       "            ( 'dcases', 'ci_lb2')],\n",
       "           )"
      ]
     },
     "metadata":{
      
     },
     "output_type":"display_data"
    }
   ],
   "metadata":{
    "datalore":{
     "type":"CODE",
     "hide_input_from_viewers":false,
     "hide_output_from_viewers":false
    }
   }
  },
  {
   "cell_type":"code",
   "source":[
    "statsFR21=statsdcases[(statsdcases['country']=='France')\n",
    "  & (statsdcases['year']==2021)]\n",
    "statsFR21"
   ],
   "execution_count":201,
   "outputs":[
    {
     "data":{
      "text\/html":[
       "<div>\n",
       "<style scoped>\n",
       "    .dataframe tbody tr th:only-of-type {\n",
       "        vertical-align: middle;\n",
       "    }\n",
       "\n",
       "    .dataframe tbody tr th {\n",
       "        vertical-align: top;\n",
       "    }\n",
       "\n",
       "    .dataframe thead tr th {\n",
       "        text-align: left;\n",
       "    }\n",
       "<\/style>\n",
       "<table border=\"1\" class=\"dataframe\">\n",
       "  <thead>\n",
       "    <tr>\n",
       "      <th><\/th>\n",
       "      <th>index<\/th>\n",
       "      <th>country<\/th>\n",
       "      <th>year<\/th>\n",
       "      <th>month<\/th>\n",
       "      <th colspan=\"5\" halign=\"left\">dcases<\/th>\n",
       "    <\/tr>\n",
       "    <tr>\n",
       "      <th><\/th>\n",
       "      <th><\/th>\n",
       "      <th><\/th>\n",
       "      <th><\/th>\n",
       "      <th><\/th>\n",
       "      <th>mean<\/th>\n",
       "      <th>std<\/th>\n",
       "      <th>size<\/th>\n",
       "      <th>ci_ub2<\/th>\n",
       "      <th>ci_lb2<\/th>\n",
       "    <\/tr>\n",
       "  <\/thead>\n",
       "  <tbody>\n",
       "    <tr>\n",
       "      <th>1428<\/th>\n",
       "      <td>1428<\/td>\n",
       "      <td>France<\/td>\n",
       "      <td>2021<\/td>\n",
       "      <td>Jan<\/td>\n",
       "      <td>18655.935484<\/td>\n",
       "      <td>7238.793836<\/td>\n",
       "      <td>31.0<\/td>\n",
       "      <td>21311.146499<\/td>\n",
       "      <td>16000.724468<\/td>\n",
       "    <\/tr>\n",
       "    <tr>\n",
       "      <th>1429<\/th>\n",
       "      <td>1429<\/td>\n",
       "      <td>France<\/td>\n",
       "      <td>2021<\/td>\n",
       "      <td>Feb<\/td>\n",
       "      <td>19989.071429<\/td>\n",
       "      <td>9397.752308<\/td>\n",
       "      <td>28.0<\/td>\n",
       "      <td>23633.139352<\/td>\n",
       "      <td>16345.003505<\/td>\n",
       "    <\/tr>\n",
       "    <tr>\n",
       "      <th>1430<\/th>\n",
       "      <td>1430<\/td>\n",
       "      <td>France<\/td>\n",
       "      <td>2021<\/td>\n",
       "      <td>Mar<\/td>\n",
       "      <td>28693.483871<\/td>\n",
       "      <td>13879.207174<\/td>\n",
       "      <td>31.0<\/td>\n",
       "      <td>33784.418164<\/td>\n",
       "      <td>23602.549578<\/td>\n",
       "    <\/tr>\n",
       "    <tr>\n",
       "      <th>1431<\/th>\n",
       "      <td>1431<\/td>\n",
       "      <td>France<\/td>\n",
       "      <td>2021<\/td>\n",
       "      <td>Apr<\/td>\n",
       "      <td>32421.433333<\/td>\n",
       "      <td>27492.203564<\/td>\n",
       "      <td>30.0<\/td>\n",
       "      <td>42687.190857<\/td>\n",
       "      <td>22155.675810<\/td>\n",
       "    <\/tr>\n",
       "    <tr>\n",
       "      <th>1432<\/th>\n",
       "      <td>1432<\/td>\n",
       "      <td>France<\/td>\n",
       "      <td>2021<\/td>\n",
       "      <td>May<\/td>\n",
       "      <td>12900.645161<\/td>\n",
       "      <td>7670.719026<\/td>\n",
       "      <td>31.0<\/td>\n",
       "      <td>15714.287615<\/td>\n",
       "      <td>10087.002707<\/td>\n",
       "    <\/tr>\n",
       "    <tr>\n",
       "      <th>1433<\/th>\n",
       "      <td>1433<\/td>\n",
       "      <td>France<\/td>\n",
       "      <td>2021<\/td>\n",
       "      <td>Jun<\/td>\n",
       "      <td>3616.466667<\/td>\n",
       "      <td>3114.443823<\/td>\n",
       "      <td>30.0<\/td>\n",
       "      <td>4779.419103<\/td>\n",
       "      <td>2453.514231<\/td>\n",
       "    <\/tr>\n",
       "    <tr>\n",
       "      <th>1434<\/th>\n",
       "      <td>1434<\/td>\n",
       "      <td>France<\/td>\n",
       "      <td>2021<\/td>\n",
       "      <td>Jul<\/td>\n",
       "      <td>11394.129032<\/td>\n",
       "      <td>9338.220451<\/td>\n",
       "      <td>31.0<\/td>\n",
       "      <td>14819.415947<\/td>\n",
       "      <td>7968.842117<\/td>\n",
       "    <\/tr>\n",
       "    <tr>\n",
       "      <th>1435<\/th>\n",
       "      <td>1435<\/td>\n",
       "      <td>France<\/td>\n",
       "      <td>2021<\/td>\n",
       "      <td>Aug<\/td>\n",
       "      <td>20787.129032<\/td>\n",
       "      <td>9213.403131<\/td>\n",
       "      <td>31.0<\/td>\n",
       "      <td>24166.632585<\/td>\n",
       "      <td>17407.625480<\/td>\n",
       "    <\/tr>\n",
       "    <tr>\n",
       "      <th>1436<\/th>\n",
       "      <td>1436<\/td>\n",
       "      <td>France<\/td>\n",
       "      <td>2021<\/td>\n",
       "      <td>Sep<\/td>\n",
       "      <td>9033.533333<\/td>\n",
       "      <td>6421.571141<\/td>\n",
       "      <td>30.0<\/td>\n",
       "      <td>11431.387405<\/td>\n",
       "      <td>6635.679262<\/td>\n",
       "    <\/tr>\n",
       "    <tr>\n",
       "      <th>1437<\/th>\n",
       "      <td>1437<\/td>\n",
       "      <td>France<\/td>\n",
       "      <td>2021<\/td>\n",
       "      <td>Oct<\/td>\n",
       "      <td>5241.903226<\/td>\n",
       "      <td>2192.836996<\/td>\n",
       "      <td>31.0<\/td>\n",
       "      <td>6046.242330<\/td>\n",
       "      <td>4437.564122<\/td>\n",
       "    <\/tr>\n",
       "    <tr>\n",
       "      <th>1438<\/th>\n",
       "      <td>1438<\/td>\n",
       "      <td>France<\/td>\n",
       "      <td>2021<\/td>\n",
       "      <td>Nov<\/td>\n",
       "      <td>17001.600000<\/td>\n",
       "      <td>12090.447958<\/td>\n",
       "      <td>30.0<\/td>\n",
       "      <td>21516.247464<\/td>\n",
       "      <td>12486.952536<\/td>\n",
       "    <\/tr>\n",
       "    <tr>\n",
       "      <th>1439<\/th>\n",
       "      <td>1439<\/td>\n",
       "      <td>France<\/td>\n",
       "      <td>2021<\/td>\n",
       "      <td>Dec<\/td>\n",
       "      <td>74168.000000<\/td>\n",
       "      <td>56549.481173<\/td>\n",
       "      <td>31.0<\/td>\n",
       "      <td>94910.517156<\/td>\n",
       "      <td>53425.482844<\/td>\n",
       "    <\/tr>\n",
       "  <\/tbody>\n",
       "<\/table>\n",
       "<\/div>"
      ]
     },
     "metadata":{
      
     },
     "output_type":"display_data"
    }
   ],
   "metadata":{
    "datalore":{
     "type":"CODE",
     "hide_input_from_viewers":false,
     "hide_output_from_viewers":false
    }
   }
  },
  {
   "cell_type":"code",
   "source":[
    "statsFR20=statsdcases[(statsdcases['country']=='France')\n",
    "  & (statsdcases['year']==2020)]\n",
    "statsFR20"
   ],
   "execution_count":202,
   "outputs":[
    {
     "data":{
      "text\/html":[
       "<div>\n",
       "<style scoped>\n",
       "    .dataframe tbody tr th:only-of-type {\n",
       "        vertical-align: middle;\n",
       "    }\n",
       "\n",
       "    .dataframe tbody tr th {\n",
       "        vertical-align: top;\n",
       "    }\n",
       "\n",
       "    .dataframe thead tr th {\n",
       "        text-align: left;\n",
       "    }\n",
       "<\/style>\n",
       "<table border=\"1\" class=\"dataframe\">\n",
       "  <thead>\n",
       "    <tr>\n",
       "      <th><\/th>\n",
       "      <th>index<\/th>\n",
       "      <th>country<\/th>\n",
       "      <th>year<\/th>\n",
       "      <th>month<\/th>\n",
       "      <th colspan=\"5\" halign=\"left\">dcases<\/th>\n",
       "    <\/tr>\n",
       "    <tr>\n",
       "      <th><\/th>\n",
       "      <th><\/th>\n",
       "      <th><\/th>\n",
       "      <th><\/th>\n",
       "      <th><\/th>\n",
       "      <th>mean<\/th>\n",
       "      <th>std<\/th>\n",
       "      <th>size<\/th>\n",
       "      <th>ci_ub2<\/th>\n",
       "      <th>ci_lb2<\/th>\n",
       "    <\/tr>\n",
       "  <\/thead>\n",
       "  <tbody>\n",
       "    <tr>\n",
       "      <th>1416<\/th>\n",
       "      <td>1416<\/td>\n",
       "      <td>France<\/td>\n",
       "      <td>2020<\/td>\n",
       "      <td>Jan<\/td>\n",
       "      <td>0.625000<\/td>\n",
       "      <td>0.744024<\/td>\n",
       "      <td>8.0<\/td>\n",
       "      <td>1.247019<\/td>\n",
       "      <td>0.002981<\/td>\n",
       "    <\/tr>\n",
       "    <tr>\n",
       "      <th>1417<\/th>\n",
       "      <td>1417<\/td>\n",
       "      <td>France<\/td>\n",
       "      <td>2020<\/td>\n",
       "      <td>Feb<\/td>\n",
       "      <td>3.275862<\/td>\n",
       "      <td>9.153050<\/td>\n",
       "      <td>29.0<\/td>\n",
       "      <td>6.757496<\/td>\n",
       "      <td>-0.205772<\/td>\n",
       "    <\/tr>\n",
       "    <tr>\n",
       "      <th>1418<\/th>\n",
       "      <td>1418<\/td>\n",
       "      <td>France<\/td>\n",
       "      <td>2020<\/td>\n",
       "      <td>Mar<\/td>\n",
       "      <td>1683.258065<\/td>\n",
       "      <td>1810.969832<\/td>\n",
       "      <td>31.0<\/td>\n",
       "      <td>2347.527162<\/td>\n",
       "      <td>1018.988967<\/td>\n",
       "    <\/tr>\n",
       "    <tr>\n",
       "      <th>1419<\/th>\n",
       "      <td>1419<\/td>\n",
       "      <td>France<\/td>\n",
       "      <td>2020<\/td>\n",
       "      <td>Apr<\/td>\n",
       "      <td>4676.966667<\/td>\n",
       "      <td>9414.028521<\/td>\n",
       "      <td>30.0<\/td>\n",
       "      <td>8192.222688<\/td>\n",
       "      <td>1161.710645<\/td>\n",
       "    <\/tr>\n",
       "    <tr>\n",
       "      <th>1420<\/th>\n",
       "      <td>1420<\/td>\n",
       "      <td>France<\/td>\n",
       "      <td>2020<\/td>\n",
       "      <td>May<\/td>\n",
       "      <td>727.516129<\/td>\n",
       "      <td>873.594905<\/td>\n",
       "      <td>31.0<\/td>\n",
       "      <td>1047.953327<\/td>\n",
       "      <td>407.078931<\/td>\n",
       "    <\/tr>\n",
       "    <tr>\n",
       "      <th>1421<\/th>\n",
       "      <td>1421<\/td>\n",
       "      <td>France<\/td>\n",
       "      <td>2020<\/td>\n",
       "      <td>Jun<\/td>\n",
       "      <td>584.966667<\/td>\n",
       "      <td>762.203045<\/td>\n",
       "      <td>30.0<\/td>\n",
       "      <td>869.577961<\/td>\n",
       "      <td>300.355372<\/td>\n",
       "    <\/tr>\n",
       "    <tr>\n",
       "      <th>1422<\/th>\n",
       "      <td>1422<\/td>\n",
       "      <td>France<\/td>\n",
       "      <td>2020<\/td>\n",
       "      <td>Jul<\/td>\n",
       "      <td>741.774194<\/td>\n",
       "      <td>600.058203<\/td>\n",
       "      <td>31.0<\/td>\n",
       "      <td>961.877319<\/td>\n",
       "      <td>521.671068<\/td>\n",
       "    <\/tr>\n",
       "    <tr>\n",
       "      <th>1423<\/th>\n",
       "      <td>1423<\/td>\n",
       "      <td>France<\/td>\n",
       "      <td>2020<\/td>\n",
       "      <td>Aug<\/td>\n",
       "      <td>3029.709677<\/td>\n",
       "      <td>2423.309434<\/td>\n",
       "      <td>31.0<\/td>\n",
       "      <td>3918.586754<\/td>\n",
       "      <td>2140.832601<\/td>\n",
       "    <\/tr>\n",
       "    <tr>\n",
       "      <th>1424<\/th>\n",
       "      <td>1424<\/td>\n",
       "      <td>France<\/td>\n",
       "      <td>2020<\/td>\n",
       "      <td>Sep<\/td>\n",
       "      <td>9491.100000<\/td>\n",
       "      <td>3343.298189<\/td>\n",
       "      <td>30.0<\/td>\n",
       "      <td>10739.508061<\/td>\n",
       "      <td>8242.691939<\/td>\n",
       "    <\/tr>\n",
       "    <tr>\n",
       "      <th>1425<\/th>\n",
       "      <td>1425<\/td>\n",
       "      <td>France<\/td>\n",
       "      <td>2020<\/td>\n",
       "      <td>Oct<\/td>\n",
       "      <td>26080.741935<\/td>\n",
       "      <td>15176.536825<\/td>\n",
       "      <td>31.0<\/td>\n",
       "      <td>31647.540586<\/td>\n",
       "      <td>20513.943285<\/td>\n",
       "    <\/tr>\n",
       "    <tr>\n",
       "      <th>1426<\/th>\n",
       "      <td>1426<\/td>\n",
       "      <td>France<\/td>\n",
       "      <td>2020<\/td>\n",
       "      <td>Nov<\/td>\n",
       "      <td>30285.166667<\/td>\n",
       "      <td>25170.760112<\/td>\n",
       "      <td>30.0<\/td>\n",
       "      <td>39684.082959<\/td>\n",
       "      <td>20886.250374<\/td>\n",
       "    <\/tr>\n",
       "    <tr>\n",
       "      <th>1427<\/th>\n",
       "      <td>1427<\/td>\n",
       "      <td>France<\/td>\n",
       "      <td>2020<\/td>\n",
       "      <td>Dec<\/td>\n",
       "      <td>12930.000000<\/td>\n",
       "      <td>5586.351206<\/td>\n",
       "      <td>31.0<\/td>\n",
       "      <td>14979.090166<\/td>\n",
       "      <td>10880.909834<\/td>\n",
       "    <\/tr>\n",
       "  <\/tbody>\n",
       "<\/table>\n",
       "<\/div>"
      ]
     },
     "metadata":{
      
     },
     "output_type":"display_data"
    }
   ],
   "metadata":{
    "datalore":{
     "type":"CODE",
     "hide_input_from_viewers":false,
     "hide_output_from_viewers":false
    }
   }
  },
  {
   "cell_type":"code",
   "source":[
    "statsFR20.columns=['index','country','year','month','mean','std','size','ci_lb2','ci_ub2']"
   ],
   "execution_count":211,
   "outputs":[
    
   ],
   "metadata":{
    "datalore":{
     "type":"CODE",
     "hide_input_from_viewers":false,
     "hide_output_from_viewers":false
    }
   }
  },
  {
   "cell_type":"code",
   "source":[
    "statsFR21.columns=['index','country','year','month','mean','std','size','ci_lb2','ci_ub2']"
   ],
   "execution_count":216,
   "outputs":[
    
   ],
   "metadata":{
    "datalore":{
     "type":"CODE",
     "hide_input_from_viewers":false,
     "hide_output_from_viewers":false
    }
   }
  },
  {
   "cell_type":"code",
   "source":[
    "x=statsFR20['month']\n",
    "x"
   ],
   "execution_count":212,
   "outputs":[
    {
     "data":{
      "text\/html":[
       
      ]
     },
     "metadata":{
      
     },
     "output_type":"display_data"
    }
   ],
   "metadata":{
    "datalore":{
     "type":"CODE",
     "hide_input_from_viewers":false,
     "hide_output_from_viewers":false
    }
   }
  },
  {
   "cell_type":"code",
   "source":[
    "y1=statsFR20['mean']\n",
    "y1"
   ],
   "execution_count":213,
   "outputs":[
    {
     "data":{
      "text\/html":[
       
      ]
     },
     "metadata":{
      
     },
     "output_type":"display_data"
    }
   ],
   "metadata":{
    "datalore":{
     "type":"CODE",
     "hide_input_from_viewers":false,
     "hide_output_from_viewers":false
    }
   }
  },
  {
   "cell_type":"code",
   "source":[
    "y2=statsFR21['mean']\n",
    "y2"
   ],
   "execution_count":217,
   "outputs":[
    {
     "data":{
      "text\/html":[
       
      ]
     },
     "metadata":{
      
     },
     "output_type":"display_data"
    }
   ],
   "metadata":{
    "datalore":{
     "type":"CODE",
     "hide_input_from_viewers":false,
     "hide_output_from_viewers":false
    }
   }
  },
  {
   "cell_type":"code",
   "source":[
    "ci_lb_ub20=[statsFR20['ci_lb2'],statsFR20['ci_ub2']]\n",
    "err20 = np.abs(ci_lb_ub20 - statsFR20['mean'].to_numpy())"
   ],
   "execution_count":219,
   "outputs":[
    
   ],
   "metadata":{
    "datalore":{
     "type":"CODE",
     "hide_input_from_viewers":false,
     "hide_output_from_viewers":false
    }
   }
  },
  {
   "cell_type":"code",
   "source":[
    "ci_lb_ub21=[statsFR21['ci_lb2'],statsFR21['ci_ub2']]\n",
    "err21 = np.abs(ci_lb_ub21 - statsFR21['mean'].to_numpy())"
   ],
   "execution_count":220,
   "outputs":[
    
   ],
   "metadata":{
    "datalore":{
     "type":"CODE",
     "hide_input_from_viewers":false,
     "hide_output_from_viewers":false
    }
   }
  },
  {
   "cell_type":"code",
   "source":[
    "from matplotlib.transforms import Affine2D"
   ],
   "execution_count":73,
   "outputs":[
    
   ],
   "metadata":{
    "datalore":{
     "type":"CODE",
     "hide_input_from_viewers":false,
     "hide_output_from_viewers":false
    }
   }
  },
  {
   "cell_type":"code",
   "source":[
    "fig, ax = plt.subplots()\n",
    "\n",
    "trans1 = Affine2D().translate(-0.1, 0.0) + ax.transData\n",
    "trans2 = Affine2D().translate(+0.1, 0.0) + ax.transData\n",
    "plt.errorbar('month', 'mean',  yerr=err20, data=statsFR20,marker='s', capsize=2,\n",
    "             color='blue', markersize=4, linewidth=1, linestyle='--',transform=trans1)\n",
    "plt.errorbar('month', 'mean',  yerr=err21, data=statsFR21,marker='s', capsize=2,\n",
    "             color='red', markersize=4, linewidth=1, linestyle='--',transform=trans2)\n",
    "plt.legend(['2020','2021'])\n",
    "plt.xlabel(\"Month\")\n",
    "plt.ylabel(\"Average Daily COVID CASES\")\n",
    "plt.title(\"France\")\n",
    "plt.show()"
   ],
   "execution_count":222,
   "outputs":[
    {
     "data":{
      "image\/png":"[encoded data removed]"
     },
     "metadata":{
      "image\/png":{
       
      }
     },
     "output_type":"display_data"
    }
   ],
   "metadata":{
    "datalore":{
     "type":"CODE",
     "hide_input_from_viewers":false,
     "hide_output_from_viewers":false
    }
   }
  },
  {
   "cell_type":"markdown",
   "source":[
    "The line graph above is the average daily covid cases between 2020 and 2021 with error bars. The graph shows that France did not suffer from any covid cases until September 2020 and then it increased and then decreased again in December. Then, for 2021 the base rate was 20 thousand case then the number kept on increasing and decreasing. The error bar for the last point in December is very large from both sides which show that this number is not as reliable as the other number. This shows that it might be a false point because it does not match with the other data since it shows a drastic increase from November to December by nearly 60 thousand cases which does not make sense. "
   ],
   "attachments":{
    
   },
   "metadata":{
    "datalore":{
     "type":"MD",
     "hide_input_from_viewers":false,
     "hide_output_from_viewers":false
    }
   }
  },
  {
   "cell_type":"markdown",
   "source":[
    "**2. In terms of death**"
   ],
   "attachments":{
    
   },
   "metadata":{
    "datalore":{
     "type":"MD",
     "hide_input_from_viewers":false,
     "hide_output_from_viewers":false
    }
   }
  },
  {
   "cell_type":"code",
   "source":[
    "def ci_lb3(x, alpha=0.05):\n",
    "    sample_s=np.std(x)\n",
    "    sample_mean=np.mean(x)\n",
    "    sample_size=len(x)\n",
    "    margin_of_error = t.ppf(1 - alpha\/2,sample_size-1)*sample_s\/np.sqrt(sample_size-1)\n",
    "    return sample_mean - margin_of_error"
   ],
   "execution_count":32,
   "outputs":[
    
   ],
   "metadata":{
    "datalore":{
     "type":"CODE",
     "hide_input_from_viewers":false,
     "hide_output_from_viewers":false
    }
   }
  },
  {
   "cell_type":"code",
   "source":[
    "x=df['ddeaths']"
   ],
   "execution_count":33,
   "outputs":[
    
   ],
   "metadata":{
    "datalore":{
     "type":"CODE",
     "hide_input_from_viewers":false,
     "hide_output_from_viewers":false
    }
   }
  },
  {
   "cell_type":"code",
   "source":[
    "ci_lb3(x)"
   ],
   "execution_count":34,
   "outputs":[
    {
     "data":{
      "text\/plain":[
       "43.18608989544058"
      ]
     },
     "metadata":{
      
     },
     "output_type":"display_data"
    }
   ],
   "metadata":{
    "datalore":{
     "type":"CODE",
     "hide_input_from_viewers":false,
     "hide_output_from_viewers":false
    }
   }
  },
  {
   "cell_type":"code",
   "source":[
    "def ci_ub3(x, alpha=0.05):\n",
    "    sample_s=np.std(x)\n",
    "    sample_mean=np.mean(x)\n",
    "    sample_size=len(x)\n",
    "    margin_of_error = t.ppf(1 - alpha\/2,sample_size-1)*sample_s\/np.sqrt(sample_size-1)\n",
    "    return sample_mean + margin_of_error"
   ],
   "execution_count":35,
   "outputs":[
    
   ],
   "metadata":{
    "datalore":{
     "type":"CODE",
     "hide_input_from_viewers":false,
     "hide_output_from_viewers":false
    }
   }
  },
  {
   "cell_type":"code",
   "source":[
    "ci_ub3(x)"
   ],
   "execution_count":36,
   "outputs":[
    {
     "data":{
      "text\/plain":[
       "45.39995896367227"
      ]
     },
     "metadata":{
      
     },
     "output_type":"display_data"
    }
   ],
   "metadata":{
    "datalore":{
     "type":"CODE",
     "hide_input_from_viewers":false,
     "hide_output_from_viewers":false
    }
   }
  },
  {
   "cell_type":"code",
   "source":[
    "statsddeaths=df.groupby(['country','year','month']).agg({\"ddeaths\": [np.mean, np.std, np.size,ci_ub3,ci_lb3]})"
   ],
   "execution_count":44,
   "outputs":[
    
   ],
   "metadata":{
    "datalore":{
     "type":"CODE",
     "hide_input_from_viewers":false,
     "hide_output_from_viewers":false
    }
   }
  },
  {
   "cell_type":"code",
   "source":[
    "statsddeaths"
   ],
   "execution_count":45,
   "outputs":[
    {
     "data":{
      "text\/html":[
       "<div>\n",
       "<style scoped>\n",
       "    .dataframe tbody tr th:only-of-type {\n",
       "        vertical-align: middle;\n",
       "    }\n",
       "\n",
       "    .dataframe tbody tr th {\n",
       "        vertical-align: top;\n",
       "    }\n",
       "\n",
       "    .dataframe thead tr th {\n",
       "        text-align: left;\n",
       "    }\n",
       "\n",
       "    .dataframe thead tr:last-of-type th {\n",
       "        text-align: right;\n",
       "    }\n",
       "<\/style>\n",
       "<table border=\"1\" class=\"dataframe\">\n",
       "  <thead>\n",
       "    <tr>\n",
       "      <th><\/th>\n",
       "      <th><\/th>\n",
       "      <th><\/th>\n",
       "      <th colspan=\"5\" halign=\"left\">ddeaths<\/th>\n",
       "    <\/tr>\n",
       "    <tr>\n",
       "      <th><\/th>\n",
       "      <th><\/th>\n",
       "      <th><\/th>\n",
       "      <th>mean<\/th>\n",
       "      <th>std<\/th>\n",
       "      <th>size<\/th>\n",
       "      <th>ci_ub3<\/th>\n",
       "      <th>ci_lb3<\/th>\n",
       "    <\/tr>\n",
       "    <tr>\n",
       "      <th>country<\/th>\n",
       "      <th>year<\/th>\n",
       "      <th>month<\/th>\n",
       "      <th><\/th>\n",
       "      <th><\/th>\n",
       "      <th><\/th>\n",
       "      <th><\/th>\n",
       "      <th><\/th>\n",
       "    <\/tr>\n",
       "  <\/thead>\n",
       "  <tbody>\n",
       "    <tr>\n",
       "      <th rowspan=\"5\" valign=\"top\">Afghanistan<\/th>\n",
       "      <th rowspan=\"5\" valign=\"top\">2020<\/th>\n",
       "      <th>Apr<\/th>\n",
       "      <td>1.866667<\/td>\n",
       "      <td>2.285386<\/td>\n",
       "      <td>30<\/td>\n",
       "      <td>2.720044<\/td>\n",
       "      <td>1.013290<\/td>\n",
       "    <\/tr>\n",
       "    <tr>\n",
       "      <th>Aug<\/th>\n",
       "      <td>4.225806<\/td>\n",
       "      <td>6.432779<\/td>\n",
       "      <td>31<\/td>\n",
       "      <td>6.585369<\/td>\n",
       "      <td>1.866244<\/td>\n",
       "    <\/tr>\n",
       "    <tr>\n",
       "      <th>Dec<\/th>\n",
       "      <td>13.741935<\/td>\n",
       "      <td>6.717975<\/td>\n",
       "      <td>31<\/td>\n",
       "      <td>16.206108<\/td>\n",
       "      <td>11.277763<\/td>\n",
       "    <\/tr>\n",
       "    <tr>\n",
       "      <th>Feb<\/th>\n",
       "      <td>0.000000<\/td>\n",
       "      <td>0.000000<\/td>\n",
       "      <td>6<\/td>\n",
       "      <td>0.000000<\/td>\n",
       "      <td>0.000000<\/td>\n",
       "    <\/tr>\n",
       "    <tr>\n",
       "      <th>Jul<\/th>\n",
       "      <td>17.290323<\/td>\n",
       "      <td>15.064735<\/td>\n",
       "      <td>31<\/td>\n",
       "      <td>22.816112<\/td>\n",
       "      <td>11.764533<\/td>\n",
       "    <\/tr>\n",
       "    <tr>\n",
       "      <th>...<\/th>\n",
       "      <th>...<\/th>\n",
       "      <th>...<\/th>\n",
       "      <td>...<\/td>\n",
       "      <td>...<\/td>\n",
       "      <td>...<\/td>\n",
       "      <td>...<\/td>\n",
       "      <td>...<\/td>\n",
       "    <\/tr>\n",
       "    <tr>\n",
       "      <th rowspan=\"5\" valign=\"top\">Zimbabwe<\/th>\n",
       "      <th rowspan=\"5\" valign=\"top\">2021<\/th>\n",
       "      <th>Mar<\/th>\n",
       "      <td>1.935484<\/td>\n",
       "      <td>1.730809<\/td>\n",
       "      <td>31<\/td>\n",
       "      <td>2.570350<\/td>\n",
       "      <td>1.300618<\/td>\n",
       "    <\/tr>\n",
       "    <tr>\n",
       "      <th>May<\/th>\n",
       "      <td>0.870968<\/td>\n",
       "      <td>1.087564<\/td>\n",
       "      <td>31<\/td>\n",
       "      <td>1.269889<\/td>\n",
       "      <td>0.472046<\/td>\n",
       "    <\/tr>\n",
       "    <tr>\n",
       "      <th>Nov<\/th>\n",
       "      <td>0.966667<\/td>\n",
       "      <td>1.351457<\/td>\n",
       "      <td>30<\/td>\n",
       "      <td>1.471309<\/td>\n",
       "      <td>0.462024<\/td>\n",
       "    <\/tr>\n",
       "    <tr>\n",
       "      <th>Oct<\/th>\n",
       "      <td>1.774194<\/td>\n",
       "      <td>1.909794<\/td>\n",
       "      <td>31<\/td>\n",
       "      <td>2.474712<\/td>\n",
       "      <td>1.073676<\/td>\n",
       "    <\/tr>\n",
       "    <tr>\n",
       "      <th>Sep<\/th>\n",
       "      <td>6.800000<\/td>\n",
       "      <td>5.803685<\/td>\n",
       "      <td>30<\/td>\n",
       "      <td>8.967132<\/td>\n",
       "      <td>4.632868<\/td>\n",
       "    <\/tr>\n",
       "  <\/tbody>\n",
       "<\/table>\n",
       "<p>4126 rows × 5 columns<\/p>\n",
       "<\/div>"
      ]
     },
     "metadata":{
      
     },
     "output_type":"display_data"
    }
   ],
   "metadata":{
    "datalore":{
     "type":"CODE",
     "hide_input_from_viewers":false,
     "hide_output_from_viewers":false
    }
   }
  },
  {
   "cell_type":"code",
   "source":[
    "statsddeaths=statsddeaths.reset_index()"
   ],
   "execution_count":46,
   "outputs":[
    
   ],
   "metadata":{
    "datalore":{
     "type":"CODE",
     "hide_input_from_viewers":false,
     "hide_output_from_viewers":false
    }
   }
  },
  {
   "cell_type":"code",
   "source":[
    "statsFR2=statsddeaths[(statsddeaths['country']=='France') & (statsddeaths['year']==2021)]"
   ],
   "execution_count":60,
   "outputs":[
    
   ],
   "metadata":{
    "datalore":{
     "type":"CODE",
     "hide_input_from_viewers":false,
     "hide_output_from_viewers":false
    }
   }
  },
  {
   "cell_type":"code",
   "source":[
    "statsFR2"
   ],
   "execution_count":48,
   "outputs":[
    {
     "data":{
      "text\/html":[
       "<div>\n",
       "<style scoped>\n",
       "    .dataframe tbody tr th:only-of-type {\n",
       "        vertical-align: middle;\n",
       "    }\n",
       "\n",
       "    .dataframe tbody tr th {\n",
       "        vertical-align: top;\n",
       "    }\n",
       "\n",
       "    .dataframe thead tr th {\n",
       "        text-align: left;\n",
       "    }\n",
       "<\/style>\n",
       "<table border=\"1\" class=\"dataframe\">\n",
       "  <thead>\n",
       "    <tr>\n",
       "      <th><\/th>\n",
       "      <th>country<\/th>\n",
       "      <th>year<\/th>\n",
       "      <th>month<\/th>\n",
       "      <th colspan=\"5\" halign=\"left\">ddeaths<\/th>\n",
       "    <\/tr>\n",
       "    <tr>\n",
       "      <th><\/th>\n",
       "      <th><\/th>\n",
       "      <th><\/th>\n",
       "      <th><\/th>\n",
       "      <th>mean<\/th>\n",
       "      <th>std<\/th>\n",
       "      <th>size<\/th>\n",
       "      <th>ci_ub3<\/th>\n",
       "      <th>ci_lb3<\/th>\n",
       "    <\/tr>\n",
       "  <\/thead>\n",
       "  <tbody>\n",
       "    <tr>\n",
       "      <th>1331<\/th>\n",
       "      <td>France<\/td>\n",
       "      <td>2021<\/td>\n",
       "      <td>Apr<\/td>\n",
       "      <td>295.933333<\/td>\n",
       "      <td>86.466630<\/td>\n",
       "      <td>30<\/td>\n",
       "      <td>328.220504<\/td>\n",
       "      <td>263.646163<\/td>\n",
       "    <\/tr>\n",
       "    <tr>\n",
       "      <th>1332<\/th>\n",
       "      <td>France<\/td>\n",
       "      <td>2021<\/td>\n",
       "      <td>Aug<\/td>\n",
       "      <td>92.419355<\/td>\n",
       "      <td>43.202449<\/td>\n",
       "      <td>31<\/td>\n",
       "      <td>108.266141<\/td>\n",
       "      <td>76.572569<\/td>\n",
       "    <\/tr>\n",
       "    <tr>\n",
       "      <th>1333<\/th>\n",
       "      <td>France<\/td>\n",
       "      <td>2021<\/td>\n",
       "      <td>Dec<\/td>\n",
       "      <td>148.935484<\/td>\n",
       "      <td>64.952770<\/td>\n",
       "      <td>31<\/td>\n",
       "      <td>172.760352<\/td>\n",
       "      <td>125.110615<\/td>\n",
       "    <\/tr>\n",
       "    <tr>\n",
       "      <th>1334<\/th>\n",
       "      <td>France<\/td>\n",
       "      <td>2021<\/td>\n",
       "      <td>Feb<\/td>\n",
       "      <td>370.678571<\/td>\n",
       "      <td>225.874113<\/td>\n",
       "      <td>28<\/td>\n",
       "      <td>458.263409<\/td>\n",
       "      <td>283.093734<\/td>\n",
       "    <\/tr>\n",
       "    <tr>\n",
       "      <th>1335<\/th>\n",
       "      <td>France<\/td>\n",
       "      <td>2021<\/td>\n",
       "      <td>Jan<\/td>\n",
       "      <td>369.096774<\/td>\n",
       "      <td>218.571324<\/td>\n",
       "      <td>31<\/td>\n",
       "      <td>449.269383<\/td>\n",
       "      <td>288.924165<\/td>\n",
       "    <\/tr>\n",
       "    <tr>\n",
       "      <th>1336<\/th>\n",
       "      <td>France<\/td>\n",
       "      <td>2021<\/td>\n",
       "      <td>Jul<\/td>\n",
       "      <td>25.870968<\/td>\n",
       "      <td>14.368349<\/td>\n",
       "      <td>31<\/td>\n",
       "      <td>31.141321<\/td>\n",
       "      <td>20.600615<\/td>\n",
       "    <\/tr>\n",
       "    <tr>\n",
       "      <th>1337<\/th>\n",
       "      <td>France<\/td>\n",
       "      <td>2021<\/td>\n",
       "      <td>Jun<\/td>\n",
       "      <td>52.200000<\/td>\n",
       "      <td>27.508494<\/td>\n",
       "      <td>30<\/td>\n",
       "      <td>62.471840<\/td>\n",
       "      <td>41.928160<\/td>\n",
       "    <\/tr>\n",
       "    <tr>\n",
       "      <th>1338<\/th>\n",
       "      <td>France<\/td>\n",
       "      <td>2021<\/td>\n",
       "      <td>Mar<\/td>\n",
       "      <td>297.387097<\/td>\n",
       "      <td>143.757128<\/td>\n",
       "      <td>31<\/td>\n",
       "      <td>350.117637<\/td>\n",
       "      <td>244.656557<\/td>\n",
       "    <\/tr>\n",
       "    <tr>\n",
       "      <th>1339<\/th>\n",
       "      <td>France<\/td>\n",
       "      <td>2021<\/td>\n",
       "      <td>May<\/td>\n",
       "      <td>161.838710<\/td>\n",
       "      <td>71.109351<\/td>\n",
       "      <td>31<\/td>\n",
       "      <td>187.921830<\/td>\n",
       "      <td>135.755589<\/td>\n",
       "    <\/tr>\n",
       "    <tr>\n",
       "      <th>1340<\/th>\n",
       "      <td>France<\/td>\n",
       "      <td>2021<\/td>\n",
       "      <td>Nov<\/td>\n",
       "      <td>49.566667<\/td>\n",
       "      <td>31.250582<\/td>\n",
       "      <td>30<\/td>\n",
       "      <td>61.235826<\/td>\n",
       "      <td>37.897508<\/td>\n",
       "    <\/tr>\n",
       "    <tr>\n",
       "      <th>1341<\/th>\n",
       "      <td>France<\/td>\n",
       "      <td>2021<\/td>\n",
       "      <td>Oct<\/td>\n",
       "      <td>37.129032<\/td>\n",
       "      <td>17.615792<\/td>\n",
       "      <td>31<\/td>\n",
       "      <td>43.590557<\/td>\n",
       "      <td>30.667508<\/td>\n",
       "    <\/tr>\n",
       "    <tr>\n",
       "      <th>1342<\/th>\n",
       "      <td>France<\/td>\n",
       "      <td>2021<\/td>\n",
       "      <td>Sep<\/td>\n",
       "      <td>84.933333<\/td>\n",
       "      <td>47.229399<\/td>\n",
       "      <td>30<\/td>\n",
       "      <td>102.569081<\/td>\n",
       "      <td>67.297586<\/td>\n",
       "    <\/tr>\n",
       "  <\/tbody>\n",
       "<\/table>\n",
       "<\/div>"
      ]
     },
     "metadata":{
      
     },
     "output_type":"display_data"
    }
   ],
   "metadata":{
    "datalore":{
     "type":"CODE",
     "hide_input_from_viewers":false,
     "hide_output_from_viewers":false
    }
   }
  },
  {
   "cell_type":"code",
   "source":[
    "statsFR221=statsddeaths[(statsddeaths['country']=='France')\n",
    "  & (statsddeaths['year']==2021)]\n",
    "statsFR221"
   ],
   "execution_count":62,
   "outputs":[
    {
     "data":{
      "text\/html":[
       "<div>\n",
       "<style scoped>\n",
       "    .dataframe tbody tr th:only-of-type {\n",
       "        vertical-align: middle;\n",
       "    }\n",
       "\n",
       "    .dataframe tbody tr th {\n",
       "        vertical-align: top;\n",
       "    }\n",
       "\n",
       "    .dataframe thead tr th {\n",
       "        text-align: left;\n",
       "    }\n",
       "<\/style>\n",
       "<table border=\"1\" class=\"dataframe\">\n",
       "  <thead>\n",
       "    <tr>\n",
       "      <th><\/th>\n",
       "      <th>country<\/th>\n",
       "      <th>year<\/th>\n",
       "      <th>month<\/th>\n",
       "      <th colspan=\"5\" halign=\"left\">ddeaths<\/th>\n",
       "    <\/tr>\n",
       "    <tr>\n",
       "      <th><\/th>\n",
       "      <th><\/th>\n",
       "      <th><\/th>\n",
       "      <th><\/th>\n",
       "      <th>mean<\/th>\n",
       "      <th>std<\/th>\n",
       "      <th>size<\/th>\n",
       "      <th>ci_ub3<\/th>\n",
       "      <th>ci_lb3<\/th>\n",
       "    <\/tr>\n",
       "  <\/thead>\n",
       "  <tbody>\n",
       "    <tr>\n",
       "      <th>1331<\/th>\n",
       "      <td>France<\/td>\n",
       "      <td>2021<\/td>\n",
       "      <td>Apr<\/td>\n",
       "      <td>295.933333<\/td>\n",
       "      <td>86.466630<\/td>\n",
       "      <td>30<\/td>\n",
       "      <td>328.220504<\/td>\n",
       "      <td>263.646163<\/td>\n",
       "    <\/tr>\n",
       "    <tr>\n",
       "      <th>1332<\/th>\n",
       "      <td>France<\/td>\n",
       "      <td>2021<\/td>\n",
       "      <td>Aug<\/td>\n",
       "      <td>92.419355<\/td>\n",
       "      <td>43.202449<\/td>\n",
       "      <td>31<\/td>\n",
       "      <td>108.266141<\/td>\n",
       "      <td>76.572569<\/td>\n",
       "    <\/tr>\n",
       "    <tr>\n",
       "      <th>1333<\/th>\n",
       "      <td>France<\/td>\n",
       "      <td>2021<\/td>\n",
       "      <td>Dec<\/td>\n",
       "      <td>148.935484<\/td>\n",
       "      <td>64.952770<\/td>\n",
       "      <td>31<\/td>\n",
       "      <td>172.760352<\/td>\n",
       "      <td>125.110615<\/td>\n",
       "    <\/tr>\n",
       "    <tr>\n",
       "      <th>1334<\/th>\n",
       "      <td>France<\/td>\n",
       "      <td>2021<\/td>\n",
       "      <td>Feb<\/td>\n",
       "      <td>370.678571<\/td>\n",
       "      <td>225.874113<\/td>\n",
       "      <td>28<\/td>\n",
       "      <td>458.263409<\/td>\n",
       "      <td>283.093734<\/td>\n",
       "    <\/tr>\n",
       "    <tr>\n",
       "      <th>1335<\/th>\n",
       "      <td>France<\/td>\n",
       "      <td>2021<\/td>\n",
       "      <td>Jan<\/td>\n",
       "      <td>369.096774<\/td>\n",
       "      <td>218.571324<\/td>\n",
       "      <td>31<\/td>\n",
       "      <td>449.269383<\/td>\n",
       "      <td>288.924165<\/td>\n",
       "    <\/tr>\n",
       "    <tr>\n",
       "      <th>1336<\/th>\n",
       "      <td>France<\/td>\n",
       "      <td>2021<\/td>\n",
       "      <td>Jul<\/td>\n",
       "      <td>25.870968<\/td>\n",
       "      <td>14.368349<\/td>\n",
       "      <td>31<\/td>\n",
       "      <td>31.141321<\/td>\n",
       "      <td>20.600615<\/td>\n",
       "    <\/tr>\n",
       "    <tr>\n",
       "      <th>1337<\/th>\n",
       "      <td>France<\/td>\n",
       "      <td>2021<\/td>\n",
       "      <td>Jun<\/td>\n",
       "      <td>52.200000<\/td>\n",
       "      <td>27.508494<\/td>\n",
       "      <td>30<\/td>\n",
       "      <td>62.471840<\/td>\n",
       "      <td>41.928160<\/td>\n",
       "    <\/tr>\n",
       "    <tr>\n",
       "      <th>1338<\/th>\n",
       "      <td>France<\/td>\n",
       "      <td>2021<\/td>\n",
       "      <td>Mar<\/td>\n",
       "      <td>297.387097<\/td>\n",
       "      <td>143.757128<\/td>\n",
       "      <td>31<\/td>\n",
       "      <td>350.117637<\/td>\n",
       "      <td>244.656557<\/td>\n",
       "    <\/tr>\n",
       "    <tr>\n",
       "      <th>1339<\/th>\n",
       "      <td>France<\/td>\n",
       "      <td>2021<\/td>\n",
       "      <td>May<\/td>\n",
       "      <td>161.838710<\/td>\n",
       "      <td>71.109351<\/td>\n",
       "      <td>31<\/td>\n",
       "      <td>187.921830<\/td>\n",
       "      <td>135.755589<\/td>\n",
       "    <\/tr>\n",
       "    <tr>\n",
       "      <th>1340<\/th>\n",
       "      <td>France<\/td>\n",
       "      <td>2021<\/td>\n",
       "      <td>Nov<\/td>\n",
       "      <td>49.566667<\/td>\n",
       "      <td>31.250582<\/td>\n",
       "      <td>30<\/td>\n",
       "      <td>61.235826<\/td>\n",
       "      <td>37.897508<\/td>\n",
       "    <\/tr>\n",
       "    <tr>\n",
       "      <th>1341<\/th>\n",
       "      <td>France<\/td>\n",
       "      <td>2021<\/td>\n",
       "      <td>Oct<\/td>\n",
       "      <td>37.129032<\/td>\n",
       "      <td>17.615792<\/td>\n",
       "      <td>31<\/td>\n",
       "      <td>43.590557<\/td>\n",
       "      <td>30.667508<\/td>\n",
       "    <\/tr>\n",
       "    <tr>\n",
       "      <th>1342<\/th>\n",
       "      <td>France<\/td>\n",
       "      <td>2021<\/td>\n",
       "      <td>Sep<\/td>\n",
       "      <td>84.933333<\/td>\n",
       "      <td>47.229399<\/td>\n",
       "      <td>30<\/td>\n",
       "      <td>102.569081<\/td>\n",
       "      <td>67.297586<\/td>\n",
       "    <\/tr>\n",
       "  <\/tbody>\n",
       "<\/table>\n",
       "<\/div>"
      ]
     },
     "metadata":{
      
     },
     "output_type":"display_data"
    }
   ],
   "metadata":{
    "datalore":{
     "type":"CODE",
     "hide_input_from_viewers":false,
     "hide_output_from_viewers":false
    }
   }
  },
  {
   "cell_type":"code",
   "source":[
    "statsFR220=statsddeaths[(statsddeaths['country']=='France')\n",
    "  & (statsddeaths['year']==2020)]\n",
    "statsFR220"
   ],
   "execution_count":63,
   "outputs":[
    {
     "data":{
      "text\/html":[
       "<div>\n",
       "<style scoped>\n",
       "    .dataframe tbody tr th:only-of-type {\n",
       "        vertical-align: middle;\n",
       "    }\n",
       "\n",
       "    .dataframe tbody tr th {\n",
       "        vertical-align: top;\n",
       "    }\n",
       "\n",
       "    .dataframe thead tr th {\n",
       "        text-align: left;\n",
       "    }\n",
       "<\/style>\n",
       "<table border=\"1\" class=\"dataframe\">\n",
       "  <thead>\n",
       "    <tr>\n",
       "      <th><\/th>\n",
       "      <th>country<\/th>\n",
       "      <th>year<\/th>\n",
       "      <th>month<\/th>\n",
       "      <th colspan=\"5\" halign=\"left\">ddeaths<\/th>\n",
       "    <\/tr>\n",
       "    <tr>\n",
       "      <th><\/th>\n",
       "      <th><\/th>\n",
       "      <th><\/th>\n",
       "      <th><\/th>\n",
       "      <th>mean<\/th>\n",
       "      <th>std<\/th>\n",
       "      <th>size<\/th>\n",
       "      <th>ci_ub3<\/th>\n",
       "      <th>ci_lb3<\/th>\n",
       "    <\/tr>\n",
       "  <\/thead>\n",
       "  <tbody>\n",
       "    <tr>\n",
       "      <th>1319<\/th>\n",
       "      <td>France<\/td>\n",
       "      <td>2020<\/td>\n",
       "      <td>Apr<\/td>\n",
       "      <td>694.100000<\/td>\n",
       "      <td>339.189841<\/td>\n",
       "      <td>30<\/td>\n",
       "      <td>820.755568<\/td>\n",
       "      <td>567.444432<\/td>\n",
       "    <\/tr>\n",
       "    <tr>\n",
       "      <th>1320<\/th>\n",
       "      <td>France<\/td>\n",
       "      <td>2020<\/td>\n",
       "      <td>Aug<\/td>\n",
       "      <td>12.193548<\/td>\n",
       "      <td>10.215737<\/td>\n",
       "      <td>31<\/td>\n",
       "      <td>15.940711<\/td>\n",
       "      <td>8.446386<\/td>\n",
       "    <\/tr>\n",
       "    <tr>\n",
       "      <th>1321<\/th>\n",
       "      <td>France<\/td>\n",
       "      <td>2020<\/td>\n",
       "      <td>Dec<\/td>\n",
       "      <td>385.161290<\/td>\n",
       "      <td>239.988902<\/td>\n",
       "      <td>31<\/td>\n",
       "      <td>473.189930<\/td>\n",
       "      <td>297.132650<\/td>\n",
       "    <\/tr>\n",
       "    <tr>\n",
       "      <th>1322<\/th>\n",
       "      <td>France<\/td>\n",
       "      <td>2020<\/td>\n",
       "      <td>Feb<\/td>\n",
       "      <td>0.068966<\/td>\n",
       "      <td>0.257881<\/td>\n",
       "      <td>29<\/td>\n",
       "      <td>0.167058<\/td>\n",
       "      <td>-0.029127<\/td>\n",
       "    <\/tr>\n",
       "    <tr>\n",
       "      <th>1323<\/th>\n",
       "      <td>France<\/td>\n",
       "      <td>2020<\/td>\n",
       "      <td>Jan<\/td>\n",
       "      <td>0.000000<\/td>\n",
       "      <td>0.000000<\/td>\n",
       "      <td>8<\/td>\n",
       "      <td>0.000000<\/td>\n",
       "      <td>0.000000<\/td>\n",
       "    <\/tr>\n",
       "    <tr>\n",
       "      <th>1324<\/th>\n",
       "      <td>France<\/td>\n",
       "      <td>2020<\/td>\n",
       "      <td>Jul<\/td>\n",
       "      <td>14.064516<\/td>\n",
       "      <td>16.621142<\/td>\n",
       "      <td>31<\/td>\n",
       "      <td>20.161200<\/td>\n",
       "      <td>7.967832<\/td>\n",
       "    <\/tr>\n",
       "    <tr>\n",
       "      <th>1325<\/th>\n",
       "      <td>France<\/td>\n",
       "      <td>2020<\/td>\n",
       "      <td>Jun<\/td>\n",
       "      <td>34.700000<\/td>\n",
       "      <td>28.675533<\/td>\n",
       "      <td>30<\/td>\n",
       "      <td>45.407620<\/td>\n",
       "      <td>23.992380<\/td>\n",
       "    <\/tr>\n",
       "    <tr>\n",
       "      <th>1326<\/th>\n",
       "      <td>France<\/td>\n",
       "      <td>2020<\/td>\n",
       "      <td>Mar<\/td>\n",
       "      <td>113.677419<\/td>\n",
       "      <td>148.476572<\/td>\n",
       "      <td>31<\/td>\n",
       "      <td>168.139066<\/td>\n",
       "      <td>59.215773<\/td>\n",
       "    <\/tr>\n",
       "    <tr>\n",
       "      <th>1327<\/th>\n",
       "      <td>France<\/td>\n",
       "      <td>2020<\/td>\n",
       "      <td>May<\/td>\n",
       "      <td>153.322581<\/td>\n",
       "      <td>120.334087<\/td>\n",
       "      <td>31<\/td>\n",
       "      <td>197.461480<\/td>\n",
       "      <td>109.183681<\/td>\n",
       "    <\/tr>\n",
       "    <tr>\n",
       "      <th>1328<\/th>\n",
       "      <td>France<\/td>\n",
       "      <td>2020<\/td>\n",
       "      <td>Nov<\/td>\n",
       "      <td>534.166667<\/td>\n",
       "      <td>358.686501<\/td>\n",
       "      <td>30<\/td>\n",
       "      <td>668.102407<\/td>\n",
       "      <td>400.230926<\/td>\n",
       "    <\/tr>\n",
       "    <tr>\n",
       "      <th>1329<\/th>\n",
       "      <td>France<\/td>\n",
       "      <td>2020<\/td>\n",
       "      <td>Oct<\/td>\n",
       "      <td>157.096774<\/td>\n",
       "      <td>135.182680<\/td>\n",
       "      <td>31<\/td>\n",
       "      <td>206.682182<\/td>\n",
       "      <td>107.511367<\/td>\n",
       "    <\/tr>\n",
       "    <tr>\n",
       "      <th>1330<\/th>\n",
       "      <td>France<\/td>\n",
       "      <td>2020<\/td>\n",
       "      <td>Sep<\/td>\n",
       "      <td>45.066667<\/td>\n",
       "      <td>37.734036<\/td>\n",
       "      <td>30<\/td>\n",
       "      <td>59.156787<\/td>\n",
       "      <td>30.976546<\/td>\n",
       "    <\/tr>\n",
       "  <\/tbody>\n",
       "<\/table>\n",
       "<\/div>"
      ]
     },
     "metadata":{
      
     },
     "output_type":"display_data"
    }
   ],
   "metadata":{
    "datalore":{
     "type":"CODE",
     "hide_input_from_viewers":false,
     "hide_output_from_viewers":false
    }
   }
  },
  {
   "cell_type":"code",
   "source":[
    "statsFR220.columns=['country','year','month','mean','std','size','ci_lb3','ci_ub3']"
   ],
   "execution_count":64,
   "outputs":[
    
   ],
   "metadata":{
    "datalore":{
     "type":"CODE",
     "hide_input_from_viewers":false,
     "hide_output_from_viewers":false
    }
   }
  },
  {
   "cell_type":"code",
   "source":[
    "statsFR221.columns=['country','year','month','mean','std','size','ci_lb3','ci_ub3']"
   ],
   "execution_count":65,
   "outputs":[
    
   ],
   "metadata":{
    "datalore":{
     "type":"CODE",
     "hide_input_from_viewers":false,
     "hide_output_from_viewers":false
    }
   }
  },
  {
   "cell_type":"code",
   "source":[
    "x=statsFR220['month']\n",
    "x"
   ],
   "execution_count":66,
   "outputs":[
    {
     "data":{
      "text\/html":[
       
      ]
     },
     "metadata":{
      
     },
     "output_type":"display_data"
    }
   ],
   "metadata":{
    "datalore":{
     "type":"CODE",
     "hide_input_from_viewers":false,
     "hide_output_from_viewers":false
    }
   }
  },
  {
   "cell_type":"code",
   "source":[
    "y3=statsFR220['mean']\n",
    "y3"
   ],
   "execution_count":67,
   "outputs":[
    {
     "data":{
      "text\/html":[
       
      ]
     },
     "metadata":{
      
     },
     "output_type":"display_data"
    }
   ],
   "metadata":{
    "datalore":{
     "type":"CODE",
     "hide_input_from_viewers":false,
     "hide_output_from_viewers":false
    }
   }
  },
  {
   "cell_type":"code",
   "source":[
    "y4=statsFR221['mean']\n",
    "y4"
   ],
   "execution_count":272,
   "outputs":[
    {
     "data":{
      "text\/html":[
       
      ]
     },
     "metadata":{
      
     },
     "output_type":"display_data"
    }
   ],
   "metadata":{
    "datalore":{
     "type":"CODE",
     "hide_input_from_viewers":false,
     "hide_output_from_viewers":false
    }
   }
  },
  {
   "cell_type":"code",
   "source":[
    "ci_lb_ub220=[statsFR220['ci_lb3'],statsFR220['ci_ub3']]\n",
    "err220 = np.abs(ci_lb_ub220 - statsFR220['mean'].to_numpy())"
   ],
   "execution_count":68,
   "outputs":[
    
   ],
   "metadata":{
    "datalore":{
     "type":"CODE",
     "hide_input_from_viewers":false,
     "hide_output_from_viewers":false
    }
   }
  },
  {
   "cell_type":"code",
   "source":[
    "ci_lb_ub221=[statsFR221['ci_lb3'],statsFR221['ci_ub3']]\n",
    "err221 = np.abs(ci_lb_ub221 - statsFR221['mean'].to_numpy())"
   ],
   "execution_count":70,
   "outputs":[
    
   ],
   "metadata":{
    "datalore":{
     "type":"CODE",
     "hide_input_from_viewers":false,
     "hide_output_from_viewers":false
    }
   }
  },
  {
   "cell_type":"code",
   "source":[
    "fig, ax = plt.subplots()\n",
    "\n",
    "trans1 = Affine2D().translate(-0.1, 0.0) + ax.transData\n",
    "trans2 = Affine2D().translate(+0.1, 0.0) + ax.transData\n",
    "plt.errorbar('month', 'mean',  yerr=err220, data=statsFR220,marker='s', capsize=2,\n",
    "             color='blue', markersize=4, linewidth=1, linestyle='--',transform=trans1)\n",
    "plt.errorbar('month', 'mean',  yerr=err221, data=statsFR221,marker='s', capsize=2,\n",
    "             color='red', markersize=4, linewidth=1, linestyle='--',transform=trans2)\n",
    "plt.legend(['2020','2021'])\n",
    "plt.xlabel(\"Month\")\n",
    "plt.ylabel(\"Average Daily COVID DEATH CASES\")\n",
    "plt.title(\"France\")\n",
    "plt.show()"
   ],
   "execution_count":74,
   "outputs":[
    {
     "data":{
      "image\/png":"[encoded data removed]"
     },
     "metadata":{
      "image\/png":{
       
      }
     },
     "output_type":"display_data"
    }
   ],
   "metadata":{
    "datalore":{
     "type":"CODE",
     "hide_input_from_viewers":false,
     "hide_output_from_viewers":false
    }
   }
  },
  {
   "cell_type":"markdown",
   "source":[
    "The line graph above is the average daily covid deaths between 2020 and 2021 with error bars. The graph shows that France did not suffer from any covid deaths until September 2020 and then it increased and then decreased again in December. Then, for 2021 the base rate was 20 thousand deaths which is a massive rate, then the number kept on fluctuating. The error bar for the last point in December 2021 is very large that it takes the whole graph from both sides which show that this number is not as reliable as the other number. This shows that it might be a false point because it does not match with the other data since it shows a drastic increase from November to December by nearly 50 thousand cases which does not make sense. "
   ],
   "attachments":{
    
   },
   "metadata":{
    "datalore":{
     "type":"MD",
     "hide_input_from_viewers":false,
     "hide_output_from_viewers":false
    }
   }
  },
  {
   "cell_type":"markdown",
   "source":[
    "**Comparing between 2020 and 2021 in terms of several factors like regions,\n",
    "income, and continents.**"
   ],
   "attachments":{
    
   },
   "metadata":{
    "datalore":{
     "type":"MD",
     "hide_input_from_viewers":false,
     "hide_output_from_viewers":false
    }
   }
  },
  {
   "cell_type":"markdown",
   "source":[
    "**1. In terms of region: confirmed COVID 19 cases**"
   ],
   "attachments":{
    
   },
   "metadata":{
    "datalore":{
     "type":"MD",
     "hide_input_from_viewers":false,
     "hide_output_from_viewers":false
    }
   }
  },
  {
   "cell_type":"markdown",
   "source":[
    "**Region no.1 East Asia and Pacific**"
   ],
   "attachments":{
    
   },
   "metadata":{
    "datalore":{
     "type":"MD",
     "hide_input_from_viewers":false,
     "hide_output_from_viewers":false
    }
   }
  },
  {
   "cell_type":"code",
   "source":[
    "df['date'][0]"
   ],
   "execution_count":11,
   "outputs":[
    {
     "data":{
      "text\/plain":[
       "'2020-02-24'"
      ]
     },
     "metadata":{
      
     },
     "output_type":"display_data"
    }
   ],
   "metadata":{
    "datalore":{
     "type":"CODE",
     "hide_input_from_viewers":false,
     "hide_output_from_viewers":false
    }
   }
  },
  {
   "cell_type":"code",
   "source":[
    "df['date'] = pd.to_datetime(df['date'],format='%Y-%m-%d')"
   ],
   "execution_count":12,
   "outputs":[
    
   ],
   "metadata":{
    "datalore":{
     "type":"CODE",
     "hide_input_from_viewers":false,
     "hide_output_from_viewers":false
    }
   }
  },
  {
   "cell_type":"code",
   "source":[
    "df['date'][0]"
   ],
   "execution_count":13,
   "outputs":[
    {
     "data":{
      "text\/plain":[
       "Timestamp('2020-02-24 00:00:00')"
      ]
     },
     "metadata":{
      
     },
     "output_type":"display_data"
    }
   ],
   "metadata":{
    "datalore":{
     "type":"CODE",
     "hide_input_from_viewers":false,
     "hide_output_from_viewers":false
    }
   }
  },
  {
   "cell_type":"code",
   "source":[
    "df['year'] = pd. DatetimeIndex(df['date']). year"
   ],
   "execution_count":14,
   "outputs":[
    
   ],
   "metadata":{
    "datalore":{
     "type":"CODE",
     "hide_input_from_viewers":false,
     "hide_output_from_viewers":false
    }
   }
  },
  {
   "cell_type":"code",
   "source":[
    "df['year'][0]"
   ],
   "execution_count":15,
   "outputs":[
    {
     "data":{
      "text\/plain":[
       "2020"
      ]
     },
     "metadata":{
      
     },
     "output_type":"display_data"
    }
   ],
   "metadata":{
    "datalore":{
     "type":"CODE",
     "hide_input_from_viewers":false,
     "hide_output_from_viewers":false
    }
   }
  },
  {
   "cell_type":"code",
   "source":[
    "df['region'].unique()"
   ],
   "execution_count":48,
   "outputs":[
    {
     "data":{
      "text\/html":[
       
      ]
     },
     "metadata":{
      
     },
     "output_type":"display_data"
    }
   ],
   "metadata":{
    "datalore":{
     "type":"CODE",
     "hide_input_from_viewers":false,
     "hide_output_from_viewers":false
    }
   }
  },
  {
   "cell_type":"code",
   "source":[
    "def ci_lb4(x, alpha=0.05):\n",
    "    sample_s=np.std(x)\n",
    "    sample_mean=np.mean(x)\n",
    "    sample_size=len(x)\n",
    "    margin_of_error = t.ppf(1 - alpha\/2,sample_size-1)*sample_s\/np.sqrt(sample_size-1)\n",
    "    return sample_mean - margin_of_error"
   ],
   "execution_count":16,
   "outputs":[
    
   ],
   "metadata":{
    "datalore":{
     "type":"CODE",
     "hide_input_from_viewers":false,
     "hide_output_from_viewers":false
    }
   }
  },
  {
   "cell_type":"code",
   "source":[
    "x=df['dcases']"
   ],
   "execution_count":17,
   "outputs":[
    
   ],
   "metadata":{
    "datalore":{
     "type":"CODE",
     "hide_input_from_viewers":false,
     "hide_output_from_viewers":false
    }
   }
  },
  {
   "cell_type":"code",
   "source":[
    "ci_lb4(x)"
   ],
   "execution_count":18,
   "outputs":[
    {
     "data":{
      "text\/plain":[
       "2285.1835480837276"
      ]
     },
     "metadata":{
      
     },
     "output_type":"display_data"
    }
   ],
   "metadata":{
    "datalore":{
     "type":"CODE",
     "hide_input_from_viewers":false,
     "hide_output_from_viewers":false
    }
   }
  },
  {
   "cell_type":"code",
   "source":[
    "def ci_ub4(x, alpha=0.05):\n",
    "    sample_s=np.std(x)\n",
    "    sample_mean=np.mean(x)\n",
    "    sample_size=len(x)\n",
    "    margin_of_error = t.ppf(1 - alpha\/2,sample_size-1)*sample_s\/np.sqrt(sample_size-1)\n",
    "    return sample_mean + margin_of_error"
   ],
   "execution_count":19,
   "outputs":[
    
   ],
   "metadata":{
    "datalore":{
     "type":"CODE",
     "hide_input_from_viewers":false,
     "hide_output_from_viewers":false
    }
   }
  },
  {
   "cell_type":"code",
   "source":[
    "ci_ub4(x)"
   ],
   "execution_count":20,
   "outputs":[
    {
     "data":{
      "text\/plain":[
       "2422.2624439548904"
      ]
     },
     "metadata":{
      
     },
     "output_type":"display_data"
    }
   ],
   "metadata":{
    "datalore":{
     "type":"CODE",
     "hide_input_from_viewers":false,
     "hide_output_from_viewers":false
    }
   }
  },
  {
   "cell_type":"code",
   "source":[
    "rdcases=df.groupby(['region','year','month']).agg({\"dcases\": [np.mean, np.std, np.size,ci_ub4,ci_lb4]})"
   ],
   "execution_count":21,
   "outputs":[
    
   ],
   "metadata":{
    "datalore":{
     "type":"CODE",
     "hide_input_from_viewers":false,
     "hide_output_from_viewers":false
    }
   }
  },
  {
   "cell_type":"code",
   "source":[
    "rdcases"
   ],
   "execution_count":22,
   "outputs":[
    {
     "data":{
      "text\/html":[
       "<div>\n",
       "<style scoped>\n",
       "    .dataframe tbody tr th:only-of-type {\n",
       "        vertical-align: middle;\n",
       "    }\n",
       "\n",
       "    .dataframe tbody tr th {\n",
       "        vertical-align: top;\n",
       "    }\n",
       "\n",
       "    .dataframe thead tr th {\n",
       "        text-align: left;\n",
       "    }\n",
       "\n",
       "    .dataframe thead tr:last-of-type th {\n",
       "        text-align: right;\n",
       "    }\n",
       "<\/style>\n",
       "<table border=\"1\" class=\"dataframe\">\n",
       "  <thead>\n",
       "    <tr>\n",
       "      <th><\/th>\n",
       "      <th><\/th>\n",
       "      <th><\/th>\n",
       "      <th colspan=\"5\" halign=\"left\">dcases<\/th>\n",
       "    <\/tr>\n",
       "    <tr>\n",
       "      <th><\/th>\n",
       "      <th><\/th>\n",
       "      <th><\/th>\n",
       "      <th>mean<\/th>\n",
       "      <th>std<\/th>\n",
       "      <th>size<\/th>\n",
       "      <th>ci_ub4<\/th>\n",
       "      <th>ci_lb4<\/th>\n",
       "    <\/tr>\n",
       "    <tr>\n",
       "      <th>region<\/th>\n",
       "      <th>year<\/th>\n",
       "      <th>month<\/th>\n",
       "      <th><\/th>\n",
       "      <th><\/th>\n",
       "      <th><\/th>\n",
       "      <th><\/th>\n",
       "      <th><\/th>\n",
       "    <\/tr>\n",
       "  <\/thead>\n",
       "  <tbody>\n",
       "    <tr>\n",
       "      <th rowspan=\"5\" valign=\"top\">East Asia &amp; Pacific<\/th>\n",
       "      <th rowspan=\"5\" valign=\"top\">2020<\/th>\n",
       "      <th>Apr<\/th>\n",
       "      <td>92.700000<\/td>\n",
       "      <td>177.828711<\/td>\n",
       "      <td>570<\/td>\n",
       "      <td>107.329764<\/td>\n",
       "      <td>78.070236<\/td>\n",
       "    <\/tr>\n",
       "    <tr>\n",
       "      <th>Aug<\/th>\n",
       "      <td>423.417657<\/td>\n",
       "      <td>1044.901057<\/td>\n",
       "      <td>589<\/td>\n",
       "      <td>507.976780<\/td>\n",
       "      <td>338.858534<\/td>\n",
       "    <\/tr>\n",
       "    <tr>\n",
       "      <th>Dec<\/th>\n",
       "      <td>630.715288<\/td>\n",
       "      <td>1475.101424<\/td>\n",
       "      <td>713<\/td>\n",
       "      <td>739.173912<\/td>\n",
       "      <td>522.256663<\/td>\n",
       "    <\/tr>\n",
       "    <tr>\n",
       "      <th>Feb<\/th>\n",
       "      <td>250.304795<\/td>\n",
       "      <td>1155.872616<\/td>\n",
       "      <td>292<\/td>\n",
       "      <td>383.435013<\/td>\n",
       "      <td>117.174576<\/td>\n",
       "    <\/tr>\n",
       "    <tr>\n",
       "      <th>Jan<\/th>\n",
       "      <td>126.679487<\/td>\n",
       "      <td>436.945076<\/td>\n",
       "      <td>78<\/td>\n",
       "      <td>225.195380<\/td>\n",
       "      <td>28.163595<\/td>\n",
       "    <\/tr>\n",
       "    <tr>\n",
       "      <th>...<\/th>\n",
       "      <th>...<\/th>\n",
       "      <th>...<\/th>\n",
       "      <td>...<\/td>\n",
       "      <td>...<\/td>\n",
       "      <td>...<\/td>\n",
       "      <td>...<\/td>\n",
       "      <td>...<\/td>\n",
       "    <\/tr>\n",
       "    <tr>\n",
       "      <th rowspan=\"5\" valign=\"top\">Sub-Saharan Africa<\/th>\n",
       "      <th rowspan=\"5\" valign=\"top\">2021<\/th>\n",
       "      <th>Mar<\/th>\n",
       "      <td>161.274537<\/td>\n",
       "      <td>393.852860<\/td>\n",
       "      <td>1457<\/td>\n",
       "      <td>181.514676<\/td>\n",
       "      <td>141.034398<\/td>\n",
       "    <\/tr>\n",
       "    <tr>\n",
       "      <th>May<\/th>\n",
       "      <td>128.577213<\/td>\n",
       "      <td>488.161505<\/td>\n",
       "      <td>1457<\/td>\n",
       "      <td>153.663883<\/td>\n",
       "      <td>103.490544<\/td>\n",
       "    <\/tr>\n",
       "    <tr>\n",
       "      <th>Nov<\/th>\n",
       "      <td>89.737589<\/td>\n",
       "      <td>588.981229<\/td>\n",
       "      <td>1410<\/td>\n",
       "      <td>120.506577<\/td>\n",
       "      <td>58.968601<\/td>\n",
       "    <\/tr>\n",
       "    <tr>\n",
       "      <th>Oct<\/th>\n",
       "      <td>87.528483<\/td>\n",
       "      <td>293.259577<\/td>\n",
       "      <td>1457<\/td>\n",
       "      <td>102.599123<\/td>\n",
       "      <td>72.457843<\/td>\n",
       "    <\/tr>\n",
       "    <tr>\n",
       "      <th>Sep<\/th>\n",
       "      <td>247.950355<\/td>\n",
       "      <td>1021.166824<\/td>\n",
       "      <td>1410<\/td>\n",
       "      <td>301.297165<\/td>\n",
       "      <td>194.603545<\/td>\n",
       "    <\/tr>\n",
       "  <\/tbody>\n",
       "<\/table>\n",
       "<p>166 rows × 5 columns<\/p>\n",
       "<\/div>"
      ]
     },
     "metadata":{
      
     },
     "output_type":"display_data"
    }
   ],
   "metadata":{
    "datalore":{
     "type":"CODE",
     "hide_input_from_viewers":false,
     "hide_output_from_viewers":false
    }
   }
  },
  {
   "cell_type":"code",
   "source":[
    "rdcases=rdcases.reset_index()"
   ],
   "execution_count":23,
   "outputs":[
    
   ],
   "metadata":{
    "datalore":{
     "type":"CODE",
     "hide_input_from_viewers":false,
     "hide_output_from_viewers":false
    }
   }
  },
  {
   "cell_type":"code",
   "source":[
    "statsR=rdcases[(rdcases['region']=='East Asia & Pacific ') & (rdcases['year']==2020)]"
   ],
   "execution_count":28,
   "outputs":[
    
   ],
   "metadata":{
    "datalore":{
     "type":"CODE",
     "hide_input_from_viewers":false,
     "hide_output_from_viewers":false
    }
   }
  },
  {
   "cell_type":"code",
   "source":[
    "statsR"
   ],
   "execution_count":29,
   "outputs":[
    {
     "data":{
      "text\/html":[
       "<div>\n",
       "<style scoped>\n",
       "    .dataframe tbody tr th:only-of-type {\n",
       "        vertical-align: middle;\n",
       "    }\n",
       "\n",
       "    .dataframe tbody tr th {\n",
       "        vertical-align: top;\n",
       "    }\n",
       "\n",
       "    .dataframe thead tr th {\n",
       "        text-align: left;\n",
       "    }\n",
       "<\/style>\n",
       "<table border=\"1\" class=\"dataframe\">\n",
       "  <thead>\n",
       "    <tr>\n",
       "      <th><\/th>\n",
       "      <th>region<\/th>\n",
       "      <th>year<\/th>\n",
       "      <th>month<\/th>\n",
       "      <th colspan=\"5\" halign=\"left\">dcases<\/th>\n",
       "    <\/tr>\n",
       "    <tr>\n",
       "      <th><\/th>\n",
       "      <th><\/th>\n",
       "      <th><\/th>\n",
       "      <th><\/th>\n",
       "      <th>mean<\/th>\n",
       "      <th>std<\/th>\n",
       "      <th>size<\/th>\n",
       "      <th>ci_ub4<\/th>\n",
       "      <th>ci_lb4<\/th>\n",
       "    <\/tr>\n",
       "  <\/thead>\n",
       "  <tbody>\n",
       "  <\/tbody>\n",
       "<\/table>\n",
       "<\/div>"
      ]
     },
     "metadata":{
      
     },
     "output_type":"display_data"
    }
   ],
   "metadata":{
    "datalore":{
     "type":"CODE",
     "hide_input_from_viewers":false,
     "hide_output_from_viewers":false
    }
   }
  },
  {
   "cell_type":"code",
   "source":[
    "statsR.columns"
   ],
   "execution_count":30,
   "outputs":[
    {
     "data":{
      "text\/plain":[
       "MultiIndex([('region',       ''),\n",
       "            (  'year',       ''),\n",
       "            ( 'month',       ''),\n",
       "            ('dcases',   'mean'),\n",
       "            ('dcases',    'std'),\n",
       "            ('dcases',   'size'),\n",
       "            ('dcases', 'ci_ub4'),\n",
       "            ('dcases', 'ci_lb4')],\n",
       "           )"
      ]
     },
     "metadata":{
      
     },
     "output_type":"display_data"
    }
   ],
   "metadata":{
    "datalore":{
     "type":"CODE",
     "hide_input_from_viewers":false,
     "hide_output_from_viewers":false
    }
   }
  },
  {
   "cell_type":"code",
   "source":[
    "statsR21=rdcases[(rdcases['region']=='East Asia & Pacific')\n",
    "  & (rdcases['year']==2021)]\n",
    "statsR21"
   ],
   "execution_count":31,
   "outputs":[
    {
     "data":{
      "text\/html":[
       "<div>\n",
       "<style scoped>\n",
       "    .dataframe tbody tr th:only-of-type {\n",
       "        vertical-align: middle;\n",
       "    }\n",
       "\n",
       "    .dataframe tbody tr th {\n",
       "        vertical-align: top;\n",
       "    }\n",
       "\n",
       "    .dataframe thead tr th {\n",
       "        text-align: left;\n",
       "    }\n",
       "<\/style>\n",
       "<table border=\"1\" class=\"dataframe\">\n",
       "  <thead>\n",
       "    <tr>\n",
       "      <th><\/th>\n",
       "      <th>region<\/th>\n",
       "      <th>year<\/th>\n",
       "      <th>month<\/th>\n",
       "      <th colspan=\"5\" halign=\"left\">dcases<\/th>\n",
       "    <\/tr>\n",
       "    <tr>\n",
       "      <th><\/th>\n",
       "      <th><\/th>\n",
       "      <th><\/th>\n",
       "      <th><\/th>\n",
       "      <th>mean<\/th>\n",
       "      <th>std<\/th>\n",
       "      <th>size<\/th>\n",
       "      <th>ci_ub4<\/th>\n",
       "      <th>ci_lb4<\/th>\n",
       "    <\/tr>\n",
       "  <\/thead>\n",
       "  <tbody>\n",
       "    <tr>\n",
       "      <th>12<\/th>\n",
       "      <td>East Asia &amp; Pacific<\/td>\n",
       "      <td>2021<\/td>\n",
       "      <td>Apr<\/td>\n",
       "      <td>1060.565217<\/td>\n",
       "      <td>2329.091311<\/td>\n",
       "      <td>690<\/td>\n",
       "      <td>1234.655140<\/td>\n",
       "      <td>886.475295<\/td>\n",
       "    <\/tr>\n",
       "    <tr>\n",
       "      <th>13<\/th>\n",
       "      <td>East Asia &amp; Pacific<\/td>\n",
       "      <td>2021<\/td>\n",
       "      <td>Aug<\/td>\n",
       "      <td>4614.985411<\/td>\n",
       "      <td>7931.303734<\/td>\n",
       "      <td>754<\/td>\n",
       "      <td>5182.014870<\/td>\n",
       "      <td>4047.955952<\/td>\n",
       "    <\/tr>\n",
       "    <tr>\n",
       "      <th>14<\/th>\n",
       "      <td>East Asia &amp; Pacific<\/td>\n",
       "      <td>2021<\/td>\n",
       "      <td>Dec<\/td>\n",
       "      <td>1599.202581<\/td>\n",
       "      <td>3930.662042<\/td>\n",
       "      <td>775<\/td>\n",
       "      <td>1876.370268<\/td>\n",
       "      <td>1322.034893<\/td>\n",
       "    <\/tr>\n",
       "    <tr>\n",
       "      <th>15<\/th>\n",
       "      <td>East Asia &amp; Pacific<\/td>\n",
       "      <td>2021<\/td>\n",
       "      <td>Feb<\/td>\n",
       "      <td>713.222050<\/td>\n",
       "      <td>1994.214109<\/td>\n",
       "      <td>644<\/td>\n",
       "      <td>867.532447<\/td>\n",
       "      <td>558.911653<\/td>\n",
       "    <\/tr>\n",
       "    <tr>\n",
       "      <th>16<\/th>\n",
       "      <td>East Asia &amp; Pacific<\/td>\n",
       "      <td>2021<\/td>\n",
       "      <td>Jan<\/td>\n",
       "      <td>974.037868<\/td>\n",
       "      <td>2493.902759<\/td>\n",
       "      <td>713<\/td>\n",
       "      <td>1157.405099<\/td>\n",
       "      <td>790.670637<\/td>\n",
       "    <\/tr>\n",
       "    <tr>\n",
       "      <th>17<\/th>\n",
       "      <td>East Asia &amp; Pacific<\/td>\n",
       "      <td>2021<\/td>\n",
       "      <td>Jul<\/td>\n",
       "      <td>3584.767473<\/td>\n",
       "      <td>8539.384316<\/td>\n",
       "      <td>744<\/td>\n",
       "      <td>4199.372652<\/td>\n",
       "      <td>2970.162294<\/td>\n",
       "    <\/tr>\n",
       "    <tr>\n",
       "      <th>18<\/th>\n",
       "      <td>East Asia &amp; Pacific<\/td>\n",
       "      <td>2021<\/td>\n",
       "      <td>Jun<\/td>\n",
       "      <td>1386.216667<\/td>\n",
       "      <td>3044.425526<\/td>\n",
       "      <td>720<\/td>\n",
       "      <td>1608.967267<\/td>\n",
       "      <td>1163.466066<\/td>\n",
       "    <\/tr>\n",
       "    <tr>\n",
       "      <th>19<\/th>\n",
       "      <td>East Asia &amp; Pacific<\/td>\n",
       "      <td>2021<\/td>\n",
       "      <td>Mar<\/td>\n",
       "      <td>654.294530<\/td>\n",
       "      <td>1684.235185<\/td>\n",
       "      <td>713<\/td>\n",
       "      <td>778.129969<\/td>\n",
       "      <td>530.459091<\/td>\n",
       "    <\/tr>\n",
       "    <tr>\n",
       "      <th>20<\/th>\n",
       "      <td>East Asia &amp; Pacific<\/td>\n",
       "      <td>2021<\/td>\n",
       "      <td>May<\/td>\n",
       "      <td>1146.808803<\/td>\n",
       "      <td>2127.435975<\/td>\n",
       "      <td>727<\/td>\n",
       "      <td>1301.712581<\/td>\n",
       "      <td>991.905025<\/td>\n",
       "    <\/tr>\n",
       "    <tr>\n",
       "      <th>21<\/th>\n",
       "      <td>East Asia &amp; Pacific<\/td>\n",
       "      <td>2021<\/td>\n",
       "      <td>Nov<\/td>\n",
       "      <td>1447.053333<\/td>\n",
       "      <td>2829.960769<\/td>\n",
       "      <td>750<\/td>\n",
       "      <td>1649.915113<\/td>\n",
       "      <td>1244.191554<\/td>\n",
       "    <\/tr>\n",
       "    <tr>\n",
       "      <th>22<\/th>\n",
       "      <td>East Asia &amp; Pacific<\/td>\n",
       "      <td>2021<\/td>\n",
       "      <td>Oct<\/td>\n",
       "      <td>1877.485161<\/td>\n",
       "      <td>3075.700882<\/td>\n",
       "      <td>775<\/td>\n",
       "      <td>2094.365903<\/td>\n",
       "      <td>1660.604419<\/td>\n",
       "    <\/tr>\n",
       "    <tr>\n",
       "      <th>23<\/th>\n",
       "      <td>East Asia &amp; Pacific<\/td>\n",
       "      <td>2021<\/td>\n",
       "      <td>Sep<\/td>\n",
       "      <td>3389.320000<\/td>\n",
       "      <td>5723.491086<\/td>\n",
       "      <td>750<\/td>\n",
       "      <td>3799.600453<\/td>\n",
       "      <td>2979.039547<\/td>\n",
       "    <\/tr>\n",
       "  <\/tbody>\n",
       "<\/table>\n",
       "<\/div>"
      ]
     },
     "metadata":{
      
     },
     "output_type":"display_data"
    }
   ],
   "metadata":{
    "datalore":{
     "type":"CODE",
     "hide_input_from_viewers":false,
     "hide_output_from_viewers":false
    }
   }
  },
  {
   "cell_type":"code",
   "source":[
    "statsR20=rdcases[(rdcases['region']=='East Asia & Pacific')\n",
    "  & (rdcases['year']==2020)]\n",
    "statsR20"
   ],
   "execution_count":33,
   "outputs":[
    {
     "data":{
      "text\/html":[
       "<div>\n",
       "<style scoped>\n",
       "    .dataframe tbody tr th:only-of-type {\n",
       "        vertical-align: middle;\n",
       "    }\n",
       "\n",
       "    .dataframe tbody tr th {\n",
       "        vertical-align: top;\n",
       "    }\n",
       "\n",
       "    .dataframe thead tr th {\n",
       "        text-align: left;\n",
       "    }\n",
       "<\/style>\n",
       "<table border=\"1\" class=\"dataframe\">\n",
       "  <thead>\n",
       "    <tr>\n",
       "      <th><\/th>\n",
       "      <th>region<\/th>\n",
       "      <th>year<\/th>\n",
       "      <th>month<\/th>\n",
       "      <th colspan=\"5\" halign=\"left\">dcases<\/th>\n",
       "    <\/tr>\n",
       "    <tr>\n",
       "      <th><\/th>\n",
       "      <th><\/th>\n",
       "      <th><\/th>\n",
       "      <th><\/th>\n",
       "      <th>mean<\/th>\n",
       "      <th>std<\/th>\n",
       "      <th>size<\/th>\n",
       "      <th>ci_ub4<\/th>\n",
       "      <th>ci_lb4<\/th>\n",
       "    <\/tr>\n",
       "  <\/thead>\n",
       "  <tbody>\n",
       "    <tr>\n",
       "      <th>0<\/th>\n",
       "      <td>East Asia &amp; Pacific<\/td>\n",
       "      <td>2020<\/td>\n",
       "      <td>Apr<\/td>\n",
       "      <td>92.700000<\/td>\n",
       "      <td>177.828711<\/td>\n",
       "      <td>570<\/td>\n",
       "      <td>107.329764<\/td>\n",
       "      <td>78.070236<\/td>\n",
       "    <\/tr>\n",
       "    <tr>\n",
       "      <th>1<\/th>\n",
       "      <td>East Asia &amp; Pacific<\/td>\n",
       "      <td>2020<\/td>\n",
       "      <td>Aug<\/td>\n",
       "      <td>423.417657<\/td>\n",
       "      <td>1044.901057<\/td>\n",
       "      <td>589<\/td>\n",
       "      <td>507.976780<\/td>\n",
       "      <td>338.858534<\/td>\n",
       "    <\/tr>\n",
       "    <tr>\n",
       "      <th>2<\/th>\n",
       "      <td>East Asia &amp; Pacific<\/td>\n",
       "      <td>2020<\/td>\n",
       "      <td>Dec<\/td>\n",
       "      <td>630.715288<\/td>\n",
       "      <td>1475.101424<\/td>\n",
       "      <td>713<\/td>\n",
       "      <td>739.173912<\/td>\n",
       "      <td>522.256663<\/td>\n",
       "    <\/tr>\n",
       "    <tr>\n",
       "      <th>3<\/th>\n",
       "      <td>East Asia &amp; Pacific<\/td>\n",
       "      <td>2020<\/td>\n",
       "      <td>Feb<\/td>\n",
       "      <td>250.304795<\/td>\n",
       "      <td>1155.872616<\/td>\n",
       "      <td>292<\/td>\n",
       "      <td>383.435013<\/td>\n",
       "      <td>117.174576<\/td>\n",
       "    <\/tr>\n",
       "    <tr>\n",
       "      <th>4<\/th>\n",
       "      <td>East Asia &amp; Pacific<\/td>\n",
       "      <td>2020<\/td>\n",
       "      <td>Jan<\/td>\n",
       "      <td>126.679487<\/td>\n",
       "      <td>436.945076<\/td>\n",
       "      <td>78<\/td>\n",
       "      <td>225.195380<\/td>\n",
       "      <td>28.163595<\/td>\n",
       "    <\/tr>\n",
       "    <tr>\n",
       "      <th>5<\/th>\n",
       "      <td>East Asia &amp; Pacific<\/td>\n",
       "      <td>2020<\/td>\n",
       "      <td>Jul<\/td>\n",
       "      <td>252.157895<\/td>\n",
       "      <td>571.667546<\/td>\n",
       "      <td>589<\/td>\n",
       "      <td>298.420367<\/td>\n",
       "      <td>205.895422<\/td>\n",
       "    <\/tr>\n",
       "    <tr>\n",
       "      <th>6<\/th>\n",
       "      <td>East Asia &amp; Pacific<\/td>\n",
       "      <td>2020<\/td>\n",
       "      <td>Jun<\/td>\n",
       "      <td>112.329825<\/td>\n",
       "      <td>270.676176<\/td>\n",
       "      <td>570<\/td>\n",
       "      <td>134.598043<\/td>\n",
       "      <td>90.061606<\/td>\n",
       "    <\/tr>\n",
       "    <tr>\n",
       "      <th>7<\/th>\n",
       "      <td>East Asia &amp; Pacific<\/td>\n",
       "      <td>2020<\/td>\n",
       "      <td>Mar<\/td>\n",
       "      <td>55.969828<\/td>\n",
       "      <td>102.512114<\/td>\n",
       "      <td>464<\/td>\n",
       "      <td>65.321753<\/td>\n",
       "      <td>46.617902<\/td>\n",
       "    <\/tr>\n",
       "    <tr>\n",
       "      <th>8<\/th>\n",
       "      <td>East Asia &amp; Pacific<\/td>\n",
       "      <td>2020<\/td>\n",
       "      <td>May<\/td>\n",
       "      <td>86.125637<\/td>\n",
       "      <td>193.352744<\/td>\n",
       "      <td>589<\/td>\n",
       "      <td>101.772801<\/td>\n",
       "      <td>70.478472<\/td>\n",
       "    <\/tr>\n",
       "    <tr>\n",
       "      <th>9<\/th>\n",
       "      <td>East Asia &amp; Pacific<\/td>\n",
       "      <td>2020<\/td>\n",
       "      <td>Nov<\/td>\n",
       "      <td>467.615964<\/td>\n",
       "      <td>1031.543735<\/td>\n",
       "      <td>664<\/td>\n",
       "      <td>546.220071<\/td>\n",
       "      <td>389.011857<\/td>\n",
       "    <\/tr>\n",
       "    <tr>\n",
       "      <th>10<\/th>\n",
       "      <td>East Asia &amp; Pacific<\/td>\n",
       "      <td>2020<\/td>\n",
       "      <td>Oct<\/td>\n",
       "      <td>447.566069<\/td>\n",
       "      <td>1000.134807<\/td>\n",
       "      <td>613<\/td>\n",
       "      <td>526.895826<\/td>\n",
       "      <td>368.236311<\/td>\n",
       "    <\/tr>\n",
       "    <tr>\n",
       "      <th>11<\/th>\n",
       "      <td>East Asia &amp; Pacific<\/td>\n",
       "      <td>2020<\/td>\n",
       "      <td>Sep<\/td>\n",
       "      <td>420.385965<\/td>\n",
       "      <td>1060.530412<\/td>\n",
       "      <td>570<\/td>\n",
       "      <td>507.634584<\/td>\n",
       "      <td>333.137346<\/td>\n",
       "    <\/tr>\n",
       "  <\/tbody>\n",
       "<\/table>\n",
       "<\/div>"
      ]
     },
     "metadata":{
      
     },
     "output_type":"display_data"
    }
   ],
   "metadata":{
    "datalore":{
     "type":"CODE",
     "hide_input_from_viewers":false,
     "hide_output_from_viewers":false
    }
   }
  },
  {
   "cell_type":"code",
   "source":[
    "statsR20.columns=['region','year','month','mean','std','size','ci_lb4','ci_ub4']"
   ],
   "execution_count":34,
   "outputs":[
    
   ],
   "metadata":{
    "datalore":{
     "type":"CODE",
     "hide_input_from_viewers":false,
     "hide_output_from_viewers":false
    }
   }
  },
  {
   "cell_type":"code",
   "source":[
    "statsR21.columns=['region','year','month','mean','std','size','ci_lb4','ci_ub4']"
   ],
   "execution_count":35,
   "outputs":[
    
   ],
   "metadata":{
    "datalore":{
     "type":"CODE",
     "hide_input_from_viewers":false,
     "hide_output_from_viewers":false
    }
   }
  },
  {
   "cell_type":"code",
   "source":[
    "x=statsR20['region']\n",
    "x"
   ],
   "execution_count":37,
   "outputs":[
    {
     "data":{
      "text\/html":[
       
      ]
     },
     "metadata":{
      
     },
     "output_type":"display_data"
    }
   ],
   "metadata":{
    "datalore":{
     "type":"CODE",
     "hide_input_from_viewers":false,
     "hide_output_from_viewers":false
    }
   }
  },
  {
   "cell_type":"code",
   "source":[
    "y1=statsR20['mean']\n",
    "y1"
   ],
   "execution_count":38,
   "outputs":[
    {
     "data":{
      "text\/html":[
       
      ]
     },
     "metadata":{
      
     },
     "output_type":"display_data"
    }
   ],
   "metadata":{
    "datalore":{
     "type":"CODE",
     "hide_input_from_viewers":false,
     "hide_output_from_viewers":false
    }
   }
  },
  {
   "cell_type":"code",
   "source":[
    "y2=statsR21['mean']\n",
    "y2"
   ],
   "execution_count":39,
   "outputs":[
    {
     "data":{
      "text\/html":[
       
      ]
     },
     "metadata":{
      
     },
     "output_type":"display_data"
    }
   ],
   "metadata":{
    "datalore":{
     "type":"CODE",
     "hide_input_from_viewers":false,
     "hide_output_from_viewers":false
    }
   }
  },
  {
   "cell_type":"code",
   "source":[
    "ci_lb_ubR20=[statsR20['ci_lb4'],statsR20['ci_ub4']]\n",
    "errR20 = np.abs(ci_lb_ubR20 - statsR20['mean'].to_numpy())"
   ],
   "execution_count":40,
   "outputs":[
    
   ],
   "metadata":{
    "datalore":{
     "type":"CODE",
     "hide_input_from_viewers":false,
     "hide_output_from_viewers":false
    }
   }
  },
  {
   "cell_type":"code",
   "source":[
    "ci_lb_ubR21=[statsR21['ci_lb4'],statsR21['ci_ub4']]\n",
    "errR21 = np.abs(ci_lb_ubR21 - statsR21['mean'].to_numpy())"
   ],
   "execution_count":42,
   "outputs":[
    
   ],
   "metadata":{
    "datalore":{
     "type":"CODE",
     "hide_input_from_viewers":false,
     "hide_output_from_viewers":false
    }
   }
  },
  {
   "cell_type":"code",
   "source":[
    "from matplotlib.transforms import Affine2D"
   ],
   "execution_count":49,
   "outputs":[
    
   ],
   "metadata":{
    "datalore":{
     "type":"CODE",
     "hide_input_from_viewers":false,
     "hide_output_from_viewers":false
    }
   }
  },
  {
   "cell_type":"code",
   "source":[
    "fig, ax = plt.subplots()\n",
    "\n",
    "trans1 = Affine2D().translate(-0.1, 0.0) + ax.transData\n",
    "trans2 = Affine2D().translate(+0.1, 0.0) + ax.transData\n",
    "plt.errorbar('month', 'mean',  yerr=errR20, data=statsR20,marker='s', capsize=2,\n",
    "             color='blue', markersize=4, linewidth=1, linestyle='--',transform=trans1)\n",
    "plt.errorbar('month', 'mean',  yerr=errR21, data=statsR21,marker='s', capsize=2,\n",
    "             color='red', markersize=4, linewidth=1, linestyle='--',transform=trans2)\n",
    "plt.legend(['2020','2021'])\n",
    "plt.xlabel(\"Month\")\n",
    "plt.ylabel(\"Average Daily COVID CASES\")\n",
    "plt.title(\"East Asia & Pacific\")\n",
    "plt.show()"
   ],
   "execution_count":46,
   "outputs":[
    {
     "data":{
      "image\/png":"[encoded data removed]"
     },
     "metadata":{
      "image\/png":{
       
      }
     },
     "output_type":"display_data"
    }
   ],
   "metadata":{
    "datalore":{
     "type":"CODE",
     "hide_input_from_viewers":false,
     "hide_output_from_viewers":false
    }
   }
  },
  {
   "cell_type":"markdown",
   "source":[
    "The line graph above is the average daily covid cases between 2020 and 2021 with error bars. The graph shows that the East Asia and Pacific region did not suffer from any cases deaths until August 2020 and then kept on increaing and decreasing but not significantly. Then, for 2021 the base rate was only 1 thousand cases which is a very small rate, then the number kept on fluctuating. Some error bars are bigger than others in the 2021 points which show that they may be inaccurate; therefore, not that reliable."
   ],
   "attachments":{
    
   },
   "metadata":{
    "datalore":{
     "type":"MD",
     "hide_input_from_viewers":false,
     "hide_output_from_viewers":false
    }
   }
  },
  {
   "cell_type":"markdown",
   "source":[
    "**Region no.2 Europe and Central Asia**"
   ],
   "attachments":{
    
   },
   "metadata":{
    "datalore":{
     "type":"MD",
     "hide_input_from_viewers":false,
     "hide_output_from_viewers":false
    }
   }
  },
  {
   "cell_type":"code",
   "source":[
    "statsR2=rdcases[(rdcases['region']=='Europe & Central Asia') & (rdcases['year']==2020)]"
   ],
   "execution_count":74,
   "outputs":[
    
   ],
   "metadata":{
    "datalore":{
     "type":"CODE",
     "hide_input_from_viewers":false,
     "hide_output_from_viewers":false
    }
   }
  },
  {
   "cell_type":"code",
   "source":[
    "statsR2"
   ],
   "execution_count":75,
   "outputs":[
    {
     "data":{
      "text\/html":[
       "<div>\n",
       "<style scoped>\n",
       "    .dataframe tbody tr th:only-of-type {\n",
       "        vertical-align: middle;\n",
       "    }\n",
       "\n",
       "    .dataframe tbody tr th {\n",
       "        vertical-align: top;\n",
       "    }\n",
       "\n",
       "    .dataframe thead tr th {\n",
       "        text-align: left;\n",
       "    }\n",
       "<\/style>\n",
       "<table border=\"1\" class=\"dataframe\">\n",
       "  <thead>\n",
       "    <tr>\n",
       "      <th><\/th>\n",
       "      <th>region<\/th>\n",
       "      <th>year<\/th>\n",
       "      <th>month<\/th>\n",
       "      <th colspan=\"5\" halign=\"left\">dcases<\/th>\n",
       "    <\/tr>\n",
       "    <tr>\n",
       "      <th><\/th>\n",
       "      <th><\/th>\n",
       "      <th><\/th>\n",
       "      <th><\/th>\n",
       "      <th>mean<\/th>\n",
       "      <th>std<\/th>\n",
       "      <th>size<\/th>\n",
       "      <th>ci_ub4<\/th>\n",
       "      <th>ci_lb4<\/th>\n",
       "    <\/tr>\n",
       "  <\/thead>\n",
       "  <tbody>\n",
       "    <tr>\n",
       "      <th>24<\/th>\n",
       "      <td>Europe &amp; Central Asia<\/td>\n",
       "      <td>2020<\/td>\n",
       "      <td>Apr<\/td>\n",
       "      <td>693.848667<\/td>\n",
       "      <td>1939.781037<\/td>\n",
       "      <td>1500<\/td>\n",
       "      <td>792.092653<\/td>\n",
       "      <td>595.604680<\/td>\n",
       "    <\/tr>\n",
       "    <tr>\n",
       "      <th>25<\/th>\n",
       "      <td>Europe &amp; Central Asia<\/td>\n",
       "      <td>2020<\/td>\n",
       "      <td>Aug<\/td>\n",
       "      <td>557.484503<\/td>\n",
       "      <td>1427.035570<\/td>\n",
       "      <td>1581<\/td>\n",
       "      <td>627.880793<\/td>\n",
       "      <td>487.088214<\/td>\n",
       "    <\/tr>\n",
       "    <tr>\n",
       "      <th>26<\/th>\n",
       "      <td>Europe &amp; Central Asia<\/td>\n",
       "      <td>2020<\/td>\n",
       "      <td>Dec<\/td>\n",
       "      <td>5276.588868<\/td>\n",
       "      <td>21992.213905<\/td>\n",
       "      <td>1581<\/td>\n",
       "      <td>6361.474414<\/td>\n",
       "      <td>4191.703322<\/td>\n",
       "    <\/tr>\n",
       "    <tr>\n",
       "      <th>27<\/th>\n",
       "      <td>Europe &amp; Central Asia<\/td>\n",
       "      <td>2020<\/td>\n",
       "      <td>Feb<\/td>\n",
       "      <td>4.819936<\/td>\n",
       "      <td>24.944837<\/td>\n",
       "      <td>311<\/td>\n",
       "      <td>7.603155<\/td>\n",
       "      <td>2.036716<\/td>\n",
       "    <\/tr>\n",
       "    <tr>\n",
       "      <th>28<\/th>\n",
       "      <td>Europe &amp; Central Asia<\/td>\n",
       "      <td>2020<\/td>\n",
       "      <td>Jan<\/td>\n",
       "      <td>0.894737<\/td>\n",
       "      <td>0.936586<\/td>\n",
       "      <td>19<\/td>\n",
       "      <td>1.346157<\/td>\n",
       "      <td>0.443317<\/td>\n",
       "    <\/tr>\n",
       "    <tr>\n",
       "      <th>29<\/th>\n",
       "      <td>Europe &amp; Central Asia<\/td>\n",
       "      <td>2020<\/td>\n",
       "      <td>Jul<\/td>\n",
       "      <td>398.997470<\/td>\n",
       "      <td>1080.452784<\/td>\n",
       "      <td>1581<\/td>\n",
       "      <td>452.296679<\/td>\n",
       "      <td>345.698261<\/td>\n",
       "    <\/tr>\n",
       "    <tr>\n",
       "      <th>30<\/th>\n",
       "      <td>Europe &amp; Central Asia<\/td>\n",
       "      <td>2020<\/td>\n",
       "      <td>Jun<\/td>\n",
       "      <td>351.989542<\/td>\n",
       "      <td>1137.680770<\/td>\n",
       "      <td>1530<\/td>\n",
       "      <td>409.040996<\/td>\n",
       "      <td>294.938089<\/td>\n",
       "    <\/tr>\n",
       "    <tr>\n",
       "      <th>31<\/th>\n",
       "      <td>Europe &amp; Central Asia<\/td>\n",
       "      <td>2020<\/td>\n",
       "      <td>Mar<\/td>\n",
       "      <td>338.220733<\/td>\n",
       "      <td>1065.272767<\/td>\n",
       "      <td>1418<\/td>\n",
       "      <td>393.714208<\/td>\n",
       "      <td>282.727259<\/td>\n",
       "    <\/tr>\n",
       "    <tr>\n",
       "      <th>32<\/th>\n",
       "      <td>Europe &amp; Central Asia<\/td>\n",
       "      <td>2020<\/td>\n",
       "      <td>May<\/td>\n",
       "      <td>424.242884<\/td>\n",
       "      <td>1403.684633<\/td>\n",
       "      <td>1581<\/td>\n",
       "      <td>493.487262<\/td>\n",
       "      <td>354.998506<\/td>\n",
       "    <\/tr>\n",
       "    <tr>\n",
       "      <th>33<\/th>\n",
       "      <td>Europe &amp; Central Asia<\/td>\n",
       "      <td>2020<\/td>\n",
       "      <td>Nov<\/td>\n",
       "      <td>5183.352288<\/td>\n",
       "      <td>9110.089031<\/td>\n",
       "      <td>1530<\/td>\n",
       "      <td>5640.197332<\/td>\n",
       "      <td>4726.507243<\/td>\n",
       "    <\/tr>\n",
       "    <tr>\n",
       "      <th>34<\/th>\n",
       "      <td>Europe &amp; Central Asia<\/td>\n",
       "      <td>2020<\/td>\n",
       "      <td>Oct<\/td>\n",
       "      <td>3193.193548<\/td>\n",
       "      <td>6395.982837<\/td>\n",
       "      <td>1581<\/td>\n",
       "      <td>3508.710184<\/td>\n",
       "      <td>2877.676913<\/td>\n",
       "    <\/tr>\n",
       "    <tr>\n",
       "      <th>35<\/th>\n",
       "      <td>Europe &amp; Central Asia<\/td>\n",
       "      <td>2020<\/td>\n",
       "      <td>Sep<\/td>\n",
       "      <td>1008.238562<\/td>\n",
       "      <td>2527.394697<\/td>\n",
       "      <td>1530<\/td>\n",
       "      <td>1134.980215<\/td>\n",
       "      <td>881.496909<\/td>\n",
       "    <\/tr>\n",
       "  <\/tbody>\n",
       "<\/table>\n",
       "<\/div>"
      ]
     },
     "metadata":{
      
     },
     "output_type":"display_data"
    }
   ],
   "metadata":{
    "datalore":{
     "type":"CODE",
     "hide_input_from_viewers":false,
     "hide_output_from_viewers":false
    }
   }
  },
  {
   "cell_type":"code",
   "source":[
    "statsR2.columns"
   ],
   "execution_count":76,
   "outputs":[
    {
     "data":{
      "text\/plain":[
       "MultiIndex([('region',       ''),\n",
       "            (  'year',       ''),\n",
       "            ( 'month',       ''),\n",
       "            ('dcases',   'mean'),\n",
       "            ('dcases',    'std'),\n",
       "            ('dcases',   'size'),\n",
       "            ('dcases', 'ci_ub4'),\n",
       "            ('dcases', 'ci_lb4')],\n",
       "           )"
      ]
     },
     "metadata":{
      
     },
     "output_type":"display_data"
    }
   ],
   "metadata":{
    "datalore":{
     "type":"CODE",
     "hide_input_from_viewers":false,
     "hide_output_from_viewers":false
    }
   }
  },
  {
   "cell_type":"code",
   "source":[
    "statsR221=rdcases[(rdcases['region']=='Europe & Central Asia')\n",
    "  & (rdcases['year']==2021)]\n",
    "statsR221"
   ],
   "execution_count":78,
   "outputs":[
    {
     "data":{
      "text\/html":[
       "<div>\n",
       "<style scoped>\n",
       "    .dataframe tbody tr th:only-of-type {\n",
       "        vertical-align: middle;\n",
       "    }\n",
       "\n",
       "    .dataframe tbody tr th {\n",
       "        vertical-align: top;\n",
       "    }\n",
       "\n",
       "    .dataframe thead tr th {\n",
       "        text-align: left;\n",
       "    }\n",
       "<\/style>\n",
       "<table border=\"1\" class=\"dataframe\">\n",
       "  <thead>\n",
       "    <tr>\n",
       "      <th><\/th>\n",
       "      <th>region<\/th>\n",
       "      <th>year<\/th>\n",
       "      <th>month<\/th>\n",
       "      <th colspan=\"5\" halign=\"left\">dcases<\/th>\n",
       "    <\/tr>\n",
       "    <tr>\n",
       "      <th><\/th>\n",
       "      <th><\/th>\n",
       "      <th><\/th>\n",
       "      <th><\/th>\n",
       "      <th>mean<\/th>\n",
       "      <th>std<\/th>\n",
       "      <th>size<\/th>\n",
       "      <th>ci_ub4<\/th>\n",
       "      <th>ci_lb4<\/th>\n",
       "    <\/tr>\n",
       "  <\/thead>\n",
       "  <tbody>\n",
       "    <tr>\n",
       "      <th>36<\/th>\n",
       "      <td>Europe &amp; Central Asia<\/td>\n",
       "      <td>2021<\/td>\n",
       "      <td>Apr<\/td>\n",
       "      <td>4400.757516<\/td>\n",
       "      <td>9911.409826<\/td>\n",
       "      <td>1530<\/td>\n",
       "      <td>4897.786519<\/td>\n",
       "      <td>3903.728514<\/td>\n",
       "    <\/tr>\n",
       "    <tr>\n",
       "      <th>37<\/th>\n",
       "      <td>Europe &amp; Central Asia<\/td>\n",
       "      <td>2021<\/td>\n",
       "      <td>Aug<\/td>\n",
       "      <td>3180.007590<\/td>\n",
       "      <td>6844.920329<\/td>\n",
       "      <td>1581<\/td>\n",
       "      <td>3517.670508<\/td>\n",
       "      <td>2842.344672<\/td>\n",
       "    <\/tr>\n",
       "    <tr>\n",
       "      <th>38<\/th>\n",
       "      <td>Europe &amp; Central Asia<\/td>\n",
       "      <td>2021<\/td>\n",
       "      <td>Dec<\/td>\n",
       "      <td>9411.908918<\/td>\n",
       "      <td>22368.523899<\/td>\n",
       "      <td>1581<\/td>\n",
       "      <td>10515.358001<\/td>\n",
       "      <td>8308.459836<\/td>\n",
       "    <\/tr>\n",
       "    <tr>\n",
       "      <th>39<\/th>\n",
       "      <td>Europe &amp; Central Asia<\/td>\n",
       "      <td>2021<\/td>\n",
       "      <td>Feb<\/td>\n",
       "      <td>3034.478291<\/td>\n",
       "      <td>5547.740717<\/td>\n",
       "      <td>1428<\/td>\n",
       "      <td>3322.462489<\/td>\n",
       "      <td>2746.494094<\/td>\n",
       "    <\/tr>\n",
       "    <tr>\n",
       "      <th>40<\/th>\n",
       "      <td>Europe &amp; Central Asia<\/td>\n",
       "      <td>2021<\/td>\n",
       "      <td>Jan<\/td>\n",
       "      <td>4423.700822<\/td>\n",
       "      <td>9236.689814<\/td>\n",
       "      <td>1581<\/td>\n",
       "      <td>4879.350777<\/td>\n",
       "      <td>3968.050868<\/td>\n",
       "    <\/tr>\n",
       "    <tr>\n",
       "      <th>41<\/th>\n",
       "      <td>Europe &amp; Central Asia<\/td>\n",
       "      <td>2021<\/td>\n",
       "      <td>Jul<\/td>\n",
       "      <td>2646.413662<\/td>\n",
       "      <td>7396.965106<\/td>\n",
       "      <td>1581<\/td>\n",
       "      <td>3011.309191<\/td>\n",
       "      <td>2281.518133<\/td>\n",
       "    <\/tr>\n",
       "    <tr>\n",
       "      <th>42<\/th>\n",
       "      <td>Europe &amp; Central Asia<\/td>\n",
       "      <td>2021<\/td>\n",
       "      <td>Jun<\/td>\n",
       "      <td>1075.566013<\/td>\n",
       "      <td>2875.930124<\/td>\n",
       "      <td>1530<\/td>\n",
       "      <td>1219.785726<\/td>\n",
       "      <td>931.346300<\/td>\n",
       "    <\/tr>\n",
       "    <tr>\n",
       "      <th>43<\/th>\n",
       "      <td>Europe &amp; Central Asia<\/td>\n",
       "      <td>2021<\/td>\n",
       "      <td>Mar<\/td>\n",
       "      <td>4017.991145<\/td>\n",
       "      <td>6963.850364<\/td>\n",
       "      <td>1581<\/td>\n",
       "      <td>4361.520934<\/td>\n",
       "      <td>3674.461356<\/td>\n",
       "    <\/tr>\n",
       "    <tr>\n",
       "      <th>44<\/th>\n",
       "      <td>Europe &amp; Central Asia<\/td>\n",
       "      <td>2021<\/td>\n",
       "      <td>May<\/td>\n",
       "      <td>1864.763441<\/td>\n",
       "      <td>3692.159287<\/td>\n",
       "      <td>1581<\/td>\n",
       "      <td>2046.899276<\/td>\n",
       "      <td>1682.627606<\/td>\n",
       "    <\/tr>\n",
       "    <tr>\n",
       "      <th>45<\/th>\n",
       "      <td>Europe &amp; Central Asia<\/td>\n",
       "      <td>2021<\/td>\n",
       "      <td>Nov<\/td>\n",
       "      <td>6763.426144<\/td>\n",
       "      <td>11088.295989<\/td>\n",
       "      <td>1530<\/td>\n",
       "      <td>7319.472639<\/td>\n",
       "      <td>6207.379649<\/td>\n",
       "    <\/tr>\n",
       "    <tr>\n",
       "      <th>46<\/th>\n",
       "      <td>Europe &amp; Central Asia<\/td>\n",
       "      <td>2021<\/td>\n",
       "      <td>Oct<\/td>\n",
       "      <td>4243.963947<\/td>\n",
       "      <td>8383.799608<\/td>\n",
       "      <td>1581<\/td>\n",
       "      <td>4657.540454<\/td>\n",
       "      <td>3830.387440<\/td>\n",
       "    <\/tr>\n",
       "    <tr>\n",
       "      <th>47<\/th>\n",
       "      <td>Europe &amp; Central Asia<\/td>\n",
       "      <td>2021<\/td>\n",
       "      <td>Sep<\/td>\n",
       "      <td>3095.722222<\/td>\n",
       "      <td>6524.122498<\/td>\n",
       "      <td>1530<\/td>\n",
       "      <td>3422.888403<\/td>\n",
       "      <td>2768.556042<\/td>\n",
       "    <\/tr>\n",
       "  <\/tbody>\n",
       "<\/table>\n",
       "<\/div>"
      ]
     },
     "metadata":{
      
     },
     "output_type":"display_data"
    }
   ],
   "metadata":{
    "datalore":{
     "type":"CODE",
     "hide_input_from_viewers":false,
     "hide_output_from_viewers":false
    }
   }
  },
  {
   "cell_type":"code",
   "source":[
    "statsR220=rdcases[(rdcases['region']=='Europe & Central Asia')\n",
    "  & (rdcases['year']==2020)]\n",
    "statsR20"
   ],
   "execution_count":79,
   "outputs":[
    {
     "data":{
      "text\/html":[
       "<div>\n",
       "<style scoped>\n",
       "    .dataframe tbody tr th:only-of-type {\n",
       "        vertical-align: middle;\n",
       "    }\n",
       "\n",
       "    .dataframe tbody tr th {\n",
       "        vertical-align: top;\n",
       "    }\n",
       "\n",
       "    .dataframe thead th {\n",
       "        text-align: right;\n",
       "    }\n",
       "<\/style>\n",
       "<table border=\"1\" class=\"dataframe\">\n",
       "  <thead>\n",
       "    <tr style=\"text-align: right;\">\n",
       "      <th><\/th>\n",
       "      <th>region<\/th>\n",
       "      <th>year<\/th>\n",
       "      <th>month<\/th>\n",
       "      <th>mean<\/th>\n",
       "      <th>std<\/th>\n",
       "      <th>size<\/th>\n",
       "      <th>ci_lb4<\/th>\n",
       "      <th>ci_ub4<\/th>\n",
       "    <\/tr>\n",
       "  <\/thead>\n",
       "  <tbody>\n",
       "    <tr>\n",
       "      <th>0<\/th>\n",
       "      <td>East Asia &amp; Pacific<\/td>\n",
       "      <td>2020<\/td>\n",
       "      <td>Apr<\/td>\n",
       "      <td>92.700000<\/td>\n",
       "      <td>177.828711<\/td>\n",
       "      <td>570<\/td>\n",
       "      <td>107.329764<\/td>\n",
       "      <td>78.070236<\/td>\n",
       "    <\/tr>\n",
       "    <tr>\n",
       "      <th>1<\/th>\n",
       "      <td>East Asia &amp; Pacific<\/td>\n",
       "      <td>2020<\/td>\n",
       "      <td>Aug<\/td>\n",
       "      <td>423.417657<\/td>\n",
       "      <td>1044.901057<\/td>\n",
       "      <td>589<\/td>\n",
       "      <td>507.976780<\/td>\n",
       "      <td>338.858534<\/td>\n",
       "    <\/tr>\n",
       "    <tr>\n",
       "      <th>2<\/th>\n",
       "      <td>East Asia &amp; Pacific<\/td>\n",
       "      <td>2020<\/td>\n",
       "      <td>Dec<\/td>\n",
       "      <td>630.715288<\/td>\n",
       "      <td>1475.101424<\/td>\n",
       "      <td>713<\/td>\n",
       "      <td>739.173912<\/td>\n",
       "      <td>522.256663<\/td>\n",
       "    <\/tr>\n",
       "    <tr>\n",
       "      <th>3<\/th>\n",
       "      <td>East Asia &amp; Pacific<\/td>\n",
       "      <td>2020<\/td>\n",
       "      <td>Feb<\/td>\n",
       "      <td>250.304795<\/td>\n",
       "      <td>1155.872616<\/td>\n",
       "      <td>292<\/td>\n",
       "      <td>383.435013<\/td>\n",
       "      <td>117.174576<\/td>\n",
       "    <\/tr>\n",
       "    <tr>\n",
       "      <th>4<\/th>\n",
       "      <td>East Asia &amp; Pacific<\/td>\n",
       "      <td>2020<\/td>\n",
       "      <td>Jan<\/td>\n",
       "      <td>126.679487<\/td>\n",
       "      <td>436.945076<\/td>\n",
       "      <td>78<\/td>\n",
       "      <td>225.195380<\/td>\n",
       "      <td>28.163595<\/td>\n",
       "    <\/tr>\n",
       "    <tr>\n",
       "      <th>5<\/th>\n",
       "      <td>East Asia &amp; Pacific<\/td>\n",
       "      <td>2020<\/td>\n",
       "      <td>Jul<\/td>\n",
       "      <td>252.157895<\/td>\n",
       "      <td>571.667546<\/td>\n",
       "      <td>589<\/td>\n",
       "      <td>298.420367<\/td>\n",
       "      <td>205.895422<\/td>\n",
       "    <\/tr>\n",
       "    <tr>\n",
       "      <th>6<\/th>\n",
       "      <td>East Asia &amp; Pacific<\/td>\n",
       "      <td>2020<\/td>\n",
       "      <td>Jun<\/td>\n",
       "      <td>112.329825<\/td>\n",
       "      <td>270.676176<\/td>\n",
       "      <td>570<\/td>\n",
       "      <td>134.598043<\/td>\n",
       "      <td>90.061606<\/td>\n",
       "    <\/tr>\n",
       "    <tr>\n",
       "      <th>7<\/th>\n",
       "      <td>East Asia &amp; Pacific<\/td>\n",
       "      <td>2020<\/td>\n",
       "      <td>Mar<\/td>\n",
       "      <td>55.969828<\/td>\n",
       "      <td>102.512114<\/td>\n",
       "      <td>464<\/td>\n",
       "      <td>65.321753<\/td>\n",
       "      <td>46.617902<\/td>\n",
       "    <\/tr>\n",
       "    <tr>\n",
       "      <th>8<\/th>\n",
       "      <td>East Asia &amp; Pacific<\/td>\n",
       "      <td>2020<\/td>\n",
       "      <td>May<\/td>\n",
       "      <td>86.125637<\/td>\n",
       "      <td>193.352744<\/td>\n",
       "      <td>589<\/td>\n",
       "      <td>101.772801<\/td>\n",
       "      <td>70.478472<\/td>\n",
       "    <\/tr>\n",
       "    <tr>\n",
       "      <th>9<\/th>\n",
       "      <td>East Asia &amp; Pacific<\/td>\n",
       "      <td>2020<\/td>\n",
       "      <td>Nov<\/td>\n",
       "      <td>467.615964<\/td>\n",
       "      <td>1031.543735<\/td>\n",
       "      <td>664<\/td>\n",
       "      <td>546.220071<\/td>\n",
       "      <td>389.011857<\/td>\n",
       "    <\/tr>\n",
       "    <tr>\n",
       "      <th>10<\/th>\n",
       "      <td>East Asia &amp; Pacific<\/td>\n",
       "      <td>2020<\/td>\n",
       "      <td>Oct<\/td>\n",
       "      <td>447.566069<\/td>\n",
       "      <td>1000.134807<\/td>\n",
       "      <td>613<\/td>\n",
       "      <td>526.895826<\/td>\n",
       "      <td>368.236311<\/td>\n",
       "    <\/tr>\n",
       "    <tr>\n",
       "      <th>11<\/th>\n",
       "      <td>East Asia &amp; Pacific<\/td>\n",
       "      <td>2020<\/td>\n",
       "      <td>Sep<\/td>\n",
       "      <td>420.385965<\/td>\n",
       "      <td>1060.530412<\/td>\n",
       "      <td>570<\/td>\n",
       "      <td>507.634584<\/td>\n",
       "      <td>333.137346<\/td>\n",
       "    <\/tr>\n",
       "  <\/tbody>\n",
       "<\/table>\n",
       "<\/div>"
      ]
     },
     "metadata":{
      
     },
     "output_type":"display_data"
    }
   ],
   "metadata":{
    "datalore":{
     "type":"CODE",
     "hide_input_from_viewers":false,
     "hide_output_from_viewers":false
    }
   }
  },
  {
   "cell_type":"code",
   "source":[
    "statsR220.columns=['region','year','month','mean','std','size','ci_lb4','ci_ub4']"
   ],
   "execution_count":80,
   "outputs":[
    
   ],
   "metadata":{
    "datalore":{
     "type":"CODE",
     "hide_input_from_viewers":false,
     "hide_output_from_viewers":false
    }
   }
  },
  {
   "cell_type":"code",
   "source":[
    "statsR221.columns=['region','year','month','mean','std','size','ci_lb4','ci_ub4']"
   ],
   "execution_count":81,
   "outputs":[
    
   ],
   "metadata":{
    "datalore":{
     "type":"CODE",
     "hide_input_from_viewers":false,
     "hide_output_from_viewers":false
    }
   }
  },
  {
   "cell_type":"code",
   "source":[
    "x=statsR220['region']\n",
    "x"
   ],
   "execution_count":82,
   "outputs":[
    {
     "data":{
      "text\/html":[
       
      ]
     },
     "metadata":{
      
     },
     "output_type":"display_data"
    }
   ],
   "metadata":{
    "datalore":{
     "type":"CODE",
     "hide_input_from_viewers":false,
     "hide_output_from_viewers":false
    }
   }
  },
  {
   "cell_type":"code",
   "source":[
    "y1=statsR220['mean']\n",
    "y1"
   ],
   "execution_count":83,
   "outputs":[
    {
     "data":{
      "text\/html":[
       
      ]
     },
     "metadata":{
      
     },
     "output_type":"display_data"
    }
   ],
   "metadata":{
    "datalore":{
     "type":"CODE",
     "hide_input_from_viewers":false,
     "hide_output_from_viewers":false
    }
   }
  },
  {
   "cell_type":"code",
   "source":[
    "y2=statsR221['mean']\n",
    "y2"
   ],
   "execution_count":84,
   "outputs":[
    {
     "data":{
      "text\/html":[
       
      ]
     },
     "metadata":{
      
     },
     "output_type":"display_data"
    }
   ],
   "metadata":{
    "datalore":{
     "type":"CODE",
     "hide_input_from_viewers":false,
     "hide_output_from_viewers":false
    }
   }
  },
  {
   "cell_type":"code",
   "source":[
    "ci_lb_ubR220=[statsR220['ci_lb4'],statsR220['ci_ub4']]\n",
    "errR220 = np.abs(ci_lb_ubR220 - statsR220['mean'].to_numpy())"
   ],
   "execution_count":85,
   "outputs":[
    
   ],
   "metadata":{
    "datalore":{
     "type":"CODE",
     "hide_input_from_viewers":false,
     "hide_output_from_viewers":false
    }
   }
  },
  {
   "cell_type":"code",
   "source":[
    "ci_lb_ubR221=[statsR221['ci_lb4'],statsR221['ci_ub4']]\n",
    "errR221 = np.abs(ci_lb_ubR221 - statsR221['mean'].to_numpy())"
   ],
   "execution_count":86,
   "outputs":[
    
   ],
   "metadata":{
    "datalore":{
     "type":"CODE",
     "hide_input_from_viewers":false,
     "hide_output_from_viewers":false
    }
   }
  },
  {
   "cell_type":"code",
   "source":[
    "fig, ax = plt.subplots()\n",
    "\n",
    "trans1 = Affine2D().translate(-0.1, 0.0) + ax.transData\n",
    "trans2 = Affine2D().translate(+0.1, 0.0) + ax.transData\n",
    "plt.errorbar('month', 'mean',  yerr=errR220, data=statsR220,marker='s', capsize=2,\n",
    "             color='blue', markersize=4, linewidth=1, linestyle='--',transform=trans1)\n",
    "plt.errorbar('month', 'mean',  yerr=errR221, data=statsR221,marker='s', capsize=2,\n",
    "             color='red', markersize=4, linewidth=1, linestyle='--',transform=trans2)\n",
    "plt.legend(['2020','2021'])\n",
    "plt.xlabel(\"Month\")\n",
    "plt.ylabel(\"Average Daily COVID CASES\")\n",
    "plt.title(\"Europe & Central Asia\")\n",
    "plt.show()"
   ],
   "execution_count":87,
   "outputs":[
    {
     "data":{
      "image\/png":"[encoded data removed]"
     },
     "metadata":{
      "image\/png":{
       
      }
     },
     "output_type":"display_data"
    }
   ],
   "metadata":{
    "datalore":{
     "type":"CODE",
     "hide_input_from_viewers":false,
     "hide_output_from_viewers":false
    }
   }
  },
  {
   "cell_type":"markdown",
   "source":[
    "The line graph above is the average daily covid cases between 2020 and 2021 with error bars. The graph shows that the Europe and Central Asia region did not suffer from any cases deaths until August 2020 and then kept on increaing and decreasing but not significantly. Then, for 2021 the base rate was only 1 thousand cases which is a very small rate, then the number kept on fluctuating. Some error bars are bigger than others in the 2021 points which show that they may be inaccurate; therefore, not that reliable."
   ],
   "attachments":{
    
   },
   "metadata":{
    "datalore":{
     "type":"MD",
     "hide_input_from_viewers":false,
     "hide_output_from_viewers":false
    }
   }
  },
  {
   "cell_type":"markdown",
   "source":[
    "**2. In terms of income: confirmed COVID 19 deaths**"
   ],
   "attachments":{
    
   },
   "metadata":{
    "datalore":{
     "type":"MD",
     "hide_input_from_viewers":false,
     "hide_output_from_viewers":false
    }
   }
  },
  {
   "cell_type":"markdown",
   "source":[
    "**No.1 low income**"
   ],
   "attachments":{
    
   },
   "metadata":{
    "datalore":{
     "type":"MD",
     "hide_input_from_viewers":false,
     "hide_output_from_viewers":false
    }
   }
  },
  {
   "cell_type":"code",
   "source":[
    "df['date'][0]"
   ],
   "execution_count":16,
   "outputs":[
    {
     "data":{
      "text\/plain":[
       "'2020-02-24'"
      ]
     },
     "metadata":{
      
     },
     "output_type":"display_data"
    }
   ],
   "metadata":{
    "datalore":{
     "type":"CODE",
     "hide_input_from_viewers":false,
     "hide_output_from_viewers":false
    }
   }
  },
  {
   "cell_type":"code",
   "source":[
    "df['date'] = pd.to_datetime(df['date'],format='%Y-%m-%d')"
   ],
   "execution_count":18,
   "outputs":[
    
   ],
   "metadata":{
    "datalore":{
     "type":"CODE",
     "hide_input_from_viewers":false,
     "hide_output_from_viewers":false
    }
   }
  },
  {
   "cell_type":"code",
   "source":[
    "df['date'][0]"
   ],
   "execution_count":19,
   "outputs":[
    {
     "data":{
      "text\/plain":[
       "Timestamp('2020-02-24 00:00:00')"
      ]
     },
     "metadata":{
      
     },
     "output_type":"display_data"
    }
   ],
   "metadata":{
    "datalore":{
     "type":"CODE",
     "hide_input_from_viewers":false,
     "hide_output_from_viewers":false
    }
   }
  },
  {
   "cell_type":"code",
   "source":[
    "df['year'] = pd. DatetimeIndex(df['date']). year"
   ],
   "execution_count":20,
   "outputs":[
    
   ],
   "metadata":{
    "datalore":{
     "type":"CODE",
     "hide_input_from_viewers":false,
     "hide_output_from_viewers":false
    }
   }
  },
  {
   "cell_type":"code",
   "source":[
    "df['income'].unique()"
   ],
   "execution_count":15,
   "outputs":[
    {
     "data":{
      "text\/html":[
       
      ]
     },
     "metadata":{
      
     },
     "output_type":"display_data"
    }
   ],
   "metadata":{
    "datalore":{
     "type":"CODE",
     "hide_input_from_viewers":false,
     "hide_output_from_viewers":false
    }
   }
  },
  {
   "cell_type":"code",
   "source":[
    "x=df['ddeaths']"
   ],
   "execution_count":23,
   "outputs":[
    
   ],
   "metadata":{
    "datalore":{
     "type":"CODE",
     "hide_input_from_viewers":false,
     "hide_output_from_viewers":false
    }
   }
  },
  {
   "cell_type":"code",
   "source":[
    "def ci_lb5(x, alpha=0.05):\n",
    "    sample_s=np.std(x)\n",
    "    sample_mean=np.mean(x)\n",
    "    sample_size=len(x)\n",
    "    margin_of_error = t.ppf(1 - alpha\/2,sample_size-1)*sample_s\/np.sqrt(sample_size-1)\n",
    "    return sample_mean - margin_of_error"
   ],
   "execution_count":24,
   "outputs":[
    
   ],
   "metadata":{
    "datalore":{
     "type":"CODE",
     "hide_input_from_viewers":false,
     "hide_output_from_viewers":false
    }
   }
  },
  {
   "cell_type":"code",
   "source":[
    "ci_lb5(x)"
   ],
   "execution_count":25,
   "outputs":[
    {
     "data":{
      "text\/plain":[
       "43.18608989544058"
      ]
     },
     "metadata":{
      
     },
     "output_type":"display_data"
    }
   ],
   "metadata":{
    "datalore":{
     "type":"CODE",
     "hide_input_from_viewers":false,
     "hide_output_from_viewers":false
    }
   }
  },
  {
   "cell_type":"code",
   "source":[
    "def ci_ub5(x, alpha=0.05):\n",
    "    sample_s=np.std(x)\n",
    "    sample_mean=np.mean(x)\n",
    "    sample_size=len(x)\n",
    "    margin_of_error = t.ppf(1 - alpha\/2,sample_size-1)*sample_s\/np.sqrt(sample_size-1)\n",
    "    return sample_mean + margin_of_error"
   ],
   "execution_count":27,
   "outputs":[
    
   ],
   "metadata":{
    "datalore":{
     "type":"CODE",
     "hide_input_from_viewers":false,
     "hide_output_from_viewers":false
    }
   }
  },
  {
   "cell_type":"code",
   "source":[
    "ci_ub5(x)"
   ],
   "execution_count":28,
   "outputs":[
    {
     "data":{
      "text\/plain":[
       "45.39995896367227"
      ]
     },
     "metadata":{
      
     },
     "output_type":"display_data"
    }
   ],
   "metadata":{
    "datalore":{
     "type":"CODE",
     "hide_input_from_viewers":false,
     "hide_output_from_viewers":false
    }
   }
  },
  {
   "cell_type":"code",
   "source":[
    "incdeaths=df.groupby(['income','year','month']).agg({\"ddeaths\": [np.mean, np.std, np.size,ci_ub5,ci_lb5]})"
   ],
   "execution_count":86,
   "outputs":[
    
   ],
   "metadata":{
    "datalore":{
     "type":"CODE",
     "hide_input_from_viewers":false,
     "hide_output_from_viewers":false
    }
   }
  },
  {
   "cell_type":"code",
   "source":[
    "incdeaths"
   ],
   "execution_count":87,
   "outputs":[
    {
     "data":{
      "text\/html":[
       "<div>\n",
       "<style scoped>\n",
       "    .dataframe tbody tr th:only-of-type {\n",
       "        vertical-align: middle;\n",
       "    }\n",
       "\n",
       "    .dataframe tbody tr th {\n",
       "        vertical-align: top;\n",
       "    }\n",
       "\n",
       "    .dataframe thead tr th {\n",
       "        text-align: left;\n",
       "    }\n",
       "\n",
       "    .dataframe thead tr:last-of-type th {\n",
       "        text-align: right;\n",
       "    }\n",
       "<\/style>\n",
       "<table border=\"1\" class=\"dataframe\">\n",
       "  <thead>\n",
       "    <tr>\n",
       "      <th><\/th>\n",
       "      <th><\/th>\n",
       "      <th><\/th>\n",
       "      <th colspan=\"5\" halign=\"left\">ddeaths<\/th>\n",
       "    <\/tr>\n",
       "    <tr>\n",
       "      <th><\/th>\n",
       "      <th><\/th>\n",
       "      <th><\/th>\n",
       "      <th>mean<\/th>\n",
       "      <th>std<\/th>\n",
       "      <th>size<\/th>\n",
       "      <th>ci_ub5<\/th>\n",
       "      <th>ci_lb5<\/th>\n",
       "    <\/tr>\n",
       "    <tr>\n",
       "      <th>income<\/th>\n",
       "      <th>year<\/th>\n",
       "      <th>month<\/th>\n",
       "      <th><\/th>\n",
       "      <th><\/th>\n",
       "      <th><\/th>\n",
       "      <th><\/th>\n",
       "      <th><\/th>\n",
       "    <\/tr>\n",
       "  <\/thead>\n",
       "  <tbody>\n",
       "    <tr>\n",
       "      <th rowspan=\"5\" valign=\"top\">High income<\/th>\n",
       "      <th rowspan=\"5\" valign=\"top\">2020<\/th>\n",
       "      <th>Apr<\/th>\n",
       "      <td>98.662573<\/td>\n",
       "      <td>318.565638<\/td>\n",
       "      <td>1710<\/td>\n",
       "      <td>113.772301<\/td>\n",
       "      <td>83.552845<\/td>\n",
       "    <\/tr>\n",
       "    <tr>\n",
       "      <th>Aug<\/th>\n",
       "      <td>21.320883<\/td>\n",
       "      <td>132.611288<\/td>\n",
       "      <td>1767<\/td>\n",
       "      <td>27.508281<\/td>\n",
       "      <td>15.133485<\/td>\n",
       "    <\/tr>\n",
       "    <tr>\n",
       "      <th>Dec<\/th>\n",
       "      <td>114.995473<\/td>\n",
       "      <td>379.800723<\/td>\n",
       "      <td>1767<\/td>\n",
       "      <td>132.716274<\/td>\n",
       "      <td>97.274671<\/td>\n",
       "    <\/tr>\n",
       "    <tr>\n",
       "      <th>Feb<\/th>\n",
       "      <td>0.108268<\/td>\n",
       "      <td>0.597571<\/td>\n",
       "      <td>508<\/td>\n",
       "      <td>0.160356<\/td>\n",
       "      <td>0.056179<\/td>\n",
       "    <\/tr>\n",
       "    <tr>\n",
       "      <th>Jan<\/th>\n",
       "      <td>0.000000<\/td>\n",
       "      <td>0.000000<\/td>\n",
       "      <td>75<\/td>\n",
       "      <td>0.000000<\/td>\n",
       "      <td>0.000000<\/td>\n",
       "    <\/tr>\n",
       "    <tr>\n",
       "      <th>...<\/th>\n",
       "      <th>...<\/th>\n",
       "      <th>...<\/th>\n",
       "      <td>...<\/td>\n",
       "      <td>...<\/td>\n",
       "      <td>...<\/td>\n",
       "      <td>...<\/td>\n",
       "      <td>...<\/td>\n",
       "    <\/tr>\n",
       "    <tr>\n",
       "      <th rowspan=\"5\" valign=\"top\">Upper middle income<\/th>\n",
       "      <th rowspan=\"5\" valign=\"top\">2021<\/th>\n",
       "      <th>Mar<\/th>\n",
       "      <td>93.728196<\/td>\n",
       "      <td>337.437017<\/td>\n",
       "      <td>1674<\/td>\n",
       "      <td>109.904429<\/td>\n",
       "      <td>77.551963<\/td>\n",
       "    <\/tr>\n",
       "    <tr>\n",
       "      <th>May<\/th>\n",
       "      <td>96.706691<\/td>\n",
       "      <td>295.246678<\/td>\n",
       "      <td>1674<\/td>\n",
       "      <td>110.860381<\/td>\n",
       "      <td>82.553000<\/td>\n",
       "    <\/tr>\n",
       "    <tr>\n",
       "      <th>Nov<\/th>\n",
       "      <td>56.883951<\/td>\n",
       "      <td>171.705193<\/td>\n",
       "      <td>1620<\/td>\n",
       "      <td>65.251510<\/td>\n",
       "      <td>48.516391<\/td>\n",
       "    <\/tr>\n",
       "    <tr>\n",
       "      <th>Oct<\/th>\n",
       "      <td>61.903226<\/td>\n",
       "      <td>160.512807<\/td>\n",
       "      <td>1674<\/td>\n",
       "      <td>69.597973<\/td>\n",
       "      <td>54.208478<\/td>\n",
       "    <\/tr>\n",
       "    <tr>\n",
       "      <th>Sep<\/th>\n",
       "      <td>81.536420<\/td>\n",
       "      <td>176.995456<\/td>\n",
       "      <td>1620<\/td>\n",
       "      <td>90.161785<\/td>\n",
       "      <td>72.911054<\/td>\n",
       "    <\/tr>\n",
       "  <\/tbody>\n",
       "<\/table>\n",
       "<p>96 rows × 5 columns<\/p>\n",
       "<\/div>"
      ]
     },
     "metadata":{
      
     },
     "output_type":"display_data"
    }
   ],
   "metadata":{
    "datalore":{
     "type":"CODE",
     "hide_input_from_viewers":false,
     "hide_output_from_viewers":false
    }
   }
  },
  {
   "cell_type":"code",
   "source":[
    "incdeaths=incdeaths.reset_index()"
   ],
   "execution_count":88,
   "outputs":[
    
   ],
   "metadata":{
    "datalore":{
     "type":"CODE",
     "hide_input_from_viewers":false,
     "hide_output_from_viewers":false
    }
   }
  },
  {
   "cell_type":"code",
   "source":[
    "incdeaths"
   ],
   "execution_count":89,
   "outputs":[
    {
     "data":{
      "text\/html":[
       "<div>\n",
       "<style scoped>\n",
       "    .dataframe tbody tr th:only-of-type {\n",
       "        vertical-align: middle;\n",
       "    }\n",
       "\n",
       "    .dataframe tbody tr th {\n",
       "        vertical-align: top;\n",
       "    }\n",
       "\n",
       "    .dataframe thead tr th {\n",
       "        text-align: left;\n",
       "    }\n",
       "<\/style>\n",
       "<table border=\"1\" class=\"dataframe\">\n",
       "  <thead>\n",
       "    <tr>\n",
       "      <th><\/th>\n",
       "      <th>income<\/th>\n",
       "      <th>year<\/th>\n",
       "      <th>month<\/th>\n",
       "      <th colspan=\"5\" halign=\"left\">ddeaths<\/th>\n",
       "    <\/tr>\n",
       "    <tr>\n",
       "      <th><\/th>\n",
       "      <th><\/th>\n",
       "      <th><\/th>\n",
       "      <th><\/th>\n",
       "      <th>mean<\/th>\n",
       "      <th>std<\/th>\n",
       "      <th>size<\/th>\n",
       "      <th>ci_ub5<\/th>\n",
       "      <th>ci_lb5<\/th>\n",
       "    <\/tr>\n",
       "  <\/thead>\n",
       "  <tbody>\n",
       "    <tr>\n",
       "      <th>0<\/th>\n",
       "      <td>High income<\/td>\n",
       "      <td>2020<\/td>\n",
       "      <td>Apr<\/td>\n",
       "      <td>98.662573<\/td>\n",
       "      <td>318.565638<\/td>\n",
       "      <td>1710<\/td>\n",
       "      <td>113.772301<\/td>\n",
       "      <td>83.552845<\/td>\n",
       "    <\/tr>\n",
       "    <tr>\n",
       "      <th>1<\/th>\n",
       "      <td>High income<\/td>\n",
       "      <td>2020<\/td>\n",
       "      <td>Aug<\/td>\n",
       "      <td>21.320883<\/td>\n",
       "      <td>132.611288<\/td>\n",
       "      <td>1767<\/td>\n",
       "      <td>27.508281<\/td>\n",
       "      <td>15.133485<\/td>\n",
       "    <\/tr>\n",
       "    <tr>\n",
       "      <th>2<\/th>\n",
       "      <td>High income<\/td>\n",
       "      <td>2020<\/td>\n",
       "      <td>Dec<\/td>\n",
       "      <td>114.995473<\/td>\n",
       "      <td>379.800723<\/td>\n",
       "      <td>1767<\/td>\n",
       "      <td>132.716274<\/td>\n",
       "      <td>97.274671<\/td>\n",
       "    <\/tr>\n",
       "    <tr>\n",
       "      <th>3<\/th>\n",
       "      <td>High income<\/td>\n",
       "      <td>2020<\/td>\n",
       "      <td>Feb<\/td>\n",
       "      <td>0.108268<\/td>\n",
       "      <td>0.597571<\/td>\n",
       "      <td>508<\/td>\n",
       "      <td>0.160356<\/td>\n",
       "      <td>0.056179<\/td>\n",
       "    <\/tr>\n",
       "    <tr>\n",
       "      <th>4<\/th>\n",
       "      <td>High income<\/td>\n",
       "      <td>2020<\/td>\n",
       "      <td>Jan<\/td>\n",
       "      <td>0.000000<\/td>\n",
       "      <td>0.000000<\/td>\n",
       "      <td>75<\/td>\n",
       "      <td>0.000000<\/td>\n",
       "      <td>0.000000<\/td>\n",
       "    <\/tr>\n",
       "    <tr>\n",
       "      <th>...<\/th>\n",
       "      <td>...<\/td>\n",
       "      <td>...<\/td>\n",
       "      <td>...<\/td>\n",
       "      <td>...<\/td>\n",
       "      <td>...<\/td>\n",
       "      <td>...<\/td>\n",
       "      <td>...<\/td>\n",
       "      <td>...<\/td>\n",
       "    <\/tr>\n",
       "    <tr>\n",
       "      <th>91<\/th>\n",
       "      <td>Upper middle income<\/td>\n",
       "      <td>2021<\/td>\n",
       "      <td>Mar<\/td>\n",
       "      <td>93.728196<\/td>\n",
       "      <td>337.437017<\/td>\n",
       "      <td>1674<\/td>\n",
       "      <td>109.904429<\/td>\n",
       "      <td>77.551963<\/td>\n",
       "    <\/tr>\n",
       "    <tr>\n",
       "      <th>92<\/th>\n",
       "      <td>Upper middle income<\/td>\n",
       "      <td>2021<\/td>\n",
       "      <td>May<\/td>\n",
       "      <td>96.706691<\/td>\n",
       "      <td>295.246678<\/td>\n",
       "      <td>1674<\/td>\n",
       "      <td>110.860381<\/td>\n",
       "      <td>82.553000<\/td>\n",
       "    <\/tr>\n",
       "    <tr>\n",
       "      <th>93<\/th>\n",
       "      <td>Upper middle income<\/td>\n",
       "      <td>2021<\/td>\n",
       "      <td>Nov<\/td>\n",
       "      <td>56.883951<\/td>\n",
       "      <td>171.705193<\/td>\n",
       "      <td>1620<\/td>\n",
       "      <td>65.251510<\/td>\n",
       "      <td>48.516391<\/td>\n",
       "    <\/tr>\n",
       "    <tr>\n",
       "      <th>94<\/th>\n",
       "      <td>Upper middle income<\/td>\n",
       "      <td>2021<\/td>\n",
       "      <td>Oct<\/td>\n",
       "      <td>61.903226<\/td>\n",
       "      <td>160.512807<\/td>\n",
       "      <td>1674<\/td>\n",
       "      <td>69.597973<\/td>\n",
       "      <td>54.208478<\/td>\n",
       "    <\/tr>\n",
       "    <tr>\n",
       "      <th>95<\/th>\n",
       "      <td>Upper middle income<\/td>\n",
       "      <td>2021<\/td>\n",
       "      <td>Sep<\/td>\n",
       "      <td>81.536420<\/td>\n",
       "      <td>176.995456<\/td>\n",
       "      <td>1620<\/td>\n",
       "      <td>90.161785<\/td>\n",
       "      <td>72.911054<\/td>\n",
       "    <\/tr>\n",
       "  <\/tbody>\n",
       "<\/table>\n",
       "<p>96 rows × 8 columns<\/p>\n",
       "<\/div>"
      ]
     },
     "metadata":{
      
     },
     "output_type":"display_data"
    }
   ],
   "metadata":{
    "datalore":{
     "type":"CODE",
     "hide_input_from_viewers":false,
     "hide_output_from_viewers":false
    }
   }
  },
  {
   "cell_type":"code",
   "source":[
    "statsI=incdeaths[(incdeaths['income']=='Low income ') & (incdeaths['year']==2020)]"
   ],
   "execution_count":90,
   "outputs":[
    
   ],
   "metadata":{
    "datalore":{
     "type":"CODE",
     "hide_input_from_viewers":false,
     "hide_output_from_viewers":false
    }
   }
  },
  {
   "cell_type":"code",
   "source":[
    "statsI.columns"
   ],
   "execution_count":91,
   "outputs":[
    {
     "data":{
      "text\/plain":[
       "MultiIndex([( 'income',       ''),\n",
       "            (   'year',       ''),\n",
       "            (  'month',       ''),\n",
       "            ('ddeaths',   'mean'),\n",
       "            ('ddeaths',    'std'),\n",
       "            ('ddeaths',   'size'),\n",
       "            ('ddeaths', 'ci_ub5'),\n",
       "            ('ddeaths', 'ci_lb5')],\n",
       "           )"
      ]
     },
     "metadata":{
      
     },
     "output_type":"display_data"
    }
   ],
   "metadata":{
    "datalore":{
     "type":"CODE",
     "hide_input_from_viewers":false,
     "hide_output_from_viewers":false
    }
   }
  },
  {
   "cell_type":"code",
   "source":[
    "statsI21=incdeaths[(incdeaths['income']=='Low income')\n",
    "  & (incdeaths['year']==2021)]\n",
    "statsI21"
   ],
   "execution_count":92,
   "outputs":[
    {
     "data":{
      "text\/html":[
       "<div>\n",
       "<style scoped>\n",
       "    .dataframe tbody tr th:only-of-type {\n",
       "        vertical-align: middle;\n",
       "    }\n",
       "\n",
       "    .dataframe tbody tr th {\n",
       "        vertical-align: top;\n",
       "    }\n",
       "\n",
       "    .dataframe thead tr th {\n",
       "        text-align: left;\n",
       "    }\n",
       "<\/style>\n",
       "<table border=\"1\" class=\"dataframe\">\n",
       "  <thead>\n",
       "    <tr>\n",
       "      <th><\/th>\n",
       "      <th>income<\/th>\n",
       "      <th>year<\/th>\n",
       "      <th>month<\/th>\n",
       "      <th colspan=\"5\" halign=\"left\">ddeaths<\/th>\n",
       "    <\/tr>\n",
       "    <tr>\n",
       "      <th><\/th>\n",
       "      <th><\/th>\n",
       "      <th><\/th>\n",
       "      <th><\/th>\n",
       "      <th>mean<\/th>\n",
       "      <th>std<\/th>\n",
       "      <th>size<\/th>\n",
       "      <th>ci_ub5<\/th>\n",
       "      <th>ci_lb5<\/th>\n",
       "    <\/tr>\n",
       "  <\/thead>\n",
       "  <tbody>\n",
       "    <tr>\n",
       "      <th>36<\/th>\n",
       "      <td>Low income<\/td>\n",
       "      <td>2021<\/td>\n",
       "      <td>Apr<\/td>\n",
       "      <td>3.013793<\/td>\n",
       "      <td>6.546447<\/td>\n",
       "      <td>870<\/td>\n",
       "      <td>3.449405<\/td>\n",
       "      <td>2.578182<\/td>\n",
       "    <\/tr>\n",
       "    <tr>\n",
       "      <th>37<\/th>\n",
       "      <td>Low income<\/td>\n",
       "      <td>2021<\/td>\n",
       "      <td>Aug<\/td>\n",
       "      <td>4.560623<\/td>\n",
       "      <td>8.160108<\/td>\n",
       "      <td>899<\/td>\n",
       "      <td>5.094756<\/td>\n",
       "      <td>4.026489<\/td>\n",
       "    <\/tr>\n",
       "    <tr>\n",
       "      <th>38<\/th>\n",
       "      <td>Low income<\/td>\n",
       "      <td>2021<\/td>\n",
       "      <td>Dec<\/td>\n",
       "      <td>1.084538<\/td>\n",
       "      <td>3.506528<\/td>\n",
       "      <td>899<\/td>\n",
       "      <td>1.314064<\/td>\n",
       "      <td>0.855013<\/td>\n",
       "    <\/tr>\n",
       "    <tr>\n",
       "      <th>39<\/th>\n",
       "      <td>Low income<\/td>\n",
       "      <td>2021<\/td>\n",
       "      <td>Feb<\/td>\n",
       "      <td>2.721675<\/td>\n",
       "      <td>22.240838<\/td>\n",
       "      <td>812<\/td>\n",
       "      <td>4.253714<\/td>\n",
       "      <td>1.189636<\/td>\n",
       "    <\/tr>\n",
       "    <tr>\n",
       "      <th>40<\/th>\n",
       "      <td>Low income<\/td>\n",
       "      <td>2021<\/td>\n",
       "      <td>Jan<\/td>\n",
       "      <td>2.220245<\/td>\n",
       "      <td>5.373406<\/td>\n",
       "      <td>899<\/td>\n",
       "      <td>2.571970<\/td>\n",
       "      <td>1.868519<\/td>\n",
       "    <\/tr>\n",
       "    <tr>\n",
       "      <th>41<\/th>\n",
       "      <td>Low income<\/td>\n",
       "      <td>2021<\/td>\n",
       "      <td>Jul<\/td>\n",
       "      <td>6.929922<\/td>\n",
       "      <td>31.430352<\/td>\n",
       "      <td>899<\/td>\n",
       "      <td>8.987249<\/td>\n",
       "      <td>4.872596<\/td>\n",
       "    <\/tr>\n",
       "    <tr>\n",
       "      <th>42<\/th>\n",
       "      <td>Low income<\/td>\n",
       "      <td>2021<\/td>\n",
       "      <td>Jun<\/td>\n",
       "      <td>5.998851<\/td>\n",
       "      <td>17.450077<\/td>\n",
       "      <td>870<\/td>\n",
       "      <td>7.160008<\/td>\n",
       "      <td>4.837693<\/td>\n",
       "    <\/tr>\n",
       "    <tr>\n",
       "      <th>43<\/th>\n",
       "      <td>Low income<\/td>\n",
       "      <td>2021<\/td>\n",
       "      <td>Mar<\/td>\n",
       "      <td>2.449388<\/td>\n",
       "      <td>8.871544<\/td>\n",
       "      <td>899<\/td>\n",
       "      <td>3.030090<\/td>\n",
       "      <td>1.868686<\/td>\n",
       "    <\/tr>\n",
       "    <tr>\n",
       "      <th>44<\/th>\n",
       "      <td>Low income<\/td>\n",
       "      <td>2021<\/td>\n",
       "      <td>May<\/td>\n",
       "      <td>6.284761<\/td>\n",
       "      <td>27.044694<\/td>\n",
       "      <td>899<\/td>\n",
       "      <td>8.055017<\/td>\n",
       "      <td>4.514505<\/td>\n",
       "    <\/tr>\n",
       "    <tr>\n",
       "      <th>45<\/th>\n",
       "      <td>Low income<\/td>\n",
       "      <td>2021<\/td>\n",
       "      <td>Nov<\/td>\n",
       "      <td>1.322989<\/td>\n",
       "      <td>4.245656<\/td>\n",
       "      <td>870<\/td>\n",
       "      <td>1.605502<\/td>\n",
       "      <td>1.040475<\/td>\n",
       "    <\/tr>\n",
       "    <tr>\n",
       "      <th>46<\/th>\n",
       "      <td>Low income<\/td>\n",
       "      <td>2021<\/td>\n",
       "      <td>Oct<\/td>\n",
       "      <td>3.101224<\/td>\n",
       "      <td>23.121153<\/td>\n",
       "      <td>899<\/td>\n",
       "      <td>4.614658<\/td>\n",
       "      <td>1.587790<\/td>\n",
       "    <\/tr>\n",
       "    <tr>\n",
       "      <th>47<\/th>\n",
       "      <td>Low income<\/td>\n",
       "      <td>2021<\/td>\n",
       "      <td>Sep<\/td>\n",
       "      <td>3.171264<\/td>\n",
       "      <td>6.810055<\/td>\n",
       "      <td>870<\/td>\n",
       "      <td>3.624417<\/td>\n",
       "      <td>2.718112<\/td>\n",
       "    <\/tr>\n",
       "  <\/tbody>\n",
       "<\/table>\n",
       "<\/div>"
      ]
     },
     "metadata":{
      
     },
     "output_type":"display_data"
    }
   ],
   "metadata":{
    "datalore":{
     "type":"CODE",
     "hide_input_from_viewers":false,
     "hide_output_from_viewers":false
    }
   }
  },
  {
   "cell_type":"code",
   "source":[
    "statsI20=incdeaths[(incdeaths['income']=='Low income')\n",
    "  & (incdeaths['year']==2020)]\n",
    "statsI20"
   ],
   "execution_count":93,
   "outputs":[
    {
     "data":{
      "text\/html":[
       "<div>\n",
       "<style scoped>\n",
       "    .dataframe tbody tr th:only-of-type {\n",
       "        vertical-align: middle;\n",
       "    }\n",
       "\n",
       "    .dataframe tbody tr th {\n",
       "        vertical-align: top;\n",
       "    }\n",
       "\n",
       "    .dataframe thead tr th {\n",
       "        text-align: left;\n",
       "    }\n",
       "<\/style>\n",
       "<table border=\"1\" class=\"dataframe\">\n",
       "  <thead>\n",
       "    <tr>\n",
       "      <th><\/th>\n",
       "      <th>income<\/th>\n",
       "      <th>year<\/th>\n",
       "      <th>month<\/th>\n",
       "      <th colspan=\"5\" halign=\"left\">ddeaths<\/th>\n",
       "    <\/tr>\n",
       "    <tr>\n",
       "      <th><\/th>\n",
       "      <th><\/th>\n",
       "      <th><\/th>\n",
       "      <th><\/th>\n",
       "      <th>mean<\/th>\n",
       "      <th>std<\/th>\n",
       "      <th>size<\/th>\n",
       "      <th>ci_ub5<\/th>\n",
       "      <th>ci_lb5<\/th>\n",
       "    <\/tr>\n",
       "  <\/thead>\n",
       "  <tbody>\n",
       "    <tr>\n",
       "      <th>24<\/th>\n",
       "      <td>Low income<\/td>\n",
       "      <td>2020<\/td>\n",
       "      <td>Apr<\/td>\n",
       "      <td>0.322034<\/td>\n",
       "      <td>0.930519<\/td>\n",
       "      <td>826<\/td>\n",
       "      <td>0.385585<\/td>\n",
       "      <td>0.258483<\/td>\n",
       "    <\/tr>\n",
       "    <tr>\n",
       "      <th>25<\/th>\n",
       "      <td>Low income<\/td>\n",
       "      <td>2020<\/td>\n",
       "      <td>Aug<\/td>\n",
       "      <td>1.579533<\/td>\n",
       "      <td>3.871986<\/td>\n",
       "      <td>899<\/td>\n",
       "      <td>1.832980<\/td>\n",
       "      <td>1.326085<\/td>\n",
       "    <\/tr>\n",
       "    <tr>\n",
       "      <th>26<\/th>\n",
       "      <td>Low income<\/td>\n",
       "      <td>2020<\/td>\n",
       "      <td>Dec<\/td>\n",
       "      <td>2.105673<\/td>\n",
       "      <td>7.706689<\/td>\n",
       "      <td>899<\/td>\n",
       "      <td>2.610127<\/td>\n",
       "      <td>1.601219<\/td>\n",
       "    <\/tr>\n",
       "    <tr>\n",
       "      <th>27<\/th>\n",
       "      <td>Low income<\/td>\n",
       "      <td>2020<\/td>\n",
       "      <td>Feb<\/td>\n",
       "      <td>0.000000<\/td>\n",
       "      <td>0.000000<\/td>\n",
       "      <td>35<\/td>\n",
       "      <td>0.000000<\/td>\n",
       "      <td>0.000000<\/td>\n",
       "    <\/tr>\n",
       "    <tr>\n",
       "      <th>28<\/th>\n",
       "      <td>Low income<\/td>\n",
       "      <td>2020<\/td>\n",
       "      <td>Jan<\/td>\n",
       "      <td>0.000000<\/td>\n",
       "      <td>0.000000<\/td>\n",
       "      <td>7<\/td>\n",
       "      <td>0.000000<\/td>\n",
       "      <td>0.000000<\/td>\n",
       "    <\/tr>\n",
       "    <tr>\n",
       "      <th>29<\/th>\n",
       "      <td>Low income<\/td>\n",
       "      <td>2020<\/td>\n",
       "      <td>Jul<\/td>\n",
       "      <td>1.528365<\/td>\n",
       "      <td>4.874371<\/td>\n",
       "      <td>899<\/td>\n",
       "      <td>1.847425<\/td>\n",
       "      <td>1.209305<\/td>\n",
       "    <\/tr>\n",
       "    <tr>\n",
       "      <th>30<\/th>\n",
       "      <td>Low income<\/td>\n",
       "      <td>2020<\/td>\n",
       "      <td>Jun<\/td>\n",
       "      <td>1.425287<\/td>\n",
       "      <td>4.293148<\/td>\n",
       "      <td>870<\/td>\n",
       "      <td>1.710961<\/td>\n",
       "      <td>1.139614<\/td>\n",
       "    <\/tr>\n",
       "    <tr>\n",
       "      <th>31<\/th>\n",
       "      <td>Low income<\/td>\n",
       "      <td>2020<\/td>\n",
       "      <td>Mar<\/td>\n",
       "      <td>0.095238<\/td>\n",
       "      <td>0.394160<\/td>\n",
       "      <td>378<\/td>\n",
       "      <td>0.135101<\/td>\n",
       "      <td>0.055375<\/td>\n",
       "    <\/tr>\n",
       "    <tr>\n",
       "      <th>32<\/th>\n",
       "      <td>Low income<\/td>\n",
       "      <td>2020<\/td>\n",
       "      <td>May<\/td>\n",
       "      <td>0.796440<\/td>\n",
       "      <td>1.997144<\/td>\n",
       "      <td>899<\/td>\n",
       "      <td>0.927167<\/td>\n",
       "      <td>0.665714<\/td>\n",
       "    <\/tr>\n",
       "    <tr>\n",
       "      <th>33<\/th>\n",
       "      <td>Low income<\/td>\n",
       "      <td>2020<\/td>\n",
       "      <td>Nov<\/td>\n",
       "      <td>1.631034<\/td>\n",
       "      <td>4.266788<\/td>\n",
       "      <td>870<\/td>\n",
       "      <td>1.914954<\/td>\n",
       "      <td>1.347115<\/td>\n",
       "    <\/tr>\n",
       "    <tr>\n",
       "      <th>34<\/th>\n",
       "      <td>Low income<\/td>\n",
       "      <td>2020<\/td>\n",
       "      <td>Oct<\/td>\n",
       "      <td>1.209121<\/td>\n",
       "      <td>3.298222<\/td>\n",
       "      <td>899<\/td>\n",
       "      <td>1.425012<\/td>\n",
       "      <td>0.993231<\/td>\n",
       "    <\/tr>\n",
       "    <tr>\n",
       "      <th>35<\/th>\n",
       "      <td>Low income<\/td>\n",
       "      <td>2020<\/td>\n",
       "      <td>Sep<\/td>\n",
       "      <td>1.239080<\/td>\n",
       "      <td>3.103187<\/td>\n",
       "      <td>870<\/td>\n",
       "      <td>1.445572<\/td>\n",
       "      <td>1.032589<\/td>\n",
       "    <\/tr>\n",
       "  <\/tbody>\n",
       "<\/table>\n",
       "<\/div>"
      ]
     },
     "metadata":{
      
     },
     "output_type":"display_data"
    }
   ],
   "metadata":{
    "datalore":{
     "type":"CODE",
     "hide_input_from_viewers":false,
     "hide_output_from_viewers":false
    }
   }
  },
  {
   "cell_type":"code",
   "source":[
    "statsI20.columns=['income','year','month','mean','std','size','ci_lb5','ci_ub5']"
   ],
   "execution_count":94,
   "outputs":[
    
   ],
   "metadata":{
    "datalore":{
     "type":"CODE",
     "hide_input_from_viewers":false,
     "hide_output_from_viewers":false
    }
   }
  },
  {
   "cell_type":"code",
   "source":[
    "statsI21.columns=['income','year','month','mean','std','size','ci_lb5','ci_ub5']"
   ],
   "execution_count":95,
   "outputs":[
    
   ],
   "metadata":{
    "datalore":{
     "type":"CODE",
     "hide_input_from_viewers":false,
     "hide_output_from_viewers":false
    }
   }
  },
  {
   "cell_type":"code",
   "source":[
    "x=statsI20['income']\n",
    "x"
   ],
   "execution_count":96,
   "outputs":[
    {
     "data":{
      "text\/html":[
       
      ]
     },
     "metadata":{
      
     },
     "output_type":"display_data"
    }
   ],
   "metadata":{
    "datalore":{
     "type":"CODE",
     "hide_input_from_viewers":false,
     "hide_output_from_viewers":false
    }
   }
  },
  {
   "cell_type":"code",
   "source":[
    "y1=statsI20['mean']\n",
    "y1"
   ],
   "execution_count":97,
   "outputs":[
    {
     "data":{
      "text\/html":[
       
      ]
     },
     "metadata":{
      
     },
     "output_type":"display_data"
    }
   ],
   "metadata":{
    "datalore":{
     "type":"CODE",
     "hide_input_from_viewers":false,
     "hide_output_from_viewers":false
    }
   }
  },
  {
   "cell_type":"code",
   "source":[
    "y2=statsI21['mean']\n",
    "y2"
   ],
   "execution_count":98,
   "outputs":[
    {
     "data":{
      "text\/html":[
       
      ]
     },
     "metadata":{
      
     },
     "output_type":"display_data"
    }
   ],
   "metadata":{
    "datalore":{
     "type":"CODE",
     "hide_input_from_viewers":false,
     "hide_output_from_viewers":false
    }
   }
  },
  {
   "cell_type":"code",
   "source":[
    "ci_lb_ubI20=[statsI20['ci_lb5'],statsI20['ci_ub5']]\n",
    "errI20 = np.abs(ci_lb_ubI20 - statsI20['mean'].to_numpy())"
   ],
   "execution_count":104,
   "outputs":[
    
   ],
   "metadata":{
    "datalore":{
     "type":"CODE",
     "hide_input_from_viewers":false,
     "hide_output_from_viewers":false
    }
   }
  },
  {
   "cell_type":"code",
   "source":[
    "ci_lb_ubI21=[statsI21['ci_lb5'],statsI21['ci_ub5']]\n",
    "errI21 = np.abs(ci_lb_ubI21 - statsI21['mean'].to_numpy())"
   ],
   "execution_count":106,
   "outputs":[
    
   ],
   "metadata":{
    "datalore":{
     "type":"CODE",
     "hide_input_from_viewers":false,
     "hide_output_from_viewers":false
    }
   }
  },
  {
   "cell_type":"code",
   "source":[
    "fig, ax = plt.subplots()\n",
    "\n",
    "trans1 = Affine2D().translate(-0.1, 0.0) + ax.transData\n",
    "trans2 = Affine2D().translate(+0.1, 0.0) + ax.transData\n",
    "plt.errorbar('month', 'mean',  yerr=errI20, data=statsI20,marker='s', capsize=2,\n",
    "             color='blue', markersize=4, linewidth=1, linestyle='--',transform=trans1)\n",
    "plt.errorbar('month', 'mean',  yerr=errI21, data=statsI21,marker='s', capsize=2,\n",
    "             color='red', markersize=4, linewidth=1, linestyle='--',transform=trans2)\n",
    "plt.legend(['2020','2021'])\n",
    "plt.xlabel(\"Month\")\n",
    "plt.ylabel(\"Average Daily COVID CASES\")\n",
    "plt.title(\"Low Income\")\n",
    "plt.show()"
   ],
   "execution_count":107,
   "outputs":[
    {
     "data":{
      "image\/png":"[encoded data removed]"
     },
     "metadata":{
      "image\/png":{
       
      }
     },
     "output_type":"display_data"
    }
   ],
   "metadata":{
    "datalore":{
     "type":"CODE",
     "hide_input_from_viewers":false,
     "hide_output_from_viewers":false
    }
   }
  },
  {
   "cell_type":"markdown",
   "source":[
    "The line graph above is the average daily covid cases between 2020 and 2021 with error bars. The graph shows that low income people suffered from covid 19 in 2021 more than in 2020 and this is definitely because of its spread. "
   ],
   "attachments":{
    
   },
   "metadata":{
    "datalore":{
     "type":"MD",
     "hide_input_from_viewers":false,
     "hide_output_from_viewers":false
    }
   }
  },
  {
   "cell_type":"markdown",
   "source":[
    "**No.2 high income**"
   ],
   "attachments":{
    
   },
   "metadata":{
    "datalore":{
     "type":"MD",
     "hide_input_from_viewers":false,
     "hide_output_from_viewers":false
    }
   }
  },
  {
   "cell_type":"code",
   "source":[
    "statsI220=incdeaths[(incdeaths['income']=='High income') & (incdeaths['year']==2020)]"
   ],
   "execution_count":69,
   "outputs":[
    
   ],
   "metadata":{
    "datalore":{
     "type":"CODE",
     "hide_input_from_viewers":false,
     "hide_output_from_viewers":false
    }
   }
  },
  {
   "cell_type":"code",
   "source":[
    "statsI221=incdeaths[(incdeaths['income']=='High income')\n",
    "  & (incdeaths['year']==2021)]\n",
    "statsI221"
   ],
   "execution_count":70,
   "outputs":[
    {
     "data":{
      "text\/html":[
       "<div>\n",
       "<style scoped>\n",
       "    .dataframe tbody tr th:only-of-type {\n",
       "        vertical-align: middle;\n",
       "    }\n",
       "\n",
       "    .dataframe tbody tr th {\n",
       "        vertical-align: top;\n",
       "    }\n",
       "\n",
       "    .dataframe thead tr th {\n",
       "        text-align: left;\n",
       "    }\n",
       "<\/style>\n",
       "<table border=\"1\" class=\"dataframe\">\n",
       "  <thead>\n",
       "    <tr>\n",
       "      <th><\/th>\n",
       "      <th>income<\/th>\n",
       "      <th>year<\/th>\n",
       "      <th>month<\/th>\n",
       "      <th colspan=\"5\" halign=\"left\">dcases<\/th>\n",
       "    <\/tr>\n",
       "    <tr>\n",
       "      <th><\/th>\n",
       "      <th><\/th>\n",
       "      <th><\/th>\n",
       "      <th><\/th>\n",
       "      <th>mean<\/th>\n",
       "      <th>std<\/th>\n",
       "      <th>size<\/th>\n",
       "      <th>ci_ub5<\/th>\n",
       "      <th>ci_lb5<\/th>\n",
       "    <\/tr>\n",
       "  <\/thead>\n",
       "  <tbody>\n",
       "    <tr>\n",
       "      <th>12<\/th>\n",
       "      <td>High income<\/td>\n",
       "      <td>2021<\/td>\n",
       "      <td>Apr<\/td>\n",
       "      <td>3978.551462<\/td>\n",
       "      <td>10659.667441<\/td>\n",
       "      <td>1710<\/td>\n",
       "      <td>4484.144840<\/td>\n",
       "      <td>3472.958084<\/td>\n",
       "    <\/tr>\n",
       "    <tr>\n",
       "      <th>13<\/th>\n",
       "      <td>High income<\/td>\n",
       "      <td>2021<\/td>\n",
       "      <td>Aug<\/td>\n",
       "      <td>4689.092290<\/td>\n",
       "      <td>20751.092792<\/td>\n",
       "      <td>1777<\/td>\n",
       "      <td>5654.568160<\/td>\n",
       "      <td>3723.616421<\/td>\n",
       "    <\/tr>\n",
       "    <tr>\n",
       "      <th>14<\/th>\n",
       "      <td>High income<\/td>\n",
       "      <td>2021<\/td>\n",
       "      <td>Dec<\/td>\n",
       "      <td>11119.231368<\/td>\n",
       "      <td>37758.466932<\/td>\n",
       "      <td>1798<\/td>\n",
       "      <td>12865.697682<\/td>\n",
       "      <td>9372.765055<\/td>\n",
       "    <\/tr>\n",
       "    <tr>\n",
       "      <th>15<\/th>\n",
       "      <td>High income<\/td>\n",
       "      <td>2021<\/td>\n",
       "      <td>Feb<\/td>\n",
       "      <td>3901.845238<\/td>\n",
       "      <td>12490.965193<\/td>\n",
       "      <td>1596<\/td>\n",
       "      <td>4515.123160<\/td>\n",
       "      <td>3288.567316<\/td>\n",
       "    <\/tr>\n",
       "    <tr>\n",
       "      <th>16<\/th>\n",
       "      <td>High income<\/td>\n",
       "      <td>2021<\/td>\n",
       "      <td>Jan<\/td>\n",
       "      <td>7123.431239<\/td>\n",
       "      <td>27693.041493<\/td>\n",
       "      <td>1767<\/td>\n",
       "      <td>8415.537480<\/td>\n",
       "      <td>5831.324999<\/td>\n",
       "    <\/tr>\n",
       "    <tr>\n",
       "      <th>17<\/th>\n",
       "      <td>High income<\/td>\n",
       "      <td>2021<\/td>\n",
       "      <td>Jul<\/td>\n",
       "      <td>2578.013582<\/td>\n",
       "      <td>9520.992379<\/td>\n",
       "      <td>1767<\/td>\n",
       "      <td>3022.245527<\/td>\n",
       "      <td>2133.781638<\/td>\n",
       "    <\/tr>\n",
       "    <tr>\n",
       "      <th>18<\/th>\n",
       "      <td>High income<\/td>\n",
       "      <td>2021<\/td>\n",
       "      <td>Jun<\/td>\n",
       "      <td>1098.700000<\/td>\n",
       "      <td>2682.523739<\/td>\n",
       "      <td>1710<\/td>\n",
       "      <td>1225.933448<\/td>\n",
       "      <td>971.466552<\/td>\n",
       "    <\/tr>\n",
       "    <tr>\n",
       "      <th>19<\/th>\n",
       "      <td>High income<\/td>\n",
       "      <td>2021<\/td>\n",
       "      <td>Mar<\/td>\n",
       "      <td>3915.258065<\/td>\n",
       "      <td>9627.120804<\/td>\n",
       "      <td>1767<\/td>\n",
       "      <td>4364.441765<\/td>\n",
       "      <td>3466.074364<\/td>\n",
       "    <\/tr>\n",
       "    <tr>\n",
       "      <th>20<\/th>\n",
       "      <td>High income<\/td>\n",
       "      <td>2021<\/td>\n",
       "      <td>May<\/td>\n",
       "      <td>2068.009055<\/td>\n",
       "      <td>4985.409835<\/td>\n",
       "      <td>1767<\/td>\n",
       "      <td>2300.619083<\/td>\n",
       "      <td>1835.399027<\/td>\n",
       "    <\/tr>\n",
       "    <tr>\n",
       "      <th>21<\/th>\n",
       "      <td>High income<\/td>\n",
       "      <td>2021<\/td>\n",
       "      <td>Nov<\/td>\n",
       "      <td>5843.591379<\/td>\n",
       "      <td>15016.968768<\/td>\n",
       "      <td>1740<\/td>\n",
       "      <td>6549.678224<\/td>\n",
       "      <td>5137.504535<\/td>\n",
       "    <\/tr>\n",
       "    <tr>\n",
       "      <th>22<\/th>\n",
       "      <td>High income<\/td>\n",
       "      <td>2021<\/td>\n",
       "      <td>Oct<\/td>\n",
       "      <td>3422.258065<\/td>\n",
       "      <td>12665.341213<\/td>\n",
       "      <td>1798<\/td>\n",
       "      <td>4008.076123<\/td>\n",
       "      <td>2836.440006<\/td>\n",
       "    <\/tr>\n",
       "    <tr>\n",
       "      <th>23<\/th>\n",
       "      <td>High income<\/td>\n",
       "      <td>2021<\/td>\n",
       "      <td>Sep<\/td>\n",
       "      <td>4244.210345<\/td>\n",
       "      <td>20143.711503<\/td>\n",
       "      <td>1740<\/td>\n",
       "      <td>5191.352869<\/td>\n",
       "      <td>3297.067821<\/td>\n",
       "    <\/tr>\n",
       "  <\/tbody>\n",
       "<\/table>\n",
       "<\/div>"
      ]
     },
     "metadata":{
      
     },
     "output_type":"display_data"
    }
   ],
   "metadata":{
    "datalore":{
     "type":"CODE",
     "hide_input_from_viewers":false,
     "hide_output_from_viewers":false
    }
   }
  },
  {
   "cell_type":"code",
   "source":[
    "statsI220.columns=['income','year','month','mean','std','size','ci_lb5','ci_ub5']"
   ],
   "execution_count":71,
   "outputs":[
    
   ],
   "metadata":{
    "datalore":{
     "type":"CODE",
     "hide_input_from_viewers":false,
     "hide_output_from_viewers":false
    }
   }
  },
  {
   "cell_type":"code",
   "source":[
    "statsI221.columns=['income','year','month','mean','std','size','ci_lb5','ci_ub5']"
   ],
   "execution_count":72,
   "outputs":[
    
   ],
   "metadata":{
    "datalore":{
     "type":"CODE",
     "hide_input_from_viewers":false,
     "hide_output_from_viewers":false
    }
   }
  },
  {
   "cell_type":"code",
   "source":[
    "x=statsI220['income']"
   ],
   "execution_count":73,
   "outputs":[
    
   ],
   "metadata":{
    "datalore":{
     "type":"CODE",
     "hide_input_from_viewers":false,
     "hide_output_from_viewers":false
    }
   }
  },
  {
   "cell_type":"code",
   "source":[
    "y1=statsI220['mean']"
   ],
   "execution_count":74,
   "outputs":[
    
   ],
   "metadata":{
    "datalore":{
     "type":"CODE",
     "hide_input_from_viewers":false,
     "hide_output_from_viewers":false
    }
   }
  },
  {
   "cell_type":"code",
   "source":[
    "y2=statsI221['mean']"
   ],
   "execution_count":76,
   "outputs":[
    
   ],
   "metadata":{
    "datalore":{
     "type":"CODE",
     "hide_input_from_viewers":false,
     "hide_output_from_viewers":false
    }
   }
  },
  {
   "cell_type":"code",
   "source":[
    "ci_lb_ubI220=[statsI220['ci_lb5'],statsI220['ci_ub5']]\n",
    "errI220 = np.abs(ci_lb_ubI220 - statsI220['mean'].to_numpy())"
   ],
   "execution_count":77,
   "outputs":[
    
   ],
   "metadata":{
    "datalore":{
     "type":"CODE",
     "hide_input_from_viewers":false,
     "hide_output_from_viewers":false
    }
   }
  },
  {
   "cell_type":"code",
   "source":[
    "ci_lb_ubI221=[statsI221['ci_lb5'],statsI221['ci_ub5']]\n",
    "errI221 = np.abs(ci_lb_ubI221 - statsI221['mean'].to_numpy())"
   ],
   "execution_count":78,
   "outputs":[
    
   ],
   "metadata":{
    "datalore":{
     "type":"CODE",
     "hide_input_from_viewers":false,
     "hide_output_from_viewers":false
    }
   }
  },
  {
   "cell_type":"code",
   "source":[
    "fig, ax = plt.subplots()\n",
    "\n",
    "trans1 = Affine2D().translate(-0.1, 0.0) + ax.transData\n",
    "trans2 = Affine2D().translate(+0.1, 0.0) + ax.transData\n",
    "plt.errorbar('month', 'mean',  yerr=errI220, data=statsI220,marker='s', capsize=2,\n",
    "             color='blue', markersize=4, linewidth=1, linestyle='--',transform=trans1)\n",
    "plt.errorbar('month', 'mean',  yerr=errI221, data=statsI221,marker='s', capsize=2,\n",
    "             color='red', markersize=4, linewidth=1, linestyle='--',transform=trans2)\n",
    "plt.legend(['2020','2021'])\n",
    "plt.xlabel(\"Month\")\n",
    "plt.ylabel(\"Average Daily COVID CASES\")\n",
    "plt.title(\"High Income\")\n",
    "plt.show()"
   ],
   "execution_count":79,
   "outputs":[
    {
     "data":{
      "image\/png":"[encoded data removed]"
     },
     "metadata":{
      "image\/png":{
       
      }
     },
     "output_type":"display_data"
    }
   ],
   "metadata":{
    "datalore":{
     "type":"CODE",
     "hide_input_from_viewers":false,
     "hide_output_from_viewers":false
    }
   }
  },
  {
   "cell_type":"markdown",
   "source":[
    "The line graph above is the average daily covid cases between 2020 and 2021 with error bars. The high income people also suffered from covid 19 in 2021 more than in 2020. But, unexpectedly high income people suffered from more cases than low income. The data actually does not give a representative sample of the low income people which makes high income people look as if they suffered more from covid 19. "
   ],
   "attachments":{
    
   },
   "metadata":{
    "datalore":{
     "type":"MD",
     "hide_input_from_viewers":false,
     "hide_output_from_viewers":false
    }
   }
  },
  {
   "cell_type":"markdown",
   "source":[
    "**3. In terms of continent: confirmed COVID 19 cases**"
   ],
   "attachments":{
    
   },
   "metadata":{
    "datalore":{
     "type":"MD",
     "hide_input_from_viewers":false,
     "hide_output_from_viewers":false
    }
   }
  },
  {
   "cell_type":"markdown",
   "source":[
    "**No.1 Oceania**"
   ],
   "attachments":{
    
   },
   "metadata":{
    "datalore":{
     "type":"MD",
     "hide_input_from_viewers":false,
     "hide_output_from_viewers":false
    }
   }
  },
  {
   "cell_type":"code",
   "source":[
    "df['continent'].unique()"
   ],
   "execution_count":80,
   "outputs":[
    {
     "data":{
      "text\/html":[
       
      ]
     },
     "metadata":{
      
     },
     "output_type":"display_data"
    }
   ],
   "metadata":{
    "datalore":{
     "type":"CODE",
     "hide_input_from_viewers":false,
     "hide_output_from_viewers":false
    }
   }
  },
  {
   "cell_type":"code",
   "source":[
    "x=df['dcases']"
   ],
   "execution_count":81,
   "outputs":[
    
   ],
   "metadata":{
    "datalore":{
     "type":"CODE",
     "hide_input_from_viewers":false,
     "hide_output_from_viewers":false
    }
   }
  },
  {
   "cell_type":"code",
   "source":[
    "def ci_lb6(x, alpha=0.05):\n",
    "    sample_s=np.std(x)\n",
    "    sample_mean=np.mean(x)\n",
    "    sample_size=len(x)\n",
    "    margin_of_error = t.ppf(1 - alpha\/2,sample_size-1)*sample_s\/np.sqrt(sample_size-1)\n",
    "    return sample_mean - margin_of_error"
   ],
   "execution_count":82,
   "outputs":[
    
   ],
   "metadata":{
    "datalore":{
     "type":"CODE",
     "hide_input_from_viewers":false,
     "hide_output_from_viewers":false
    }
   }
  },
  {
   "cell_type":"code",
   "source":[
    "ci_lb6(x)"
   ],
   "execution_count":83,
   "outputs":[
    {
     "data":{
      "text\/plain":[
       "2285.1835480837276"
      ]
     },
     "metadata":{
      
     },
     "output_type":"display_data"
    }
   ],
   "metadata":{
    "datalore":{
     "type":"CODE",
     "hide_input_from_viewers":false,
     "hide_output_from_viewers":false
    }
   }
  },
  {
   "cell_type":"code",
   "source":[
    "def ci_ub6(x, alpha=0.05):\n",
    "    sample_s=np.std(x)\n",
    "    sample_mean=np.mean(x)\n",
    "    sample_size=len(x)\n",
    "    margin_of_error = t.ppf(1 - alpha\/2,sample_size-1)*sample_s\/np.sqrt(sample_size-1)\n",
    "    return sample_mean + margin_of_error"
   ],
   "execution_count":84,
   "outputs":[
    
   ],
   "metadata":{
    "datalore":{
     "type":"CODE",
     "hide_input_from_viewers":false,
     "hide_output_from_viewers":false
    }
   }
  },
  {
   "cell_type":"code",
   "source":[
    "ci_ub6(x)"
   ],
   "execution_count":85,
   "outputs":[
    {
     "data":{
      "text\/plain":[
       "2422.2624439548904"
      ]
     },
     "metadata":{
      
     },
     "output_type":"display_data"
    }
   ],
   "metadata":{
    "datalore":{
     "type":"CODE",
     "hide_input_from_viewers":false,
     "hide_output_from_viewers":false
    }
   }
  },
  {
   "cell_type":"code",
   "source":[
    "contcases=df.groupby(['continent','year','month']).agg({\"dcases\": [np.mean, np.std, np.size,ci_ub6,ci_lb6]})"
   ],
   "execution_count":122,
   "outputs":[
    
   ],
   "metadata":{
    "datalore":{
     "type":"CODE",
     "hide_input_from_viewers":false,
     "hide_output_from_viewers":false
    }
   }
  },
  {
   "cell_type":"code",
   "source":[
    "contcases=contcases.reset_index()"
   ],
   "execution_count":123,
   "outputs":[
    
   ],
   "metadata":{
    "datalore":{
     "type":"CODE",
     "hide_input_from_viewers":false,
     "hide_output_from_viewers":false
    }
   }
  },
  {
   "cell_type":"code",
   "source":[
    "statsC21=contcases[(contcases['continent']=='Oceania')\n",
    "  & (contcases['year']==2021)]\n",
    "statsC21"
   ],
   "execution_count":124,
   "outputs":[
    {
     "data":{
      "text\/html":[
       "<div>\n",
       "<style scoped>\n",
       "    .dataframe tbody tr th:only-of-type {\n",
       "        vertical-align: middle;\n",
       "    }\n",
       "\n",
       "    .dataframe tbody tr th {\n",
       "        vertical-align: top;\n",
       "    }\n",
       "\n",
       "    .dataframe thead tr th {\n",
       "        text-align: left;\n",
       "    }\n",
       "<\/style>\n",
       "<table border=\"1\" class=\"dataframe\">\n",
       "  <thead>\n",
       "    <tr>\n",
       "      <th><\/th>\n",
       "      <th>continent<\/th>\n",
       "      <th>year<\/th>\n",
       "      <th>month<\/th>\n",
       "      <th colspan=\"5\" halign=\"left\">dcases<\/th>\n",
       "    <\/tr>\n",
       "    <tr>\n",
       "      <th><\/th>\n",
       "      <th><\/th>\n",
       "      <th><\/th>\n",
       "      <th><\/th>\n",
       "      <th>mean<\/th>\n",
       "      <th>std<\/th>\n",
       "      <th>size<\/th>\n",
       "      <th>ci_ub6<\/th>\n",
       "      <th>ci_lb6<\/th>\n",
       "    <\/tr>\n",
       "  <\/thead>\n",
       "  <tbody>\n",
       "    <tr>\n",
       "      <th>107<\/th>\n",
       "      <td>Oceania<\/td>\n",
       "      <td>2021<\/td>\n",
       "      <td>Apr<\/td>\n",
       "      <td>23.579167<\/td>\n",
       "      <td>75.020011<\/td>\n",
       "      <td>240<\/td>\n",
       "      <td>33.118639<\/td>\n",
       "      <td>14.039694<\/td>\n",
       "    <\/tr>\n",
       "    <tr>\n",
       "      <th>108<\/th>\n",
       "      <td>Oceania<\/td>\n",
       "      <td>2021<\/td>\n",
       "      <td>Aug<\/td>\n",
       "      <td>133.093426<\/td>\n",
       "      <td>293.247232<\/td>\n",
       "      <td>289<\/td>\n",
       "      <td>167.045162<\/td>\n",
       "      <td>99.141689<\/td>\n",
       "    <\/tr>\n",
       "    <tr>\n",
       "      <th>109<\/th>\n",
       "      <td>Oceania<\/td>\n",
       "      <td>2021<\/td>\n",
       "      <td>Dec<\/td>\n",
       "      <td>703.383871<\/td>\n",
       "      <td>3321.515757<\/td>\n",
       "      <td>310<\/td>\n",
       "      <td>1074.583839<\/td>\n",
       "      <td>332.183903<\/td>\n",
       "    <\/tr>\n",
       "    <tr>\n",
       "      <th>110<\/th>\n",
       "      <td>Oceania<\/td>\n",
       "      <td>2021<\/td>\n",
       "      <td>Feb<\/td>\n",
       "      <td>2.964286<\/td>\n",
       "      <td>10.315584<\/td>\n",
       "      <td>224<\/td>\n",
       "      <td>4.322541<\/td>\n",
       "      <td>1.606031<\/td>\n",
       "    <\/tr>\n",
       "    <tr>\n",
       "      <th>111<\/th>\n",
       "      <td>Oceania<\/td>\n",
       "      <td>2021<\/td>\n",
       "      <td>Jan<\/td>\n",
       "      <td>2.475806<\/td>\n",
       "      <td>5.741339<\/td>\n",
       "      <td>248<\/td>\n",
       "      <td>3.193880<\/td>\n",
       "      <td>1.757733<\/td>\n",
       "    <\/tr>\n",
       "    <tr>\n",
       "      <th>112<\/th>\n",
       "      <td>Oceania<\/td>\n",
       "      <td>2021<\/td>\n",
       "      <td>Jul<\/td>\n",
       "      <td>107.000000<\/td>\n",
       "      <td>285.278092<\/td>\n",
       "      <td>279<\/td>\n",
       "      <td>140.620892<\/td>\n",
       "      <td>73.379108<\/td>\n",
       "    <\/tr>\n",
       "    <tr>\n",
       "      <th>113<\/th>\n",
       "      <td>Oceania<\/td>\n",
       "      <td>2021<\/td>\n",
       "      <td>Jun<\/td>\n",
       "      <td>21.340741<\/td>\n",
       "      <td>55.849794<\/td>\n",
       "      <td>270<\/td>\n",
       "      <td>28.032590<\/td>\n",
       "      <td>14.648892<\/td>\n",
       "    <\/tr>\n",
       "    <tr>\n",
       "      <th>114<\/th>\n",
       "      <td>Oceania<\/td>\n",
       "      <td>2021<\/td>\n",
       "      <td>Mar<\/td>\n",
       "      <td>20.943548<\/td>\n",
       "      <td>77.762204<\/td>\n",
       "      <td>248<\/td>\n",
       "      <td>30.669319<\/td>\n",
       "      <td>11.217778<\/td>\n",
       "    <\/tr>\n",
       "    <tr>\n",
       "      <th>115<\/th>\n",
       "      <td>Oceania<\/td>\n",
       "      <td>2021<\/td>\n",
       "      <td>May<\/td>\n",
       "      <td>21.393130<\/td>\n",
       "      <td>80.661739<\/td>\n",
       "      <td>262<\/td>\n",
       "      <td>31.205717<\/td>\n",
       "      <td>11.580542<\/td>\n",
       "    <\/tr>\n",
       "    <tr>\n",
       "      <th>116<\/th>\n",
       "      <td>Oceania<\/td>\n",
       "      <td>2021<\/td>\n",
       "      <td>Nov<\/td>\n",
       "      <td>168.610000<\/td>\n",
       "      <td>401.043819<\/td>\n",
       "      <td>300<\/td>\n",
       "      <td>214.175986<\/td>\n",
       "      <td>123.044014<\/td>\n",
       "    <\/tr>\n",
       "    <tr>\n",
       "      <th>117<\/th>\n",
       "      <td>Oceania<\/td>\n",
       "      <td>2021<\/td>\n",
       "      <td>Oct<\/td>\n",
       "      <td>250.867742<\/td>\n",
       "      <td>635.574188<\/td>\n",
       "      <td>310<\/td>\n",
       "      <td>321.897096<\/td>\n",
       "      <td>179.838388<\/td>\n",
       "    <\/tr>\n",
       "    <tr>\n",
       "      <th>118<\/th>\n",
       "      <td>Oceania<\/td>\n",
       "      <td>2021<\/td>\n",
       "      <td>Sep<\/td>\n",
       "      <td>198.343333<\/td>\n",
       "      <td>521.456096<\/td>\n",
       "      <td>300<\/td>\n",
       "      <td>257.590378<\/td>\n",
       "      <td>139.096288<\/td>\n",
       "    <\/tr>\n",
       "  <\/tbody>\n",
       "<\/table>\n",
       "<\/div>"
      ]
     },
     "metadata":{
      
     },
     "output_type":"display_data"
    }
   ],
   "metadata":{
    "datalore":{
     "type":"CODE",
     "hide_input_from_viewers":false,
     "hide_output_from_viewers":false
    }
   }
  },
  {
   "cell_type":"code",
   "source":[
    "statsC20=contcases[(contcases['continent']=='Oceania')\n",
    "  & (contcases['year']==2020)]\n",
    "statsC20"
   ],
   "execution_count":125,
   "outputs":[
    {
     "data":{
      "text\/html":[
       "<div>\n",
       "<style scoped>\n",
       "    .dataframe tbody tr th:only-of-type {\n",
       "        vertical-align: middle;\n",
       "    }\n",
       "\n",
       "    .dataframe tbody tr th {\n",
       "        vertical-align: top;\n",
       "    }\n",
       "\n",
       "    .dataframe thead tr th {\n",
       "        text-align: left;\n",
       "    }\n",
       "<\/style>\n",
       "<table border=\"1\" class=\"dataframe\">\n",
       "  <thead>\n",
       "    <tr>\n",
       "      <th><\/th>\n",
       "      <th>continent<\/th>\n",
       "      <th>year<\/th>\n",
       "      <th>month<\/th>\n",
       "      <th colspan=\"5\" halign=\"left\">dcases<\/th>\n",
       "    <\/tr>\n",
       "    <tr>\n",
       "      <th><\/th>\n",
       "      <th><\/th>\n",
       "      <th><\/th>\n",
       "      <th><\/th>\n",
       "      <th>mean<\/th>\n",
       "      <th>std<\/th>\n",
       "      <th>size<\/th>\n",
       "      <th>ci_ub6<\/th>\n",
       "      <th>ci_lb6<\/th>\n",
       "    <\/tr>\n",
       "  <\/thead>\n",
       "  <tbody>\n",
       "    <tr>\n",
       "      <th>95<\/th>\n",
       "      <td>Oceania<\/td>\n",
       "      <td>2020<\/td>\n",
       "      <td>Apr<\/td>\n",
       "      <td>25.500000<\/td>\n",
       "      <td>51.758327<\/td>\n",
       "      <td>120<\/td>\n",
       "      <td>34.855709<\/td>\n",
       "      <td>16.144291<\/td>\n",
       "    <\/tr>\n",
       "    <tr>\n",
       "      <th>96<\/th>\n",
       "      <td>Oceania<\/td>\n",
       "      <td>2020<\/td>\n",
       "      <td>Aug<\/td>\n",
       "      <td>73.653226<\/td>\n",
       "      <td>140.644743<\/td>\n",
       "      <td>124<\/td>\n",
       "      <td>98.654072<\/td>\n",
       "      <td>48.652379<\/td>\n",
       "    <\/tr>\n",
       "    <tr>\n",
       "      <th>97<\/th>\n",
       "      <td>Oceania<\/td>\n",
       "      <td>2020<\/td>\n",
       "      <td>Dec<\/td>\n",
       "      <td>3.012097<\/td>\n",
       "      <td>7.196199<\/td>\n",
       "      <td>248<\/td>\n",
       "      <td>3.912130<\/td>\n",
       "      <td>2.112063<\/td>\n",
       "    <\/tr>\n",
       "    <tr>\n",
       "      <th>98<\/th>\n",
       "      <td>Oceania<\/td>\n",
       "      <td>2020<\/td>\n",
       "      <td>Feb<\/td>\n",
       "      <td>0.548387<\/td>\n",
       "      <td>1.859009<\/td>\n",
       "      <td>31<\/td>\n",
       "      <td>1.230277<\/td>\n",
       "      <td>-0.133503<\/td>\n",
       "    <\/tr>\n",
       "    <tr>\n",
       "      <th>99<\/th>\n",
       "      <td>Oceania<\/td>\n",
       "      <td>2020<\/td>\n",
       "      <td>Jan<\/td>\n",
       "      <td>1.500000<\/td>\n",
       "      <td>1.643168<\/td>\n",
       "      <td>6<\/td>\n",
       "      <td>3.224399<\/td>\n",
       "      <td>-0.224399<\/td>\n",
       "    <\/tr>\n",
       "    <tr>\n",
       "      <th>100<\/th>\n",
       "      <td>Oceania<\/td>\n",
       "      <td>2020<\/td>\n",
       "      <td>Jul<\/td>\n",
       "      <td>76.322581<\/td>\n",
       "      <td>150.496120<\/td>\n",
       "      <td>124<\/td>\n",
       "      <td>103.074597<\/td>\n",
       "      <td>49.570565<\/td>\n",
       "    <\/tr>\n",
       "    <tr>\n",
       "      <th>101<\/th>\n",
       "      <td>Oceania<\/td>\n",
       "      <td>2020<\/td>\n",
       "      <td>Jun<\/td>\n",
       "      <td>6.208333<\/td>\n",
       "      <td>16.116642<\/td>\n",
       "      <td>120<\/td>\n",
       "      <td>9.121538<\/td>\n",
       "      <td>3.295128<\/td>\n",
       "    <\/tr>\n",
       "    <tr>\n",
       "      <th>102<\/th>\n",
       "      <td>Oceania<\/td>\n",
       "      <td>2020<\/td>\n",
       "      <td>Mar<\/td>\n",
       "      <td>59.609195<\/td>\n",
       "      <td>118.538715<\/td>\n",
       "      <td>87<\/td>\n",
       "      <td>84.873223<\/td>\n",
       "      <td>34.345167<\/td>\n",
       "    <\/tr>\n",
       "    <tr>\n",
       "      <th>103<\/th>\n",
       "      <td>Oceania<\/td>\n",
       "      <td>2020<\/td>\n",
       "      <td>May<\/td>\n",
       "      <td>3.725806<\/td>\n",
       "      <td>7.024161<\/td>\n",
       "      <td>124<\/td>\n",
       "      <td>4.974413<\/td>\n",
       "      <td>2.477200<\/td>\n",
       "    <\/tr>\n",
       "    <tr>\n",
       "      <th>104<\/th>\n",
       "      <td>Oceania<\/td>\n",
       "      <td>2020<\/td>\n",
       "      <td>Nov<\/td>\n",
       "      <td>2.369159<\/td>\n",
       "      <td>5.038740<\/td>\n",
       "      <td>214<\/td>\n",
       "      <td>3.048109<\/td>\n",
       "      <td>1.690209<\/td>\n",
       "    <\/tr>\n",
       "    <tr>\n",
       "      <th>105<\/th>\n",
       "      <td>Oceania<\/td>\n",
       "      <td>2020<\/td>\n",
       "      <td>Oct<\/td>\n",
       "      <td>4.574324<\/td>\n",
       "      <td>7.357805<\/td>\n",
       "      <td>148<\/td>\n",
       "      <td>5.769566<\/td>\n",
       "      <td>3.379083<\/td>\n",
       "    <\/tr>\n",
       "    <tr>\n",
       "      <th>106<\/th>\n",
       "      <td>Oceania<\/td>\n",
       "      <td>2020<\/td>\n",
       "      <td>Sep<\/td>\n",
       "      <td>12.100000<\/td>\n",
       "      <td>23.138022<\/td>\n",
       "      <td>120<\/td>\n",
       "      <td>16.282372<\/td>\n",
       "      <td>7.917628<\/td>\n",
       "    <\/tr>\n",
       "  <\/tbody>\n",
       "<\/table>\n",
       "<\/div>"
      ]
     },
     "metadata":{
      
     },
     "output_type":"display_data"
    }
   ],
   "metadata":{
    "datalore":{
     "type":"CODE",
     "hide_input_from_viewers":false,
     "hide_output_from_viewers":false
    }
   }
  },
  {
   "cell_type":"code",
   "source":[
    "statsC20.columns=['continent','year','month','mean','std','size','ci_lb6','ci_ub6']"
   ],
   "execution_count":126,
   "outputs":[
    
   ],
   "metadata":{
    "datalore":{
     "type":"CODE",
     "hide_input_from_viewers":false,
     "hide_output_from_viewers":false
    }
   }
  },
  {
   "cell_type":"code",
   "source":[
    "statsC21.columns=['continent','year','month','mean','std','size','ci_lb6','ci_ub6']"
   ],
   "execution_count":127,
   "outputs":[
    
   ],
   "metadata":{
    "datalore":{
     "type":"CODE",
     "hide_input_from_viewers":false,
     "hide_output_from_viewers":false
    }
   }
  },
  {
   "cell_type":"code",
   "source":[
    "x=statsC20['continent']\n",
    "x"
   ],
   "execution_count":128,
   "outputs":[
    {
     "data":{
      "text\/html":[
       
      ]
     },
     "metadata":{
      
     },
     "output_type":"display_data"
    }
   ],
   "metadata":{
    "datalore":{
     "type":"CODE",
     "hide_input_from_viewers":false,
     "hide_output_from_viewers":false
    }
   }
  },
  {
   "cell_type":"code",
   "source":[
    "y1=statsC20['mean']\n",
    "y1"
   ],
   "execution_count":129,
   "outputs":[
    {
     "data":{
      "text\/html":[
       
      ]
     },
     "metadata":{
      
     },
     "output_type":"display_data"
    }
   ],
   "metadata":{
    "datalore":{
     "type":"CODE",
     "hide_input_from_viewers":false,
     "hide_output_from_viewers":false
    }
   }
  },
  {
   "cell_type":"code",
   "source":[
    "y2=statsC21['mean']\n",
    "y2"
   ],
   "execution_count":130,
   "outputs":[
    {
     "data":{
      "text\/html":[
       
      ]
     },
     "metadata":{
      
     },
     "output_type":"display_data"
    }
   ],
   "metadata":{
    "datalore":{
     "type":"CODE",
     "hide_input_from_viewers":false,
     "hide_output_from_viewers":false
    }
   }
  },
  {
   "cell_type":"code",
   "source":[
    "ci_lb_ubC20=[statsC20['ci_lb6'],statsC20['ci_ub6']]\n",
    "errC20 = np.abs(ci_lb_ubC20 - statsC20['mean'].to_numpy())"
   ],
   "execution_count":131,
   "outputs":[
    
   ],
   "metadata":{
    "datalore":{
     "type":"CODE",
     "hide_input_from_viewers":false,
     "hide_output_from_viewers":false
    }
   }
  },
  {
   "cell_type":"code",
   "source":[
    "ci_lb_ubC21=[statsC21['ci_lb6'],statsC21['ci_ub6']]\n",
    "errC21 = np.abs(ci_lb_ubC21 - statsC21['mean'].to_numpy())"
   ],
   "execution_count":132,
   "outputs":[
    
   ],
   "metadata":{
    "datalore":{
     "type":"CODE",
     "hide_input_from_viewers":false,
     "hide_output_from_viewers":false
    }
   }
  },
  {
   "cell_type":"code",
   "source":[
    "fig, ax = plt.subplots()\n",
    "\n",
    "trans1 = Affine2D().translate(-0.1, 0.0) + ax.transData\n",
    "trans2 = Affine2D().translate(+0.1, 0.0) + ax.transData\n",
    "plt.errorbar('month', 'mean',  yerr=errC20, data=statsC20,marker='s', capsize=2,\n",
    "             color='blue', markersize=4, linewidth=1, linestyle='--',transform=trans1)\n",
    "plt.errorbar('month', 'mean',  yerr=errC21, data=statsC21,marker='s', capsize=2,\n",
    "             color='red', markersize=4, linewidth=1, linestyle='--',transform=trans2)\n",
    "plt.legend(['2020','2021'])\n",
    "plt.xlabel(\"Month\")\n",
    "plt.ylabel(\"Average Daily COVID CASES\")\n",
    "plt.title(\"Oceania Average Daily COVID CASES\")\n",
    "plt.show()"
   ],
   "execution_count":133,
   "outputs":[
    {
     "data":{
      "image\/png":"[encoded data removed]"
     },
     "metadata":{
      "image\/png":{
       
      }
     },
     "output_type":"display_data"
    }
   ],
   "metadata":{
    "datalore":{
     "type":"CODE",
     "hide_input_from_viewers":false,
     "hide_output_from_viewers":false
    }
   }
  },
  {
   "cell_type":"markdown",
   "source":[
    "The line graph above is the average daily covid cases between 2020 and 2021 with error bars. The graph shows that Oceania barely suffered from Covid 19 in 2020 and in 2021 because the reported cases are really few compared to other continents. There is an error bar that is very long and this shows that it is not that reliable because it does not match the data. "
   ],
   "attachments":{
    
   },
   "metadata":{
    "datalore":{
     "type":"MD",
     "hide_input_from_viewers":false,
     "hide_output_from_viewers":false
    }
   }
  },
  {
   "cell_type":"markdown",
   "source":[
    "**No.2 North America**"
   ],
   "attachments":{
    
   },
   "metadata":{
    "datalore":{
     "type":"MD",
     "hide_input_from_viewers":false,
     "hide_output_from_viewers":false
    }
   }
  },
  {
   "cell_type":"code",
   "source":[
    "statsC221=contcases[(contcases['continent']=='North America(continent)')\n",
    "  & (contcases['year']==2021)]\n",
    "statsC221"
   ],
   "execution_count":147,
   "outputs":[
    {
     "data":{
      "text\/html":[
       "<div>\n",
       "<style scoped>\n",
       "    .dataframe tbody tr th:only-of-type {\n",
       "        vertical-align: middle;\n",
       "    }\n",
       "\n",
       "    .dataframe tbody tr th {\n",
       "        vertical-align: top;\n",
       "    }\n",
       "\n",
       "    .dataframe thead tr th {\n",
       "        text-align: left;\n",
       "    }\n",
       "<\/style>\n",
       "<table border=\"1\" class=\"dataframe\">\n",
       "  <thead>\n",
       "    <tr>\n",
       "      <th><\/th>\n",
       "      <th>continent<\/th>\n",
       "      <th>year<\/th>\n",
       "      <th>month<\/th>\n",
       "      <th colspan=\"5\" halign=\"left\">dcases<\/th>\n",
       "    <\/tr>\n",
       "    <tr>\n",
       "      <th><\/th>\n",
       "      <th><\/th>\n",
       "      <th><\/th>\n",
       "      <th><\/th>\n",
       "      <th>mean<\/th>\n",
       "      <th>std<\/th>\n",
       "      <th>size<\/th>\n",
       "      <th>ci_ub6<\/th>\n",
       "      <th>ci_lb6<\/th>\n",
       "    <\/tr>\n",
       "  <\/thead>\n",
       "  <tbody>\n",
       "    <tr>\n",
       "      <th>83<\/th>\n",
       "      <td>North America(continent)<\/td>\n",
       "      <td>2021<\/td>\n",
       "      <td>Apr<\/td>\n",
       "      <td>3474.511594<\/td>\n",
       "      <td>13109.117751<\/td>\n",
       "      <td>690<\/td>\n",
       "      <td>4454.363816<\/td>\n",
       "      <td>2494.659372<\/td>\n",
       "    <\/tr>\n",
       "    <tr>\n",
       "      <th>84<\/th>\n",
       "      <td>North America(continent)<\/td>\n",
       "      <td>2021<\/td>\n",
       "      <td>Aug<\/td>\n",
       "      <td>7564.781206<\/td>\n",
       "      <td>31441.137078<\/td>\n",
       "      <td>713<\/td>\n",
       "      <td>9876.529020<\/td>\n",
       "      <td>5253.033392<\/td>\n",
       "    <\/tr>\n",
       "    <tr>\n",
       "      <th>85<\/th>\n",
       "      <td>North America(continent)<\/td>\n",
       "      <td>2021<\/td>\n",
       "      <td>Dec<\/td>\n",
       "      <td>9583.346424<\/td>\n",
       "      <td>50657.183656<\/td>\n",
       "      <td>713<\/td>\n",
       "      <td>13307.977415<\/td>\n",
       "      <td>5858.715432<\/td>\n",
       "    <\/tr>\n",
       "    <tr>\n",
       "      <th>86<\/th>\n",
       "      <td>North America(continent)<\/td>\n",
       "      <td>2021<\/td>\n",
       "      <td>Feb<\/td>\n",
       "      <td>4435.069876<\/td>\n",
       "      <td>18203.779489<\/td>\n",
       "      <td>644<\/td>\n",
       "      <td>5843.661074<\/td>\n",
       "      <td>3026.478677<\/td>\n",
       "    <\/tr>\n",
       "    <tr>\n",
       "      <th>87<\/th>\n",
       "      <td>North America(continent)<\/td>\n",
       "      <td>2021<\/td>\n",
       "      <td>Jan<\/td>\n",
       "      <td>9823.566620<\/td>\n",
       "      <td>41609.030320<\/td>\n",
       "      <td>713<\/td>\n",
       "      <td>12882.921141<\/td>\n",
       "      <td>6764.212099<\/td>\n",
       "    <\/tr>\n",
       "    <tr>\n",
       "      <th>88<\/th>\n",
       "      <td>North America(continent)<\/td>\n",
       "      <td>2021<\/td>\n",
       "      <td>Jul<\/td>\n",
       "      <td>2912.256662<\/td>\n",
       "      <td>11901.748323<\/td>\n",
       "      <td>713<\/td>\n",
       "      <td>3787.347172<\/td>\n",
       "      <td>2037.166152<\/td>\n",
       "    <\/tr>\n",
       "    <tr>\n",
       "      <th>89<\/th>\n",
       "      <td>North America(continent)<\/td>\n",
       "      <td>2021<\/td>\n",
       "      <td>Jun<\/td>\n",
       "      <td>1128.489855<\/td>\n",
       "      <td>2985.964804<\/td>\n",
       "      <td>690<\/td>\n",
       "      <td>1351.678349<\/td>\n",
       "      <td>905.301361<\/td>\n",
       "    <\/tr>\n",
       "    <tr>\n",
       "      <th>90<\/th>\n",
       "      <td>North America(continent)<\/td>\n",
       "      <td>2021<\/td>\n",
       "      <td>Mar<\/td>\n",
       "      <td>3105.723703<\/td>\n",
       "      <td>12114.880329<\/td>\n",
       "      <td>713<\/td>\n",
       "      <td>3996.485002<\/td>\n",
       "      <td>2214.962403<\/td>\n",
       "    <\/tr>\n",
       "    <tr>\n",
       "      <th>91<\/th>\n",
       "      <td>North America(continent)<\/td>\n",
       "      <td>2021<\/td>\n",
       "      <td>May<\/td>\n",
       "      <td>1919.178121<\/td>\n",
       "      <td>6530.713898<\/td>\n",
       "      <td>713<\/td>\n",
       "      <td>2399.356797<\/td>\n",
       "      <td>1438.999445<\/td>\n",
       "    <\/tr>\n",
       "    <tr>\n",
       "      <th>92<\/th>\n",
       "      <td>North America(continent)<\/td>\n",
       "      <td>2021<\/td>\n",
       "      <td>Nov<\/td>\n",
       "      <td>4070.542029<\/td>\n",
       "      <td>19237.894355<\/td>\n",
       "      <td>690<\/td>\n",
       "      <td>5508.494902<\/td>\n",
       "      <td>2632.589156<\/td>\n",
       "    <\/tr>\n",
       "    <tr>\n",
       "      <th>93<\/th>\n",
       "      <td>North America(continent)<\/td>\n",
       "      <td>2021<\/td>\n",
       "      <td>Oct<\/td>\n",
       "      <td>4170.751753<\/td>\n",
       "      <td>18095.115446<\/td>\n",
       "      <td>713<\/td>\n",
       "      <td>5501.217107<\/td>\n",
       "      <td>2840.286399<\/td>\n",
       "    <\/tr>\n",
       "    <tr>\n",
       "      <th>94<\/th>\n",
       "      <td>North America(continent)<\/td>\n",
       "      <td>2021<\/td>\n",
       "      <td>Sep<\/td>\n",
       "      <td>7353.733333<\/td>\n",
       "      <td>30881.235514<\/td>\n",
       "      <td>690<\/td>\n",
       "      <td>9661.977703<\/td>\n",
       "      <td>5045.488964<\/td>\n",
       "    <\/tr>\n",
       "  <\/tbody>\n",
       "<\/table>\n",
       "<\/div>"
      ]
     },
     "metadata":{
      
     },
     "output_type":"display_data"
    }
   ],
   "metadata":{
    "datalore":{
     "type":"CODE",
     "hide_input_from_viewers":false,
     "hide_output_from_viewers":false
    }
   }
  },
  {
   "cell_type":"code",
   "source":[
    "statsC220=contcases[(contcases['continent']=='North America(continent)')\n",
    "  & (contcases['year']==2020)]\n",
    "statsC220"
   ],
   "execution_count":148,
   "outputs":[
    {
     "data":{
      "text\/html":[
       "<div>\n",
       "<style scoped>\n",
       "    .dataframe tbody tr th:only-of-type {\n",
       "        vertical-align: middle;\n",
       "    }\n",
       "\n",
       "    .dataframe tbody tr th {\n",
       "        vertical-align: top;\n",
       "    }\n",
       "\n",
       "    .dataframe thead tr th {\n",
       "        text-align: left;\n",
       "    }\n",
       "<\/style>\n",
       "<table border=\"1\" class=\"dataframe\">\n",
       "  <thead>\n",
       "    <tr>\n",
       "      <th><\/th>\n",
       "      <th>continent<\/th>\n",
       "      <th>year<\/th>\n",
       "      <th>month<\/th>\n",
       "      <th colspan=\"5\" halign=\"left\">dcases<\/th>\n",
       "    <\/tr>\n",
       "    <tr>\n",
       "      <th><\/th>\n",
       "      <th><\/th>\n",
       "      <th><\/th>\n",
       "      <th><\/th>\n",
       "      <th>mean<\/th>\n",
       "      <th>std<\/th>\n",
       "      <th>size<\/th>\n",
       "      <th>ci_ub6<\/th>\n",
       "      <th>ci_lb6<\/th>\n",
       "    <\/tr>\n",
       "  <\/thead>\n",
       "  <tbody>\n",
       "    <tr>\n",
       "      <th>71<\/th>\n",
       "      <td>North America(continent)<\/td>\n",
       "      <td>2020<\/td>\n",
       "      <td>Apr<\/td>\n",
       "      <td>1395.597101<\/td>\n",
       "      <td>6024.659889<\/td>\n",
       "      <td>690<\/td>\n",
       "      <td>1845.915459<\/td>\n",
       "      <td>945.278744<\/td>\n",
       "    <\/tr>\n",
       "    <tr>\n",
       "      <th>72<\/th>\n",
       "      <td>North America(continent)<\/td>\n",
       "      <td>2020<\/td>\n",
       "      <td>Aug<\/td>\n",
       "      <td>2558.939691<\/td>\n",
       "      <td>10048.562353<\/td>\n",
       "      <td>713<\/td>\n",
       "      <td>3297.772450<\/td>\n",
       "      <td>1820.106933<\/td>\n",
       "    <\/tr>\n",
       "    <tr>\n",
       "      <th>73<\/th>\n",
       "      <td>North America(continent)<\/td>\n",
       "      <td>2020<\/td>\n",
       "      <td>Dec<\/td>\n",
       "      <td>10196.102384<\/td>\n",
       "      <td>43624.334013<\/td>\n",
       "      <td>713<\/td>\n",
       "      <td>13403.634559<\/td>\n",
       "      <td>6988.570210<\/td>\n",
       "    <\/tr>\n",
       "    <tr>\n",
       "      <th>74<\/th>\n",
       "      <td>North America(continent)<\/td>\n",
       "      <td>2020<\/td>\n",
       "      <td>Feb<\/td>\n",
       "      <td>0.833333<\/td>\n",
       "      <td>1.542249<\/td>\n",
       "      <td>60<\/td>\n",
       "      <td>1.231738<\/td>\n",
       "      <td>0.434928<\/td>\n",
       "    <\/tr>\n",
       "    <tr>\n",
       "      <th>75<\/th>\n",
       "      <td>North America(continent)<\/td>\n",
       "      <td>2020<\/td>\n",
       "      <td>Jan<\/td>\n",
       "      <td>0.631579<\/td>\n",
       "      <td>0.895081<\/td>\n",
       "      <td>19<\/td>\n",
       "      <td>1.062994<\/td>\n",
       "      <td>0.200164<\/td>\n",
       "    <\/tr>\n",
       "    <tr>\n",
       "      <th>76<\/th>\n",
       "      <td>North America(continent)<\/td>\n",
       "      <td>2020<\/td>\n",
       "      <td>Jul<\/td>\n",
       "      <td>3172.765778<\/td>\n",
       "      <td>12561.816835<\/td>\n",
       "      <td>713<\/td>\n",
       "      <td>4096.388627<\/td>\n",
       "      <td>2249.142929<\/td>\n",
       "    <\/tr>\n",
       "    <tr>\n",
       "      <th>77<\/th>\n",
       "      <td>North America(continent)<\/td>\n",
       "      <td>2020<\/td>\n",
       "      <td>Jun<\/td>\n",
       "      <td>1566.520290<\/td>\n",
       "      <td>6157.750470<\/td>\n",
       "      <td>690<\/td>\n",
       "      <td>2026.786617<\/td>\n",
       "      <td>1106.253963<\/td>\n",
       "    <\/tr>\n",
       "    <tr>\n",
       "      <th>78<\/th>\n",
       "      <td>North America(continent)<\/td>\n",
       "      <td>2020<\/td>\n",
       "      <td>Mar<\/td>\n",
       "      <td>481.909302<\/td>\n",
       "      <td>2681.486820<\/td>\n",
       "      <td>430<\/td>\n",
       "      <td>736.074746<\/td>\n",
       "      <td>227.743859<\/td>\n",
       "    <\/tr>\n",
       "    <tr>\n",
       "      <th>79<\/th>\n",
       "      <td>North America(continent)<\/td>\n",
       "      <td>2020<\/td>\n",
       "      <td>May<\/td>\n",
       "      <td>1192.165498<\/td>\n",
       "      <td>4737.096601<\/td>\n",
       "      <td>713<\/td>\n",
       "      <td>1540.466282<\/td>\n",
       "      <td>843.864713<\/td>\n",
       "    <\/tr>\n",
       "    <tr>\n",
       "      <th>80<\/th>\n",
       "      <td>North America(continent)<\/td>\n",
       "      <td>2020<\/td>\n",
       "      <td>Nov<\/td>\n",
       "      <td>7133.234783<\/td>\n",
       "      <td>31079.078406<\/td>\n",
       "      <td>690<\/td>\n",
       "      <td>9456.267088<\/td>\n",
       "      <td>4810.202477<\/td>\n",
       "    <\/tr>\n",
       "    <tr>\n",
       "      <th>81<\/th>\n",
       "      <td>North America(continent)<\/td>\n",
       "      <td>2020<\/td>\n",
       "      <td>Oct<\/td>\n",
       "      <td>3220.123422<\/td>\n",
       "      <td>13059.619589<\/td>\n",
       "      <td>713<\/td>\n",
       "      <td>4180.347824<\/td>\n",
       "      <td>2259.899021<\/td>\n",
       "    <\/tr>\n",
       "    <tr>\n",
       "      <th>82<\/th>\n",
       "      <td>North America(continent)<\/td>\n",
       "      <td>2020<\/td>\n",
       "      <td>Sep<\/td>\n",
       "      <td>2166.363768<\/td>\n",
       "      <td>8222.473043<\/td>\n",
       "      <td>690<\/td>\n",
       "      <td>2780.959551<\/td>\n",
       "      <td>1551.767986<\/td>\n",
       "    <\/tr>\n",
       "  <\/tbody>\n",
       "<\/table>\n",
       "<\/div>"
      ]
     },
     "metadata":{
      
     },
     "output_type":"display_data"
    }
   ],
   "metadata":{
    "datalore":{
     "type":"CODE",
     "hide_input_from_viewers":false,
     "hide_output_from_viewers":false
    }
   }
  },
  {
   "cell_type":"code",
   "source":[
    "statsC220.columns=['continent','year','month','mean','std','size','ci_lb6','ci_ub6']"
   ],
   "execution_count":149,
   "outputs":[
    
   ],
   "metadata":{
    "datalore":{
     "type":"CODE",
     "hide_input_from_viewers":false,
     "hide_output_from_viewers":false
    }
   }
  },
  {
   "cell_type":"code",
   "source":[
    "statsC221.columns=['continent','year','month','mean','std','size','ci_lb6','ci_ub6']"
   ],
   "execution_count":150,
   "outputs":[
    
   ],
   "metadata":{
    "datalore":{
     "type":"CODE",
     "hide_input_from_viewers":false,
     "hide_output_from_viewers":false
    }
   }
  },
  {
   "cell_type":"code",
   "source":[
    "x=statsC220['continent']\n",
    "x"
   ],
   "execution_count":151,
   "outputs":[
    {
     "data":{
      "text\/html":[
       
      ]
     },
     "metadata":{
      
     },
     "output_type":"display_data"
    }
   ],
   "metadata":{
    "datalore":{
     "type":"CODE",
     "hide_input_from_viewers":false,
     "hide_output_from_viewers":false
    }
   }
  },
  {
   "cell_type":"code",
   "source":[
    "y1=statsC220['mean']\n",
    "y1"
   ],
   "execution_count":152,
   "outputs":[
    {
     "data":{
      "text\/html":[
       
      ]
     },
     "metadata":{
      
     },
     "output_type":"display_data"
    }
   ],
   "metadata":{
    "datalore":{
     "type":"CODE",
     "hide_input_from_viewers":false,
     "hide_output_from_viewers":false
    }
   }
  },
  {
   "cell_type":"code",
   "source":[
    "y2=statsC221['mean']\n",
    "y2"
   ],
   "execution_count":153,
   "outputs":[
    {
     "data":{
      "text\/html":[
       
      ]
     },
     "metadata":{
      
     },
     "output_type":"display_data"
    }
   ],
   "metadata":{
    "datalore":{
     "type":"CODE",
     "hide_input_from_viewers":false,
     "hide_output_from_viewers":false
    }
   }
  },
  {
   "cell_type":"code",
   "source":[
    "ci_lb_ubC220=[statsC220['ci_lb6'],statsC220['ci_ub6']]\n",
    "errC220 = np.abs(ci_lb_ubC220 - statsC220['mean'].to_numpy())"
   ],
   "execution_count":154,
   "outputs":[
    
   ],
   "metadata":{
    "datalore":{
     "type":"CODE",
     "hide_input_from_viewers":false,
     "hide_output_from_viewers":false
    }
   }
  },
  {
   "cell_type":"code",
   "source":[
    "ci_lb_ubC221=[statsC221['ci_lb6'],statsC221['ci_ub6']]\n",
    "errC221 = np.abs(ci_lb_ubC221 - statsC221['mean'].to_numpy())"
   ],
   "execution_count":155,
   "outputs":[
    
   ],
   "metadata":{
    "datalore":{
     "type":"CODE",
     "hide_input_from_viewers":false,
     "hide_output_from_viewers":false
    }
   }
  },
  {
   "cell_type":"code",
   "source":[
    "fig, ax = plt.subplots()\n",
    "\n",
    "trans1 = Affine2D().translate(-0.1, 0.0) + ax.transData\n",
    "trans2 = Affine2D().translate(+0.1, 0.0) + ax.transData\n",
    "plt.errorbar('month', 'mean',  yerr=errC220, data=statsC220,marker='s', capsize=2,\n",
    "             color='blue', markersize=4, linewidth=1, linestyle='--',transform=trans1)\n",
    "plt.errorbar('month', 'mean',  yerr=errC221, data=statsC221,marker='s', capsize=2,\n",
    "             color='red', markersize=4, linewidth=1, linestyle='--',transform=trans2)\n",
    "plt.legend(['2020','2021'])\n",
    "plt.xlabel(\"Month\")\n",
    "plt.ylabel(\"Average Daily COVID CASES\")\n",
    "plt.title(\"North America Average Daily COVID CASES\")\n",
    "plt.show()"
   ],
   "execution_count":156,
   "outputs":[
    {
     "data":{
      "image\/png":"[encoded data removed]"
     },
     "metadata":{
      "image\/png":{
       
      }
     },
     "output_type":"display_data"
    }
   ],
   "metadata":{
    "datalore":{
     "type":"CODE",
     "hide_input_from_viewers":false,
     "hide_output_from_viewers":false
    }
   }
  },
  {
   "cell_type":"markdown",
   "source":[
    "The line graph above is the average daily covid cases between 2020 and 2021 with error bars. The graph shows that North America r suffered from Covid 19 in 2020 and in 2021 equally because the numbers are near each other. There is are some error bar that are  longer than others which show that these points are not as reliabe as the others. "
   ],
   "attachments":{
    
   },
   "metadata":{
    "datalore":{
     "type":"MD",
     "hide_input_from_viewers":false,
     "hide_output_from_viewers":false
    }
   }
  },
  {
   "cell_type":"markdown",
   "source":[
    "**Conclusion**\n",
    "\n",
    "The country that was taken as an example was France and the graphs and analysis show that it really suffered from covid 19 either in terms of confirmed cases or confirmed deaths. The data shows that France suffered from very high death cases rate and that most of the deaths happened in 2021. \n",
    "\n",
    "For the continent comparison, the expected result happened which is that Europe and Central Asia are the ones who suffered more than East Asia and Pacific. This is because countries that mostly suffered from covid 19 such as France lies in the Europe and Central Asia sector. In general, for 2020 and 2021 countries of East Asia and Pacific suffered less confirmed cases and confirmed deaths than Europe and Central Asia. \n",
    "\n",
    "For the income level comparison, something unexpected happened which is that the data shows that high income people suffered from covid 19 more than low income people but this does not make sense. This happened because the data did not give the necessary information about low income people in order to draw a suitable conclusion. This is because the sample size of low income people is very low compared to high income people which makes it seem that high income people suffered more. \n",
    "\n",
    "For the region comparison, the graphs show that North America suffered more in terms of covid 19 confirmed cases and confirmed deaths than Oceania. This makes sense because the population size in North America is definitely much higher than in Oceania. Countries that lie in North America is the United States of America and Canada which have very big populations. But, countries in Oceania are New Zealand and Australia which have way more less population sizes than countries in North America. \n"
   ],
   "attachments":{
    
   },
   "metadata":{
    "datalore":{
     "type":"MD",
     "hide_input_from_viewers":false,
     "hide_output_from_viewers":false
    }
   }
  }
 ],
 "metadata":{
  "datalore":{
   "version":1,
   "computation_mode":"JUPYTER",
   "package_manager":"pip",
   "base_environment":"default",
   "packages":[
    {
     "name":"pybeginners",
     "source":"PIP"
    }
   ]
  }
 },
 "nbformat":4,
 "nbformat_minor":4
}