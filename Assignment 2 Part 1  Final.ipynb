{
 "cells":[
  {
   "cell_type":"markdown",
   "source":[
    "# **Assignment 2 Karim Aboudaoud 900212779** "
   ],
   "attachments":{
    
   },
   "metadata":{
    "datalore":{
     "type":"MD",
     "hide_input_from_viewers":false,
     "hide_output_from_viewers":false
    }
   }
  },
  {
   "cell_type":"markdown",
   "source":[
    "# **Part 1: International Soccer**"
   ],
   "attachments":{
    
   },
   "metadata":{
    "datalore":{
     "type":"MD",
     "hide_input_from_viewers":false,
     "hide_output_from_viewers":false
    }
   }
  },
  {
   "cell_type":"markdown",
   "source":[
    "**Abstract**\n",
    "\n",
    "I chose five different countries from the data set which are Chile, Croatia, Saudi Arabia, Japan and Uruguay.\n",
    "\n",
    "For each country, I measured the confidence interval of winning and losing in an official game and a friendly game, and the confidence interval of winning in a home game in a stadium (in this certain country) and in away games. \n",
    "\n",
    "The friendly and official game helped me interpret the difference in seriousness of performance of players in these different kinds of matches.\n",
    "The home games helped me determine the effect of fans and playing in your own country. \n",
    "\n",
    "The following codes will help us understand which country is better in terms of winning and why. \n",
    "\n",
    "The description of each confidence interval can be found under each graph.\n",
    "\n",
    "The conclusion can be found at the end of the notebook. "
   ],
   "attachments":{
    
   },
   "metadata":{
    "datalore":{
     "type":"MD",
     "hide_input_from_viewers":false,
     "hide_output_from_viewers":false
    }
   }
  },
  {
   "cell_type":"markdown",
   "source":[
    "**Preparing Data for Manipulation**"
   ],
   "attachments":{
    
   },
   "metadata":{
    "datalore":{
     "type":"MD",
     "hide_input_from_viewers":false,
     "hide_output_from_viewers":false
    }
   }
  },
  {
   "cell_type":"code",
   "source":[
    "import pandas as pd "
   ],
   "execution_count":181,
   "outputs":[
    
   ],
   "metadata":{
    "datalore":{
     "type":"CODE",
     "hide_input_from_viewers":false,
     "hide_output_from_viewers":false
    }
   }
  },
  {
   "cell_type":"code",
   "source":[
    "import matplotlib.pyplot as plt"
   ],
   "execution_count":182,
   "outputs":[
    
   ],
   "metadata":{
    "datalore":{
     "type":"CODE",
     "hide_input_from_viewers":false,
     "hide_output_from_viewers":false
    }
   }
  },
  {
   "cell_type":"code",
   "source":[
    "import statsmodels.api as sm"
   ],
   "execution_count":183,
   "outputs":[
    
   ],
   "metadata":{
    "datalore":{
     "type":"CODE",
     "hide_input_from_viewers":false,
     "hide_output_from_viewers":false
    }
   }
  },
  {
   "cell_type":"code",
   "source":[
    "from statsmodels.stats.proportion import proportion_confint"
   ],
   "execution_count":184,
   "outputs":[
    
   ],
   "metadata":{
    "datalore":{
     "type":"CODE",
     "hide_input_from_viewers":false,
     "hide_output_from_viewers":false
    }
   }
  },
  {
   "cell_type":"code",
   "source":[
    "df=pd.read_csv('results.csv')"
   ],
   "execution_count":185,
   "outputs":[
    
   ],
   "metadata":{
    "datalore":{
     "type":"CODE",
     "hide_input_from_viewers":false,
     "hide_output_from_viewers":false
    }
   }
  },
  {
   "cell_type":"code",
   "source":[
    "df"
   ],
   "execution_count":186,
   "outputs":[
    {
     "data":{
      "text\/html":[
       "<div>\n",
       "<style scoped>\n",
       "    .dataframe tbody tr th:only-of-type {\n",
       "        vertical-align: middle;\n",
       "    }\n",
       "\n",
       "    .dataframe tbody tr th {\n",
       "        vertical-align: top;\n",
       "    }\n",
       "\n",
       "    .dataframe thead th {\n",
       "        text-align: right;\n",
       "    }\n",
       "<\/style>\n",
       "<table border=\"1\" class=\"dataframe\">\n",
       "  <thead>\n",
       "    <tr style=\"text-align: right;\">\n",
       "      <th><\/th>\n",
       "      <th>date<\/th>\n",
       "      <th>home_team<\/th>\n",
       "      <th>away_team<\/th>\n",
       "      <th>home_score<\/th>\n",
       "      <th>away_score<\/th>\n",
       "      <th>tournament<\/th>\n",
       "      <th>city<\/th>\n",
       "      <th>country<\/th>\n",
       "      <th>neutral<\/th>\n",
       "    <\/tr>\n",
       "  <\/thead>\n",
       "  <tbody>\n",
       "    <tr>\n",
       "      <th>0<\/th>\n",
       "      <td>1872-11-30<\/td>\n",
       "      <td>Scotland<\/td>\n",
       "      <td>England<\/td>\n",
       "      <td>0<\/td>\n",
       "      <td>0<\/td>\n",
       "      <td>Friendly<\/td>\n",
       "      <td>Glasgow<\/td>\n",
       "      <td>Scotland<\/td>\n",
       "      <td>False<\/td>\n",
       "    <\/tr>\n",
       "    <tr>\n",
       "      <th>1<\/th>\n",
       "      <td>1873-03-08<\/td>\n",
       "      <td>England<\/td>\n",
       "      <td>Scotland<\/td>\n",
       "      <td>4<\/td>\n",
       "      <td>2<\/td>\n",
       "      <td>Friendly<\/td>\n",
       "      <td>London<\/td>\n",
       "      <td>England<\/td>\n",
       "      <td>False<\/td>\n",
       "    <\/tr>\n",
       "    <tr>\n",
       "      <th>2<\/th>\n",
       "      <td>1874-03-07<\/td>\n",
       "      <td>Scotland<\/td>\n",
       "      <td>England<\/td>\n",
       "      <td>2<\/td>\n",
       "      <td>1<\/td>\n",
       "      <td>Friendly<\/td>\n",
       "      <td>Glasgow<\/td>\n",
       "      <td>Scotland<\/td>\n",
       "      <td>False<\/td>\n",
       "    <\/tr>\n",
       "    <tr>\n",
       "      <th>3<\/th>\n",
       "      <td>1875-03-06<\/td>\n",
       "      <td>England<\/td>\n",
       "      <td>Scotland<\/td>\n",
       "      <td>2<\/td>\n",
       "      <td>2<\/td>\n",
       "      <td>Friendly<\/td>\n",
       "      <td>London<\/td>\n",
       "      <td>England<\/td>\n",
       "      <td>False<\/td>\n",
       "    <\/tr>\n",
       "    <tr>\n",
       "      <th>4<\/th>\n",
       "      <td>1876-03-04<\/td>\n",
       "      <td>Scotland<\/td>\n",
       "      <td>England<\/td>\n",
       "      <td>3<\/td>\n",
       "      <td>0<\/td>\n",
       "      <td>Friendly<\/td>\n",
       "      <td>Glasgow<\/td>\n",
       "      <td>Scotland<\/td>\n",
       "      <td>False<\/td>\n",
       "    <\/tr>\n",
       "    <tr>\n",
       "      <th>...<\/th>\n",
       "      <td>...<\/td>\n",
       "      <td>...<\/td>\n",
       "      <td>...<\/td>\n",
       "      <td>...<\/td>\n",
       "      <td>...<\/td>\n",
       "      <td>...<\/td>\n",
       "      <td>...<\/td>\n",
       "      <td>...<\/td>\n",
       "      <td>...<\/td>\n",
       "    <\/tr>\n",
       "    <tr>\n",
       "      <th>43183<\/th>\n",
       "      <td>2\/1\/2022<\/td>\n",
       "      <td>Suriname<\/td>\n",
       "      <td>Guyana<\/td>\n",
       "      <td>2<\/td>\n",
       "      <td>1<\/td>\n",
       "      <td>Friendly<\/td>\n",
       "      <td>Paramaribo<\/td>\n",
       "      <td>Suriname<\/td>\n",
       "      <td>False<\/td>\n",
       "    <\/tr>\n",
       "    <tr>\n",
       "      <th>43184<\/th>\n",
       "      <td>2\/2\/2022<\/td>\n",
       "      <td>Burkina Faso<\/td>\n",
       "      <td>Senegal<\/td>\n",
       "      <td>1<\/td>\n",
       "      <td>3<\/td>\n",
       "      <td>African Cup of Nations<\/td>\n",
       "      <td>Yaoundé<\/td>\n",
       "      <td>Cameroon<\/td>\n",
       "      <td>True<\/td>\n",
       "    <\/tr>\n",
       "    <tr>\n",
       "      <th>43185<\/th>\n",
       "      <td>2\/3\/2022<\/td>\n",
       "      <td>Cameroon<\/td>\n",
       "      <td>Egypt<\/td>\n",
       "      <td>0<\/td>\n",
       "      <td>0<\/td>\n",
       "      <td>African Cup of Nations<\/td>\n",
       "      <td>Yaoundé<\/td>\n",
       "      <td>Cameroon<\/td>\n",
       "      <td>False<\/td>\n",
       "    <\/tr>\n",
       "    <tr>\n",
       "      <th>43186<\/th>\n",
       "      <td>2\/5\/2022<\/td>\n",
       "      <td>Cameroon<\/td>\n",
       "      <td>Burkina Faso<\/td>\n",
       "      <td>3<\/td>\n",
       "      <td>3<\/td>\n",
       "      <td>African Cup of Nations<\/td>\n",
       "      <td>Yaoundé<\/td>\n",
       "      <td>Cameroon<\/td>\n",
       "      <td>False<\/td>\n",
       "    <\/tr>\n",
       "    <tr>\n",
       "      <th>43187<\/th>\n",
       "      <td>2\/6\/2022<\/td>\n",
       "      <td>Senegal<\/td>\n",
       "      <td>Egypt<\/td>\n",
       "      <td>0<\/td>\n",
       "      <td>0<\/td>\n",
       "      <td>African Cup of Nations<\/td>\n",
       "      <td>Yaoundé<\/td>\n",
       "      <td>Cameroon<\/td>\n",
       "      <td>True<\/td>\n",
       "    <\/tr>\n",
       "  <\/tbody>\n",
       "<\/table>\n",
       "<p>43188 rows × 9 columns<\/p>\n",
       "<\/div>"
      ]
     },
     "metadata":{
      
     },
     "output_type":"display_data"
    }
   ],
   "metadata":{
    "datalore":{
     "type":"CODE",
     "hide_input_from_viewers":false,
     "hide_output_from_viewers":false
    }
   }
  },
  {
   "cell_type":"code",
   "source":[
    "df.shape"
   ],
   "execution_count":187,
   "outputs":[
    {
     "data":{
      "text\/plain":[
       "(43188, 9)"
      ]
     },
     "metadata":{
      
     },
     "output_type":"display_data"
    }
   ],
   "metadata":{
    "datalore":{
     "type":"CODE",
     "hide_input_from_viewers":false,
     "hide_output_from_viewers":false
    }
   }
  },
  {
   "cell_type":"code",
   "source":[
    "x=df['home_score']-df['away_score']\n",
    "conditions=[(x>0),(x<0),(x==0)]"
   ],
   "execution_count":188,
   "outputs":[
    
   ],
   "metadata":{
    "datalore":{
     "type":"CODE",
     "hide_input_from_viewers":false,
     "hide_output_from_viewers":false
    }
   }
  },
  {
   "cell_type":"code",
   "source":[
    "x"
   ],
   "execution_count":189,
   "outputs":[
    {
     "data":{
      "text\/html":[
       
      ]
     },
     "metadata":{
      
     },
     "output_type":"display_data"
    }
   ],
   "metadata":{
    "datalore":{
     "type":"CODE",
     "hide_input_from_viewers":false,
     "hide_output_from_viewers":false
    }
   }
  },
  {
   "cell_type":"code",
   "source":[
    "conditions=[(x>0),(x<0),(x==0)]"
   ],
   "execution_count":190,
   "outputs":[
    
   ],
   "metadata":{
    "datalore":{
     "type":"CODE",
     "hide_input_from_viewers":false,
     "hide_output_from_viewers":false
    }
   }
  },
  {
   "cell_type":"code",
   "source":[
    "values=['win','lose','draw']"
   ],
   "execution_count":191,
   "outputs":[
    
   ],
   "metadata":{
    "datalore":{
     "type":"CODE",
     "hide_input_from_viewers":false,
     "hide_output_from_viewers":false
    }
   }
  },
  {
   "cell_type":"code",
   "source":[
    "import numpy as np"
   ],
   "execution_count":192,
   "outputs":[
    
   ],
   "metadata":{
    "datalore":{
     "type":"CODE",
     "hide_input_from_viewers":false,
     "hide_output_from_viewers":false
    }
   }
  },
  {
   "cell_type":"code",
   "source":[
    "df['results']=np.select(conditions,values)"
   ],
   "execution_count":193,
   "outputs":[
    
   ],
   "metadata":{
    "datalore":{
     "type":"CODE",
     "hide_input_from_viewers":false,
     "hide_output_from_viewers":false
    }
   }
  },
  {
   "cell_type":"code",
   "source":[
    "df['results']"
   ],
   "execution_count":194,
   "outputs":[
    {
     "data":{
      "text\/html":[
       
      ]
     },
     "metadata":{
      
     },
     "output_type":"display_data"
    }
   ],
   "metadata":{
    "datalore":{
     "type":"CODE",
     "hide_input_from_viewers":false,
     "hide_output_from_viewers":false
    }
   }
  },
  {
   "cell_type":"code",
   "source":[
    "df"
   ],
   "execution_count":195,
   "outputs":[
    {
     "data":{
      "text\/html":[
       "<div>\n",
       "<style scoped>\n",
       "    .dataframe tbody tr th:only-of-type {\n",
       "        vertical-align: middle;\n",
       "    }\n",
       "\n",
       "    .dataframe tbody tr th {\n",
       "        vertical-align: top;\n",
       "    }\n",
       "\n",
       "    .dataframe thead th {\n",
       "        text-align: right;\n",
       "    }\n",
       "<\/style>\n",
       "<table border=\"1\" class=\"dataframe\">\n",
       "  <thead>\n",
       "    <tr style=\"text-align: right;\">\n",
       "      <th><\/th>\n",
       "      <th>date<\/th>\n",
       "      <th>home_team<\/th>\n",
       "      <th>away_team<\/th>\n",
       "      <th>home_score<\/th>\n",
       "      <th>away_score<\/th>\n",
       "      <th>tournament<\/th>\n",
       "      <th>city<\/th>\n",
       "      <th>country<\/th>\n",
       "      <th>neutral<\/th>\n",
       "      <th>results<\/th>\n",
       "    <\/tr>\n",
       "  <\/thead>\n",
       "  <tbody>\n",
       "    <tr>\n",
       "      <th>0<\/th>\n",
       "      <td>1872-11-30<\/td>\n",
       "      <td>Scotland<\/td>\n",
       "      <td>England<\/td>\n",
       "      <td>0<\/td>\n",
       "      <td>0<\/td>\n",
       "      <td>Friendly<\/td>\n",
       "      <td>Glasgow<\/td>\n",
       "      <td>Scotland<\/td>\n",
       "      <td>False<\/td>\n",
       "      <td>draw<\/td>\n",
       "    <\/tr>\n",
       "    <tr>\n",
       "      <th>1<\/th>\n",
       "      <td>1873-03-08<\/td>\n",
       "      <td>England<\/td>\n",
       "      <td>Scotland<\/td>\n",
       "      <td>4<\/td>\n",
       "      <td>2<\/td>\n",
       "      <td>Friendly<\/td>\n",
       "      <td>London<\/td>\n",
       "      <td>England<\/td>\n",
       "      <td>False<\/td>\n",
       "      <td>win<\/td>\n",
       "    <\/tr>\n",
       "    <tr>\n",
       "      <th>2<\/th>\n",
       "      <td>1874-03-07<\/td>\n",
       "      <td>Scotland<\/td>\n",
       "      <td>England<\/td>\n",
       "      <td>2<\/td>\n",
       "      <td>1<\/td>\n",
       "      <td>Friendly<\/td>\n",
       "      <td>Glasgow<\/td>\n",
       "      <td>Scotland<\/td>\n",
       "      <td>False<\/td>\n",
       "      <td>win<\/td>\n",
       "    <\/tr>\n",
       "    <tr>\n",
       "      <th>3<\/th>\n",
       "      <td>1875-03-06<\/td>\n",
       "      <td>England<\/td>\n",
       "      <td>Scotland<\/td>\n",
       "      <td>2<\/td>\n",
       "      <td>2<\/td>\n",
       "      <td>Friendly<\/td>\n",
       "      <td>London<\/td>\n",
       "      <td>England<\/td>\n",
       "      <td>False<\/td>\n",
       "      <td>draw<\/td>\n",
       "    <\/tr>\n",
       "    <tr>\n",
       "      <th>4<\/th>\n",
       "      <td>1876-03-04<\/td>\n",
       "      <td>Scotland<\/td>\n",
       "      <td>England<\/td>\n",
       "      <td>3<\/td>\n",
       "      <td>0<\/td>\n",
       "      <td>Friendly<\/td>\n",
       "      <td>Glasgow<\/td>\n",
       "      <td>Scotland<\/td>\n",
       "      <td>False<\/td>\n",
       "      <td>win<\/td>\n",
       "    <\/tr>\n",
       "    <tr>\n",
       "      <th>...<\/th>\n",
       "      <td>...<\/td>\n",
       "      <td>...<\/td>\n",
       "      <td>...<\/td>\n",
       "      <td>...<\/td>\n",
       "      <td>...<\/td>\n",
       "      <td>...<\/td>\n",
       "      <td>...<\/td>\n",
       "      <td>...<\/td>\n",
       "      <td>...<\/td>\n",
       "      <td>...<\/td>\n",
       "    <\/tr>\n",
       "    <tr>\n",
       "      <th>43183<\/th>\n",
       "      <td>2\/1\/2022<\/td>\n",
       "      <td>Suriname<\/td>\n",
       "      <td>Guyana<\/td>\n",
       "      <td>2<\/td>\n",
       "      <td>1<\/td>\n",
       "      <td>Friendly<\/td>\n",
       "      <td>Paramaribo<\/td>\n",
       "      <td>Suriname<\/td>\n",
       "      <td>False<\/td>\n",
       "      <td>win<\/td>\n",
       "    <\/tr>\n",
       "    <tr>\n",
       "      <th>43184<\/th>\n",
       "      <td>2\/2\/2022<\/td>\n",
       "      <td>Burkina Faso<\/td>\n",
       "      <td>Senegal<\/td>\n",
       "      <td>1<\/td>\n",
       "      <td>3<\/td>\n",
       "      <td>African Cup of Nations<\/td>\n",
       "      <td>Yaoundé<\/td>\n",
       "      <td>Cameroon<\/td>\n",
       "      <td>True<\/td>\n",
       "      <td>lose<\/td>\n",
       "    <\/tr>\n",
       "    <tr>\n",
       "      <th>43185<\/th>\n",
       "      <td>2\/3\/2022<\/td>\n",
       "      <td>Cameroon<\/td>\n",
       "      <td>Egypt<\/td>\n",
       "      <td>0<\/td>\n",
       "      <td>0<\/td>\n",
       "      <td>African Cup of Nations<\/td>\n",
       "      <td>Yaoundé<\/td>\n",
       "      <td>Cameroon<\/td>\n",
       "      <td>False<\/td>\n",
       "      <td>draw<\/td>\n",
       "    <\/tr>\n",
       "    <tr>\n",
       "      <th>43186<\/th>\n",
       "      <td>2\/5\/2022<\/td>\n",
       "      <td>Cameroon<\/td>\n",
       "      <td>Burkina Faso<\/td>\n",
       "      <td>3<\/td>\n",
       "      <td>3<\/td>\n",
       "      <td>African Cup of Nations<\/td>\n",
       "      <td>Yaoundé<\/td>\n",
       "      <td>Cameroon<\/td>\n",
       "      <td>False<\/td>\n",
       "      <td>draw<\/td>\n",
       "    <\/tr>\n",
       "    <tr>\n",
       "      <th>43187<\/th>\n",
       "      <td>2\/6\/2022<\/td>\n",
       "      <td>Senegal<\/td>\n",
       "      <td>Egypt<\/td>\n",
       "      <td>0<\/td>\n",
       "      <td>0<\/td>\n",
       "      <td>African Cup of Nations<\/td>\n",
       "      <td>Yaoundé<\/td>\n",
       "      <td>Cameroon<\/td>\n",
       "      <td>True<\/td>\n",
       "      <td>draw<\/td>\n",
       "    <\/tr>\n",
       "  <\/tbody>\n",
       "<\/table>\n",
       "<p>43188 rows × 10 columns<\/p>\n",
       "<\/div>"
      ]
     },
     "metadata":{
      
     },
     "output_type":"display_data"
    }
   ],
   "metadata":{
    "datalore":{
     "type":"CODE",
     "hide_input_from_viewers":false,
     "hide_output_from_viewers":false
    }
   }
  },
  {
   "cell_type":"code",
   "source":[
    "x=df['results'].value_counts()"
   ],
   "execution_count":196,
   "outputs":[
    
   ],
   "metadata":{
    "datalore":{
     "type":"CODE",
     "hide_input_from_viewers":false,
     "hide_output_from_viewers":false
    }
   }
  },
  {
   "cell_type":"code",
   "source":[
    "x=df['results'].value_counts()"
   ],
   "execution_count":197,
   "outputs":[
    
   ],
   "metadata":{
    "datalore":{
     "type":"CODE",
     "hide_input_from_viewers":false,
     "hide_output_from_viewers":false
    }
   }
  },
  {
   "cell_type":"code",
   "source":[
    "x=np.array(x)"
   ],
   "execution_count":198,
   "outputs":[
    
   ],
   "metadata":{
    "datalore":{
     "type":"CODE",
     "hide_input_from_viewers":false,
     "hide_output_from_viewers":false
    }
   }
  },
  {
   "cell_type":"code",
   "source":[
    "x"
   ],
   "execution_count":199,
   "outputs":[
    {
     "data":{
      "text\/html":[
       
      ]
     },
     "metadata":{
      
     },
     "output_type":"display_data"
    }
   ],
   "metadata":{
    "datalore":{
     "type":"CODE",
     "hide_input_from_viewers":false,
     "hide_output_from_viewers":false
    }
   }
  },
  {
   "cell_type":"code",
   "source":[
    "N=x.sum()"
   ],
   "execution_count":200,
   "outputs":[
    
   ],
   "metadata":{
    "datalore":{
     "type":"CODE",
     "hide_input_from_viewers":false,
     "hide_output_from_viewers":false
    }
   }
  },
  {
   "cell_type":"code",
   "source":[
    "N"
   ],
   "execution_count":201,
   "outputs":[
    {
     "data":{
      "text\/plain":[
       "43188"
      ]
     },
     "metadata":{
      
     },
     "output_type":"display_data"
    }
   ],
   "metadata":{
    "datalore":{
     "type":"CODE",
     "hide_input_from_viewers":false,
     "hide_output_from_viewers":false
    }
   }
  },
  {
   "cell_type":"code",
   "source":[
    "import statsmodels.api as sm\n",
    "from statsmodels.stats.proportion import proportion_confint"
   ],
   "execution_count":202,
   "outputs":[
    
   ],
   "metadata":{
    "datalore":{
     "type":"CODE",
     "hide_input_from_viewers":false,
     "hide_output_from_viewers":false
    }
   }
  },
  {
   "cell_type":"code",
   "source":[
    "CI_win=proportion_confint(count=x[1],nobs=N,alpha=(1-.95))"
   ],
   "execution_count":203,
   "outputs":[
    
   ],
   "metadata":{
    "datalore":{
     "type":"CODE",
     "hide_input_from_viewers":false,
     "hide_output_from_viewers":false
    }
   }
  },
  {
   "cell_type":"code",
   "source":[
    "CI_win"
   ],
   "execution_count":204,
   "outputs":[
    {
     "data":{
      "text\/plain":[
       "(0.27879305599044235, 0.28729011526083115)"
      ]
     },
     "metadata":{
      
     },
     "output_type":"display_data"
    }
   ],
   "metadata":{
    "datalore":{
     "type":"CODE",
     "hide_input_from_viewers":false,
     "hide_output_from_viewers":false
    }
   }
  },
  {
   "cell_type":"code",
   "source":[
    "CI_lose=proportion_confint(count=x[0],nobs=N,alpha=(1-.95))"
   ],
   "execution_count":205,
   "outputs":[
    
   ],
   "metadata":{
    "datalore":{
     "type":"CODE",
     "hide_input_from_viewers":false,
     "hide_output_from_viewers":false
    }
   }
  },
  {
   "cell_type":"code",
   "source":[
    "CI_lose"
   ],
   "execution_count":206,
   "outputs":[
    {
     "data":{
      "text\/plain":[
       "(0.481740705905987, 0.49116843552218753)"
      ]
     },
     "metadata":{
      
     },
     "output_type":"display_data"
    }
   ],
   "metadata":{
    "datalore":{
     "type":"CODE",
     "hide_input_from_viewers":false,
     "hide_output_from_viewers":false
    }
   }
  },
  {
   "cell_type":"code",
   "source":[
    "CI_draw=proportion_confint(count=x[2],nobs=N,alpha=(1-.95))"
   ],
   "execution_count":207,
   "outputs":[
    
   ],
   "metadata":{
    "datalore":{
     "type":"CODE",
     "hide_input_from_viewers":false,
     "hide_output_from_viewers":false
    }
   }
  },
  {
   "cell_type":"code",
   "source":[
    "CI_draw"
   ],
   "execution_count":208,
   "outputs":[
    {
     "data":{
      "text\/plain":[
       "(0.2265318471530234, 0.23447584016752862)"
      ]
     },
     "metadata":{
      
     },
     "output_type":"display_data"
    }
   ],
   "metadata":{
    "datalore":{
     "type":"CODE",
     "hide_input_from_viewers":false,
     "hide_output_from_viewers":false
    }
   }
  },
  {
   "cell_type":"markdown",
   "source":[
    "**Country 1: Chile**"
   ],
   "attachments":{
    
   },
   "metadata":{
    "datalore":{
     "type":"MD",
     "hide_input_from_viewers":false,
     "hide_output_from_viewers":false
    }
   }
  },
  {
   "cell_type":"code",
   "source":[
    "dfchi=df[df['country']=='Chile']"
   ],
   "execution_count":209,
   "outputs":[
    
   ],
   "metadata":{
    "datalore":{
     "type":"CODE",
     "hide_input_from_viewers":false,
     "hide_output_from_viewers":false
    }
   }
  },
  {
   "cell_type":"code",
   "source":[
    "dfchi.head()"
   ],
   "execution_count":210,
   "outputs":[
    {
     "data":{
      "text\/html":[
       "<div>\n",
       "<style scoped>\n",
       "    .dataframe tbody tr th:only-of-type {\n",
       "        vertical-align: middle;\n",
       "    }\n",
       "\n",
       "    .dataframe tbody tr th {\n",
       "        vertical-align: top;\n",
       "    }\n",
       "\n",
       "    .dataframe thead th {\n",
       "        text-align: right;\n",
       "    }\n",
       "<\/style>\n",
       "<table border=\"1\" class=\"dataframe\">\n",
       "  <thead>\n",
       "    <tr style=\"text-align: right;\">\n",
       "      <th><\/th>\n",
       "      <th>date<\/th>\n",
       "      <th>home_team<\/th>\n",
       "      <th>away_team<\/th>\n",
       "      <th>home_score<\/th>\n",
       "      <th>away_score<\/th>\n",
       "      <th>tournament<\/th>\n",
       "      <th>city<\/th>\n",
       "      <th>country<\/th>\n",
       "      <th>neutral<\/th>\n",
       "      <th>results<\/th>\n",
       "    <\/tr>\n",
       "  <\/thead>\n",
       "  <tbody>\n",
       "    <tr>\n",
       "      <th>271<\/th>\n",
       "      <td>9\/11\/1910<\/td>\n",
       "      <td>Chile<\/td>\n",
       "      <td>Argentina<\/td>\n",
       "      <td>0<\/td>\n",
       "      <td>3<\/td>\n",
       "      <td>Friendly<\/td>\n",
       "      <td>Viña del Mar<\/td>\n",
       "      <td>Chile<\/td>\n",
       "      <td>False<\/td>\n",
       "      <td>lose<\/td>\n",
       "    <\/tr>\n",
       "    <tr>\n",
       "      <th>375<\/th>\n",
       "      <td>9\/21\/1913<\/td>\n",
       "      <td>Chile<\/td>\n",
       "      <td>Argentina<\/td>\n",
       "      <td>0<\/td>\n",
       "      <td>2<\/td>\n",
       "      <td>Friendly<\/td>\n",
       "      <td>Viña del Mar<\/td>\n",
       "      <td>Chile<\/td>\n",
       "      <td>False<\/td>\n",
       "      <td>lose<\/td>\n",
       "    <\/tr>\n",
       "    <tr>\n",
       "      <th>555<\/th>\n",
       "      <td>9\/11\/1920<\/td>\n",
       "      <td>Chile<\/td>\n",
       "      <td>Brazil<\/td>\n",
       "      <td>0<\/td>\n",
       "      <td>1<\/td>\n",
       "      <td>Copa América<\/td>\n",
       "      <td>Viña del Mar<\/td>\n",
       "      <td>Chile<\/td>\n",
       "      <td>False<\/td>\n",
       "      <td>lose<\/td>\n",
       "    <\/tr>\n",
       "    <tr>\n",
       "      <th>556<\/th>\n",
       "      <td>9\/12\/1920<\/td>\n",
       "      <td>Uruguay<\/td>\n",
       "      <td>Argentina<\/td>\n",
       "      <td>1<\/td>\n",
       "      <td>1<\/td>\n",
       "      <td>Copa América<\/td>\n",
       "      <td>Viña del Mar<\/td>\n",
       "      <td>Chile<\/td>\n",
       "      <td>True<\/td>\n",
       "      <td>draw<\/td>\n",
       "    <\/tr>\n",
       "    <tr>\n",
       "      <th>557<\/th>\n",
       "      <td>9\/18\/1920<\/td>\n",
       "      <td>Brazil<\/td>\n",
       "      <td>Uruguay<\/td>\n",
       "      <td>0<\/td>\n",
       "      <td>6<\/td>\n",
       "      <td>Copa América<\/td>\n",
       "      <td>Viña del Mar<\/td>\n",
       "      <td>Chile<\/td>\n",
       "      <td>True<\/td>\n",
       "      <td>lose<\/td>\n",
       "    <\/tr>\n",
       "  <\/tbody>\n",
       "<\/table>\n",
       "<\/div>"
      ]
     },
     "metadata":{
      
     },
     "output_type":"display_data"
    }
   ],
   "metadata":{
    "datalore":{
     "type":"CODE",
     "hide_input_from_viewers":false,
     "hide_output_from_viewers":false
    }
   }
  },
  {
   "cell_type":"code",
   "source":[
    "conditions = [\n",
    "    (dfchi['tournament']=='Friendly'),\n",
    "    (dfchi['tournament']!='Friendly')    ]"
   ],
   "execution_count":211,
   "outputs":[
    
   ],
   "metadata":{
    "datalore":{
     "type":"CODE",
     "hide_input_from_viewers":false,
     "hide_output_from_viewers":false
    }
   }
  },
  {
   "cell_type":"code",
   "source":[
    "values=['Friendly','Official']"
   ],
   "execution_count":212,
   "outputs":[
    
   ],
   "metadata":{
    "datalore":{
     "type":"CODE",
     "hide_input_from_viewers":false,
     "hide_output_from_viewers":false
    }
   }
  },
  {
   "cell_type":"code",
   "source":[
    "dfchi['typematch'] = np.select(conditions, values)"
   ],
   "execution_count":213,
   "outputs":[
    {
     "name":"stderr",
     "text":[
      "<ipython-input-213-c709d5b39ffb>:1: SettingWithCopyWarning: \n",
      "A value is trying to be set on a copy of a slice from a DataFrame.\n",
      "Try using .loc[row_indexer,col_indexer] = value instead\n",
      "\n",
      "See the caveats in the documentation: https:\/\/pandas.pydata.org\/pandas-docs\/stable\/user_guide\/indexing.html#returning-a-view-versus-a-copy\n",
      "  dfchi['typematch'] = np.select(conditions, values)\n"
     ],
     "output_type":"stream"
    }
   ],
   "metadata":{
    "datalore":{
     "type":"CODE",
     "hide_input_from_viewers":false,
     "hide_output_from_viewers":false
    }
   }
  },
  {
   "cell_type":"code",
   "source":[
    "dfchi['typematch'].value_counts()"
   ],
   "execution_count":214,
   "outputs":[
    {
     "data":{
      "text\/html":[
       
      ]
     },
     "metadata":{
      
     },
     "output_type":"display_data"
    }
   ],
   "metadata":{
    "datalore":{
     "type":"CODE",
     "hide_input_from_viewers":false,
     "hide_output_from_viewers":false
    }
   }
  },
  {
   "cell_type":"markdown",
   "source":[
    "Comparing the probability of win\/lose by match type:"
   ],
   "attachments":{
    
   },
   "metadata":{
    "datalore":{
     "type":"MD",
     "hide_input_from_viewers":false,
     "hide_output_from_viewers":false
    }
   }
  },
  {
   "cell_type":"code",
   "source":[
    "x=pd.crosstab(dfchi['typematch'],dfchi['results'],margins=True)\n",
    "x"
   ],
   "execution_count":215,
   "outputs":[
    {
     "data":{
      "text\/html":[
       "<div>\n",
       "<style scoped>\n",
       "    .dataframe tbody tr th:only-of-type {\n",
       "        vertical-align: middle;\n",
       "    }\n",
       "\n",
       "    .dataframe tbody tr th {\n",
       "        vertical-align: top;\n",
       "    }\n",
       "\n",
       "    .dataframe thead th {\n",
       "        text-align: right;\n",
       "    }\n",
       "<\/style>\n",
       "<table border=\"1\" class=\"dataframe\">\n",
       "  <thead>\n",
       "    <tr style=\"text-align: right;\">\n",
       "      <th>results<\/th>\n",
       "      <th>draw<\/th>\n",
       "      <th>lose<\/th>\n",
       "      <th>win<\/th>\n",
       "      <th>All<\/th>\n",
       "    <\/tr>\n",
       "    <tr>\n",
       "      <th>typematch<\/th>\n",
       "      <th><\/th>\n",
       "      <th><\/th>\n",
       "      <th><\/th>\n",
       "      <th><\/th>\n",
       "    <\/tr>\n",
       "  <\/thead>\n",
       "  <tbody>\n",
       "    <tr>\n",
       "      <th>Friendly<\/th>\n",
       "      <td>24<\/td>\n",
       "      <td>34<\/td>\n",
       "      <td>81<\/td>\n",
       "      <td>139<\/td>\n",
       "    <\/tr>\n",
       "    <tr>\n",
       "      <th>Official<\/th>\n",
       "      <td>57<\/td>\n",
       "      <td>76<\/td>\n",
       "      <td>143<\/td>\n",
       "      <td>276<\/td>\n",
       "    <\/tr>\n",
       "    <tr>\n",
       "      <th>All<\/th>\n",
       "      <td>81<\/td>\n",
       "      <td>110<\/td>\n",
       "      <td>224<\/td>\n",
       "      <td>415<\/td>\n",
       "    <\/tr>\n",
       "  <\/tbody>\n",
       "<\/table>\n",
       "<\/div>"
      ]
     },
     "metadata":{
      
     },
     "output_type":"display_data"
    }
   ],
   "metadata":{
    "datalore":{
     "type":"CODE",
     "hide_input_from_viewers":false,
     "hide_output_from_viewers":false
    }
   }
  },
  {
   "cell_type":"code",
   "source":[
    "x=np.array(x)\n",
    "x"
   ],
   "execution_count":216,
   "outputs":[
    {
     "data":{
      "text\/html":[
       
      ]
     },
     "metadata":{
      
     },
     "output_type":"display_data"
    }
   ],
   "metadata":{
    "datalore":{
     "type":"CODE",
     "hide_input_from_viewers":false,
     "hide_output_from_viewers":false
    }
   }
  },
  {
   "cell_type":"code",
   "source":[
    "CI_chiwin_friendly=proportion_confint(count=x[0,2],nobs=x[0,3],alpha=(1-.95))\n",
    "CI_chiwin_friendly"
   ],
   "execution_count":217,
   "outputs":[
    {
     "data":{
      "text\/plain":[
       "(0.5007586295710529, 0.6647089963282278)"
      ]
     },
     "metadata":{
      
     },
     "output_type":"display_data"
    }
   ],
   "metadata":{
    "datalore":{
     "type":"CODE",
     "hide_input_from_viewers":false,
     "hide_output_from_viewers":false
    }
   }
  },
  {
   "cell_type":"code",
   "source":[
    "CI_chiwin_official=proportion_confint(count=x[1,2],nobs=x[1,3],alpha=(1-.95))\n",
    "CI_chiwin_official"
   ],
   "execution_count":218,
   "outputs":[
    {
     "data":{
      "text\/plain":[
       "(0.4591666888911145, 0.5770651951668565)"
      ]
     },
     "metadata":{
      
     },
     "output_type":"display_data"
    }
   ],
   "metadata":{
    "datalore":{
     "type":"CODE",
     "hide_input_from_viewers":false,
     "hide_output_from_viewers":false
    }
   }
  },
  {
   "cell_type":"markdown",
   "source":[
    "Plotting the Confidence Intervals:"
   ],
   "attachments":{
    
   },
   "metadata":{
    "datalore":{
     "type":"MD",
     "hide_input_from_viewers":false,
     "hide_output_from_viewers":false
    }
   }
  },
  {
   "cell_type":"code",
   "source":[
    "ci_chiwin = {}\n",
    "ci_chiwin['Typematch'] = ['Friendly','Official']\n",
    "ci_chiwin['lb'] = [CI_chiwin_friendly[0],CI_chiwin_official[0]]\n",
    "ci_chiwin['ub'] = [CI_chiwin_friendly[1],CI_chiwin_official[1]]\n",
    "df_ci_chi= pd.DataFrame(ci_chiwin)\n",
    "df_ci_chi"
   ],
   "execution_count":219,
   "outputs":[
    {
     "data":{
      "text\/html":[
       "<div>\n",
       "<style scoped>\n",
       "    .dataframe tbody tr th:only-of-type {\n",
       "        vertical-align: middle;\n",
       "    }\n",
       "\n",
       "    .dataframe tbody tr th {\n",
       "        vertical-align: top;\n",
       "    }\n",
       "\n",
       "    .dataframe thead th {\n",
       "        text-align: right;\n",
       "    }\n",
       "<\/style>\n",
       "<table border=\"1\" class=\"dataframe\">\n",
       "  <thead>\n",
       "    <tr style=\"text-align: right;\">\n",
       "      <th><\/th>\n",
       "      <th>Typematch<\/th>\n",
       "      <th>lb<\/th>\n",
       "      <th>ub<\/th>\n",
       "    <\/tr>\n",
       "  <\/thead>\n",
       "  <tbody>\n",
       "    <tr>\n",
       "      <th>0<\/th>\n",
       "      <td>Friendly<\/td>\n",
       "      <td>0.500759<\/td>\n",
       "      <td>0.664709<\/td>\n",
       "    <\/tr>\n",
       "    <tr>\n",
       "      <th>1<\/th>\n",
       "      <td>Official<\/td>\n",
       "      <td>0.459167<\/td>\n",
       "      <td>0.577065<\/td>\n",
       "    <\/tr>\n",
       "  <\/tbody>\n",
       "<\/table>\n",
       "<\/div>"
      ]
     },
     "metadata":{
      
     },
     "output_type":"display_data"
    }
   ],
   "metadata":{
    "datalore":{
     "type":"CODE",
     "hide_input_from_viewers":false,
     "hide_output_from_viewers":false
    }
   }
  },
  {
   "cell_type":"code",
   "source":[
    "import matplotlib.pyplot as plt\n",
    "for lb,ub,y in zip(df_ci_chi['lb'],df_ci_chi['ub'],range(len(df_ci_chi))):\n",
    "    plt.plot((lb,ub),(y,y),'ro-')\n",
    "plt.yticks(range(len(df_ci_chi)),list(df_ci_chi['Typematch']))"
   ],
   "execution_count":220,
   "outputs":[
    {
     "data":{
      "text\/plain":[
       "([<matplotlib.axis.YTick at 0x7fce48dde1c0>,\n",
       "  <matplotlib.axis.YTick at 0x7fce48ddeeb0>],\n",
       " [Text(0, 0, 'Friendly'), Text(0, 1, 'Official')])"
      ],
      "image\/png":"[encoded data removed]"
     },
     "metadata":{
      "image\/png":{
       
      }
     },
     "output_type":"display_data"
    }
   ],
   "metadata":{
    "datalore":{
     "type":"CODE",
     "hide_input_from_viewers":false,
     "hide_output_from_viewers":false
    }
   }
  },
  {
   "cell_type":"markdown",
   "source":[
    "The confidence interval for winning friendly games is wider than official games. This means that there is a varied probability of winning where it lies between 50% and nearly 66%. But, the confidence interval for winning official games is narrower and less than friendly games where it lies between 45% and nearly 60%. This shows that the probability of winning friendly games is higher than winning official games. The interpretation for this is that players might be more serious and perform better in official games than friendly games. "
   ],
   "attachments":{
    
   },
   "metadata":{
    "datalore":{
     "type":"MD",
     "hide_input_from_viewers":false,
     "hide_output_from_viewers":false
    }
   }
  },
  {
   "cell_type":"markdown",
   "source":[
    "Now examining the effect of fans on winning and losing by looking at home games and away games "
   ],
   "attachments":{
    
   },
   "metadata":{
    "datalore":{
     "type":"MD",
     "hide_input_from_viewers":false,
     "hide_output_from_viewers":false
    }
   }
  },
  {
   "cell_type":"code",
   "source":[
    "dfchi['home']=(dfchi['home_team']=='Chile')"
   ],
   "execution_count":247,
   "outputs":[
    {
     "name":"stderr",
     "text":[
      "<ipython-input-247-2a29273bf047>:1: SettingWithCopyWarning: \n",
      "A value is trying to be set on a copy of a slice from a DataFrame.\n",
      "Try using .loc[row_indexer,col_indexer] = value instead\n",
      "\n",
      "See the caveats in the documentation: https:\/\/pandas.pydata.org\/pandas-docs\/stable\/user_guide\/indexing.html#returning-a-view-versus-a-copy\n",
      "  dfchi['home']=(dfchi['home_team']=='Chile')\n"
     ],
     "output_type":"stream"
    }
   ],
   "metadata":{
    "datalore":{
     "type":"CODE",
     "hide_input_from_viewers":false,
     "hide_output_from_viewers":false
    }
   }
  },
  {
   "cell_type":"code",
   "source":[
    "dfchi['home'].value_counts()"
   ],
   "execution_count":248,
   "outputs":[
    {
     "data":{
      "text\/html":[
       
      ]
     },
     "metadata":{
      
     },
     "output_type":"display_data"
    }
   ],
   "metadata":{
    "datalore":{
     "type":"CODE",
     "hide_input_from_viewers":false,
     "hide_output_from_viewers":false
    }
   }
  },
  {
   "cell_type":"code",
   "source":[
    "x=pd.crosstab(dfchi['home'],dfchi['results'],margins=True)\n",
    "x"
   ],
   "execution_count":249,
   "outputs":[
    {
     "data":{
      "text\/html":[
       "<div>\n",
       "<style scoped>\n",
       "    .dataframe tbody tr th:only-of-type {\n",
       "        vertical-align: middle;\n",
       "    }\n",
       "\n",
       "    .dataframe tbody tr th {\n",
       "        vertical-align: top;\n",
       "    }\n",
       "\n",
       "    .dataframe thead th {\n",
       "        text-align: right;\n",
       "    }\n",
       "<\/style>\n",
       "<table border=\"1\" class=\"dataframe\">\n",
       "  <thead>\n",
       "    <tr style=\"text-align: right;\">\n",
       "      <th>results<\/th>\n",
       "      <th>draw<\/th>\n",
       "      <th>lose<\/th>\n",
       "      <th>win<\/th>\n",
       "      <th>All<\/th>\n",
       "    <\/tr>\n",
       "    <tr>\n",
       "      <th>home<\/th>\n",
       "      <th><\/th>\n",
       "      <th><\/th>\n",
       "      <th><\/th>\n",
       "      <th><\/th>\n",
       "    <\/tr>\n",
       "  <\/thead>\n",
       "  <tbody>\n",
       "    <tr>\n",
       "      <th>False<\/th>\n",
       "      <td>23<\/td>\n",
       "      <td>40<\/td>\n",
       "      <td>57<\/td>\n",
       "      <td>120<\/td>\n",
       "    <\/tr>\n",
       "    <tr>\n",
       "      <th>True<\/th>\n",
       "      <td>58<\/td>\n",
       "      <td>70<\/td>\n",
       "      <td>167<\/td>\n",
       "      <td>295<\/td>\n",
       "    <\/tr>\n",
       "    <tr>\n",
       "      <th>All<\/th>\n",
       "      <td>81<\/td>\n",
       "      <td>110<\/td>\n",
       "      <td>224<\/td>\n",
       "      <td>415<\/td>\n",
       "    <\/tr>\n",
       "  <\/tbody>\n",
       "<\/table>\n",
       "<\/div>"
      ]
     },
     "metadata":{
      
     },
     "output_type":"display_data"
    }
   ],
   "metadata":{
    "datalore":{
     "type":"CODE",
     "hide_input_from_viewers":false,
     "hide_output_from_viewers":false
    }
   }
  },
  {
   "cell_type":"code",
   "source":[
    "dfchi.head(4)"
   ],
   "execution_count":250,
   "outputs":[
    {
     "data":{
      "text\/html":[
       "<div>\n",
       "<style scoped>\n",
       "    .dataframe tbody tr th:only-of-type {\n",
       "        vertical-align: middle;\n",
       "    }\n",
       "\n",
       "    .dataframe tbody tr th {\n",
       "        vertical-align: top;\n",
       "    }\n",
       "\n",
       "    .dataframe thead th {\n",
       "        text-align: right;\n",
       "    }\n",
       "<\/style>\n",
       "<table border=\"1\" class=\"dataframe\">\n",
       "  <thead>\n",
       "    <tr style=\"text-align: right;\">\n",
       "      <th><\/th>\n",
       "      <th>date<\/th>\n",
       "      <th>home_team<\/th>\n",
       "      <th>away_team<\/th>\n",
       "      <th>home_score<\/th>\n",
       "      <th>away_score<\/th>\n",
       "      <th>tournament<\/th>\n",
       "      <th>city<\/th>\n",
       "      <th>country<\/th>\n",
       "      <th>neutral<\/th>\n",
       "      <th>results<\/th>\n",
       "      <th>typematch<\/th>\n",
       "      <th>home<\/th>\n",
       "    <\/tr>\n",
       "  <\/thead>\n",
       "  <tbody>\n",
       "    <tr>\n",
       "      <th>271<\/th>\n",
       "      <td>9\/11\/1910<\/td>\n",
       "      <td>Chile<\/td>\n",
       "      <td>Argentina<\/td>\n",
       "      <td>0<\/td>\n",
       "      <td>3<\/td>\n",
       "      <td>Friendly<\/td>\n",
       "      <td>Viña del Mar<\/td>\n",
       "      <td>Chile<\/td>\n",
       "      <td>False<\/td>\n",
       "      <td>lose<\/td>\n",
       "      <td>Friendly<\/td>\n",
       "      <td>True<\/td>\n",
       "    <\/tr>\n",
       "    <tr>\n",
       "      <th>375<\/th>\n",
       "      <td>9\/21\/1913<\/td>\n",
       "      <td>Chile<\/td>\n",
       "      <td>Argentina<\/td>\n",
       "      <td>0<\/td>\n",
       "      <td>2<\/td>\n",
       "      <td>Friendly<\/td>\n",
       "      <td>Viña del Mar<\/td>\n",
       "      <td>Chile<\/td>\n",
       "      <td>False<\/td>\n",
       "      <td>lose<\/td>\n",
       "      <td>Friendly<\/td>\n",
       "      <td>True<\/td>\n",
       "    <\/tr>\n",
       "    <tr>\n",
       "      <th>555<\/th>\n",
       "      <td>9\/11\/1920<\/td>\n",
       "      <td>Chile<\/td>\n",
       "      <td>Brazil<\/td>\n",
       "      <td>0<\/td>\n",
       "      <td>1<\/td>\n",
       "      <td>Copa América<\/td>\n",
       "      <td>Viña del Mar<\/td>\n",
       "      <td>Chile<\/td>\n",
       "      <td>False<\/td>\n",
       "      <td>lose<\/td>\n",
       "      <td>Official<\/td>\n",
       "      <td>True<\/td>\n",
       "    <\/tr>\n",
       "    <tr>\n",
       "      <th>556<\/th>\n",
       "      <td>9\/12\/1920<\/td>\n",
       "      <td>Uruguay<\/td>\n",
       "      <td>Argentina<\/td>\n",
       "      <td>1<\/td>\n",
       "      <td>1<\/td>\n",
       "      <td>Copa América<\/td>\n",
       "      <td>Viña del Mar<\/td>\n",
       "      <td>Chile<\/td>\n",
       "      <td>True<\/td>\n",
       "      <td>draw<\/td>\n",
       "      <td>Official<\/td>\n",
       "      <td>False<\/td>\n",
       "    <\/tr>\n",
       "  <\/tbody>\n",
       "<\/table>\n",
       "<\/div>"
      ]
     },
     "metadata":{
      
     },
     "output_type":"display_data"
    }
   ],
   "metadata":{
    "datalore":{
     "type":"CODE",
     "hide_input_from_viewers":false,
     "hide_output_from_viewers":false
    }
   }
  },
  {
   "cell_type":"code",
   "source":[
    "x=np.array(x)\n",
    "x"
   ],
   "execution_count":251,
   "outputs":[
    {
     "data":{
      "text\/html":[
       
      ]
     },
     "metadata":{
      
     },
     "output_type":"display_data"
    }
   ],
   "metadata":{
    "datalore":{
     "type":"CODE",
     "hide_input_from_viewers":false,
     "hide_output_from_viewers":false
    }
   }
  },
  {
   "cell_type":"code",
   "source":[
    "CI_chiwin_home=proportion_confint(count=x[1,2],nobs=x[1,3],alpha=(1-.95))\n",
    "CI_chiwin_home"
   ],
   "execution_count":252,
   "outputs":[
    {
     "data":{
      "text\/plain":[
       "(0.5095457467912252, 0.6226576430392832)"
      ]
     },
     "metadata":{
      
     },
     "output_type":"display_data"
    }
   ],
   "metadata":{
    "datalore":{
     "type":"CODE",
     "hide_input_from_viewers":false,
     "hide_output_from_viewers":false
    }
   }
  },
  {
   "cell_type":"code",
   "source":[
    "CI_chiwin_away=proportion_confint(count=x[0,2],nobs=x[0,3],alpha=(1-.95))\n",
    "CI_chiwin_away"
   ],
   "execution_count":253,
   "outputs":[
    {
     "data":{
      "text\/plain":[
       "(0.3856521874260204, 0.5643478125739795)"
      ]
     },
     "metadata":{
      
     },
     "output_type":"display_data"
    }
   ],
   "metadata":{
    "datalore":{
     "type":"CODE",
     "hide_input_from_viewers":false,
     "hide_output_from_viewers":false
    }
   }
  },
  {
   "cell_type":"code",
   "source":[
    "ci_chiwin = {}\n",
    "ci_chiwin['home'] = ['Yes','No']\n",
    "ci_chiwin['lb'] = [CI_chiwin_home[0],CI_chiwin_away[0]]\n",
    "ci_chiwin['ub'] = [CI_chiwin_home[1],CI_chiwin_away[1]]\n",
    "df_ci= pd.DataFrame(ci_chiwin)\n",
    "df_ci"
   ],
   "execution_count":254,
   "outputs":[
    {
     "data":{
      "text\/html":[
       "<div>\n",
       "<style scoped>\n",
       "    .dataframe tbody tr th:only-of-type {\n",
       "        vertical-align: middle;\n",
       "    }\n",
       "\n",
       "    .dataframe tbody tr th {\n",
       "        vertical-align: top;\n",
       "    }\n",
       "\n",
       "    .dataframe thead th {\n",
       "        text-align: right;\n",
       "    }\n",
       "<\/style>\n",
       "<table border=\"1\" class=\"dataframe\">\n",
       "  <thead>\n",
       "    <tr style=\"text-align: right;\">\n",
       "      <th><\/th>\n",
       "      <th>home<\/th>\n",
       "      <th>lb<\/th>\n",
       "      <th>ub<\/th>\n",
       "    <\/tr>\n",
       "  <\/thead>\n",
       "  <tbody>\n",
       "    <tr>\n",
       "      <th>0<\/th>\n",
       "      <td>Yes<\/td>\n",
       "      <td>0.509546<\/td>\n",
       "      <td>0.622658<\/td>\n",
       "    <\/tr>\n",
       "    <tr>\n",
       "      <th>1<\/th>\n",
       "      <td>No<\/td>\n",
       "      <td>0.385652<\/td>\n",
       "      <td>0.564348<\/td>\n",
       "    <\/tr>\n",
       "  <\/tbody>\n",
       "<\/table>\n",
       "<\/div>"
      ]
     },
     "metadata":{
      
     },
     "output_type":"display_data"
    }
   ],
   "metadata":{
    "datalore":{
     "type":"CODE",
     "hide_input_from_viewers":false,
     "hide_output_from_viewers":false
    }
   }
  },
  {
   "cell_type":"code",
   "source":[
    "for lb,ub,y in zip(df_ci['lb'],df_ci['ub'],range(len(df_ci))):\n",
    "    plt.plot((lb,ub),(y,y),'ro-')\n",
    "plt.yticks(range(len(df_ci)),list(df_ci['home']))"
   ],
   "execution_count":255,
   "outputs":[
    {
     "data":{
      "text\/plain":[
       "([<matplotlib.axis.YTick at 0x7fce48f0a8e0>,\n",
       "  <matplotlib.axis.YTick at 0x7fce48f0a9a0>],\n",
       " [Text(0, 0, 'Yes'), Text(0, 1, 'No')])"
      ],
      "image\/png":"[encoded data removed]"
     },
     "metadata":{
      "image\/png":{
       
      }
     },
     "output_type":"display_data"
    }
   ],
   "metadata":{
    "datalore":{
     "type":"CODE",
     "hide_input_from_viewers":false,
     "hide_output_from_viewers":false
    }
   }
  },
  {
   "cell_type":"markdown",
   "source":[
    "The confidence interval of winning at home is higher but less wider than losing. This shows that losing is not as probable as winning a home game. This is because the probability of losing is from 40% to 55%, which is more varied compared to winning at home. The probability of winning at home is from 50% to nearly 63%, this is less varied than the probability of losing. The high probability of winning home games shows how fans affect the team's performance and results positively. "
   ],
   "attachments":{
    
   },
   "metadata":{
    "datalore":{
     "type":"MD",
     "hide_input_from_viewers":false,
     "hide_output_from_viewers":false
    }
   }
  },
  {
   "cell_type":"markdown",
   "source":[
    "**Country 2: Croatia**"
   ],
   "attachments":{
    
   },
   "metadata":{
    "datalore":{
     "type":"MD",
     "hide_input_from_viewers":false,
     "hide_output_from_viewers":false
    }
   }
  },
  {
   "cell_type":"code",
   "source":[
    "dfcro=df[df['country']=='Croatia']"
   ],
   "execution_count":274,
   "outputs":[
    
   ],
   "metadata":{
    "datalore":{
     "type":"CODE",
     "hide_input_from_viewers":false,
     "hide_output_from_viewers":false
    }
   }
  },
  {
   "cell_type":"code",
   "source":[
    "dfcro.head()"
   ],
   "execution_count":275,
   "outputs":[
    {
     "data":{
      "text\/html":[
       "<div>\n",
       "<style scoped>\n",
       "    .dataframe tbody tr th:only-of-type {\n",
       "        vertical-align: middle;\n",
       "    }\n",
       "\n",
       "    .dataframe tbody tr th {\n",
       "        vertical-align: top;\n",
       "    }\n",
       "\n",
       "    .dataframe thead th {\n",
       "        text-align: right;\n",
       "    }\n",
       "<\/style>\n",
       "<table border=\"1\" class=\"dataframe\">\n",
       "  <thead>\n",
       "    <tr style=\"text-align: right;\">\n",
       "      <th><\/th>\n",
       "      <th>date<\/th>\n",
       "      <th>home_team<\/th>\n",
       "      <th>away_team<\/th>\n",
       "      <th>home_score<\/th>\n",
       "      <th>away_score<\/th>\n",
       "      <th>tournament<\/th>\n",
       "      <th>city<\/th>\n",
       "      <th>country<\/th>\n",
       "      <th>neutral<\/th>\n",
       "      <th>results<\/th>\n",
       "    <\/tr>\n",
       "  <\/thead>\n",
       "  <tbody>\n",
       "    <tr>\n",
       "      <th>2295<\/th>\n",
       "      <td>4\/2\/1940<\/td>\n",
       "      <td>Croatia<\/td>\n",
       "      <td>Switzerland<\/td>\n",
       "      <td>4<\/td>\n",
       "      <td>0<\/td>\n",
       "      <td>Friendly<\/td>\n",
       "      <td>Zagreb<\/td>\n",
       "      <td>Croatia<\/td>\n",
       "      <td>False<\/td>\n",
       "      <td>win<\/td>\n",
       "    <\/tr>\n",
       "    <tr>\n",
       "      <th>2332<\/th>\n",
       "      <td>12\/8\/1940<\/td>\n",
       "      <td>Croatia<\/td>\n",
       "      <td>Hungary<\/td>\n",
       "      <td>1<\/td>\n",
       "      <td>1<\/td>\n",
       "      <td>Friendly<\/td>\n",
       "      <td>Zagreb<\/td>\n",
       "      <td>Croatia<\/td>\n",
       "      <td>False<\/td>\n",
       "      <td>draw<\/td>\n",
       "    <\/tr>\n",
       "    <tr>\n",
       "      <th>2376<\/th>\n",
       "      <td>9\/28\/1941<\/td>\n",
       "      <td>Croatia<\/td>\n",
       "      <td>Slovakia<\/td>\n",
       "      <td>5<\/td>\n",
       "      <td>2<\/td>\n",
       "      <td>Friendly<\/td>\n",
       "      <td>Zagreb<\/td>\n",
       "      <td>Croatia<\/td>\n",
       "      <td>False<\/td>\n",
       "      <td>win<\/td>\n",
       "    <\/tr>\n",
       "    <tr>\n",
       "      <th>2392<\/th>\n",
       "      <td>1\/18\/1942<\/td>\n",
       "      <td>Croatia<\/td>\n",
       "      <td>Germany<\/td>\n",
       "      <td>0<\/td>\n",
       "      <td>2<\/td>\n",
       "      <td>Friendly<\/td>\n",
       "      <td>Zagreb<\/td>\n",
       "      <td>Croatia<\/td>\n",
       "      <td>False<\/td>\n",
       "      <td>lose<\/td>\n",
       "    <\/tr>\n",
       "    <tr>\n",
       "      <th>2433<\/th>\n",
       "      <td>9\/6\/1942<\/td>\n",
       "      <td>Croatia<\/td>\n",
       "      <td>Slovakia<\/td>\n",
       "      <td>6<\/td>\n",
       "      <td>1<\/td>\n",
       "      <td>Friendly<\/td>\n",
       "      <td>Zagreb<\/td>\n",
       "      <td>Croatia<\/td>\n",
       "      <td>False<\/td>\n",
       "      <td>win<\/td>\n",
       "    <\/tr>\n",
       "  <\/tbody>\n",
       "<\/table>\n",
       "<\/div>"
      ]
     },
     "metadata":{
      
     },
     "output_type":"display_data"
    }
   ],
   "metadata":{
    "datalore":{
     "type":"CODE",
     "hide_input_from_viewers":false,
     "hide_output_from_viewers":false
    }
   }
  },
  {
   "cell_type":"code",
   "source":[
    "conditions = [\n",
    "    (dfcro['tournament']=='Friendly'),\n",
    "    (dfcro['tournament']!='Friendly')\n",
    "    ]"
   ],
   "execution_count":276,
   "outputs":[
    
   ],
   "metadata":{
    "datalore":{
     "type":"CODE",
     "hide_input_from_viewers":false,
     "hide_output_from_viewers":false
    }
   }
  },
  {
   "cell_type":"code",
   "source":[
    "values=['Friendly','Official']"
   ],
   "execution_count":277,
   "outputs":[
    
   ],
   "metadata":{
    "datalore":{
     "type":"CODE",
     "hide_input_from_viewers":false,
     "hide_output_from_viewers":false
    }
   }
  },
  {
   "cell_type":"code",
   "source":[
    "dfcro['typematch'] = np.select(conditions, values)"
   ],
   "execution_count":278,
   "outputs":[
    {
     "name":"stderr",
     "text":[
      "<ipython-input-278-2d1f6598ec92>:1: SettingWithCopyWarning: \n",
      "A value is trying to be set on a copy of a slice from a DataFrame.\n",
      "Try using .loc[row_indexer,col_indexer] = value instead\n",
      "\n",
      "See the caveats in the documentation: https:\/\/pandas.pydata.org\/pandas-docs\/stable\/user_guide\/indexing.html#returning-a-view-versus-a-copy\n",
      "  dfcro['typematch'] = np.select(conditions, values)\n"
     ],
     "output_type":"stream"
    }
   ],
   "metadata":{
    "datalore":{
     "type":"CODE",
     "hide_input_from_viewers":false,
     "hide_output_from_viewers":false
    }
   }
  },
  {
   "cell_type":"code",
   "source":[
    "dfcro['typematch'].value_counts()"
   ],
   "execution_count":279,
   "outputs":[
    {
     "data":{
      "text\/html":[
       
      ]
     },
     "metadata":{
      
     },
     "output_type":"display_data"
    }
   ],
   "metadata":{
    "datalore":{
     "type":"CODE",
     "hide_input_from_viewers":false,
     "hide_output_from_viewers":false
    }
   }
  },
  {
   "cell_type":"markdown",
   "source":[
    "Comparing the probability of win\/lose\/draw by match type:"
   ],
   "attachments":{
    
   },
   "metadata":{
    "datalore":{
     "type":"MD",
     "hide_input_from_viewers":false,
     "hide_output_from_viewers":false
    }
   }
  },
  {
   "cell_type":"code",
   "source":[
    "x=pd.crosstab(dfcro['typematch'],dfcro['results'],margins=True)\n",
    "x"
   ],
   "execution_count":280,
   "outputs":[
    {
     "data":{
      "text\/html":[
       "<div>\n",
       "<style scoped>\n",
       "    .dataframe tbody tr th:only-of-type {\n",
       "        vertical-align: middle;\n",
       "    }\n",
       "\n",
       "    .dataframe tbody tr th {\n",
       "        vertical-align: top;\n",
       "    }\n",
       "\n",
       "    .dataframe thead th {\n",
       "        text-align: right;\n",
       "    }\n",
       "<\/style>\n",
       "<table border=\"1\" class=\"dataframe\">\n",
       "  <thead>\n",
       "    <tr style=\"text-align: right;\">\n",
       "      <th>results<\/th>\n",
       "      <th>draw<\/th>\n",
       "      <th>lose<\/th>\n",
       "      <th>win<\/th>\n",
       "      <th>All<\/th>\n",
       "    <\/tr>\n",
       "    <tr>\n",
       "      <th>typematch<\/th>\n",
       "      <th><\/th>\n",
       "      <th><\/th>\n",
       "      <th><\/th>\n",
       "      <th><\/th>\n",
       "    <\/tr>\n",
       "  <\/thead>\n",
       "  <tbody>\n",
       "    <tr>\n",
       "      <th>Friendly<\/th>\n",
       "      <td>15<\/td>\n",
       "      <td>9<\/td>\n",
       "      <td>39<\/td>\n",
       "      <td>63<\/td>\n",
       "    <\/tr>\n",
       "    <tr>\n",
       "      <th>Official<\/th>\n",
       "      <td>19<\/td>\n",
       "      <td>5<\/td>\n",
       "      <td>53<\/td>\n",
       "      <td>77<\/td>\n",
       "    <\/tr>\n",
       "    <tr>\n",
       "      <th>All<\/th>\n",
       "      <td>34<\/td>\n",
       "      <td>14<\/td>\n",
       "      <td>92<\/td>\n",
       "      <td>140<\/td>\n",
       "    <\/tr>\n",
       "  <\/tbody>\n",
       "<\/table>\n",
       "<\/div>"
      ]
     },
     "metadata":{
      
     },
     "output_type":"display_data"
    }
   ],
   "metadata":{
    "datalore":{
     "type":"CODE",
     "hide_input_from_viewers":false,
     "hide_output_from_viewers":false
    }
   }
  },
  {
   "cell_type":"code",
   "source":[
    "x=np.array(x)\n",
    "x"
   ],
   "execution_count":281,
   "outputs":[
    {
     "data":{
      "text\/html":[
       
      ]
     },
     "metadata":{
      
     },
     "output_type":"display_data"
    }
   ],
   "metadata":{
    "datalore":{
     "type":"CODE",
     "hide_input_from_viewers":false,
     "hide_output_from_viewers":false
    }
   }
  },
  {
   "cell_type":"code",
   "source":[
    "CI_crowin_friendly=proportion_confint(count=x[0,2],nobs=x[0,3],alpha=(1-.95))\n",
    "CI_crowin_friendly\n",
    "                   "
   ],
   "execution_count":282,
   "outputs":[
    {
     "data":{
      "text\/plain":[
       "(0.4991321553341658, 0.7389630827610724)"
      ]
     },
     "metadata":{
      
     },
     "output_type":"display_data"
    }
   ],
   "metadata":{
    "datalore":{
     "type":"CODE",
     "hide_input_from_viewers":false,
     "hide_output_from_viewers":false
    }
   }
  },
  {
   "cell_type":"code",
   "source":[
    "CI_crowin_official=proportion_confint(count=x[1,2],nobs=x[1,3],alpha=(1-.95))\n",
    "CI_crowin_official"
   ],
   "execution_count":283,
   "outputs":[
    {
     "data":{
      "text\/plain":[
       "(0.5848557178537979, 0.7917676587695788)"
      ]
     },
     "metadata":{
      
     },
     "output_type":"display_data"
    }
   ],
   "metadata":{
    "datalore":{
     "type":"CODE",
     "hide_input_from_viewers":false,
     "hide_output_from_viewers":false
    }
   }
  },
  {
   "cell_type":"markdown",
   "source":[
    "Plotting the Confidence Intervals"
   ],
   "attachments":{
    
   },
   "metadata":{
    "datalore":{
     "type":"MD",
     "hide_input_from_viewers":false,
     "hide_output_from_viewers":false
    }
   }
  },
  {
   "cell_type":"code",
   "source":[
    "ci_crowin = {}\n",
    "ci_crowin['Typematch'] = ['Friendly','Official']\n",
    "ci_crowin['lb'] = [CI_crowin_friendly[0],CI_crowin_official[0]]\n",
    "ci_crowin['ub'] = [CI_crowin_friendly[1],CI_crowin_official[1]]\n",
    "df_ci= pd.DataFrame(ci_crowin)\n",
    "df_ci"
   ],
   "execution_count":284,
   "outputs":[
    {
     "data":{
      "text\/html":[
       "<div>\n",
       "<style scoped>\n",
       "    .dataframe tbody tr th:only-of-type {\n",
       "        vertical-align: middle;\n",
       "    }\n",
       "\n",
       "    .dataframe tbody tr th {\n",
       "        vertical-align: top;\n",
       "    }\n",
       "\n",
       "    .dataframe thead th {\n",
       "        text-align: right;\n",
       "    }\n",
       "<\/style>\n",
       "<table border=\"1\" class=\"dataframe\">\n",
       "  <thead>\n",
       "    <tr style=\"text-align: right;\">\n",
       "      <th><\/th>\n",
       "      <th>Typematch<\/th>\n",
       "      <th>lb<\/th>\n",
       "      <th>ub<\/th>\n",
       "    <\/tr>\n",
       "  <\/thead>\n",
       "  <tbody>\n",
       "    <tr>\n",
       "      <th>0<\/th>\n",
       "      <td>Friendly<\/td>\n",
       "      <td>0.499132<\/td>\n",
       "      <td>0.738963<\/td>\n",
       "    <\/tr>\n",
       "    <tr>\n",
       "      <th>1<\/th>\n",
       "      <td>Official<\/td>\n",
       "      <td>0.584856<\/td>\n",
       "      <td>0.791768<\/td>\n",
       "    <\/tr>\n",
       "  <\/tbody>\n",
       "<\/table>\n",
       "<\/div>"
      ]
     },
     "metadata":{
      
     },
     "output_type":"display_data"
    }
   ],
   "metadata":{
    "datalore":{
     "type":"CODE",
     "hide_input_from_viewers":false,
     "hide_output_from_viewers":false
    }
   }
  },
  {
   "cell_type":"code",
   "source":[
    "import matplotlib.pyplot as plt\n",
    "for lb,ub,y in zip(df_ci['lb'],df_ci['ub'],range(len(df_ci))):\n",
    "    plt.plot((lb,ub),(y,y),'ro-')\n",
    "plt.yticks(range(len(df_ci)),list(df_ci['Typematch']))"
   ],
   "execution_count":285,
   "outputs":[
    {
     "data":{
      "text\/plain":[
       "([<matplotlib.axis.YTick at 0x7fce49179e80>,\n",
       "  <matplotlib.axis.YTick at 0x7fce49160610>],\n",
       " [Text(0, 0, 'Friendly'), Text(0, 1, 'Official')])"
      ],
      "image\/png":"[encoded data removed]"
     },
     "metadata":{
      "image\/png":{
       
      }
     },
     "output_type":"display_data"
    }
   ],
   "metadata":{
    "datalore":{
     "type":"CODE",
     "hide_input_from_viewers":false,
     "hide_output_from_viewers":false
    }
   }
  },
  {
   "cell_type":"markdown",
   "source":[
    "The confidence interval for winning friendly games is wider than official games. This means that there is a varied probability of winning where it lies between 50% and nearly 75%. But, the confidence interval for winning official games is narrower and more than friendly games where it lies between 60% and nearly 80%. This shows that the probability of winning official games is higher than winning friendly games. The interpretation for this is that players might be more serious and perform better in official games than friendly games. "
   ],
   "attachments":{
    
   },
   "metadata":{
    "datalore":{
     "type":"MD",
     "hide_input_from_viewers":false,
     "hide_output_from_viewers":false
    }
   }
  },
  {
   "cell_type":"markdown",
   "source":[
    "Now examining the effect of fans on winning and losing by looking at home games and away games "
   ],
   "attachments":{
    
   },
   "metadata":{
    "datalore":{
     "type":"MD",
     "hide_input_from_viewers":false,
     "hide_output_from_viewers":false
    }
   }
  },
  {
   "cell_type":"code",
   "source":[
    "dfcro['home']=(dfcro['home_team']=='Croatia')"
   ],
   "execution_count":286,
   "outputs":[
    {
     "name":"stderr",
     "text":[
      "<ipython-input-286-cb6676295991>:1: SettingWithCopyWarning: \n",
      "A value is trying to be set on a copy of a slice from a DataFrame.\n",
      "Try using .loc[row_indexer,col_indexer] = value instead\n",
      "\n",
      "See the caveats in the documentation: https:\/\/pandas.pydata.org\/pandas-docs\/stable\/user_guide\/indexing.html#returning-a-view-versus-a-copy\n",
      "  dfcro['home']=(dfcro['home_team']=='Croatia')\n"
     ],
     "output_type":"stream"
    }
   ],
   "metadata":{
    "datalore":{
     "type":"CODE",
     "hide_input_from_viewers":false,
     "hide_output_from_viewers":false
    }
   }
  },
  {
   "cell_type":"code",
   "source":[
    "dfcro['home'].value_counts()"
   ],
   "execution_count":288,
   "outputs":[
    {
     "data":{
      "text\/html":[
       
      ]
     },
     "metadata":{
      
     },
     "output_type":"display_data"
    }
   ],
   "metadata":{
    "datalore":{
     "type":"CODE",
     "hide_input_from_viewers":false,
     "hide_output_from_viewers":false
    }
   }
  },
  {
   "cell_type":"code",
   "source":[
    "x=pd.crosstab(dfcro['home'],dfcro['results'],margins=True)\n",
    "x"
   ],
   "execution_count":289,
   "outputs":[
    {
     "data":{
      "text\/html":[
       "<div>\n",
       "<style scoped>\n",
       "    .dataframe tbody tr th:only-of-type {\n",
       "        vertical-align: middle;\n",
       "    }\n",
       "\n",
       "    .dataframe tbody tr th {\n",
       "        vertical-align: top;\n",
       "    }\n",
       "\n",
       "    .dataframe thead th {\n",
       "        text-align: right;\n",
       "    }\n",
       "<\/style>\n",
       "<table border=\"1\" class=\"dataframe\">\n",
       "  <thead>\n",
       "    <tr style=\"text-align: right;\">\n",
       "      <th>results<\/th>\n",
       "      <th>draw<\/th>\n",
       "      <th>lose<\/th>\n",
       "      <th>win<\/th>\n",
       "      <th>All<\/th>\n",
       "    <\/tr>\n",
       "    <tr>\n",
       "      <th>home<\/th>\n",
       "      <th><\/th>\n",
       "      <th><\/th>\n",
       "      <th><\/th>\n",
       "      <th><\/th>\n",
       "    <\/tr>\n",
       "  <\/thead>\n",
       "  <tbody>\n",
       "    <tr>\n",
       "      <th>False<\/th>\n",
       "      <td>1<\/td>\n",
       "      <td>1<\/td>\n",
       "      <td>1<\/td>\n",
       "      <td>3<\/td>\n",
       "    <\/tr>\n",
       "    <tr>\n",
       "      <th>True<\/th>\n",
       "      <td>33<\/td>\n",
       "      <td>13<\/td>\n",
       "      <td>91<\/td>\n",
       "      <td>137<\/td>\n",
       "    <\/tr>\n",
       "    <tr>\n",
       "      <th>All<\/th>\n",
       "      <td>34<\/td>\n",
       "      <td>14<\/td>\n",
       "      <td>92<\/td>\n",
       "      <td>140<\/td>\n",
       "    <\/tr>\n",
       "  <\/tbody>\n",
       "<\/table>\n",
       "<\/div>"
      ]
     },
     "metadata":{
      
     },
     "output_type":"display_data"
    }
   ],
   "metadata":{
    "datalore":{
     "type":"CODE",
     "hide_input_from_viewers":false,
     "hide_output_from_viewers":false
    }
   }
  },
  {
   "cell_type":"code",
   "source":[
    "dfcro.head(4)"
   ],
   "execution_count":290,
   "outputs":[
    {
     "data":{
      "text\/html":[
       "<div>\n",
       "<style scoped>\n",
       "    .dataframe tbody tr th:only-of-type {\n",
       "        vertical-align: middle;\n",
       "    }\n",
       "\n",
       "    .dataframe tbody tr th {\n",
       "        vertical-align: top;\n",
       "    }\n",
       "\n",
       "    .dataframe thead th {\n",
       "        text-align: right;\n",
       "    }\n",
       "<\/style>\n",
       "<table border=\"1\" class=\"dataframe\">\n",
       "  <thead>\n",
       "    <tr style=\"text-align: right;\">\n",
       "      <th><\/th>\n",
       "      <th>date<\/th>\n",
       "      <th>home_team<\/th>\n",
       "      <th>away_team<\/th>\n",
       "      <th>home_score<\/th>\n",
       "      <th>away_score<\/th>\n",
       "      <th>tournament<\/th>\n",
       "      <th>city<\/th>\n",
       "      <th>country<\/th>\n",
       "      <th>neutral<\/th>\n",
       "      <th>results<\/th>\n",
       "      <th>typematch<\/th>\n",
       "      <th>home<\/th>\n",
       "    <\/tr>\n",
       "  <\/thead>\n",
       "  <tbody>\n",
       "    <tr>\n",
       "      <th>2295<\/th>\n",
       "      <td>4\/2\/1940<\/td>\n",
       "      <td>Croatia<\/td>\n",
       "      <td>Switzerland<\/td>\n",
       "      <td>4<\/td>\n",
       "      <td>0<\/td>\n",
       "      <td>Friendly<\/td>\n",
       "      <td>Zagreb<\/td>\n",
       "      <td>Croatia<\/td>\n",
       "      <td>False<\/td>\n",
       "      <td>win<\/td>\n",
       "      <td>Friendly<\/td>\n",
       "      <td>True<\/td>\n",
       "    <\/tr>\n",
       "    <tr>\n",
       "      <th>2332<\/th>\n",
       "      <td>12\/8\/1940<\/td>\n",
       "      <td>Croatia<\/td>\n",
       "      <td>Hungary<\/td>\n",
       "      <td>1<\/td>\n",
       "      <td>1<\/td>\n",
       "      <td>Friendly<\/td>\n",
       "      <td>Zagreb<\/td>\n",
       "      <td>Croatia<\/td>\n",
       "      <td>False<\/td>\n",
       "      <td>draw<\/td>\n",
       "      <td>Friendly<\/td>\n",
       "      <td>True<\/td>\n",
       "    <\/tr>\n",
       "    <tr>\n",
       "      <th>2376<\/th>\n",
       "      <td>9\/28\/1941<\/td>\n",
       "      <td>Croatia<\/td>\n",
       "      <td>Slovakia<\/td>\n",
       "      <td>5<\/td>\n",
       "      <td>2<\/td>\n",
       "      <td>Friendly<\/td>\n",
       "      <td>Zagreb<\/td>\n",
       "      <td>Croatia<\/td>\n",
       "      <td>False<\/td>\n",
       "      <td>win<\/td>\n",
       "      <td>Friendly<\/td>\n",
       "      <td>True<\/td>\n",
       "    <\/tr>\n",
       "    <tr>\n",
       "      <th>2392<\/th>\n",
       "      <td>1\/18\/1942<\/td>\n",
       "      <td>Croatia<\/td>\n",
       "      <td>Germany<\/td>\n",
       "      <td>0<\/td>\n",
       "      <td>2<\/td>\n",
       "      <td>Friendly<\/td>\n",
       "      <td>Zagreb<\/td>\n",
       "      <td>Croatia<\/td>\n",
       "      <td>False<\/td>\n",
       "      <td>lose<\/td>\n",
       "      <td>Friendly<\/td>\n",
       "      <td>True<\/td>\n",
       "    <\/tr>\n",
       "  <\/tbody>\n",
       "<\/table>\n",
       "<\/div>"
      ]
     },
     "metadata":{
      
     },
     "output_type":"display_data"
    }
   ],
   "metadata":{
    "datalore":{
     "type":"CODE",
     "hide_input_from_viewers":false,
     "hide_output_from_viewers":false
    }
   }
  },
  {
   "cell_type":"code",
   "source":[
    "x=np.array(x)\n",
    "x"
   ],
   "execution_count":291,
   "outputs":[
    {
     "data":{
      "text\/html":[
       
      ]
     },
     "metadata":{
      
     },
     "output_type":"display_data"
    }
   ],
   "metadata":{
    "datalore":{
     "type":"CODE",
     "hide_input_from_viewers":false,
     "hide_output_from_viewers":false
    }
   }
  },
  {
   "cell_type":"code",
   "source":[
    "CI_crowin_home=proportion_confint(count=x[1,2],nobs=x[1,3],alpha=(1-.95))\n",
    "CI_crowin_home"
   ],
   "execution_count":292,
   "outputs":[
    {
     "data":{
      "text\/plain":[
       "(0.58515354174595, 0.7433136115387214)"
      ]
     },
     "metadata":{
      
     },
     "output_type":"display_data"
    }
   ],
   "metadata":{
    "datalore":{
     "type":"CODE",
     "hide_input_from_viewers":false,
     "hide_output_from_viewers":false
    }
   }
  },
  {
   "cell_type":"code",
   "source":[
    "CI_crowin_away=proportion_confint(count=x[0,2],nobs=x[0,3],alpha=(1-.95))\n",
    "CI_crowin_away"
   ],
   "execution_count":293,
   "outputs":[
    {
     "data":{
      "text\/plain":[
       "(0.0, 0.8667679640394788)"
      ]
     },
     "metadata":{
      
     },
     "output_type":"display_data"
    }
   ],
   "metadata":{
    "datalore":{
     "type":"CODE",
     "hide_input_from_viewers":false,
     "hide_output_from_viewers":false
    }
   }
  },
  {
   "cell_type":"code",
   "source":[
    "ci_crowin = {}\n",
    "ci_crowin['home'] = ['Yes','No']\n",
    "ci_crowin['lb'] = [CI_crowin_home[0],CI_crowin_away[0]]\n",
    "ci_crowin['ub'] = [CI_crowin_home[1],CI_crowin_away[1]]\n",
    "df_ci= pd.DataFrame(ci_crowin)\n",
    "df_ci"
   ],
   "execution_count":294,
   "outputs":[
    {
     "data":{
      "text\/html":[
       "<div>\n",
       "<style scoped>\n",
       "    .dataframe tbody tr th:only-of-type {\n",
       "        vertical-align: middle;\n",
       "    }\n",
       "\n",
       "    .dataframe tbody tr th {\n",
       "        vertical-align: top;\n",
       "    }\n",
       "\n",
       "    .dataframe thead th {\n",
       "        text-align: right;\n",
       "    }\n",
       "<\/style>\n",
       "<table border=\"1\" class=\"dataframe\">\n",
       "  <thead>\n",
       "    <tr style=\"text-align: right;\">\n",
       "      <th><\/th>\n",
       "      <th>home<\/th>\n",
       "      <th>lb<\/th>\n",
       "      <th>ub<\/th>\n",
       "    <\/tr>\n",
       "  <\/thead>\n",
       "  <tbody>\n",
       "    <tr>\n",
       "      <th>0<\/th>\n",
       "      <td>Yes<\/td>\n",
       "      <td>0.585154<\/td>\n",
       "      <td>0.743314<\/td>\n",
       "    <\/tr>\n",
       "    <tr>\n",
       "      <th>1<\/th>\n",
       "      <td>No<\/td>\n",
       "      <td>0.000000<\/td>\n",
       "      <td>0.866768<\/td>\n",
       "    <\/tr>\n",
       "  <\/tbody>\n",
       "<\/table>\n",
       "<\/div>"
      ]
     },
     "metadata":{
      
     },
     "output_type":"display_data"
    }
   ],
   "metadata":{
    "datalore":{
     "type":"CODE",
     "hide_input_from_viewers":false,
     "hide_output_from_viewers":false
    }
   }
  },
  {
   "cell_type":"code",
   "source":[
    "for lb,ub,y in zip(df_ci['lb'],df_ci['ub'],range(len(df_ci))):\n",
    "    plt.plot((lb,ub),(y,y),'ro-')\n",
    "plt.yticks(range(len(df_ci)),list(df_ci['home']))"
   ],
   "execution_count":295,
   "outputs":[
    {
     "data":{
      "text\/plain":[
       "([<matplotlib.axis.YTick at 0x7fce48cf3640>,\n",
       "  <matplotlib.axis.YTick at 0x7fce48cf0550>],\n",
       " [Text(0, 0, 'Yes'), Text(0, 1, 'No')])"
      ],
      "image\/png":"[encoded data removed]"
     },
     "metadata":{
      "image\/png":{
       
      }
     },
     "output_type":"display_data"
    }
   ],
   "metadata":{
    "datalore":{
     "type":"CODE",
     "hide_input_from_viewers":false,
     "hide_output_from_viewers":false
    }
   }
  },
  {
   "cell_type":"markdown",
   "source":[
    "The confidence interval of winning at home is way more higher and narrower than losing. The narrow interval shows that it is more probable to happen because it only varies between 60% and 80% which are high percentages, but compared to the confidence interval of losing which goes from 0% until 80%, this is not as accurate because it is too varied. The high probability of winning home games shows how fans affect the team's performance and results positively. "
   ],
   "attachments":{
    
   },
   "metadata":{
    "datalore":{
     "type":"MD",
     "hide_input_from_viewers":false,
     "hide_output_from_viewers":false
    }
   }
  },
  {
   "cell_type":"markdown",
   "source":[
    "**Country 3: Saudi Arabia**"
   ],
   "attachments":{
    
   },
   "metadata":{
    "datalore":{
     "type":"MD",
     "hide_input_from_viewers":false,
     "hide_output_from_viewers":false
    }
   }
  },
  {
   "cell_type":"code",
   "source":[
    "dfsau=df[df['country']=='Saudi Arabia']"
   ],
   "execution_count":296,
   "outputs":[
    
   ],
   "metadata":{
    "datalore":{
     "type":"CODE",
     "hide_input_from_viewers":false,
     "hide_output_from_viewers":false
    }
   }
  },
  {
   "cell_type":"code",
   "source":[
    "dfsau.head()"
   ],
   "execution_count":297,
   "outputs":[
    {
     "data":{
      "text\/html":[
       "<div>\n",
       "<style scoped>\n",
       "    .dataframe tbody tr th:only-of-type {\n",
       "        vertical-align: middle;\n",
       "    }\n",
       "\n",
       "    .dataframe tbody tr th {\n",
       "        vertical-align: top;\n",
       "    }\n",
       "\n",
       "    .dataframe thead th {\n",
       "        text-align: right;\n",
       "    }\n",
       "<\/style>\n",
       "<table border=\"1\" class=\"dataframe\">\n",
       "  <thead>\n",
       "    <tr style=\"text-align: right;\">\n",
       "      <th><\/th>\n",
       "      <th>date<\/th>\n",
       "      <th>home_team<\/th>\n",
       "      <th>away_team<\/th>\n",
       "      <th>home_score<\/th>\n",
       "      <th>away_score<\/th>\n",
       "      <th>tournament<\/th>\n",
       "      <th>city<\/th>\n",
       "      <th>country<\/th>\n",
       "      <th>neutral<\/th>\n",
       "      <th>results<\/th>\n",
       "    <\/tr>\n",
       "  <\/thead>\n",
       "  <tbody>\n",
       "    <tr>\n",
       "      <th>6744<\/th>\n",
       "      <td>12\/10\/1967<\/td>\n",
       "      <td>Saudi Arabia<\/td>\n",
       "      <td>Tunisia<\/td>\n",
       "      <td>4<\/td>\n",
       "      <td>0<\/td>\n",
       "      <td>Friendly<\/td>\n",
       "      <td>Riyadh<\/td>\n",
       "      <td>Saudi Arabia<\/td>\n",
       "      <td>False<\/td>\n",
       "      <td>win<\/td>\n",
       "    <\/tr>\n",
       "    <tr>\n",
       "      <th>7073<\/th>\n",
       "      <td>1\/17\/1969<\/td>\n",
       "      <td>Saudi Arabia<\/td>\n",
       "      <td>Turkey<\/td>\n",
       "      <td>1<\/td>\n",
       "      <td>2<\/td>\n",
       "      <td>Friendly<\/td>\n",
       "      <td>Riyadh<\/td>\n",
       "      <td>Saudi Arabia<\/td>\n",
       "      <td>False<\/td>\n",
       "      <td>lose<\/td>\n",
       "    <\/tr>\n",
       "    <tr>\n",
       "      <th>8171<\/th>\n",
       "      <td>3\/16\/1972<\/td>\n",
       "      <td>Saudi Arabia<\/td>\n",
       "      <td>Kuwait<\/td>\n",
       "      <td>2<\/td>\n",
       "      <td>2<\/td>\n",
       "      <td>Gulf Cup<\/td>\n",
       "      <td>Riyadh<\/td>\n",
       "      <td>Saudi Arabia<\/td>\n",
       "      <td>False<\/td>\n",
       "      <td>draw<\/td>\n",
       "    <\/tr>\n",
       "    <tr>\n",
       "      <th>8172<\/th>\n",
       "      <td>3\/17\/1972<\/td>\n",
       "      <td>Qatar<\/td>\n",
       "      <td>United Arab Emirates<\/td>\n",
       "      <td>0<\/td>\n",
       "      <td>1<\/td>\n",
       "      <td>Gulf Cup<\/td>\n",
       "      <td>Riyadh<\/td>\n",
       "      <td>Saudi Arabia<\/td>\n",
       "      <td>True<\/td>\n",
       "      <td>lose<\/td>\n",
       "    <\/tr>\n",
       "    <tr>\n",
       "      <th>8173<\/th>\n",
       "      <td>3\/18\/1972<\/td>\n",
       "      <td>Bahrain<\/td>\n",
       "      <td>Kuwait<\/td>\n",
       "      <td>0<\/td>\n",
       "      <td>2<\/td>\n",
       "      <td>Gulf Cup<\/td>\n",
       "      <td>Riyadh<\/td>\n",
       "      <td>Saudi Arabia<\/td>\n",
       "      <td>True<\/td>\n",
       "      <td>lose<\/td>\n",
       "    <\/tr>\n",
       "  <\/tbody>\n",
       "<\/table>\n",
       "<\/div>"
      ]
     },
     "metadata":{
      
     },
     "output_type":"display_data"
    }
   ],
   "metadata":{
    "datalore":{
     "type":"CODE",
     "hide_input_from_viewers":false,
     "hide_output_from_viewers":false
    }
   }
  },
  {
   "cell_type":"code",
   "source":[
    "conditions = [\n",
    "    (dfsau['tournament']=='Friendly'),\n",
    "    (dfsau['tournament']!='Friendly')]"
   ],
   "execution_count":299,
   "outputs":[
    
   ],
   "metadata":{
    "datalore":{
     "type":"CODE",
     "hide_input_from_viewers":false,
     "hide_output_from_viewers":false
    }
   }
  },
  {
   "cell_type":"code",
   "source":[
    "values=['Friendly','Official']"
   ],
   "execution_count":300,
   "outputs":[
    
   ],
   "metadata":{
    "datalore":{
     "type":"CODE",
     "hide_input_from_viewers":false,
     "hide_output_from_viewers":false
    }
   }
  },
  {
   "cell_type":"code",
   "source":[
    "dfsau['typematch'] = np.select(conditions, values)"
   ],
   "execution_count":301,
   "outputs":[
    {
     "name":"stderr",
     "text":[
      "<ipython-input-301-9864b697675a>:1: SettingWithCopyWarning: \n",
      "A value is trying to be set on a copy of a slice from a DataFrame.\n",
      "Try using .loc[row_indexer,col_indexer] = value instead\n",
      "\n",
      "See the caveats in the documentation: https:\/\/pandas.pydata.org\/pandas-docs\/stable\/user_guide\/indexing.html#returning-a-view-versus-a-copy\n",
      "  dfsau['typematch'] = np.select(conditions, values)\n"
     ],
     "output_type":"stream"
    }
   ],
   "metadata":{
    "datalore":{
     "type":"CODE",
     "hide_input_from_viewers":false,
     "hide_output_from_viewers":false
    }
   }
  },
  {
   "cell_type":"code",
   "source":[
    "dfsau['typematch'].value_counts()"
   ],
   "execution_count":302,
   "outputs":[
    {
     "data":{
      "text\/html":[
       
      ]
     },
     "metadata":{
      
     },
     "output_type":"display_data"
    }
   ],
   "metadata":{
    "datalore":{
     "type":"CODE",
     "hide_input_from_viewers":false,
     "hide_output_from_viewers":false
    }
   }
  },
  {
   "cell_type":"markdown",
   "source":[
    "Comparing the probability of win\/lose\/draw by match type:"
   ],
   "attachments":{
    
   },
   "metadata":{
    "datalore":{
     "type":"MD",
     "hide_input_from_viewers":false,
     "hide_output_from_viewers":false
    }
   }
  },
  {
   "cell_type":"code",
   "source":[
    "x=pd.crosstab(dfsau['typematch'],dfsau['results'],margins=True)\n",
    "x"
   ],
   "execution_count":303,
   "outputs":[
    {
     "data":{
      "text\/html":[
       "<div>\n",
       "<style scoped>\n",
       "    .dataframe tbody tr th:only-of-type {\n",
       "        vertical-align: middle;\n",
       "    }\n",
       "\n",
       "    .dataframe tbody tr th {\n",
       "        vertical-align: top;\n",
       "    }\n",
       "\n",
       "    .dataframe thead th {\n",
       "        text-align: right;\n",
       "    }\n",
       "<\/style>\n",
       "<table border=\"1\" class=\"dataframe\">\n",
       "  <thead>\n",
       "    <tr style=\"text-align: right;\">\n",
       "      <th>results<\/th>\n",
       "      <th>draw<\/th>\n",
       "      <th>lose<\/th>\n",
       "      <th>win<\/th>\n",
       "      <th>All<\/th>\n",
       "    <\/tr>\n",
       "    <tr>\n",
       "      <th>typematch<\/th>\n",
       "      <th><\/th>\n",
       "      <th><\/th>\n",
       "      <th><\/th>\n",
       "      <th><\/th>\n",
       "    <\/tr>\n",
       "  <\/thead>\n",
       "  <tbody>\n",
       "    <tr>\n",
       "      <th>Friendly<\/th>\n",
       "      <td>40<\/td>\n",
       "      <td>36<\/td>\n",
       "      <td>77<\/td>\n",
       "      <td>153<\/td>\n",
       "    <\/tr>\n",
       "    <tr>\n",
       "      <th>Official<\/th>\n",
       "      <td>41<\/td>\n",
       "      <td>56<\/td>\n",
       "      <td>140<\/td>\n",
       "      <td>237<\/td>\n",
       "    <\/tr>\n",
       "    <tr>\n",
       "      <th>All<\/th>\n",
       "      <td>81<\/td>\n",
       "      <td>92<\/td>\n",
       "      <td>217<\/td>\n",
       "      <td>390<\/td>\n",
       "    <\/tr>\n",
       "  <\/tbody>\n",
       "<\/table>\n",
       "<\/div>"
      ]
     },
     "metadata":{
      
     },
     "output_type":"display_data"
    }
   ],
   "metadata":{
    "datalore":{
     "type":"CODE",
     "hide_input_from_viewers":false,
     "hide_output_from_viewers":false
    }
   }
  },
  {
   "cell_type":"code",
   "source":[
    "x=np.array(x)\n",
    "x"
   ],
   "execution_count":304,
   "outputs":[
    {
     "data":{
      "text\/html":[
       
      ]
     },
     "metadata":{
      
     },
     "output_type":"display_data"
    }
   ],
   "metadata":{
    "datalore":{
     "type":"CODE",
     "hide_input_from_viewers":false,
     "hide_output_from_viewers":false
    }
   }
  },
  {
   "cell_type":"code",
   "source":[
    "CI_sauwin_friendly=proportion_confint(count=x[0,2],nobs=x[0,3],alpha=(1-.95))\n",
    "CI_sauwin_friendly\n",
    "                                                          "
   ],
   "execution_count":306,
   "outputs":[
    {
     "data":{
      "text\/plain":[
       "(0.4240428177649449, 0.5824931299474734)"
      ]
     },
     "metadata":{
      
     },
     "output_type":"display_data"
    }
   ],
   "metadata":{
    "datalore":{
     "type":"CODE",
     "hide_input_from_viewers":false,
     "hide_output_from_viewers":false
    }
   }
  },
  {
   "cell_type":"code",
   "source":[
    "CI_sauwin_official=proportion_confint(count=x[1,2],nobs=x[1,3],alpha=(1-.95))\n",
    "CI_sauwin_official"
   ],
   "execution_count":307,
   "outputs":[
    {
     "data":{
      "text\/plain":[
       "(0.5281171375960512, 0.653317461560067)"
      ]
     },
     "metadata":{
      
     },
     "output_type":"display_data"
    }
   ],
   "metadata":{
    "datalore":{
     "type":"CODE",
     "hide_input_from_viewers":false,
     "hide_output_from_viewers":false
    }
   }
  },
  {
   "cell_type":"code",
   "source":[
    "ci_sauwin = {}\n",
    "ci_sauwin['Typematch'] = ['Friendly','Official']\n",
    "ci_sauwin['lb'] = [CI_sauwin_friendly[0],CI_sauwin_official[0]]\n",
    "ci_sauwin['ub'] = [CI_sauwin_friendly[1],CI_sauwin_official[1]]\n",
    "df_ci= pd.DataFrame(ci_sauwin)\n",
    "df_ci"
   ],
   "execution_count":308,
   "outputs":[
    {
     "data":{
      "text\/html":[
       "<div>\n",
       "<style scoped>\n",
       "    .dataframe tbody tr th:only-of-type {\n",
       "        vertical-align: middle;\n",
       "    }\n",
       "\n",
       "    .dataframe tbody tr th {\n",
       "        vertical-align: top;\n",
       "    }\n",
       "\n",
       "    .dataframe thead th {\n",
       "        text-align: right;\n",
       "    }\n",
       "<\/style>\n",
       "<table border=\"1\" class=\"dataframe\">\n",
       "  <thead>\n",
       "    <tr style=\"text-align: right;\">\n",
       "      <th><\/th>\n",
       "      <th>Typematch<\/th>\n",
       "      <th>lb<\/th>\n",
       "      <th>ub<\/th>\n",
       "    <\/tr>\n",
       "  <\/thead>\n",
       "  <tbody>\n",
       "    <tr>\n",
       "      <th>0<\/th>\n",
       "      <td>Friendly<\/td>\n",
       "      <td>0.424043<\/td>\n",
       "      <td>0.582493<\/td>\n",
       "    <\/tr>\n",
       "    <tr>\n",
       "      <th>1<\/th>\n",
       "      <td>Official<\/td>\n",
       "      <td>0.528117<\/td>\n",
       "      <td>0.653317<\/td>\n",
       "    <\/tr>\n",
       "  <\/tbody>\n",
       "<\/table>\n",
       "<\/div>"
      ]
     },
     "metadata":{
      
     },
     "output_type":"display_data"
    }
   ],
   "metadata":{
    "datalore":{
     "type":"CODE",
     "hide_input_from_viewers":false,
     "hide_output_from_viewers":false
    }
   }
  },
  {
   "cell_type":"code",
   "source":[
    "import matplotlib.pyplot as plt\n",
    "for lb,ub,y in zip(df_ci['lb'],df_ci['ub'],range(len(df_ci))):\n",
    "    plt.plot((lb,ub),(y,y),'ro-')\n",
    "plt.yticks(range(len(df_ci)),list(df_ci['Typematch']))"
   ],
   "execution_count":309,
   "outputs":[
    {
     "data":{
      "text\/plain":[
       "([<matplotlib.axis.YTick at 0x7fce48cb41c0>,\n",
       "  <matplotlib.axis.YTick at 0x7fce48cb4a90>],\n",
       " [Text(0, 0, 'Friendly'), Text(0, 1, 'Official')])"
      ],
      "image\/png":"[encoded data removed]"
     },
     "metadata":{
      "image\/png":{
       
      }
     },
     "output_type":"display_data"
    }
   ],
   "metadata":{
    "datalore":{
     "type":"CODE",
     "hide_input_from_viewers":false,
     "hide_output_from_viewers":false
    }
   }
  },
  {
   "cell_type":"markdown",
   "source":[
    "The confidence interval for winning friendly games is wider than official games. This means that there is a varied probability of winning where it lies between 40% and nearly 60%. But, the confidence interval for winning official games is narrower and more than friendly games where it lies between nearly 55% and 65%. This shows that the probability of winning official games is higher than winning friendly games. The interpretation for this is that players might be more serious and perform better in official games than friendly games. "
   ],
   "attachments":{
    
   },
   "metadata":{
    "datalore":{
     "type":"MD",
     "hide_input_from_viewers":false,
     "hide_output_from_viewers":false
    }
   }
  },
  {
   "cell_type":"markdown",
   "source":[
    "Now examining the effect of fans on winning and losing by looking at home games and away games"
   ],
   "attachments":{
    
   },
   "metadata":{
    "datalore":{
     "type":"MD",
     "hide_input_from_viewers":false,
     "hide_output_from_viewers":false
    }
   }
  },
  {
   "cell_type":"code",
   "source":[
    "dfsau['home']=(dfsau['home_team']=='Saudi Arabia')"
   ],
   "execution_count":310,
   "outputs":[
    {
     "name":"stderr",
     "text":[
      "<ipython-input-310-bc7e1925a40c>:1: SettingWithCopyWarning: \n",
      "A value is trying to be set on a copy of a slice from a DataFrame.\n",
      "Try using .loc[row_indexer,col_indexer] = value instead\n",
      "\n",
      "See the caveats in the documentation: https:\/\/pandas.pydata.org\/pandas-docs\/stable\/user_guide\/indexing.html#returning-a-view-versus-a-copy\n",
      "  dfsau['home']=(dfsau['home_team']=='Saudi Arabia')\n"
     ],
     "output_type":"stream"
    }
   ],
   "metadata":{
    "datalore":{
     "type":"CODE",
     "hide_input_from_viewers":false,
     "hide_output_from_viewers":false
    }
   }
  },
  {
   "cell_type":"code",
   "source":[
    "dfsau['home'].loc[dfsau['home_team']=='Saudi Arabia']"
   ],
   "execution_count":311,
   "outputs":[
    {
     "data":{
      "text\/html":[
       
      ]
     },
     "metadata":{
      
     },
     "output_type":"display_data"
    }
   ],
   "metadata":{
    "datalore":{
     "type":"CODE",
     "hide_input_from_viewers":false,
     "hide_output_from_viewers":false
    }
   }
  },
  {
   "cell_type":"code",
   "source":[
    "dfsau['home'].value_counts()"
   ],
   "execution_count":313,
   "outputs":[
    {
     "data":{
      "text\/html":[
       
      ]
     },
     "metadata":{
      
     },
     "output_type":"display_data"
    }
   ],
   "metadata":{
    "datalore":{
     "type":"CODE",
     "hide_input_from_viewers":false,
     "hide_output_from_viewers":false
    }
   }
  },
  {
   "cell_type":"code",
   "source":[
    "x=pd.crosstab(dfsau['home'],dfsau['results'],margins=True)\n",
    "x"
   ],
   "execution_count":314,
   "outputs":[
    {
     "data":{
      "text\/html":[
       "<div>\n",
       "<style scoped>\n",
       "    .dataframe tbody tr th:only-of-type {\n",
       "        vertical-align: middle;\n",
       "    }\n",
       "\n",
       "    .dataframe tbody tr th {\n",
       "        vertical-align: top;\n",
       "    }\n",
       "\n",
       "    .dataframe thead th {\n",
       "        text-align: right;\n",
       "    }\n",
       "<\/style>\n",
       "<table border=\"1\" class=\"dataframe\">\n",
       "  <thead>\n",
       "    <tr style=\"text-align: right;\">\n",
       "      <th>results<\/th>\n",
       "      <th>draw<\/th>\n",
       "      <th>lose<\/th>\n",
       "      <th>win<\/th>\n",
       "      <th>All<\/th>\n",
       "    <\/tr>\n",
       "    <tr>\n",
       "      <th>home<\/th>\n",
       "      <th><\/th>\n",
       "      <th><\/th>\n",
       "      <th><\/th>\n",
       "      <th><\/th>\n",
       "    <\/tr>\n",
       "  <\/thead>\n",
       "  <tbody>\n",
       "    <tr>\n",
       "      <th>False<\/th>\n",
       "      <td>25<\/td>\n",
       "      <td>41<\/td>\n",
       "      <td>55<\/td>\n",
       "      <td>121<\/td>\n",
       "    <\/tr>\n",
       "    <tr>\n",
       "      <th>True<\/th>\n",
       "      <td>56<\/td>\n",
       "      <td>51<\/td>\n",
       "      <td>162<\/td>\n",
       "      <td>269<\/td>\n",
       "    <\/tr>\n",
       "    <tr>\n",
       "      <th>All<\/th>\n",
       "      <td>81<\/td>\n",
       "      <td>92<\/td>\n",
       "      <td>217<\/td>\n",
       "      <td>390<\/td>\n",
       "    <\/tr>\n",
       "  <\/tbody>\n",
       "<\/table>\n",
       "<\/div>"
      ]
     },
     "metadata":{
      
     },
     "output_type":"display_data"
    }
   ],
   "metadata":{
    "datalore":{
     "type":"CODE",
     "hide_input_from_viewers":false,
     "hide_output_from_viewers":false
    }
   }
  },
  {
   "cell_type":"code",
   "source":[
    "dfsau.head(4)"
   ],
   "execution_count":315,
   "outputs":[
    {
     "data":{
      "text\/html":[
       "<div>\n",
       "<style scoped>\n",
       "    .dataframe tbody tr th:only-of-type {\n",
       "        vertical-align: middle;\n",
       "    }\n",
       "\n",
       "    .dataframe tbody tr th {\n",
       "        vertical-align: top;\n",
       "    }\n",
       "\n",
       "    .dataframe thead th {\n",
       "        text-align: right;\n",
       "    }\n",
       "<\/style>\n",
       "<table border=\"1\" class=\"dataframe\">\n",
       "  <thead>\n",
       "    <tr style=\"text-align: right;\">\n",
       "      <th><\/th>\n",
       "      <th>date<\/th>\n",
       "      <th>home_team<\/th>\n",
       "      <th>away_team<\/th>\n",
       "      <th>home_score<\/th>\n",
       "      <th>away_score<\/th>\n",
       "      <th>tournament<\/th>\n",
       "      <th>city<\/th>\n",
       "      <th>country<\/th>\n",
       "      <th>neutral<\/th>\n",
       "      <th>results<\/th>\n",
       "      <th>typematch<\/th>\n",
       "      <th>home<\/th>\n",
       "    <\/tr>\n",
       "  <\/thead>\n",
       "  <tbody>\n",
       "    <tr>\n",
       "      <th>6744<\/th>\n",
       "      <td>12\/10\/1967<\/td>\n",
       "      <td>Saudi Arabia<\/td>\n",
       "      <td>Tunisia<\/td>\n",
       "      <td>4<\/td>\n",
       "      <td>0<\/td>\n",
       "      <td>Friendly<\/td>\n",
       "      <td>Riyadh<\/td>\n",
       "      <td>Saudi Arabia<\/td>\n",
       "      <td>False<\/td>\n",
       "      <td>win<\/td>\n",
       "      <td>Friendly<\/td>\n",
       "      <td>True<\/td>\n",
       "    <\/tr>\n",
       "    <tr>\n",
       "      <th>7073<\/th>\n",
       "      <td>1\/17\/1969<\/td>\n",
       "      <td>Saudi Arabia<\/td>\n",
       "      <td>Turkey<\/td>\n",
       "      <td>1<\/td>\n",
       "      <td>2<\/td>\n",
       "      <td>Friendly<\/td>\n",
       "      <td>Riyadh<\/td>\n",
       "      <td>Saudi Arabia<\/td>\n",
       "      <td>False<\/td>\n",
       "      <td>lose<\/td>\n",
       "      <td>Friendly<\/td>\n",
       "      <td>True<\/td>\n",
       "    <\/tr>\n",
       "    <tr>\n",
       "      <th>8171<\/th>\n",
       "      <td>3\/16\/1972<\/td>\n",
       "      <td>Saudi Arabia<\/td>\n",
       "      <td>Kuwait<\/td>\n",
       "      <td>2<\/td>\n",
       "      <td>2<\/td>\n",
       "      <td>Gulf Cup<\/td>\n",
       "      <td>Riyadh<\/td>\n",
       "      <td>Saudi Arabia<\/td>\n",
       "      <td>False<\/td>\n",
       "      <td>draw<\/td>\n",
       "      <td>Official<\/td>\n",
       "      <td>True<\/td>\n",
       "    <\/tr>\n",
       "    <tr>\n",
       "      <th>8172<\/th>\n",
       "      <td>3\/17\/1972<\/td>\n",
       "      <td>Qatar<\/td>\n",
       "      <td>United Arab Emirates<\/td>\n",
       "      <td>0<\/td>\n",
       "      <td>1<\/td>\n",
       "      <td>Gulf Cup<\/td>\n",
       "      <td>Riyadh<\/td>\n",
       "      <td>Saudi Arabia<\/td>\n",
       "      <td>True<\/td>\n",
       "      <td>lose<\/td>\n",
       "      <td>Official<\/td>\n",
       "      <td>False<\/td>\n",
       "    <\/tr>\n",
       "  <\/tbody>\n",
       "<\/table>\n",
       "<\/div>"
      ]
     },
     "metadata":{
      
     },
     "output_type":"display_data"
    }
   ],
   "metadata":{
    "datalore":{
     "type":"CODE",
     "hide_input_from_viewers":false,
     "hide_output_from_viewers":false
    }
   }
  },
  {
   "cell_type":"code",
   "source":[
    "x=np.array(x)\n",
    "x"
   ],
   "execution_count":316,
   "outputs":[
    {
     "data":{
      "text\/html":[
       
      ]
     },
     "metadata":{
      
     },
     "output_type":"display_data"
    }
   ],
   "metadata":{
    "datalore":{
     "type":"CODE",
     "hide_input_from_viewers":false,
     "hide_output_from_viewers":false
    }
   }
  },
  {
   "cell_type":"code",
   "source":[
    "CI_sauwin_home=proportion_confint(count=x[1,2],nobs=x[1,3],alpha=(1-.95))\n",
    "CI_sauwin_home"
   ],
   "execution_count":317,
   "outputs":[
    {
     "data":{
      "text\/plain":[
       "(0.5437421740284505, 0.6607187925143005)"
      ]
     },
     "metadata":{
      
     },
     "output_type":"display_data"
    }
   ],
   "metadata":{
    "datalore":{
     "type":"CODE",
     "hide_input_from_viewers":false,
     "hide_output_from_viewers":false
    }
   }
  },
  {
   "cell_type":"code",
   "source":[
    "CI_sauwin_away=proportion_confint(count=x[0,2],nobs=x[0,3],alpha=(1-.95))\n",
    "CI_sauwin_away"
   ],
   "execution_count":318,
   "outputs":[
    {
     "data":{
      "text\/plain":[
       "(0.3658250837826203, 0.5432658253082887)"
      ]
     },
     "metadata":{
      
     },
     "output_type":"display_data"
    }
   ],
   "metadata":{
    "datalore":{
     "type":"CODE",
     "hide_input_from_viewers":false,
     "hide_output_from_viewers":false
    }
   }
  },
  {
   "cell_type":"code",
   "source":[
    "ci_sauwin = {}\n",
    "ci_sauwin['home'] = ['Yes','No']\n",
    "ci_sauwin['lb'] = [CI_sauwin_home[0],CI_sauwin_away[0]]\n",
    "ci_sauwin['ub'] = [CI_sauwin_home[1],CI_sauwin_away[1]]\n",
    "df_ci= pd.DataFrame(ci_sauwin)\n",
    "df_ci"
   ],
   "execution_count":319,
   "outputs":[
    {
     "data":{
      "text\/html":[
       "<div>\n",
       "<style scoped>\n",
       "    .dataframe tbody tr th:only-of-type {\n",
       "        vertical-align: middle;\n",
       "    }\n",
       "\n",
       "    .dataframe tbody tr th {\n",
       "        vertical-align: top;\n",
       "    }\n",
       "\n",
       "    .dataframe thead th {\n",
       "        text-align: right;\n",
       "    }\n",
       "<\/style>\n",
       "<table border=\"1\" class=\"dataframe\">\n",
       "  <thead>\n",
       "    <tr style=\"text-align: right;\">\n",
       "      <th><\/th>\n",
       "      <th>home<\/th>\n",
       "      <th>lb<\/th>\n",
       "      <th>ub<\/th>\n",
       "    <\/tr>\n",
       "  <\/thead>\n",
       "  <tbody>\n",
       "    <tr>\n",
       "      <th>0<\/th>\n",
       "      <td>Yes<\/td>\n",
       "      <td>0.543742<\/td>\n",
       "      <td>0.660719<\/td>\n",
       "    <\/tr>\n",
       "    <tr>\n",
       "      <th>1<\/th>\n",
       "      <td>No<\/td>\n",
       "      <td>0.365825<\/td>\n",
       "      <td>0.543266<\/td>\n",
       "    <\/tr>\n",
       "  <\/tbody>\n",
       "<\/table>\n",
       "<\/div>"
      ]
     },
     "metadata":{
      
     },
     "output_type":"display_data"
    }
   ],
   "metadata":{
    "datalore":{
     "type":"CODE",
     "hide_input_from_viewers":false,
     "hide_output_from_viewers":false
    }
   }
  },
  {
   "cell_type":"code",
   "source":[
    "for lb,ub,y in zip(df_ci['lb'],df_ci['ub'],range(len(df_ci))):\n",
    "    plt.plot((lb,ub),(y,y),'ro-')\n",
    "plt.yticks(range(len(df_ci)),list(df_ci['home']))"
   ],
   "execution_count":320,
   "outputs":[
    {
     "data":{
      "text\/plain":[
       "([<matplotlib.axis.YTick at 0x7fce48ce1850>,\n",
       "  <matplotlib.axis.YTick at 0x7fce48cfa8e0>],\n",
       " [Text(0, 0, 'Yes'), Text(0, 1, 'No')])"
      ],
      "image\/png":"[encoded data removed]"
     },
     "metadata":{
      "image\/png":{
       
      }
     },
     "output_type":"display_data"
    }
   ],
   "metadata":{
    "datalore":{
     "type":"CODE",
     "hide_input_from_viewers":false,
     "hide_output_from_viewers":false
    }
   }
  },
  {
   "cell_type":"markdown",
   "source":[
    "The confidence interval of winning at home is way more higher and narrower than losing. The narrow interval shows that it is more probable to happen because it only varies between 55% and 65% which are higher percentages, but compared to the confidence interval of losing which goes from nearly 35% until 55%, it is not as accurate as winning because the difference between the numbers is more. The high probability of winning home games shows how fans affect the team's performance and results positively. "
   ],
   "attachments":{
    
   },
   "metadata":{
    "datalore":{
     "type":"MD",
     "hide_input_from_viewers":false,
     "hide_output_from_viewers":false
    }
   }
  },
  {
   "cell_type":"markdown",
   "source":[
    "**Country 4: Japan**"
   ],
   "attachments":{
    
   },
   "metadata":{
    "datalore":{
     "type":"MD",
     "hide_input_from_viewers":false,
     "hide_output_from_viewers":false
    }
   }
  },
  {
   "cell_type":"code",
   "source":[
    "dfjap=df[df['country']=='Japan']"
   ],
   "execution_count":321,
   "outputs":[
    
   ],
   "metadata":{
    "datalore":{
     "type":"CODE",
     "hide_input_from_viewers":false,
     "hide_output_from_viewers":false
    }
   }
  },
  {
   "cell_type":"code",
   "source":[
    "dfjap.head()"
   ],
   "execution_count":322,
   "outputs":[
    {
     "data":{
      "text\/html":[
       "<div>\n",
       "<style scoped>\n",
       "    .dataframe tbody tr th:only-of-type {\n",
       "        vertical-align: middle;\n",
       "    }\n",
       "\n",
       "    .dataframe tbody tr th {\n",
       "        vertical-align: top;\n",
       "    }\n",
       "\n",
       "    .dataframe thead th {\n",
       "        text-align: right;\n",
       "    }\n",
       "<\/style>\n",
       "<table border=\"1\" class=\"dataframe\">\n",
       "  <thead>\n",
       "    <tr style=\"text-align: right;\">\n",
       "      <th><\/th>\n",
       "      <th>date<\/th>\n",
       "      <th>home_team<\/th>\n",
       "      <th>away_team<\/th>\n",
       "      <th>home_score<\/th>\n",
       "      <th>away_score<\/th>\n",
       "      <th>tournament<\/th>\n",
       "      <th>city<\/th>\n",
       "      <th>country<\/th>\n",
       "      <th>neutral<\/th>\n",
       "      <th>results<\/th>\n",
       "    <\/tr>\n",
       "  <\/thead>\n",
       "  <tbody>\n",
       "    <tr>\n",
       "      <th>461<\/th>\n",
       "      <td>5\/7\/1917<\/td>\n",
       "      <td>Japan<\/td>\n",
       "      <td>Philippines<\/td>\n",
       "      <td>2<\/td>\n",
       "      <td>15<\/td>\n",
       "      <td>Friendly<\/td>\n",
       "      <td>Tokyo<\/td>\n",
       "      <td>Japan<\/td>\n",
       "      <td>False<\/td>\n",
       "      <td>lose<\/td>\n",
       "    <\/tr>\n",
       "    <tr>\n",
       "      <th>719<\/th>\n",
       "      <td>5\/22\/1923<\/td>\n",
       "      <td>China PR<\/td>\n",
       "      <td>Philippines<\/td>\n",
       "      <td>3<\/td>\n",
       "      <td>0<\/td>\n",
       "      <td>Friendly<\/td>\n",
       "      <td>Osaka<\/td>\n",
       "      <td>Japan<\/td>\n",
       "      <td>True<\/td>\n",
       "      <td>win<\/td>\n",
       "    <\/tr>\n",
       "    <tr>\n",
       "      <th>720<\/th>\n",
       "      <td>5\/24\/1923<\/td>\n",
       "      <td>Japan<\/td>\n",
       "      <td>China PR<\/td>\n",
       "      <td>1<\/td>\n",
       "      <td>5<\/td>\n",
       "      <td>Friendly<\/td>\n",
       "      <td>Osaka<\/td>\n",
       "      <td>Japan<\/td>\n",
       "      <td>False<\/td>\n",
       "      <td>lose<\/td>\n",
       "    <\/tr>\n",
       "    <tr>\n",
       "      <th>1298<\/th>\n",
       "      <td>5\/27\/1930<\/td>\n",
       "      <td>China PR<\/td>\n",
       "      <td>Philippines<\/td>\n",
       "      <td>5<\/td>\n",
       "      <td>0<\/td>\n",
       "      <td>Friendly<\/td>\n",
       "      <td>Tokyo<\/td>\n",
       "      <td>Japan<\/td>\n",
       "      <td>True<\/td>\n",
       "      <td>win<\/td>\n",
       "    <\/tr>\n",
       "    <tr>\n",
       "      <th>1299<\/th>\n",
       "      <td>5\/29\/1930<\/td>\n",
       "      <td>Japan<\/td>\n",
       "      <td>China PR<\/td>\n",
       "      <td>3<\/td>\n",
       "      <td>3<\/td>\n",
       "      <td>Friendly<\/td>\n",
       "      <td>Tokyo<\/td>\n",
       "      <td>Japan<\/td>\n",
       "      <td>False<\/td>\n",
       "      <td>draw<\/td>\n",
       "    <\/tr>\n",
       "  <\/tbody>\n",
       "<\/table>\n",
       "<\/div>"
      ]
     },
     "metadata":{
      
     },
     "output_type":"display_data"
    }
   ],
   "metadata":{
    "datalore":{
     "type":"CODE",
     "hide_input_from_viewers":false,
     "hide_output_from_viewers":false
    }
   }
  },
  {
   "cell_type":"code",
   "source":[
    "conditions = [\n",
    "    (dfjap['tournament']=='Friendly'),\n",
    "    (dfjap['tournament']!='Friendly') ]"
   ],
   "execution_count":323,
   "outputs":[
    
   ],
   "metadata":{
    "datalore":{
     "type":"CODE",
     "hide_input_from_viewers":false,
     "hide_output_from_viewers":false
    }
   }
  },
  {
   "cell_type":"code",
   "source":[
    "values=['Friendly','Official']"
   ],
   "execution_count":324,
   "outputs":[
    
   ],
   "metadata":{
    "datalore":{
     "type":"CODE",
     "hide_input_from_viewers":false,
     "hide_output_from_viewers":false
    }
   }
  },
  {
   "cell_type":"code",
   "source":[
    "dfjap['typematch'] = np.select(conditions, values)"
   ],
   "execution_count":325,
   "outputs":[
    {
     "name":"stderr",
     "text":[
      "<ipython-input-325-32d41154ffcf>:1: SettingWithCopyWarning: \n",
      "A value is trying to be set on a copy of a slice from a DataFrame.\n",
      "Try using .loc[row_indexer,col_indexer] = value instead\n",
      "\n",
      "See the caveats in the documentation: https:\/\/pandas.pydata.org\/pandas-docs\/stable\/user_guide\/indexing.html#returning-a-view-versus-a-copy\n",
      "  dfjap['typematch'] = np.select(conditions, values)\n"
     ],
     "output_type":"stream"
    }
   ],
   "metadata":{
    "datalore":{
     "type":"CODE",
     "hide_input_from_viewers":false,
     "hide_output_from_viewers":false
    }
   }
  },
  {
   "cell_type":"code",
   "source":[
    "dfjap['typematch'].value_counts()"
   ],
   "execution_count":326,
   "outputs":[
    {
     "data":{
      "text\/html":[
       
      ]
     },
     "metadata":{
      
     },
     "output_type":"display_data"
    }
   ],
   "metadata":{
    "datalore":{
     "type":"CODE",
     "hide_input_from_viewers":false,
     "hide_output_from_viewers":false
    }
   }
  },
  {
   "cell_type":"markdown",
   "source":[
    "Comparing the probability of win\/lose\/draw by match type:"
   ],
   "attachments":{
    
   },
   "metadata":{
    "datalore":{
     "type":"MD",
     "hide_input_from_viewers":false,
     "hide_output_from_viewers":false
    }
   }
  },
  {
   "cell_type":"code",
   "source":[
    "x=pd.crosstab(dfjap['typematch'],dfjap['results'],margins=True)\n",
    "x"
   ],
   "execution_count":327,
   "outputs":[
    {
     "data":{
      "text\/html":[
       "<div>\n",
       "<style scoped>\n",
       "    .dataframe tbody tr th:only-of-type {\n",
       "        vertical-align: middle;\n",
       "    }\n",
       "\n",
       "    .dataframe tbody tr th {\n",
       "        vertical-align: top;\n",
       "    }\n",
       "\n",
       "    .dataframe thead th {\n",
       "        text-align: right;\n",
       "    }\n",
       "<\/style>\n",
       "<table border=\"1\" class=\"dataframe\">\n",
       "  <thead>\n",
       "    <tr style=\"text-align: right;\">\n",
       "      <th>results<\/th>\n",
       "      <th>draw<\/th>\n",
       "      <th>lose<\/th>\n",
       "      <th>win<\/th>\n",
       "      <th>All<\/th>\n",
       "    <\/tr>\n",
       "    <tr>\n",
       "      <th>typematch<\/th>\n",
       "      <th><\/th>\n",
       "      <th><\/th>\n",
       "      <th><\/th>\n",
       "      <th><\/th>\n",
       "    <\/tr>\n",
       "  <\/thead>\n",
       "  <tbody>\n",
       "    <tr>\n",
       "      <th>Friendly<\/th>\n",
       "      <td>27<\/td>\n",
       "      <td>35<\/td>\n",
       "      <td>70<\/td>\n",
       "      <td>132<\/td>\n",
       "    <\/tr>\n",
       "    <tr>\n",
       "      <th>Official<\/th>\n",
       "      <td>57<\/td>\n",
       "      <td>49<\/td>\n",
       "      <td>117<\/td>\n",
       "      <td>223<\/td>\n",
       "    <\/tr>\n",
       "    <tr>\n",
       "      <th>All<\/th>\n",
       "      <td>84<\/td>\n",
       "      <td>84<\/td>\n",
       "      <td>187<\/td>\n",
       "      <td>355<\/td>\n",
       "    <\/tr>\n",
       "  <\/tbody>\n",
       "<\/table>\n",
       "<\/div>"
      ]
     },
     "metadata":{
      
     },
     "output_type":"display_data"
    }
   ],
   "metadata":{
    "datalore":{
     "type":"CODE",
     "hide_input_from_viewers":false,
     "hide_output_from_viewers":false
    }
   }
  },
  {
   "cell_type":"code",
   "source":[
    "x=np.array(x)\n",
    "x"
   ],
   "execution_count":328,
   "outputs":[
    {
     "data":{
      "text\/html":[
       
      ]
     },
     "metadata":{
      
     },
     "output_type":"display_data"
    }
   ],
   "metadata":{
    "datalore":{
     "type":"CODE",
     "hide_input_from_viewers":false,
     "hide_output_from_viewers":false
    }
   }
  },
  {
   "cell_type":"code",
   "source":[
    "CI_japwin_friendly=proportion_confint(count=x[0,2],nobs=x[0,3],alpha=(1-.95))\n",
    "CI_japwin_friendly\n",
    "                                                          "
   ],
   "execution_count":329,
   "outputs":[
    {
     "data":{
      "text\/plain":[
       "(0.44516334139646724, 0.6154427192095934)"
      ]
     },
     "metadata":{
      
     },
     "output_type":"display_data"
    }
   ],
   "metadata":{
    "datalore":{
     "type":"CODE",
     "hide_input_from_viewers":false,
     "hide_output_from_viewers":false
    }
   }
  },
  {
   "cell_type":"code",
   "source":[
    "CI_japwin_official=proportion_confint(count=x[1,2],nobs=x[1,3],alpha=(1-.95))\n",
    "CI_japwin_official"
   ],
   "execution_count":330,
   "outputs":[
    {
     "data":{
      "text\/plain":[
       "(0.459119115989316, 0.5902082382707736)"
      ]
     },
     "metadata":{
      
     },
     "output_type":"display_data"
    }
   ],
   "metadata":{
    "datalore":{
     "type":"CODE",
     "hide_input_from_viewers":false,
     "hide_output_from_viewers":false
    }
   }
  },
  {
   "cell_type":"code",
   "source":[
    "ci_japwin = {}\n",
    "ci_japwin['Typematch'] = ['Friendly','Official']\n",
    "ci_japwin['lb'] = [CI_japwin_friendly[0],CI_japwin_official[0]]\n",
    "ci_japwin['ub'] = [CI_japwin_friendly[1],CI_japwin_official[1]]\n",
    "df_ci= pd.DataFrame(ci_japwin)\n",
    "df_ci"
   ],
   "execution_count":331,
   "outputs":[
    {
     "data":{
      "text\/html":[
       "<div>\n",
       "<style scoped>\n",
       "    .dataframe tbody tr th:only-of-type {\n",
       "        vertical-align: middle;\n",
       "    }\n",
       "\n",
       "    .dataframe tbody tr th {\n",
       "        vertical-align: top;\n",
       "    }\n",
       "\n",
       "    .dataframe thead th {\n",
       "        text-align: right;\n",
       "    }\n",
       "<\/style>\n",
       "<table border=\"1\" class=\"dataframe\">\n",
       "  <thead>\n",
       "    <tr style=\"text-align: right;\">\n",
       "      <th><\/th>\n",
       "      <th>Typematch<\/th>\n",
       "      <th>lb<\/th>\n",
       "      <th>ub<\/th>\n",
       "    <\/tr>\n",
       "  <\/thead>\n",
       "  <tbody>\n",
       "    <tr>\n",
       "      <th>0<\/th>\n",
       "      <td>Friendly<\/td>\n",
       "      <td>0.445163<\/td>\n",
       "      <td>0.615443<\/td>\n",
       "    <\/tr>\n",
       "    <tr>\n",
       "      <th>1<\/th>\n",
       "      <td>Official<\/td>\n",
       "      <td>0.459119<\/td>\n",
       "      <td>0.590208<\/td>\n",
       "    <\/tr>\n",
       "  <\/tbody>\n",
       "<\/table>\n",
       "<\/div>"
      ]
     },
     "metadata":{
      
     },
     "output_type":"display_data"
    }
   ],
   "metadata":{
    "datalore":{
     "type":"CODE",
     "hide_input_from_viewers":false,
     "hide_output_from_viewers":false
    }
   }
  },
  {
   "cell_type":"code",
   "source":[
    "import matplotlib.pyplot as plt\n",
    "for lb,ub,y in zip(df_ci['lb'],df_ci['ub'],range(len(df_ci))):\n",
    "    plt.plot((lb,ub),(y,y),'ro-')\n",
    "plt.yticks(range(len(df_ci)),list(df_ci['Typematch']))"
   ],
   "execution_count":106,
   "outputs":[
    {
     "data":{
      "text\/plain":[
       "([<matplotlib.axis.YTick at 0x7fce4e70f430>,\n",
       "  <matplotlib.axis.YTick at 0x7fce4e70ec70>],\n",
       " [Text(0, 0, 'Friendly'), Text(0, 1, 'Official')])"
      ],
      "image\/png":"[encoded data removed]"
     },
     "metadata":{
      "image\/png":{
       
      }
     },
     "output_type":"display_data"
    }
   ],
   "metadata":{
    "datalore":{
     "type":"CODE",
     "hide_input_from_viewers":false,
     "hide_output_from_viewers":false
    }
   }
  },
  {
   "cell_type":"markdown",
   "source":[
    "There is no such huge difference between both intervals of winning official and friendly games because the numbers are nearly the same and both intervals vary. This shows that the probability of this happening is the same probability of the other thing happening. This shows that the team performance is nearly the same in all games which shows the seriousness of the players.   "
   ],
   "attachments":{
    
   },
   "metadata":{
    "datalore":{
     "type":"MD",
     "hide_input_from_viewers":false,
     "hide_output_from_viewers":false
    }
   }
  },
  {
   "cell_type":"markdown",
   "source":[
    "Now examining the effect of fans on winning and losing by looking at home games and away games"
   ],
   "attachments":{
    
   },
   "metadata":{
    "datalore":{
     "type":"MD",
     "hide_input_from_viewers":false,
     "hide_output_from_viewers":false
    }
   }
  },
  {
   "cell_type":"code",
   "source":[
    "dfjap['home']=(dfjap['home_team']=='Japan')"
   ],
   "execution_count":332,
   "outputs":[
    {
     "name":"stderr",
     "text":[
      "<ipython-input-332-c50c5299faeb>:1: SettingWithCopyWarning: \n",
      "A value is trying to be set on a copy of a slice from a DataFrame.\n",
      "Try using .loc[row_indexer,col_indexer] = value instead\n",
      "\n",
      "See the caveats in the documentation: https:\/\/pandas.pydata.org\/pandas-docs\/stable\/user_guide\/indexing.html#returning-a-view-versus-a-copy\n",
      "  dfjap['home']=(dfjap['home_team']=='Japan')\n"
     ],
     "output_type":"stream"
    }
   ],
   "metadata":{
    "datalore":{
     "type":"CODE",
     "hide_input_from_viewers":false,
     "hide_output_from_viewers":false
    }
   }
  },
  {
   "cell_type":"code",
   "source":[
    "x=pd.crosstab(dfjap['home'],dfjap['results'],margins=True)\n",
    "x"
   ],
   "execution_count":333,
   "outputs":[
    {
     "data":{
      "text\/html":[
       "<div>\n",
       "<style scoped>\n",
       "    .dataframe tbody tr th:only-of-type {\n",
       "        vertical-align: middle;\n",
       "    }\n",
       "\n",
       "    .dataframe tbody tr th {\n",
       "        vertical-align: top;\n",
       "    }\n",
       "\n",
       "    .dataframe thead th {\n",
       "        text-align: right;\n",
       "    }\n",
       "<\/style>\n",
       "<table border=\"1\" class=\"dataframe\">\n",
       "  <thead>\n",
       "    <tr style=\"text-align: right;\">\n",
       "      <th>results<\/th>\n",
       "      <th>draw<\/th>\n",
       "      <th>lose<\/th>\n",
       "      <th>win<\/th>\n",
       "      <th>All<\/th>\n",
       "    <\/tr>\n",
       "    <tr>\n",
       "      <th>home<\/th>\n",
       "      <th><\/th>\n",
       "      <th><\/th>\n",
       "      <th><\/th>\n",
       "      <th><\/th>\n",
       "    <\/tr>\n",
       "  <\/thead>\n",
       "  <tbody>\n",
       "    <tr>\n",
       "      <th>False<\/th>\n",
       "      <td>27<\/td>\n",
       "      <td>29<\/td>\n",
       "      <td>38<\/td>\n",
       "      <td>94<\/td>\n",
       "    <\/tr>\n",
       "    <tr>\n",
       "      <th>True<\/th>\n",
       "      <td>57<\/td>\n",
       "      <td>55<\/td>\n",
       "      <td>149<\/td>\n",
       "      <td>261<\/td>\n",
       "    <\/tr>\n",
       "    <tr>\n",
       "      <th>All<\/th>\n",
       "      <td>84<\/td>\n",
       "      <td>84<\/td>\n",
       "      <td>187<\/td>\n",
       "      <td>355<\/td>\n",
       "    <\/tr>\n",
       "  <\/tbody>\n",
       "<\/table>\n",
       "<\/div>"
      ]
     },
     "metadata":{
      
     },
     "output_type":"display_data"
    }
   ],
   "metadata":{
    "datalore":{
     "type":"CODE",
     "hide_input_from_viewers":false,
     "hide_output_from_viewers":false
    }
   }
  },
  {
   "cell_type":"code",
   "source":[
    "dfjap.head(4)"
   ],
   "execution_count":334,
   "outputs":[
    {
     "data":{
      "text\/html":[
       "<div>\n",
       "<style scoped>\n",
       "    .dataframe tbody tr th:only-of-type {\n",
       "        vertical-align: middle;\n",
       "    }\n",
       "\n",
       "    .dataframe tbody tr th {\n",
       "        vertical-align: top;\n",
       "    }\n",
       "\n",
       "    .dataframe thead th {\n",
       "        text-align: right;\n",
       "    }\n",
       "<\/style>\n",
       "<table border=\"1\" class=\"dataframe\">\n",
       "  <thead>\n",
       "    <tr style=\"text-align: right;\">\n",
       "      <th><\/th>\n",
       "      <th>date<\/th>\n",
       "      <th>home_team<\/th>\n",
       "      <th>away_team<\/th>\n",
       "      <th>home_score<\/th>\n",
       "      <th>away_score<\/th>\n",
       "      <th>tournament<\/th>\n",
       "      <th>city<\/th>\n",
       "      <th>country<\/th>\n",
       "      <th>neutral<\/th>\n",
       "      <th>results<\/th>\n",
       "      <th>typematch<\/th>\n",
       "      <th>home<\/th>\n",
       "    <\/tr>\n",
       "  <\/thead>\n",
       "  <tbody>\n",
       "    <tr>\n",
       "      <th>461<\/th>\n",
       "      <td>5\/7\/1917<\/td>\n",
       "      <td>Japan<\/td>\n",
       "      <td>Philippines<\/td>\n",
       "      <td>2<\/td>\n",
       "      <td>15<\/td>\n",
       "      <td>Friendly<\/td>\n",
       "      <td>Tokyo<\/td>\n",
       "      <td>Japan<\/td>\n",
       "      <td>False<\/td>\n",
       "      <td>lose<\/td>\n",
       "      <td>Friendly<\/td>\n",
       "      <td>True<\/td>\n",
       "    <\/tr>\n",
       "    <tr>\n",
       "      <th>719<\/th>\n",
       "      <td>5\/22\/1923<\/td>\n",
       "      <td>China PR<\/td>\n",
       "      <td>Philippines<\/td>\n",
       "      <td>3<\/td>\n",
       "      <td>0<\/td>\n",
       "      <td>Friendly<\/td>\n",
       "      <td>Osaka<\/td>\n",
       "      <td>Japan<\/td>\n",
       "      <td>True<\/td>\n",
       "      <td>win<\/td>\n",
       "      <td>Friendly<\/td>\n",
       "      <td>False<\/td>\n",
       "    <\/tr>\n",
       "    <tr>\n",
       "      <th>720<\/th>\n",
       "      <td>5\/24\/1923<\/td>\n",
       "      <td>Japan<\/td>\n",
       "      <td>China PR<\/td>\n",
       "      <td>1<\/td>\n",
       "      <td>5<\/td>\n",
       "      <td>Friendly<\/td>\n",
       "      <td>Osaka<\/td>\n",
       "      <td>Japan<\/td>\n",
       "      <td>False<\/td>\n",
       "      <td>lose<\/td>\n",
       "      <td>Friendly<\/td>\n",
       "      <td>True<\/td>\n",
       "    <\/tr>\n",
       "    <tr>\n",
       "      <th>1298<\/th>\n",
       "      <td>5\/27\/1930<\/td>\n",
       "      <td>China PR<\/td>\n",
       "      <td>Philippines<\/td>\n",
       "      <td>5<\/td>\n",
       "      <td>0<\/td>\n",
       "      <td>Friendly<\/td>\n",
       "      <td>Tokyo<\/td>\n",
       "      <td>Japan<\/td>\n",
       "      <td>True<\/td>\n",
       "      <td>win<\/td>\n",
       "      <td>Friendly<\/td>\n",
       "      <td>False<\/td>\n",
       "    <\/tr>\n",
       "  <\/tbody>\n",
       "<\/table>\n",
       "<\/div>"
      ]
     },
     "metadata":{
      
     },
     "output_type":"display_data"
    }
   ],
   "metadata":{
    "datalore":{
     "type":"CODE",
     "hide_input_from_viewers":false,
     "hide_output_from_viewers":false
    }
   }
  },
  {
   "cell_type":"code",
   "source":[
    "x=np.array(x)\n",
    "x"
   ],
   "execution_count":335,
   "outputs":[
    {
     "data":{
      "text\/html":[
       
      ]
     },
     "metadata":{
      
     },
     "output_type":"display_data"
    }
   ],
   "metadata":{
    "datalore":{
     "type":"CODE",
     "hide_input_from_viewers":false,
     "hide_output_from_viewers":false
    }
   }
  },
  {
   "cell_type":"code",
   "source":[
    "CI_japwin_home=proportion_confint(count=x[1,2],nobs=x[1,3],alpha=(1-.95))\n",
    "CI_japwin_home"
   ],
   "execution_count":336,
   "outputs":[
    {
     "data":{
      "text\/plain":[
       "(0.5108344803192827, 0.6309279717879971)"
      ]
     },
     "metadata":{
      
     },
     "output_type":"display_data"
    }
   ],
   "metadata":{
    "datalore":{
     "type":"CODE",
     "hide_input_from_viewers":false,
     "hide_output_from_viewers":false
    }
   }
  },
  {
   "cell_type":"code",
   "source":[
    "CI_japwin_away=proportion_confint(count=x[0,2],nobs=x[0,3],alpha=(1-.95))\n",
    "CI_japwin_away"
   ],
   "execution_count":337,
   "outputs":[
    {
     "data":{
      "text\/plain":[
       "(0.3050483635609801, 0.5034622747368922)"
      ]
     },
     "metadata":{
      
     },
     "output_type":"display_data"
    }
   ],
   "metadata":{
    "datalore":{
     "type":"CODE",
     "hide_input_from_viewers":false,
     "hide_output_from_viewers":false
    }
   }
  },
  {
   "cell_type":"code",
   "source":[
    "ci_japwin = {}\n",
    "ci_japwin['home'] = ['Yes','No']\n",
    "ci_japwin['lb'] = [CI_japwin_home[0],CI_japwin_away[0]]\n",
    "ci_japwin['ub'] = [CI_japwin_home[1],CI_japwin_away[1]]\n",
    "df_ci= pd.DataFrame(ci_japwin)\n",
    "df_ci"
   ],
   "execution_count":338,
   "outputs":[
    {
     "data":{
      "text\/html":[
       "<div>\n",
       "<style scoped>\n",
       "    .dataframe tbody tr th:only-of-type {\n",
       "        vertical-align: middle;\n",
       "    }\n",
       "\n",
       "    .dataframe tbody tr th {\n",
       "        vertical-align: top;\n",
       "    }\n",
       "\n",
       "    .dataframe thead th {\n",
       "        text-align: right;\n",
       "    }\n",
       "<\/style>\n",
       "<table border=\"1\" class=\"dataframe\">\n",
       "  <thead>\n",
       "    <tr style=\"text-align: right;\">\n",
       "      <th><\/th>\n",
       "      <th>home<\/th>\n",
       "      <th>lb<\/th>\n",
       "      <th>ub<\/th>\n",
       "    <\/tr>\n",
       "  <\/thead>\n",
       "  <tbody>\n",
       "    <tr>\n",
       "      <th>0<\/th>\n",
       "      <td>Yes<\/td>\n",
       "      <td>0.510834<\/td>\n",
       "      <td>0.630928<\/td>\n",
       "    <\/tr>\n",
       "    <tr>\n",
       "      <th>1<\/th>\n",
       "      <td>No<\/td>\n",
       "      <td>0.305048<\/td>\n",
       "      <td>0.503462<\/td>\n",
       "    <\/tr>\n",
       "  <\/tbody>\n",
       "<\/table>\n",
       "<\/div>"
      ]
     },
     "metadata":{
      
     },
     "output_type":"display_data"
    }
   ],
   "metadata":{
    "datalore":{
     "type":"CODE",
     "hide_input_from_viewers":false,
     "hide_output_from_viewers":false
    }
   }
  },
  {
   "cell_type":"code",
   "source":[
    "for lb,ub,y in zip(df_ci['lb'],df_ci['ub'],range(len(df_ci))):\n",
    "    plt.plot((lb,ub),(y,y),'ro-')\n",
    "plt.yticks(range(len(df_ci)),list(df_ci['home']))"
   ],
   "execution_count":339,
   "outputs":[
    {
     "data":{
      "text\/plain":[
       "([<matplotlib.axis.YTick at 0x7fce48c771f0>,\n",
       "  <matplotlib.axis.YTick at 0x7fce48c72400>],\n",
       " [Text(0, 0, 'Yes'), Text(0, 1, 'No')])"
      ],
      "image\/png":"[encoded data removed]"
     },
     "metadata":{
      "image\/png":{
       
      }
     },
     "output_type":"display_data"
    }
   ],
   "metadata":{
    "datalore":{
     "type":"CODE",
     "hide_input_from_viewers":false,
     "hide_output_from_viewers":false
    }
   }
  },
  {
   "cell_type":"markdown",
   "source":[
    "The confidence interval of winning at home is higher and narrower than losing. The narrow interval shows that it is more probable to happen because it only varies between 50% and 65% which are higher percentages than losing, but compared to the confidence interval of losing which goes from nearly 30% until 50%, it is not as accurate as winning because the difference between the numbers is more. The high probability of winning home games shows how fans affect the team's performance and results positively. "
   ],
   "attachments":{
    
   },
   "metadata":{
    "datalore":{
     "type":"MD",
     "hide_input_from_viewers":false,
     "hide_output_from_viewers":false
    }
   }
  },
  {
   "cell_type":"markdown",
   "source":[
    "**Country 5: Uruguay**"
   ],
   "attachments":{
    
   },
   "metadata":{
    "datalore":{
     "type":"MD",
     "hide_input_from_viewers":false,
     "hide_output_from_viewers":false
    }
   }
  },
  {
   "cell_type":"code",
   "source":[
    "dfuru=df[df['country']=='Uruguay']"
   ],
   "execution_count":340,
   "outputs":[
    
   ],
   "metadata":{
    "datalore":{
     "type":"CODE",
     "hide_input_from_viewers":false,
     "hide_output_from_viewers":false
    }
   }
  },
  {
   "cell_type":"code",
   "source":[
    "dfuru.head()"
   ],
   "execution_count":341,
   "outputs":[
    {
     "data":{
      "text\/html":[
       "<div>\n",
       "<style scoped>\n",
       "    .dataframe tbody tr th:only-of-type {\n",
       "        vertical-align: middle;\n",
       "    }\n",
       "\n",
       "    .dataframe tbody tr th {\n",
       "        vertical-align: top;\n",
       "    }\n",
       "\n",
       "    .dataframe thead th {\n",
       "        text-align: right;\n",
       "    }\n",
       "<\/style>\n",
       "<table border=\"1\" class=\"dataframe\">\n",
       "  <thead>\n",
       "    <tr style=\"text-align: right;\">\n",
       "      <th><\/th>\n",
       "      <th>date<\/th>\n",
       "      <th>home_team<\/th>\n",
       "      <th>away_team<\/th>\n",
       "      <th>home_score<\/th>\n",
       "      <th>away_score<\/th>\n",
       "      <th>tournament<\/th>\n",
       "      <th>city<\/th>\n",
       "      <th>country<\/th>\n",
       "      <th>neutral<\/th>\n",
       "      <th>results<\/th>\n",
       "    <\/tr>\n",
       "  <\/thead>\n",
       "  <tbody>\n",
       "    <tr>\n",
       "      <th>145<\/th>\n",
       "      <td>7\/20\/1902<\/td>\n",
       "      <td>Uruguay<\/td>\n",
       "      <td>Argentina<\/td>\n",
       "      <td>0<\/td>\n",
       "      <td>6<\/td>\n",
       "      <td>Friendly<\/td>\n",
       "      <td>Montevideo<\/td>\n",
       "      <td>Uruguay<\/td>\n",
       "      <td>False<\/td>\n",
       "      <td>lose<\/td>\n",
       "    <\/tr>\n",
       "    <tr>\n",
       "      <th>188<\/th>\n",
       "      <td>8\/15\/1906<\/td>\n",
       "      <td>Uruguay<\/td>\n",
       "      <td>Argentina<\/td>\n",
       "      <td>0<\/td>\n",
       "      <td>2<\/td>\n",
       "      <td>Copa Lipton<\/td>\n",
       "      <td>Montevideo<\/td>\n",
       "      <td>Uruguay<\/td>\n",
       "      <td>False<\/td>\n",
       "      <td>lose<\/td>\n",
       "    <\/tr>\n",
       "    <tr>\n",
       "      <th>225<\/th>\n",
       "      <td>8\/15\/1908<\/td>\n",
       "      <td>Uruguay<\/td>\n",
       "      <td>Argentina<\/td>\n",
       "      <td>2<\/td>\n",
       "      <td>2<\/td>\n",
       "      <td>Copa Lipton<\/td>\n",
       "      <td>Montevideo<\/td>\n",
       "      <td>Uruguay<\/td>\n",
       "      <td>False<\/td>\n",
       "      <td>draw<\/td>\n",
       "    <\/tr>\n",
       "    <tr>\n",
       "      <th>248<\/th>\n",
       "      <td>9\/19\/1909<\/td>\n",
       "      <td>Uruguay<\/td>\n",
       "      <td>Argentina<\/td>\n",
       "      <td>2<\/td>\n",
       "      <td>2<\/td>\n",
       "      <td>Copa Newton<\/td>\n",
       "      <td>Montevideo<\/td>\n",
       "      <td>Uruguay<\/td>\n",
       "      <td>False<\/td>\n",
       "      <td>draw<\/td>\n",
       "    <\/tr>\n",
       "    <tr>\n",
       "      <th>270<\/th>\n",
       "      <td>8\/15\/1910<\/td>\n",
       "      <td>Uruguay<\/td>\n",
       "      <td>Argentina<\/td>\n",
       "      <td>3<\/td>\n",
       "      <td>1<\/td>\n",
       "      <td>Copa Lipton<\/td>\n",
       "      <td>Montevideo<\/td>\n",
       "      <td>Uruguay<\/td>\n",
       "      <td>False<\/td>\n",
       "      <td>win<\/td>\n",
       "    <\/tr>\n",
       "  <\/tbody>\n",
       "<\/table>\n",
       "<\/div>"
      ]
     },
     "metadata":{
      
     },
     "output_type":"display_data"
    }
   ],
   "metadata":{
    "datalore":{
     "type":"CODE",
     "hide_input_from_viewers":false,
     "hide_output_from_viewers":false
    }
   }
  },
  {
   "cell_type":"code",
   "source":[
    "conditions = [\n",
    "    (dfuru['tournament']=='Friendly'),\n",
    "    (dfuru['tournament']!='Friendly')   ]"
   ],
   "execution_count":342,
   "outputs":[
    
   ],
   "metadata":{
    "datalore":{
     "type":"CODE",
     "hide_input_from_viewers":false,
     "hide_output_from_viewers":false
    }
   }
  },
  {
   "cell_type":"code",
   "source":[
    "values=['Friendly','Official']"
   ],
   "execution_count":343,
   "outputs":[
    
   ],
   "metadata":{
    "datalore":{
     "type":"CODE",
     "hide_input_from_viewers":false,
     "hide_output_from_viewers":false
    }
   }
  },
  {
   "cell_type":"code",
   "source":[
    "dfuru['typematch'] = np.select(conditions, values)"
   ],
   "execution_count":344,
   "outputs":[
    {
     "name":"stderr",
     "text":[
      "<ipython-input-344-03485c55cc80>:1: SettingWithCopyWarning: \n",
      "A value is trying to be set on a copy of a slice from a DataFrame.\n",
      "Try using .loc[row_indexer,col_indexer] = value instead\n",
      "\n",
      "See the caveats in the documentation: https:\/\/pandas.pydata.org\/pandas-docs\/stable\/user_guide\/indexing.html#returning-a-view-versus-a-copy\n",
      "  dfuru['typematch'] = np.select(conditions, values)\n"
     ],
     "output_type":"stream"
    }
   ],
   "metadata":{
    "datalore":{
     "type":"CODE",
     "hide_input_from_viewers":false,
     "hide_output_from_viewers":false
    }
   }
  },
  {
   "cell_type":"code",
   "source":[
    "dfuru['typematch'].value_counts()"
   ],
   "execution_count":345,
   "outputs":[
    {
     "data":{
      "text\/html":[
       
      ]
     },
     "metadata":{
      
     },
     "output_type":"display_data"
    }
   ],
   "metadata":{
    "datalore":{
     "type":"CODE",
     "hide_input_from_viewers":false,
     "hide_output_from_viewers":false
    }
   }
  },
  {
   "cell_type":"markdown",
   "source":[
    "Comparing the probability of win\/lose\/draw by match type:"
   ],
   "attachments":{
    
   },
   "metadata":{
    "datalore":{
     "type":"MD",
     "hide_input_from_viewers":false,
     "hide_output_from_viewers":false
    }
   }
  },
  {
   "cell_type":"code",
   "source":[
    "x=pd.crosstab(dfuru['typematch'],dfuru['results'],margins=True)\n",
    "x"
   ],
   "execution_count":346,
   "outputs":[
    {
     "data":{
      "text\/html":[
       "<div>\n",
       "<style scoped>\n",
       "    .dataframe tbody tr th:only-of-type {\n",
       "        vertical-align: middle;\n",
       "    }\n",
       "\n",
       "    .dataframe tbody tr th {\n",
       "        vertical-align: top;\n",
       "    }\n",
       "\n",
       "    .dataframe thead th {\n",
       "        text-align: right;\n",
       "    }\n",
       "<\/style>\n",
       "<table border=\"1\" class=\"dataframe\">\n",
       "  <thead>\n",
       "    <tr style=\"text-align: right;\">\n",
       "      <th>results<\/th>\n",
       "      <th>draw<\/th>\n",
       "      <th>lose<\/th>\n",
       "      <th>win<\/th>\n",
       "      <th>All<\/th>\n",
       "    <\/tr>\n",
       "    <tr>\n",
       "      <th>typematch<\/th>\n",
       "      <th><\/th>\n",
       "      <th><\/th>\n",
       "      <th><\/th>\n",
       "      <th><\/th>\n",
       "    <\/tr>\n",
       "  <\/thead>\n",
       "  <tbody>\n",
       "    <tr>\n",
       "      <th>Friendly<\/th>\n",
       "      <td>29<\/td>\n",
       "      <td>21<\/td>\n",
       "      <td>54<\/td>\n",
       "      <td>104<\/td>\n",
       "    <\/tr>\n",
       "    <tr>\n",
       "      <th>Official<\/th>\n",
       "      <td>62<\/td>\n",
       "      <td>48<\/td>\n",
       "      <td>170<\/td>\n",
       "      <td>280<\/td>\n",
       "    <\/tr>\n",
       "    <tr>\n",
       "      <th>All<\/th>\n",
       "      <td>91<\/td>\n",
       "      <td>69<\/td>\n",
       "      <td>224<\/td>\n",
       "      <td>384<\/td>\n",
       "    <\/tr>\n",
       "  <\/tbody>\n",
       "<\/table>\n",
       "<\/div>"
      ]
     },
     "metadata":{
      
     },
     "output_type":"display_data"
    }
   ],
   "metadata":{
    "datalore":{
     "type":"CODE",
     "hide_input_from_viewers":false,
     "hide_output_from_viewers":false
    }
   }
  },
  {
   "cell_type":"code",
   "source":[
    "x=np.array(x)\n",
    "x"
   ],
   "execution_count":347,
   "outputs":[
    {
     "data":{
      "text\/html":[
       
      ]
     },
     "metadata":{
      
     },
     "output_type":"display_data"
    }
   ],
   "metadata":{
    "datalore":{
     "type":"CODE",
     "hide_input_from_viewers":false,
     "hide_output_from_viewers":false
    }
   }
  },
  {
   "cell_type":"code",
   "source":[
    "CI_uruwin_friendly=proportion_confint(count=x[0,2],nobs=x[0,3],alpha=(1-.95))\n",
    "CI_uruwin_friendly\n",
    "                                                          "
   ],
   "execution_count":348,
   "outputs":[
    {
     "data":{
      "text\/plain":[
       "(0.4232067314086196, 0.6152548070529189)"
      ]
     },
     "metadata":{
      
     },
     "output_type":"display_data"
    }
   ],
   "metadata":{
    "datalore":{
     "type":"CODE",
     "hide_input_from_viewers":false,
     "hide_output_from_viewers":false
    }
   }
  },
  {
   "cell_type":"code",
   "source":[
    "CI_uruwin_official=proportion_confint(count=x[1,2],nobs=x[1,3],alpha=(1-.95))\n",
    "CI_uruwin_official"
   ],
   "execution_count":349,
   "outputs":[
    {
     "data":{
      "text\/plain":[
       "(0.5499381393724313, 0.6643475749132829)"
      ]
     },
     "metadata":{
      
     },
     "output_type":"display_data"
    }
   ],
   "metadata":{
    "datalore":{
     "type":"CODE",
     "hide_input_from_viewers":false,
     "hide_output_from_viewers":false
    }
   }
  },
  {
   "cell_type":"code",
   "source":[
    "ci_uruwin = { }\n",
    "ci_uruwin['Typematch'] = ['Friendly','Official']\n",
    "ci_uruwin['lb'] = [CI_uruwin_friendly[0],CI_uruwin_official[0]]\n",
    "ci_uruwin['ub'] = [CI_uruwin_friendly[1],CI_uruwin_official[1]]\n",
    "df_ci= pd.DataFrame(ci_uruwin)\n",
    "df_ci"
   ],
   "execution_count":350,
   "outputs":[
    {
     "data":{
      "text\/html":[
       "<div>\n",
       "<style scoped>\n",
       "    .dataframe tbody tr th:only-of-type {\n",
       "        vertical-align: middle;\n",
       "    }\n",
       "\n",
       "    .dataframe tbody tr th {\n",
       "        vertical-align: top;\n",
       "    }\n",
       "\n",
       "    .dataframe thead th {\n",
       "        text-align: right;\n",
       "    }\n",
       "<\/style>\n",
       "<table border=\"1\" class=\"dataframe\">\n",
       "  <thead>\n",
       "    <tr style=\"text-align: right;\">\n",
       "      <th><\/th>\n",
       "      <th>Typematch<\/th>\n",
       "      <th>lb<\/th>\n",
       "      <th>ub<\/th>\n",
       "    <\/tr>\n",
       "  <\/thead>\n",
       "  <tbody>\n",
       "    <tr>\n",
       "      <th>0<\/th>\n",
       "      <td>Friendly<\/td>\n",
       "      <td>0.423207<\/td>\n",
       "      <td>0.615255<\/td>\n",
       "    <\/tr>\n",
       "    <tr>\n",
       "      <th>1<\/th>\n",
       "      <td>Official<\/td>\n",
       "      <td>0.549938<\/td>\n",
       "      <td>0.664348<\/td>\n",
       "    <\/tr>\n",
       "  <\/tbody>\n",
       "<\/table>\n",
       "<\/div>"
      ]
     },
     "metadata":{
      
     },
     "output_type":"display_data"
    }
   ],
   "metadata":{
    "datalore":{
     "type":"CODE",
     "hide_input_from_viewers":false,
     "hide_output_from_viewers":false
    }
   }
  },
  {
   "cell_type":"code",
   "source":[
    "import matplotlib.pyplot as plt\n",
    "for lb,ub,y in zip(df_ci['lb'],df_ci['ub'],range(len(df_ci))):\n",
    "    plt.plot((lb,ub),(y,y),'ro-')\n",
    "plt.yticks(range(len(df_ci)),list(df_ci['Typematch']))"
   ],
   "execution_count":351,
   "outputs":[
    {
     "data":{
      "text\/plain":[
       "([<matplotlib.axis.YTick at 0x7fce48a0f550>,\n",
       "  <matplotlib.axis.YTick at 0x7fce48a2ed90>],\n",
       " [Text(0, 0, 'Friendly'), Text(0, 1, 'Official')])"
      ],
      "image\/png":"[encoded data removed]"
     },
     "metadata":{
      "image\/png":{
       
      }
     },
     "output_type":"display_data"
    }
   ],
   "metadata":{
    "datalore":{
     "type":"CODE",
     "hide_input_from_viewers":false,
     "hide_output_from_viewers":false
    }
   }
  },
  {
   "cell_type":"markdown",
   "source":[
    "The confidence interval for winning friendly games is wider than official games. This means that there is a varied probability of winning where it lies between 40% and nearly 60%. But, the confidence interval for winning official games is narrower and more than friendly games where it lies between nearly 55% and nearly 65%. This shows that the probability of winning official games is higher than winning friendly games. The interpretation for this is that players might be more serious and perform better in official games than friendly games. "
   ],
   "attachments":{
    
   },
   "metadata":{
    "datalore":{
     "type":"MD",
     "hide_input_from_viewers":false,
     "hide_output_from_viewers":false
    }
   }
  },
  {
   "cell_type":"markdown",
   "source":[
    "Now examining the effect of fans on winning and losing by looking at home games and away games"
   ],
   "attachments":{
    
   },
   "metadata":{
    "datalore":{
     "type":"MD",
     "hide_input_from_viewers":false,
     "hide_output_from_viewers":false
    }
   }
  },
  {
   "cell_type":"code",
   "source":[
    "dfuru['home']=(dfuru['home_team']=='Uruguay')"
   ],
   "execution_count":354,
   "outputs":[
    {
     "name":"stderr",
     "text":[
      "<ipython-input-354-8b8ab43b5171>:1: SettingWithCopyWarning: \n",
      "A value is trying to be set on a copy of a slice from a DataFrame.\n",
      "Try using .loc[row_indexer,col_indexer] = value instead\n",
      "\n",
      "See the caveats in the documentation: https:\/\/pandas.pydata.org\/pandas-docs\/stable\/user_guide\/indexing.html#returning-a-view-versus-a-copy\n",
      "  dfuru['home']=(dfuru['home_team']=='Uruguay')\n"
     ],
     "output_type":"stream"
    }
   ],
   "metadata":{
    "datalore":{
     "type":"CODE",
     "hide_input_from_viewers":false,
     "hide_output_from_viewers":false
    }
   }
  },
  {
   "cell_type":"code",
   "source":[
    "dfuru['home'].value_counts()"
   ],
   "execution_count":355,
   "outputs":[
    {
     "data":{
      "text\/html":[
       
      ]
     },
     "metadata":{
      
     },
     "output_type":"display_data"
    }
   ],
   "metadata":{
    "datalore":{
     "type":"CODE",
     "hide_input_from_viewers":false,
     "hide_output_from_viewers":false
    }
   }
  },
  {
   "cell_type":"code",
   "source":[
    "x=pd.crosstab(dfuru['home'],dfuru['results'],margins=True)\n",
    "x"
   ],
   "execution_count":356,
   "outputs":[
    {
     "data":{
      "text\/html":[
       "<div>\n",
       "<style scoped>\n",
       "    .dataframe tbody tr th:only-of-type {\n",
       "        vertical-align: middle;\n",
       "    }\n",
       "\n",
       "    .dataframe tbody tr th {\n",
       "        vertical-align: top;\n",
       "    }\n",
       "\n",
       "    .dataframe thead th {\n",
       "        text-align: right;\n",
       "    }\n",
       "<\/style>\n",
       "<table border=\"1\" class=\"dataframe\">\n",
       "  <thead>\n",
       "    <tr style=\"text-align: right;\">\n",
       "      <th>results<\/th>\n",
       "      <th>draw<\/th>\n",
       "      <th>lose<\/th>\n",
       "      <th>win<\/th>\n",
       "      <th>All<\/th>\n",
       "    <\/tr>\n",
       "    <tr>\n",
       "      <th>home<\/th>\n",
       "      <th><\/th>\n",
       "      <th><\/th>\n",
       "      <th><\/th>\n",
       "      <th><\/th>\n",
       "    <\/tr>\n",
       "  <\/thead>\n",
       "  <tbody>\n",
       "    <tr>\n",
       "      <th>False<\/th>\n",
       "      <td>15<\/td>\n",
       "      <td>22<\/td>\n",
       "      <td>47<\/td>\n",
       "      <td>84<\/td>\n",
       "    <\/tr>\n",
       "    <tr>\n",
       "      <th>True<\/th>\n",
       "      <td>76<\/td>\n",
       "      <td>47<\/td>\n",
       "      <td>177<\/td>\n",
       "      <td>300<\/td>\n",
       "    <\/tr>\n",
       "    <tr>\n",
       "      <th>All<\/th>\n",
       "      <td>91<\/td>\n",
       "      <td>69<\/td>\n",
       "      <td>224<\/td>\n",
       "      <td>384<\/td>\n",
       "    <\/tr>\n",
       "  <\/tbody>\n",
       "<\/table>\n",
       "<\/div>"
      ]
     },
     "metadata":{
      
     },
     "output_type":"display_data"
    }
   ],
   "metadata":{
    "datalore":{
     "type":"CODE",
     "hide_input_from_viewers":false,
     "hide_output_from_viewers":false
    }
   }
  },
  {
   "cell_type":"code",
   "source":[
    "dfuru.head(4)"
   ],
   "execution_count":357,
   "outputs":[
    {
     "data":{
      "text\/html":[
       "<div>\n",
       "<style scoped>\n",
       "    .dataframe tbody tr th:only-of-type {\n",
       "        vertical-align: middle;\n",
       "    }\n",
       "\n",
       "    .dataframe tbody tr th {\n",
       "        vertical-align: top;\n",
       "    }\n",
       "\n",
       "    .dataframe thead th {\n",
       "        text-align: right;\n",
       "    }\n",
       "<\/style>\n",
       "<table border=\"1\" class=\"dataframe\">\n",
       "  <thead>\n",
       "    <tr style=\"text-align: right;\">\n",
       "      <th><\/th>\n",
       "      <th>date<\/th>\n",
       "      <th>home_team<\/th>\n",
       "      <th>away_team<\/th>\n",
       "      <th>home_score<\/th>\n",
       "      <th>away_score<\/th>\n",
       "      <th>tournament<\/th>\n",
       "      <th>city<\/th>\n",
       "      <th>country<\/th>\n",
       "      <th>neutral<\/th>\n",
       "      <th>results<\/th>\n",
       "      <th>typematch<\/th>\n",
       "      <th>home<\/th>\n",
       "    <\/tr>\n",
       "  <\/thead>\n",
       "  <tbody>\n",
       "    <tr>\n",
       "      <th>145<\/th>\n",
       "      <td>7\/20\/1902<\/td>\n",
       "      <td>Uruguay<\/td>\n",
       "      <td>Argentina<\/td>\n",
       "      <td>0<\/td>\n",
       "      <td>6<\/td>\n",
       "      <td>Friendly<\/td>\n",
       "      <td>Montevideo<\/td>\n",
       "      <td>Uruguay<\/td>\n",
       "      <td>False<\/td>\n",
       "      <td>lose<\/td>\n",
       "      <td>Friendly<\/td>\n",
       "      <td>True<\/td>\n",
       "    <\/tr>\n",
       "    <tr>\n",
       "      <th>188<\/th>\n",
       "      <td>8\/15\/1906<\/td>\n",
       "      <td>Uruguay<\/td>\n",
       "      <td>Argentina<\/td>\n",
       "      <td>0<\/td>\n",
       "      <td>2<\/td>\n",
       "      <td>Copa Lipton<\/td>\n",
       "      <td>Montevideo<\/td>\n",
       "      <td>Uruguay<\/td>\n",
       "      <td>False<\/td>\n",
       "      <td>lose<\/td>\n",
       "      <td>Official<\/td>\n",
       "      <td>True<\/td>\n",
       "    <\/tr>\n",
       "    <tr>\n",
       "      <th>225<\/th>\n",
       "      <td>8\/15\/1908<\/td>\n",
       "      <td>Uruguay<\/td>\n",
       "      <td>Argentina<\/td>\n",
       "      <td>2<\/td>\n",
       "      <td>2<\/td>\n",
       "      <td>Copa Lipton<\/td>\n",
       "      <td>Montevideo<\/td>\n",
       "      <td>Uruguay<\/td>\n",
       "      <td>False<\/td>\n",
       "      <td>draw<\/td>\n",
       "      <td>Official<\/td>\n",
       "      <td>True<\/td>\n",
       "    <\/tr>\n",
       "    <tr>\n",
       "      <th>248<\/th>\n",
       "      <td>9\/19\/1909<\/td>\n",
       "      <td>Uruguay<\/td>\n",
       "      <td>Argentina<\/td>\n",
       "      <td>2<\/td>\n",
       "      <td>2<\/td>\n",
       "      <td>Copa Newton<\/td>\n",
       "      <td>Montevideo<\/td>\n",
       "      <td>Uruguay<\/td>\n",
       "      <td>False<\/td>\n",
       "      <td>draw<\/td>\n",
       "      <td>Official<\/td>\n",
       "      <td>True<\/td>\n",
       "    <\/tr>\n",
       "  <\/tbody>\n",
       "<\/table>\n",
       "<\/div>"
      ]
     },
     "metadata":{
      
     },
     "output_type":"display_data"
    }
   ],
   "metadata":{
    "datalore":{
     "type":"CODE",
     "hide_input_from_viewers":false,
     "hide_output_from_viewers":false
    }
   }
  },
  {
   "cell_type":"code",
   "source":[
    "x=np.array(x)\n",
    "x"
   ],
   "execution_count":358,
   "outputs":[
    {
     "data":{
      "text\/html":[
       
      ]
     },
     "metadata":{
      
     },
     "output_type":"display_data"
    }
   ],
   "metadata":{
    "datalore":{
     "type":"CODE",
     "hide_input_from_viewers":false,
     "hide_output_from_viewers":false
    }
   }
  },
  {
   "cell_type":"code",
   "source":[
    "CI_uruwin_home=proportion_confint(count=x[1,2],nobs=x[1,3],alpha=(1-.95))\n",
    "CI_uruwin_home"
   ],
   "execution_count":359,
   "outputs":[
    {
     "data":{
      "text\/plain":[
       "(0.5343448448411736, 0.6456551551588263)"
      ]
     },
     "metadata":{
      
     },
     "output_type":"display_data"
    }
   ],
   "metadata":{
    "datalore":{
     "type":"CODE",
     "hide_input_from_viewers":false,
     "hide_output_from_viewers":false
    }
   }
  },
  {
   "cell_type":"code",
   "source":[
    "CI_uruwin_away=proportion_confint(count=x[0,2],nobs=x[0,3],alpha=(1-.95))\n",
    "CI_uruwin_away"
   ],
   "execution_count":360,
   "outputs":[
    {
     "data":{
      "text\/plain":[
       "(0.4533593989396916, 0.6656882201079274)"
      ]
     },
     "metadata":{
      
     },
     "output_type":"display_data"
    }
   ],
   "metadata":{
    "datalore":{
     "type":"CODE",
     "hide_input_from_viewers":false,
     "hide_output_from_viewers":false
    }
   }
  },
  {
   "cell_type":"code",
   "source":[
    "ci_uruwin = {}\n",
    "ci_uruwin['home'] = ['Yes','No']\n",
    "ci_uruwin['lb'] = [CI_uruwin_home[0],CI_uruwin_away[0]]\n",
    "ci_uruwin['ub'] = [CI_uruwin_home[1],CI_uruwin_away[1]]\n",
    "df_ci= pd.DataFrame(ci_uruwin)\n",
    "df_ci"
   ],
   "execution_count":361,
   "outputs":[
    {
     "data":{
      "text\/html":[
       "<div>\n",
       "<style scoped>\n",
       "    .dataframe tbody tr th:only-of-type {\n",
       "        vertical-align: middle;\n",
       "    }\n",
       "\n",
       "    .dataframe tbody tr th {\n",
       "        vertical-align: top;\n",
       "    }\n",
       "\n",
       "    .dataframe thead th {\n",
       "        text-align: right;\n",
       "    }\n",
       "<\/style>\n",
       "<table border=\"1\" class=\"dataframe\">\n",
       "  <thead>\n",
       "    <tr style=\"text-align: right;\">\n",
       "      <th><\/th>\n",
       "      <th>home<\/th>\n",
       "      <th>lb<\/th>\n",
       "      <th>ub<\/th>\n",
       "    <\/tr>\n",
       "  <\/thead>\n",
       "  <tbody>\n",
       "    <tr>\n",
       "      <th>0<\/th>\n",
       "      <td>Yes<\/td>\n",
       "      <td>0.534345<\/td>\n",
       "      <td>0.645655<\/td>\n",
       "    <\/tr>\n",
       "    <tr>\n",
       "      <th>1<\/th>\n",
       "      <td>No<\/td>\n",
       "      <td>0.453359<\/td>\n",
       "      <td>0.665688<\/td>\n",
       "    <\/tr>\n",
       "  <\/tbody>\n",
       "<\/table>\n",
       "<\/div>"
      ]
     },
     "metadata":{
      
     },
     "output_type":"display_data"
    }
   ],
   "metadata":{
    "datalore":{
     "type":"CODE",
     "hide_input_from_viewers":false,
     "hide_output_from_viewers":false
    }
   }
  },
  {
   "cell_type":"code",
   "source":[
    "for lb,ub,y in zip(df_ci['lb'],df_ci['ub'],range(len(df_ci))):\n",
    "    plt.plot((lb,ub),(y,y),'ro-')\n",
    "plt.yticks(range(len(df_ci)),list(df_ci['home']))"
   ],
   "execution_count":362,
   "outputs":[
    {
     "data":{
      "text\/plain":[
       "([<matplotlib.axis.YTick at 0x7fce489ed9a0>,\n",
       "  <matplotlib.axis.YTick at 0x7fce489e8730>],\n",
       " [Text(0, 0, 'Yes'), Text(0, 1, 'No')])"
      ],
      "image\/png":"[encoded data removed]"
     },
     "metadata":{
      "image\/png":{
       
      }
     },
     "output_type":"display_data"
    }
   ],
   "metadata":{
    "datalore":{
     "type":"CODE",
     "hide_input_from_viewers":false,
     "hide_output_from_viewers":false
    }
   }
  },
  {
   "cell_type":"markdown",
   "source":[
    "The confidence interval of winning at home is higher and narrower than losing. The narrow interval shows that it is more probable to happen because it only varies between nearly 55% and 65%, but compared to the confidence interval of losing which goes from nearly 45% until 65%, it is not as accurate as winning because the difference between the numbers is more. The high probability of winning home games shows how fans affect the team's performance and results positively. "
   ],
   "attachments":{
    
   },
   "metadata":{
    "datalore":{
     "type":"MD",
     "hide_input_from_viewers":false,
     "hide_output_from_viewers":false
    }
   }
  },
  {
   "cell_type":"markdown",
   "source":[
    "**Conclusion**\n",
    "\n",
    "There are some countries who are stronger than others in terms of winning official games. The highest probability for winning official games in my chosen countries is Croatia and the lowest is Chile. This shows the difference in team strengths which is based on quality of players and coaches. \n",
    "\n",
    "Also, there are some countries stronger than others in terms of winning at home. The highest probability of winning at home is Croatia, the lowest is Saudi Arabia. This shows how Croatian players are psychologically affected by playing at home because it leads them to perform better leading to better results.  \n",
    "\n",
    "Both of those comparisons show that the Croatian team is a strong leading team because it has a high probability of winning and it performs better under pressure such as being at home playing in their own country. "
   ],
   "attachments":{
    
   },
   "metadata":{
    "datalore":{
     "type":"MD",
     "hide_input_from_viewers":false,
     "hide_output_from_viewers":false
    }
   }
  }
 ],
 "metadata":{
  "datalore":{
   "version":1,
   "computation_mode":"JUPYTER",
   "package_manager":"pip",
   "base_environment":"default",
   "packages":[
    
   ]
  }
 },
 "nbformat":4,
 "nbformat_minor":4
}